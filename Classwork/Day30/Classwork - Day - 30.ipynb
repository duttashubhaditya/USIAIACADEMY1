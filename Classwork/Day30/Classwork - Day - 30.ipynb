{
 "cells": [
  {
   "cell_type": "code",
   "execution_count": 97,
   "id": "622b4df2",
   "metadata": {},
   "outputs": [],
   "source": [
    "import numpy as np\n",
    "import pandas as pd\n",
    "import matplotlib.pyplot as plt"
   ]
  },
  {
   "cell_type": "code",
   "execution_count": 2,
   "id": "8ff4a866",
   "metadata": {},
   "outputs": [],
   "source": [
    "text = \"After sleeping for four hours, he decided to sleep for another four!\"\n"
   ]
  },
  {
   "cell_type": "code",
   "execution_count": 3,
   "id": "b1334839",
   "metadata": {},
   "outputs": [
    {
     "data": {
      "text/plain": [
       "['After',\n",
       " 'sleeping',\n",
       " 'for',\n",
       " 'four',\n",
       " 'hours,',\n",
       " 'he',\n",
       " 'decided',\n",
       " 'to',\n",
       " 'sleep',\n",
       " 'for',\n",
       " 'another',\n",
       " 'four!']"
      ]
     },
     "execution_count": 3,
     "metadata": {},
     "output_type": "execute_result"
    }
   ],
   "source": [
    "word_list = text.split(' ')\n",
    "word_list"
   ]
  },
  {
   "cell_type": "code",
   "execution_count": 4,
   "id": "fe36b7f5",
   "metadata": {},
   "outputs": [],
   "source": [
    "# Regex => Regular Expression | Compiler Design | Theory of computation\n",
    "import re"
   ]
  },
  {
   "cell_type": "code",
   "execution_count": 5,
   "id": "9b8fad08",
   "metadata": {},
   "outputs": [
    {
     "data": {
      "text/plain": [
       "'After sleeping for four hours he decided to sleep for another four '"
      ]
     },
     "execution_count": 5,
     "metadata": {},
     "output_type": "execute_result"
    }
   ],
   "source": [
    "sentence = re.sub(r\"[^a-zA-Z0-9]+\", ' ', text)\n",
    "sentence"
   ]
  },
  {
   "cell_type": "code",
   "execution_count": 6,
   "id": "8130a739",
   "metadata": {},
   "outputs": [],
   "source": [
    "stop_words = ['a','and', 'the', 'an', 'he', 'she', 'for']"
   ]
  },
  {
   "cell_type": "code",
   "execution_count": 7,
   "id": "a2819cff",
   "metadata": {},
   "outputs": [
    {
     "name": "stdout",
     "output_type": "stream",
     "text": [
      "yes\n",
      "yes\n",
      "yes\n",
      "yes\n",
      "yes\n",
      "yes\n",
      "yes\n",
      "yes\n",
      "yes\n"
     ]
    }
   ],
   "source": [
    "for word in word_list:\n",
    "    if word not in stop_words:\n",
    "        print(\"yes\")"
   ]
  },
  {
   "cell_type": "code",
   "execution_count": 8,
   "id": "f5234058",
   "metadata": {},
   "outputs": [
    {
     "data": {
      "text/plain": [
       "['After',\n",
       " 'sleeping',\n",
       " 'four',\n",
       " 'hours,',\n",
       " 'decided',\n",
       " 'to',\n",
       " 'sleep',\n",
       " 'another',\n",
       " 'four!']"
      ]
     },
     "execution_count": 8,
     "metadata": {},
     "output_type": "execute_result"
    }
   ],
   "source": [
    "refined_wlist = []\n",
    "for word in word_list:\n",
    "    if word not in stop_words:\n",
    "        refined_wlist.append(word)\n",
    "        \n",
    "refined_wlist"
   ]
  },
  {
   "cell_type": "code",
   "execution_count": 9,
   "id": "67ec6e4f",
   "metadata": {},
   "outputs": [],
   "source": [
    "# stemming"
   ]
  },
  {
   "cell_type": "code",
   "execution_count": 10,
   "id": "fcfb6f45",
   "metadata": {},
   "outputs": [],
   "source": [
    "stems = ['ing','s', 'ed']"
   ]
  },
  {
   "cell_type": "code",
   "execution_count": 11,
   "id": "9352566a",
   "metadata": {},
   "outputs": [
    {
     "name": "stdout",
     "output_type": "stream",
     "text": [
      "sleeping\n",
      "sleeping\n",
      "hours,\n",
      "decided\n",
      "sleep\n"
     ]
    }
   ],
   "source": [
    "for word in refined_wlist:\n",
    "    for st in stems:\n",
    "        if st in word:\n",
    "            print(word)"
   ]
  },
  {
   "cell_type": "code",
   "execution_count": 12,
   "id": "d17a87cb",
   "metadata": {},
   "outputs": [],
   "source": [
    "new_list = []\n",
    "for word in refined_wlist:\n",
    "    flag = 0\n",
    "    for st in stems:\n",
    "        if word.find(st)>0:\n",
    "            new_list.append(word.replace(st,''))\n",
    "            flag = 1\n",
    "            break\n",
    "    if flag == 0:\n",
    "        new_list.append(word)\n",
    "            \n",
    "            "
   ]
  },
  {
   "cell_type": "code",
   "execution_count": 13,
   "id": "f2e2aa89",
   "metadata": {},
   "outputs": [
    {
     "data": {
      "text/plain": [
       "['After', 'sleep', 'four', 'hour,', 'decid', 'to', 'sleep', 'another', 'four!']"
      ]
     },
     "execution_count": 13,
     "metadata": {},
     "output_type": "execute_result"
    }
   ],
   "source": [
    "new_list "
   ]
  },
  {
   "cell_type": "code",
   "execution_count": 14,
   "id": "93f3e021",
   "metadata": {},
   "outputs": [
    {
     "data": {
      "text/plain": [
       "['after', 'sleep', 'four', 'hour,', 'decid', 'to', 'sleep', 'another', 'four!']"
      ]
     },
     "execution_count": 14,
     "metadata": {},
     "output_type": "execute_result"
    }
   ],
   "source": [
    "world_list_l = []\n",
    "\n",
    "for word in new_list:\n",
    "    world_list_l.append(word.lower())\n",
    "\n",
    "world_list_l"
   ]
  },
  {
   "cell_type": "code",
   "execution_count": 15,
   "id": "daf8134a",
   "metadata": {},
   "outputs": [
    {
     "name": "stdout",
     "output_type": "stream",
     "text": [
      "cow\n"
     ]
    }
   ],
   "source": [
    "from nltk.corpus import stopwords\n",
    "from nltk.tokenize import word_tokenize\n",
    "from nltk.stem import WordNetLemmatizer\n",
    "\n",
    "lemmatizer = WordNetLemmatizer()\n",
    "\n",
    "print(lemmatizer.lemmatize(\"cows\"))"
   ]
  },
  {
   "cell_type": "code",
   "execution_count": 16,
   "id": "40f52381",
   "metadata": {},
   "outputs": [
    {
     "name": "stdout",
     "output_type": "stream",
     "text": [
      "The\n",
      "striped\n",
      "bat\n",
      "are\n",
      "hanging\n",
      "on\n",
      "their\n",
      "foot\n",
      "for\n",
      "bested\n"
     ]
    }
   ],
   "source": [
    "tok = ['The', 'striped', 'bats', 'are', 'hanging', 'on', 'their', 'feet', 'for', 'bested']\n",
    "for t in tok:\n",
    "    print(lemmatizer.lemmatize(t))"
   ]
  },
  {
   "cell_type": "code",
   "execution_count": 17,
   "id": "85786857",
   "metadata": {},
   "outputs": [],
   "source": [
    "sentences = ['it is a good movie', 'it is not a good movie', 'i did not like it']"
   ]
  },
  {
   "cell_type": "code",
   "execution_count": 18,
   "id": "84a54d1b",
   "metadata": {},
   "outputs": [],
   "source": [
    "unique_list = []\n",
    "token_list = []\n",
    "for sen in sentences:\n",
    "    tokens = word_tokenize(sen)\n",
    "    token_list.append(tokens)\n",
    "    for tok in tokens:\n",
    "        if tok not in unique_list:\n",
    "              unique_list.append(tok)"
   ]
  },
  {
   "cell_type": "code",
   "execution_count": 19,
   "id": "d36540a2",
   "metadata": {},
   "outputs": [
    {
     "name": "stdout",
     "output_type": "stream",
     "text": [
      "['it', 'is', 'a', 'good', 'movie', 'not', 'i', 'did', 'like'] [['it', 'is', 'a', 'good', 'movie'], ['it', 'is', 'not', 'a', 'good', 'movie'], ['i', 'did', 'not', 'like', 'it']]\n"
     ]
    }
   ],
   "source": [
    "print(unique_list, token_list)"
   ]
  },
  {
   "cell_type": "code",
   "execution_count": 20,
   "id": "72218bde",
   "metadata": {},
   "outputs": [
    {
     "data": {
      "text/plain": [
       "[['it', 'is', 'a', 'good', 'movie'],\n",
       " ['it', 'is', 'not', 'a', 'good', 'movie'],\n",
       " ['i', 'did', 'not', 'like', 'it']]"
      ]
     },
     "execution_count": 20,
     "metadata": {},
     "output_type": "execute_result"
    }
   ],
   "source": [
    "token_list"
   ]
  },
  {
   "cell_type": "code",
   "execution_count": 21,
   "id": "2649bdea",
   "metadata": {},
   "outputs": [
    {
     "name": "stdout",
     "output_type": "stream",
     "text": [
      "[1, 1, 1, 1, 1, 0, 0, 0, 0]\n",
      "[1, 1, 1, 1, 1, 1, 0, 0, 0]\n",
      "[1, 0, 0, 0, 0, 1, 1, 1, 1]\n"
     ]
    }
   ],
   "source": [
    "gram_1 = []\n",
    "\n",
    "for token in token_list:\n",
    "    # print(token)\n",
    "    temp_list = []\n",
    "    for un in unique_list:\n",
    "          if un in token:\n",
    "        # print(\"1\")\n",
    "            temp_list.append(1)\n",
    "          else:\n",
    "        # print(\"0\")\n",
    "            temp_list.append(0)\n",
    "    print(temp_list)\n",
    "    gram_1.append(temp_list)"
   ]
  },
  {
   "cell_type": "code",
   "execution_count": 22,
   "id": "b0d25e62",
   "metadata": {},
   "outputs": [
    {
     "data": {
      "text/plain": [
       "array([[1, 1, 1, 1, 1, 0, 0, 0, 0],\n",
       "       [1, 1, 1, 1, 1, 1, 0, 0, 0],\n",
       "       [1, 0, 0, 0, 0, 1, 1, 1, 1]])"
      ]
     },
     "execution_count": 22,
     "metadata": {},
     "output_type": "execute_result"
    }
   ],
   "source": [
    "import numpy as np\n",
    "np.array(gram_1)"
   ]
  },
  {
   "cell_type": "code",
   "execution_count": 23,
   "id": "ead11f8a",
   "metadata": {},
   "outputs": [],
   "source": [
    "from sklearn.feature_extraction.text import CountVectorizer\n",
    "text1 = [\"it is a good movie\"]\n",
    "text2 = [\"it is not a good movie\"]\n",
    "text3 = [\"i did not like it\"]"
   ]
  },
  {
   "cell_type": "code",
   "execution_count": 24,
   "id": "364296ee",
   "metadata": {},
   "outputs": [
    {
     "data": {
      "text/plain": [
       "CountVectorizer()"
      ]
     },
     "execution_count": 24,
     "metadata": {},
     "output_type": "execute_result"
    }
   ],
   "source": [
    "vectorizer = CountVectorizer()\n",
    "vectorizer.fit(text1)"
   ]
  },
  {
   "cell_type": "code",
   "execution_count": 25,
   "id": "e146d17b",
   "metadata": {},
   "outputs": [
    {
     "name": "stdout",
     "output_type": "stream",
     "text": [
      "{'it': 2, 'is': 1, 'good': 0, 'movie': 3}\n"
     ]
    }
   ],
   "source": [
    "print(vectorizer.vocabulary_)"
   ]
  },
  {
   "cell_type": "code",
   "execution_count": 26,
   "id": "0eafd8a2",
   "metadata": {},
   "outputs": [
    {
     "name": "stdout",
     "output_type": "stream",
     "text": [
      "[[1 1 1 1]]\n"
     ]
    }
   ],
   "source": [
    "newvector = vectorizer.transform(text2)\n",
    "\n",
    "print(newvector.toarray())"
   ]
  },
  {
   "cell_type": "code",
   "execution_count": 27,
   "id": "41f06674",
   "metadata": {},
   "outputs": [
    {
     "name": "stdout",
     "output_type": "stream",
     "text": [
      "[[0 0 1 0]]\n"
     ]
    }
   ],
   "source": [
    "newvector1 = vectorizer.transform(text3)\n",
    "print(newvector1.toarray())"
   ]
  },
  {
   "cell_type": "code",
   "execution_count": 28,
   "id": "9f78a9e7",
   "metadata": {},
   "outputs": [],
   "source": [
    "from sklearn.feature_extraction.text import TfidfVectorizer\n",
    "vectorizer = TfidfVectorizer()"
   ]
  },
  {
   "cell_type": "code",
   "execution_count": 29,
   "id": "7c1e4bb1",
   "metadata": {},
   "outputs": [],
   "source": [
    "text = [\"it is a good movie\",\"it is not a good movie\",\"i did not like it\"]"
   ]
  },
  {
   "cell_type": "code",
   "execution_count": 30,
   "id": "90e50d43",
   "metadata": {},
   "outputs": [
    {
     "data": {
      "text/plain": [
       "TfidfVectorizer()"
      ]
     },
     "execution_count": 30,
     "metadata": {},
     "output_type": "execute_result"
    }
   ],
   "source": [
    "vectorizer.fit(text)"
   ]
  },
  {
   "cell_type": "code",
   "execution_count": 31,
   "id": "a6bc642e",
   "metadata": {},
   "outputs": [
    {
     "name": "stdout",
     "output_type": "stream",
     "text": [
      "[1.69314718 1.28768207 1.28768207 1.         1.69314718 1.28768207\n",
      " 1.28768207]\n"
     ]
    }
   ],
   "source": [
    "print(vectorizer.idf_)"
   ]
  },
  {
   "cell_type": "code",
   "execution_count": 32,
   "id": "e824627d",
   "metadata": {},
   "outputs": [
    {
     "name": "stdout",
     "output_type": "stream",
     "text": [
      "{'it': 3, 'is': 2, 'good': 1, 'movie': 5, 'not': 6, 'did': 0, 'like': 4}\n"
     ]
    }
   ],
   "source": [
    "print(vectorizer.vocabulary_)"
   ]
  },
  {
   "cell_type": "code",
   "execution_count": 33,
   "id": "f0213f77",
   "metadata": {},
   "outputs": [],
   "source": [
    "vector = vectorizer.transform([text[2]])"
   ]
  },
  {
   "cell_type": "code",
   "execution_count": 34,
   "id": "9f755fa4",
   "metadata": {},
   "outputs": [
    {
     "name": "stdout",
     "output_type": "stream",
     "text": [
      "[[0.5844829  0.         0.         0.34520502 0.5844829  0.\n",
      "  0.44451431]]\n"
     ]
    }
   ],
   "source": [
    "print(vector.toarray())"
   ]
  },
  {
   "cell_type": "code",
   "execution_count": 35,
   "id": "f53f674b",
   "metadata": {},
   "outputs": [],
   "source": [
    "corpus = [\n",
    "    'This is the first document.',\n",
    "    'This document is the second document.',\n",
    "    'And this is the third one.',\n",
    "    'Is this the first document?',\n",
    "]\n"
   ]
  },
  {
   "cell_type": "code",
   "execution_count": 36,
   "id": "0579426f",
   "metadata": {},
   "outputs": [],
   "source": [
    "import pandas as pd"
   ]
  },
  {
   "cell_type": "code",
   "execution_count": 37,
   "id": "b1e622bd",
   "metadata": {},
   "outputs": [
    {
     "name": "stdout",
     "output_type": "stream",
     "text": [
      "(4, 6)\n",
      "      first  first document  the first  the first document   this is  \\\n",
      "0  0.408248        0.408248   0.408248            0.408248  0.408248   \n",
      "1  0.000000        0.000000   0.000000            0.000000  0.000000   \n",
      "2  0.000000        0.000000   0.000000            0.000000  0.707107   \n",
      "3  0.500000        0.500000   0.500000            0.500000  0.000000   \n",
      "\n",
      "   this is the  \n",
      "0     0.408248  \n",
      "1     0.000000  \n",
      "2     0.707107  \n",
      "3     0.000000  \n"
     ]
    }
   ],
   "source": [
    "vectorizer = TfidfVectorizer(max_df=0.5, ngram_range=(1,3),\n",
    "                                 min_df=2,\n",
    "                                 )\n",
    "X = vectorizer.fit_transform(corpus)\n",
    "df = pd.DataFrame(\n",
    "    X.todense(),\n",
    "    columns=vectorizer.get_feature_names()\n",
    ")\n",
    "\n",
    "\n",
    "print(X.shape)\n",
    "print(df)"
   ]
  },
  {
   "cell_type": "code",
   "execution_count": 38,
   "id": "768016e2",
   "metadata": {},
   "outputs": [],
   "source": [
    "corpus = [\n",
    "    'Data mining is one of the important research in the domain of Artificial Intelligence.',\n",
    "    'Artificial Intelligence is a subject in Computer Science.',\n",
    "    'Now a days, Artifical Intelligence is most commonly used in machine learning',\n",
    "    'This particulary statement speaks about Aritifical Intelligence',\n",
    "]"
   ]
  },
  {
   "cell_type": "code",
   "execution_count": 39,
   "id": "01307835",
   "metadata": {},
   "outputs": [
    {
     "name": "stdout",
     "output_type": "stream",
     "text": [
      "      about  about aritifical  about aritifical intelligence  aritifical  \\\n",
      "0  0.000000          0.000000                       0.000000    0.000000   \n",
      "1  0.000000          0.000000                       0.000000    0.000000   \n",
      "2  0.000000          0.000000                       0.000000    0.000000   \n",
      "3  0.242536          0.242536                       0.242536    0.242536   \n",
      "\n",
      "   aritifical intelligence  artifical  artifical intelligence  \\\n",
      "0                 0.000000   0.000000                0.000000   \n",
      "1                 0.000000   0.000000                0.000000   \n",
      "2                 0.000000   0.196116                0.196116   \n",
      "3                 0.242536   0.000000                0.000000   \n",
      "\n",
      "   artifical intelligence is  artificial intelligence is  commonly  ...  \\\n",
      "0                   0.000000                    0.000000  0.000000  ...   \n",
      "1                   0.000000                    0.288675  0.000000  ...   \n",
      "2                   0.196116                    0.000000  0.196116  ...   \n",
      "3                   0.000000                    0.000000  0.000000  ...   \n",
      "\n",
      "   the domain  the domain of  the important  the important research      this  \\\n",
      "0    0.162221       0.162221       0.162221                0.162221  0.000000   \n",
      "1    0.000000       0.000000       0.000000                0.000000  0.000000   \n",
      "2    0.000000       0.000000       0.000000                0.000000  0.000000   \n",
      "3    0.000000       0.000000       0.000000                0.000000  0.242536   \n",
      "\n",
      "   this particulary  this particulary statement      used   used in  \\\n",
      "0          0.000000                    0.000000  0.000000  0.000000   \n",
      "1          0.000000                    0.000000  0.000000  0.000000   \n",
      "2          0.000000                    0.000000  0.196116  0.196116   \n",
      "3          0.242536                    0.242536  0.000000  0.000000   \n",
      "\n",
      "   used in machine  \n",
      "0         0.000000  \n",
      "1         0.000000  \n",
      "2         0.196116  \n",
      "3         0.000000  \n",
      "\n",
      "[4 rows x 87 columns]\n"
     ]
    }
   ],
   "source": [
    "vectorizer = TfidfVectorizer(max_df=0.4, ngram_range=(1,3),\n",
    "                                 min_df=1,\n",
    "                                 )\n",
    "X = vectorizer.fit_transform(corpus)\n",
    "df = pd.DataFrame(\n",
    "    X.todense(),\n",
    "    columns=vectorizer.get_feature_names()\n",
    ")\n",
    "print(df)\n",
    "df.to_csv('sample.csv')"
   ]
  },
  {
   "cell_type": "code",
   "execution_count": 40,
   "id": "8d63ee95",
   "metadata": {},
   "outputs": [
    {
     "name": "stdout",
     "output_type": "stream",
     "text": [
      "   about aritifical  aritifical intelligence  artifical intelligence  \\\n",
      "0          0.000000                 0.000000                0.000000   \n",
      "1          0.000000                 0.000000                0.000000   \n",
      "2          0.000000                 0.000000                0.322386   \n",
      "3          0.408248                 0.408248                0.000000   \n",
      "\n",
      "   artificial intelligence  commonly used  computer science  data mining  \\\n",
      "0                 0.221920       0.000000          0.000000     0.281477   \n",
      "1                 0.344315       0.000000          0.436719     0.000000   \n",
      "2                 0.000000       0.322386          0.000000     0.000000   \n",
      "3                 0.000000       0.000000          0.000000     0.000000   \n",
      "\n",
      "   days artifical  domain of  important research  ...    one of  \\\n",
      "0        0.000000   0.281477            0.281477  ...  0.281477   \n",
      "1        0.000000   0.000000            0.000000  ...  0.000000   \n",
      "2        0.322386   0.000000            0.000000  ...  0.000000   \n",
      "3        0.000000   0.000000            0.000000  ...  0.000000   \n",
      "\n",
      "   particulary statement  research in  speaks about  statement speaks  \\\n",
      "0               0.000000     0.281477      0.000000          0.000000   \n",
      "1               0.000000     0.000000      0.000000          0.000000   \n",
      "2               0.000000     0.000000      0.000000          0.000000   \n",
      "3               0.408248     0.000000      0.408248          0.408248   \n",
      "\n",
      "   subject in  the domain  the important  this particulary   used in  \n",
      "0    0.000000    0.281477       0.281477          0.000000  0.000000  \n",
      "1    0.436719    0.000000       0.000000          0.000000  0.000000  \n",
      "2    0.000000    0.000000       0.000000          0.000000  0.322386  \n",
      "3    0.000000    0.000000       0.000000          0.408248  0.000000  \n",
      "\n",
      "[4 rows x 33 columns]\n"
     ]
    }
   ],
   "source": [
    "vectorizer = TfidfVectorizer(max_df=0.5, ngram_range=(2,2),\n",
    "                                 min_df=1,\n",
    "                                 )\n",
    "X = vectorizer.fit_transform(corpus)\n",
    "df = pd.DataFrame(\n",
    "    X.todense(),\n",
    "    columns=vectorizer.get_feature_names()\n",
    ")\n",
    "print(df)\n",
    "df.to_csv('sample1.csv')"
   ]
  },
  {
   "cell_type": "code",
   "execution_count": 41,
   "id": "88c50e9a",
   "metadata": {},
   "outputs": [],
   "source": [
    "data_train = pd.read_csv('data_train.csv', encoding='utf-8')\n",
    "data_test = pd.read_csv('data_test.csv', encoding='utf-8')\n",
    "\n",
    "X_train = data_train.Text\n",
    "X_test = data_test.Text\n",
    "\n",
    "y_train = data_train.Emotion\n",
    "y_test = data_test.Emotion\n",
    "\n",
    "data = data_train.append(data_test, ignore_index=True)"
   ]
  },
  {
   "cell_type": "code",
   "execution_count": 42,
   "id": "be5beffc",
   "metadata": {},
   "outputs": [],
   "source": [
    "class_names = ['joy', 'fear', 'anger', 'sadness', 'neutral']"
   ]
  },
  {
   "cell_type": "code",
   "execution_count": 43,
   "id": "b0340eea",
   "metadata": {},
   "outputs": [
    {
     "data": {
      "text/html": [
       "<div>\n",
       "<style scoped>\n",
       "    .dataframe tbody tr th:only-of-type {\n",
       "        vertical-align: middle;\n",
       "    }\n",
       "\n",
       "    .dataframe tbody tr th {\n",
       "        vertical-align: top;\n",
       "    }\n",
       "\n",
       "    .dataframe thead th {\n",
       "        text-align: right;\n",
       "    }\n",
       "</style>\n",
       "<table border=\"1\" class=\"dataframe\">\n",
       "  <thead>\n",
       "    <tr style=\"text-align: right;\">\n",
       "      <th></th>\n",
       "      <th>Emotion</th>\n",
       "      <th>Text</th>\n",
       "    </tr>\n",
       "  </thead>\n",
       "  <tbody>\n",
       "    <tr>\n",
       "      <th>0</th>\n",
       "      <td>neutral</td>\n",
       "      <td>There are tons of other paintings that I thin...</td>\n",
       "    </tr>\n",
       "    <tr>\n",
       "      <th>1</th>\n",
       "      <td>sadness</td>\n",
       "      <td>Yet the dog had grown old and less capable , a...</td>\n",
       "    </tr>\n",
       "    <tr>\n",
       "      <th>2</th>\n",
       "      <td>fear</td>\n",
       "      <td>When I get into the tube or the train without ...</td>\n",
       "    </tr>\n",
       "    <tr>\n",
       "      <th>3</th>\n",
       "      <td>fear</td>\n",
       "      <td>This last may be a source of considerable disq...</td>\n",
       "    </tr>\n",
       "    <tr>\n",
       "      <th>4</th>\n",
       "      <td>anger</td>\n",
       "      <td>She disliked the intimacy he showed towards so...</td>\n",
       "    </tr>\n",
       "    <tr>\n",
       "      <th>...</th>\n",
       "      <td>...</td>\n",
       "      <td>...</td>\n",
       "    </tr>\n",
       "    <tr>\n",
       "      <th>11322</th>\n",
       "      <td>sadness</td>\n",
       "      <td>My sweetheart left me, or rather we decided to...</td>\n",
       "    </tr>\n",
       "    <tr>\n",
       "      <th>11323</th>\n",
       "      <td>sadness</td>\n",
       "      <td>Well , it's too bad that we like different kin...</td>\n",
       "    </tr>\n",
       "    <tr>\n",
       "      <th>11324</th>\n",
       "      <td>neutral</td>\n",
       "      <td>It sure is .</td>\n",
       "    </tr>\n",
       "    <tr>\n",
       "      <th>11325</th>\n",
       "      <td>sadness</td>\n",
       "      <td>He ’ s got laid off again . I do feel sorry fo...</td>\n",
       "    </tr>\n",
       "    <tr>\n",
       "      <th>11326</th>\n",
       "      <td>anger</td>\n",
       "      <td>When stupid people push me during rush time in...</td>\n",
       "    </tr>\n",
       "  </tbody>\n",
       "</table>\n",
       "<p>11327 rows × 2 columns</p>\n",
       "</div>"
      ],
      "text/plain": [
       "       Emotion                                               Text\n",
       "0      neutral   There are tons of other paintings that I thin...\n",
       "1      sadness  Yet the dog had grown old and less capable , a...\n",
       "2         fear  When I get into the tube or the train without ...\n",
       "3         fear  This last may be a source of considerable disq...\n",
       "4        anger  She disliked the intimacy he showed towards so...\n",
       "...        ...                                                ...\n",
       "11322  sadness  My sweetheart left me, or rather we decided to...\n",
       "11323  sadness  Well , it's too bad that we like different kin...\n",
       "11324  neutral                                      It sure is . \n",
       "11325  sadness  He ’ s got laid off again . I do feel sorry fo...\n",
       "11326    anger  When stupid people push me during rush time in...\n",
       "\n",
       "[11327 rows x 2 columns]"
      ]
     },
     "execution_count": 43,
     "metadata": {},
     "output_type": "execute_result"
    }
   ],
   "source": [
    "data"
   ]
  },
  {
   "cell_type": "code",
   "execution_count": 44,
   "id": "f52fefcf",
   "metadata": {},
   "outputs": [
    {
     "name": "stdout",
     "output_type": "stream",
     "text": [
      "joy        2326\n",
      "sadness    2317\n",
      "anger      2259\n",
      "neutral    2254\n",
      "fear       2171\n",
      "Name: Emotion, dtype: int64\n"
     ]
    }
   ],
   "source": [
    "print(data.Emotion.value_counts())"
   ]
  },
  {
   "cell_type": "code",
   "execution_count": 45,
   "id": "4ab0774b",
   "metadata": {},
   "outputs": [
    {
     "data": {
      "text/plain": [
       "array(['neutral', 'sadness', 'fear', 'anger', 'joy'], dtype=object)"
      ]
     },
     "execution_count": 45,
     "metadata": {},
     "output_type": "execute_result"
    }
   ],
   "source": [
    "data.Emotion.unique()"
   ]
  },
  {
   "cell_type": "code",
   "execution_count": 46,
   "id": "2d16ab84",
   "metadata": {},
   "outputs": [
    {
     "data": {
      "text/html": [
       "<div>\n",
       "<style scoped>\n",
       "    .dataframe tbody tr th:only-of-type {\n",
       "        vertical-align: middle;\n",
       "    }\n",
       "\n",
       "    .dataframe tbody tr th {\n",
       "        vertical-align: top;\n",
       "    }\n",
       "\n",
       "    .dataframe thead th {\n",
       "        text-align: right;\n",
       "    }\n",
       "</style>\n",
       "<table border=\"1\" class=\"dataframe\">\n",
       "  <thead>\n",
       "    <tr style=\"text-align: right;\">\n",
       "      <th></th>\n",
       "      <th>Emotion</th>\n",
       "      <th>Text</th>\n",
       "    </tr>\n",
       "  </thead>\n",
       "  <tbody>\n",
       "    <tr>\n",
       "      <th>2</th>\n",
       "      <td>fear</td>\n",
       "      <td>When I get into the tube or the train without ...</td>\n",
       "    </tr>\n",
       "    <tr>\n",
       "      <th>3</th>\n",
       "      <td>fear</td>\n",
       "      <td>This last may be a source of considerable disq...</td>\n",
       "    </tr>\n",
       "    <tr>\n",
       "      <th>10</th>\n",
       "      <td>fear</td>\n",
       "      <td>I had gone to the hospital for my research and...</td>\n",
       "    </tr>\n",
       "    <tr>\n",
       "      <th>17</th>\n",
       "      <td>fear</td>\n",
       "      <td>When I have to leave the baby in the carriage ...</td>\n",
       "    </tr>\n",
       "    <tr>\n",
       "      <th>20</th>\n",
       "      <td>fear</td>\n",
       "      <td>Infiltration in our lives. The illusion of ...</td>\n",
       "    </tr>\n",
       "    <tr>\n",
       "      <th>34</th>\n",
       "      <td>fear</td>\n",
       "      <td>When biking and I felt very bad (problems with...</td>\n",
       "    </tr>\n",
       "    <tr>\n",
       "      <th>35</th>\n",
       "      <td>fear</td>\n",
       "      <td>Whenever I am alone in a dark room, walk alone...</td>\n",
       "    </tr>\n",
       "    <tr>\n",
       "      <th>37</th>\n",
       "      <td>fear</td>\n",
       "      <td>When I got in jungle where there was a great n...</td>\n",
       "    </tr>\n",
       "    <tr>\n",
       "      <th>49</th>\n",
       "      <td>fear</td>\n",
       "      <td>When I was involved in a car accident last Nov...</td>\n",
       "    </tr>\n",
       "    <tr>\n",
       "      <th>53</th>\n",
       "      <td>fear</td>\n",
       "      <td>Saw a classmate knocked down by a motorcycle.</td>\n",
       "    </tr>\n",
       "  </tbody>\n",
       "</table>\n",
       "</div>"
      ],
      "text/plain": [
       "   Emotion                                               Text\n",
       "2     fear  When I get into the tube or the train without ...\n",
       "3     fear  This last may be a source of considerable disq...\n",
       "10    fear  I had gone to the hospital for my research and...\n",
       "17    fear  When I have to leave the baby in the carriage ...\n",
       "20    fear     Infiltration in our lives. The illusion of ...\n",
       "34    fear  When biking and I felt very bad (problems with...\n",
       "35    fear  Whenever I am alone in a dark room, walk alone...\n",
       "37    fear  When I got in jungle where there was a great n...\n",
       "49    fear  When I was involved in a car accident last Nov...\n",
       "53    fear      Saw a classmate knocked down by a motorcycle."
      ]
     },
     "execution_count": 46,
     "metadata": {},
     "output_type": "execute_result"
    }
   ],
   "source": [
    "fear_df = data[data['Emotion']=='fear'].head(10)\n",
    "fear_df"
   ]
  },
  {
   "cell_type": "code",
   "execution_count": 47,
   "id": "ba0cd6d0",
   "metadata": {},
   "outputs": [
    {
     "name": "stdout",
     "output_type": "stream",
     "text": [
      "     accept  accident     after     alone        am        an       and  \\\n",
      "0  0.000000  0.000000  0.000000  0.000000  0.000000  0.000000  0.000000   \n",
      "1  0.000000  0.000000  0.000000  0.000000  0.000000  0.000000  0.112720   \n",
      "2  0.000000  0.000000  0.000000  0.000000  0.000000  0.000000  0.112480   \n",
      "3  0.000000  0.000000  0.000000  0.000000  0.000000  0.000000  0.148407   \n",
      "4  0.296792  0.000000  0.000000  0.000000  0.000000  0.000000  0.000000   \n",
      "5  0.000000  0.000000  0.000000  0.000000  0.000000  0.000000  0.392984   \n",
      "6  0.000000  0.000000  0.000000  0.467241  0.155747  0.155747  0.000000   \n",
      "7  0.000000  0.000000  0.000000  0.000000  0.000000  0.000000  0.000000   \n",
      "8  0.000000  0.142548  0.142548  0.000000  0.000000  0.000000  0.169296   \n",
      "9  0.000000  0.000000  0.000000  0.000000  0.000000  0.000000  0.000000   \n",
      "\n",
      "         as        at      baby  ...       was        we  whenever     where  \\\n",
      "0  0.000000  0.000000  0.000000  ...  0.000000  0.000000  0.000000  0.000000   \n",
      "1  0.161366  0.161366  0.000000  ...  0.000000  0.000000  0.000000  0.000000   \n",
      "2  0.000000  0.000000  0.000000  ...  0.000000  0.000000  0.000000  0.000000   \n",
      "3  0.000000  0.000000  0.499837  ...  0.000000  0.000000  0.000000  0.000000   \n",
      "4  0.000000  0.000000  0.000000  ...  0.000000  0.296792  0.000000  0.000000   \n",
      "5  0.000000  0.000000  0.000000  ...  0.000000  0.000000  0.000000  0.000000   \n",
      "6  0.132399  0.132399  0.000000  ...  0.115834  0.000000  0.155747  0.000000   \n",
      "7  0.000000  0.000000  0.000000  ...  0.274309  0.000000  0.000000  0.368829   \n",
      "8  0.000000  0.000000  0.000000  ...  0.212035  0.000000  0.000000  0.000000   \n",
      "9  0.000000  0.000000  0.000000  ...  0.000000  0.000000  0.000000  0.000000   \n",
      "\n",
      "      which      will      with   without     would      year  \n",
      "0  0.000000  0.000000  0.000000  0.344106  0.000000  0.000000  \n",
      "1  0.000000  0.000000  0.000000  0.000000  0.000000  0.000000  \n",
      "2  0.000000  0.000000  0.000000  0.000000  0.189417  0.000000  \n",
      "3  0.000000  0.249918  0.000000  0.000000  0.000000  0.000000  \n",
      "4  0.000000  0.000000  0.000000  0.000000  0.000000  0.000000  \n",
      "5  0.000000  0.000000  0.330895  0.000000  0.000000  0.000000  \n",
      "6  0.155747  0.000000  0.000000  0.000000  0.000000  0.155747  \n",
      "7  0.000000  0.000000  0.000000  0.000000  0.000000  0.000000  \n",
      "8  0.000000  0.000000  0.000000  0.000000  0.000000  0.000000  \n",
      "9  0.000000  0.000000  0.000000  0.000000  0.000000  0.000000  \n",
      "\n",
      "[10 rows x 140 columns]\n"
     ]
    }
   ],
   "source": [
    "vectorizer = TfidfVectorizer(max_df=0.5, ngram_range=(1,1),\n",
    "                                 min_df=1,\n",
    "                                 )\n",
    "X = vectorizer.fit_transform(fear_df.Text)\n",
    "emotion_v = pd.DataFrame(\n",
    "    X.todense(),\n",
    "    columns=vectorizer.get_feature_names()\n",
    ")\n",
    "print(emotion_v)\n",
    "emotion_v.to_csv('emotion_v.csv')"
   ]
  },
  {
   "cell_type": "code",
   "execution_count": 48,
   "id": "f140899a",
   "metadata": {},
   "outputs": [
    {
     "data": {
      "text/html": [
       "<div>\n",
       "<style scoped>\n",
       "    .dataframe tbody tr th:only-of-type {\n",
       "        vertical-align: middle;\n",
       "    }\n",
       "\n",
       "    .dataframe tbody tr th {\n",
       "        vertical-align: top;\n",
       "    }\n",
       "\n",
       "    .dataframe thead th {\n",
       "        text-align: right;\n",
       "    }\n",
       "</style>\n",
       "<table border=\"1\" class=\"dataframe\">\n",
       "  <thead>\n",
       "    <tr style=\"text-align: right;\">\n",
       "      <th></th>\n",
       "      <th>Emotion</th>\n",
       "      <th>Text</th>\n",
       "    </tr>\n",
       "  </thead>\n",
       "  <tbody>\n",
       "    <tr>\n",
       "      <th>0</th>\n",
       "      <td>neutral</td>\n",
       "      <td>There are tons of other paintings that I thin...</td>\n",
       "    </tr>\n",
       "    <tr>\n",
       "      <th>8</th>\n",
       "      <td>neutral</td>\n",
       "      <td>Yes .</td>\n",
       "    </tr>\n",
       "    <tr>\n",
       "      <th>14</th>\n",
       "      <td>neutral</td>\n",
       "      <td>Perhaps we need to have more babies ! Tina ga...</td>\n",
       "    </tr>\n",
       "    <tr>\n",
       "      <th>15</th>\n",
       "      <td>neutral</td>\n",
       "      <td>Why ?</td>\n",
       "    </tr>\n",
       "    <tr>\n",
       "      <th>23</th>\n",
       "      <td>neutral</td>\n",
       "      <td>Over there .</td>\n",
       "    </tr>\n",
       "    <tr>\n",
       "      <th>25</th>\n",
       "      <td>neutral</td>\n",
       "      <td>Me , too , I can ’ t stop scratching . They a...</td>\n",
       "    </tr>\n",
       "    <tr>\n",
       "      <th>28</th>\n",
       "      <td>neutral</td>\n",
       "      <td>Why ?</td>\n",
       "    </tr>\n",
       "    <tr>\n",
       "      <th>50</th>\n",
       "      <td>neutral</td>\n",
       "      <td>Why ?</td>\n",
       "    </tr>\n",
       "    <tr>\n",
       "      <th>54</th>\n",
       "      <td>neutral</td>\n",
       "      <td>Make it 4</td>\n",
       "    </tr>\n",
       "    <tr>\n",
       "      <th>66</th>\n",
       "      <td>neutral</td>\n",
       "      <td>Jim !</td>\n",
       "    </tr>\n",
       "  </tbody>\n",
       "</table>\n",
       "</div>"
      ],
      "text/plain": [
       "    Emotion                                               Text\n",
       "0   neutral   There are tons of other paintings that I thin...\n",
       "8   neutral                                             Yes . \n",
       "14  neutral   Perhaps we need to have more babies ! Tina ga...\n",
       "15  neutral                                             Why ? \n",
       "23  neutral                                      Over there . \n",
       "25  neutral   Me , too , I can ’ t stop scratching . They a...\n",
       "28  neutral                                             Why ? \n",
       "50  neutral                                             Why ? \n",
       "54  neutral                                         Make it 4 \n",
       "66  neutral                                             Jim ! "
      ]
     },
     "execution_count": 48,
     "metadata": {},
     "output_type": "execute_result"
    }
   ],
   "source": [
    "neutral_df = data[data['Emotion']=='neutral'].head(10)\n",
    "neutral_df"
   ]
  },
  {
   "cell_type": "code",
   "execution_count": 49,
   "id": "f6e88294",
   "metadata": {},
   "outputs": [
    {
     "name": "stdout",
     "output_type": "stream",
     "text": [
      "        are  babies  baby    better  birth   boy       can  everywhere  gave  \\\n",
      "0  0.521880    0.00  0.00  0.306955   0.00  0.00  0.000000    0.000000  0.00   \n",
      "1  0.000000    0.00  0.00  0.000000   0.00  0.00  0.000000    0.000000  0.00   \n",
      "2  0.000000    0.25  0.25  0.000000   0.25  0.25  0.000000    0.000000  0.25   \n",
      "3  0.000000    0.00  0.00  0.000000   0.00  0.00  0.000000    0.000000  0.00   \n",
      "4  0.000000    0.00  0.00  0.000000   0.00  0.00  0.000000    0.000000  0.00   \n",
      "5  0.259606    0.00  0.00  0.000000   0.00  0.00  0.305386    0.305386  0.00   \n",
      "6  0.000000    0.00  0.00  0.000000   0.00  0.00  0.000000    0.000000  0.00   \n",
      "7  0.000000    0.00  0.00  0.000000   0.00  0.00  0.000000    0.000000  0.00   \n",
      "8  0.000000    0.00  0.00  0.000000   0.00  0.00  0.000000    0.000000  0.00   \n",
      "9  0.000000    0.00  0.00  0.000000   0.00  0.00  0.000000    0.000000  0.00   \n",
      "\n",
      "   have  ...      they     think  tina   to      tons       too    we  why  \\\n",
      "0  0.00  ...  0.000000  0.306955  0.00  0.0  0.306955  0.000000  0.00  0.0   \n",
      "1  0.00  ...  0.000000  0.000000  0.00  0.0  0.000000  0.000000  0.00  0.0   \n",
      "2  0.25  ...  0.000000  0.000000  0.25  0.5  0.000000  0.000000  0.25  0.0   \n",
      "3  0.00  ...  0.000000  0.000000  0.00  0.0  0.000000  0.000000  0.00  1.0   \n",
      "4  0.00  ...  0.000000  0.000000  0.00  0.0  0.000000  0.000000  0.00  0.0   \n",
      "5  0.00  ...  0.305386  0.000000  0.00  0.0  0.000000  0.305386  0.00  0.0   \n",
      "6  0.00  ...  0.000000  0.000000  0.00  0.0  0.000000  0.000000  0.00  1.0   \n",
      "7  0.00  ...  0.000000  0.000000  0.00  0.0  0.000000  0.000000  0.00  1.0   \n",
      "8  0.00  ...  0.000000  0.000000  0.00  0.0  0.000000  0.000000  0.00  0.0   \n",
      "9  0.00  ...  0.000000  0.000000  0.00  0.0  0.000000  0.000000  0.00  0.0   \n",
      "\n",
      "   yes  yesterday  \n",
      "0  0.0       0.00  \n",
      "1  1.0       0.00  \n",
      "2  0.0       0.25  \n",
      "3  0.0       0.00  \n",
      "4  0.0       0.00  \n",
      "5  0.0       0.00  \n",
      "6  0.0       0.00  \n",
      "7  0.0       0.00  \n",
      "8  0.0       0.00  \n",
      "9  0.0       0.00  \n",
      "\n",
      "[10 rows x 38 columns]\n"
     ]
    }
   ],
   "source": [
    "vectorizer = TfidfVectorizer(max_df=0.5, ngram_range=(1,1),\n",
    "                                 min_df=1,\n",
    "                                 )\n",
    "X = vectorizer.fit_transform(neutral_df.Text)\n",
    "emotion_v1 = pd.DataFrame(\n",
    "    X.todense(),\n",
    "    columns=vectorizer.get_feature_names()\n",
    ")\n",
    "print(emotion_v1)"
   ]
  },
  {
   "cell_type": "code",
   "execution_count": 50,
   "id": "4f9bfcca",
   "metadata": {},
   "outputs": [
    {
     "name": "stdout",
     "output_type": "stream",
     "text": [
      "      bins  counts\n",
      "0     0-50   11086\n",
      "1   50-100     232\n",
      "2  300-500       9\n",
      "3  500-800       0\n",
      "4     >800       0\n"
     ]
    }
   ],
   "source": [
    "bins=[0,50,75, np.inf]\n",
    "num_words = data.Text.apply(lambda x : len(x.split()))\n",
    "\n",
    "data['bins']=pd.cut(num_words, bins=[0,50,100,500,800, np.inf], labels=['0-50', '50-100', '300-500','500-800' ,'>800'])\n",
    "\n",
    "word_distribution = data.groupby('bins').size().reset_index().rename(columns={0:'counts'})\n",
    "\n",
    "print(word_distribution)"
   ]
  },
  {
   "cell_type": "code",
   "execution_count": 51,
   "id": "e5a8e322",
   "metadata": {},
   "outputs": [],
   "source": [
    "def clean_text(data):\n",
    "    data = re.sub(r\"(#[\\d\\w\\.]+)\", '', data)\n",
    "    data = re.sub(r\"(@[\\d\\w\\.]+)\", '', data)\n",
    "    data = word_tokenize(data)\n",
    "    return data"
   ]
  },
  {
   "cell_type": "code",
   "execution_count": 52,
   "id": "dd4ef11b",
   "metadata": {},
   "outputs": [],
   "source": [
    "texts = [' '.join(clean_text(text)) for text in data.Text]\n",
    "\n",
    "texts_train = [' '.join(clean_text(text)) for text in X_train]\n",
    "texts_test = [' '.join(clean_text(text)) for text in X_test]"
   ]
  },
  {
   "cell_type": "code",
   "execution_count": 53,
   "id": "8fb29115",
   "metadata": {},
   "outputs": [
    {
     "name": "stdout",
     "output_type": "stream",
     "text": [
      "11327 7934 3393\n"
     ]
    }
   ],
   "source": [
    "print(len(texts), len(texts_train), len(texts_test))\n"
   ]
  },
  {
   "cell_type": "code",
   "execution_count": 54,
   "id": "68cfa88a",
   "metadata": {},
   "outputs": [
    {
     "name": "stdout",
     "output_type": "stream",
     "text": [
      "There are tons of other paintings that I think are better .\n"
     ]
    }
   ],
   "source": [
    "print(texts_train[0])"
   ]
  },
  {
   "cell_type": "code",
   "execution_count": 60,
   "id": "e57e36ff",
   "metadata": {},
   "outputs": [],
   "source": [
    "from keras.preprocessing.text import Tokenizer\n",
    "from keras.preprocessing.sequence import pad_sequences"
   ]
  },
  {
   "cell_type": "code",
   "execution_count": 57,
   "id": "88213da2",
   "metadata": {},
   "outputs": [
    {
     "name": "stdout",
     "output_type": "stream",
     "text": [
      "Number of unique words: 12087\n"
     ]
    }
   ],
   "source": [
    "tokenizer = Tokenizer()\n",
    "tokenizer.fit_on_texts(texts)\n",
    "\n",
    "sequence_train = tokenizer.texts_to_sequences(texts_train)\n",
    "sequence_test = tokenizer.texts_to_sequences(texts_test)\n",
    "\n",
    "index_of_words = tokenizer.word_index\n",
    "\n",
    "# vacab size is number of unique words + reserved 0 index for padding\n",
    "vocab_size = len(index_of_words) + 1\n",
    "\n",
    "print('Number of unique words: {}'.format(len(index_of_words)))"
   ]
  },
  {
   "cell_type": "code",
   "execution_count": 58,
   "id": "c595bab0",
   "metadata": {},
   "outputs": [
    {
     "name": "stdout",
     "output_type": "stream",
     "text": [
      "[57, 51, 5933, 8, 132, 3296, 11, 1, 119, 51, 345]\n"
     ]
    }
   ],
   "source": [
    "MAX_LENGTH = 100\n",
    "print(sequence_train[0])"
   ]
  },
  {
   "cell_type": "code",
   "execution_count": 61,
   "id": "44be2003",
   "metadata": {},
   "outputs": [],
   "source": [
    "X_train_pad = pad_sequences(sequence_train, maxlen = MAX_LENGTH )\n",
    "X_test_pad = pad_sequences(sequence_test, maxlen = MAX_LENGTH )"
   ]
  },
  {
   "cell_type": "code",
   "execution_count": 62,
   "id": "6644d97a",
   "metadata": {},
   "outputs": [
    {
     "data": {
      "text/plain": [
       "array([   0,    0,    0,    0,    0,    0,    0,    0,    0,    0,    0,\n",
       "          0,    0,    0,    0,    0,    0,    0,    0,    0,    0,    0,\n",
       "          0,    0,    0,    0,    0,    0,    0,    0,    0,    0,    0,\n",
       "          0,    0,    0,    0,    0,    0,    0,    0,    0,    0,    0,\n",
       "          0,    0,    0,    0,    0,    0,    0,    0,    0,    0,    0,\n",
       "          0,    0,    0,    0,    0,    0,    0,    0,    0,    0,    0,\n",
       "          0,    0,    0,    0,    0,    0,    0,    0,    0,    0,    0,\n",
       "          0,    0,    0,    0,    0,    0,    0,    0,    0,    0,    0,\n",
       "          0,   57,   51, 5933,    8,  132, 3296,   11,    1,  119,   51,\n",
       "        345])"
      ]
     },
     "execution_count": 62,
     "metadata": {},
     "output_type": "execute_result"
    }
   ],
   "source": [
    "X_train_pad[0]"
   ]
  },
  {
   "cell_type": "code",
   "execution_count": 63,
   "id": "8b9015f3",
   "metadata": {},
   "outputs": [],
   "source": [
    "encoding = {\n",
    "    'joy': 0,\n",
    "    'fear': 1,\n",
    "    'anger': 2,\n",
    "    'sadness': 3,\n",
    "    'neutral': 4\n",
    "}\n",
    "\n",
    "# Integer labels\n",
    "y_train = [encoding[x] for x in data_train.Emotion]\n",
    "y_test = [encoding[x] for x in data_test.Emotion]"
   ]
  },
  {
   "cell_type": "code",
   "execution_count": 64,
   "id": "6cc5192c",
   "metadata": {},
   "outputs": [
    {
     "name": "stdout",
     "output_type": "stream",
     "text": [
      "There are tons of other paintings that I think are better .\n",
      "[57, 51, 5933, 8, 132, 3296, 11, 1, 119, 51, 345]\n",
      "4\n"
     ]
    }
   ],
   "source": [
    "print(texts_train[0])\n",
    "print(sequence_train[0])\n",
    "print(y_train[0])"
   ]
  },
  {
   "cell_type": "code",
   "execution_count": 66,
   "id": "ad6de424",
   "metadata": {},
   "outputs": [
    {
     "data": {
      "text/plain": [
       "array([0., 0., 0., 0., 1.], dtype=float32)"
      ]
     },
     "execution_count": 66,
     "metadata": {},
     "output_type": "execute_result"
    }
   ],
   "source": [
    "from tensorflow.keras.utils import to_categorical\n",
    "\n",
    "\n",
    "y_train = to_categorical(y_train)\n",
    "y_test = to_categorical(y_test)\n",
    "\n",
    "y_train[0]"
   ]
  },
  {
   "cell_type": "code",
   "execution_count": 125,
   "id": "ca2cb529",
   "metadata": {},
   "outputs": [],
   "source": [
    "import tensorflow as tf\n",
    "import keras\n",
    "from keras.models import Sequential\n",
    "from keras.layers import Input, Dense, Dropout, Embedding, LSTM, Flatten, SimpleRNN, Bidirectional, GRU\n",
    "from keras.layers import Conv1D, MaxPooling1D\n",
    "from keras import backend as K\n",
    "from keras.models import Model\n",
    "from keras.callbacks import ModelCheckpoint"
   ]
  },
  {
   "cell_type": "code",
   "execution_count": 68,
   "id": "68442657",
   "metadata": {},
   "outputs": [],
   "source": [
    "num_class = len(class_names)"
   ]
  },
  {
   "cell_type": "code",
   "execution_count": 81,
   "id": "ddf0a8fd",
   "metadata": {},
   "outputs": [
    {
     "name": "stdout",
     "output_type": "stream",
     "text": [
      "Model: \"model_6\"\n",
      "_________________________________________________________________\n",
      "Layer (type)                 Output Shape              Param #   \n",
      "=================================================================\n",
      "input_7 (InputLayer)         [(None, 100)]             0         \n",
      "_________________________________________________________________\n",
      "embedding_6 (Embedding)      (None, 100, 128)          1547264   \n",
      "_________________________________________________________________\n",
      "flatten_6 (Flatten)          (None, 12800)             0         \n",
      "_________________________________________________________________\n",
      "dense_23 (Dense)             (None, 32)                409632    \n",
      "_________________________________________________________________\n",
      "dense_24 (Dense)             (None, 16)                528       \n",
      "_________________________________________________________________\n",
      "dense_25 (Dense)             (None, 5)                 85        \n",
      "=================================================================\n",
      "Total params: 1,957,509\n",
      "Trainable params: 1,957,509\n",
      "Non-trainable params: 0\n",
      "_________________________________________________________________\n"
     ]
    }
   ],
   "source": [
    "inputs = Input(shape=(MAX_LENGTH, ))\n",
    "embedding_layer = Embedding(vocab_size,\n",
    "                            128,\n",
    "                            input_length=MAX_LENGTH)(inputs)\n",
    "x = Flatten()(embedding_layer)\n",
    "x = Dense(32, activation='relu')(x)\n",
    "x = Dense(16, activation='relu')(x)\n",
    "\n",
    "\n",
    "predictions = Dense(num_class, activation='softmax')(x)\n",
    "\n",
    "\n",
    "model = Model(inputs=[inputs], outputs=predictions)\n",
    "model.compile(optimizer='adam',\n",
    "              loss='categorical_crossentropy',\n",
    "              metrics=['acc'])\n",
    "\n",
    "model.summary()\n",
    "filepath=\"weights-simple.hdf5\"\n",
    "checkpointer = ModelCheckpoint(filepath, monitor='val_acc', verbose=1, save_best_only=True, mode='max')\n",
    "\n",
    "# history = model.fit([X_train_pad], batch_size=64, y=to_categorical(y_train), verbose=1, validation_split=0.25, \n",
    "#           shuffle=True, epochs=5, callbacks=[checkpointer])\n",
    "batch_size = 128"
   ]
  },
  {
   "cell_type": "code",
   "execution_count": 82,
   "id": "580da5dd",
   "metadata": {},
   "outputs": [
    {
     "name": "stdout",
     "output_type": "stream",
     "text": [
      "Epoch 1/50\n",
      "62/62 [==============================] - 3s 41ms/step - loss: 1.4658 - acc: 0.3181 - val_loss: 1.3953 - val_acc: 0.3557\n",
      "\n",
      "Epoch 00001: val_acc improved from -inf to 0.35573, saving model to weights-simple.hdf5\n",
      "Epoch 2/50\n",
      "62/62 [==============================] - 2s 34ms/step - loss: 1.2961 - acc: 0.4352 - val_loss: 1.2964 - val_acc: 0.4518\n",
      "\n",
      "Epoch 00002: val_acc improved from 0.35573 to 0.45181, saving model to weights-simple.hdf5\n",
      "Epoch 3/50\n",
      "62/62 [==============================] - 2s 35ms/step - loss: 1.0053 - acc: 0.6409 - val_loss: 1.1640 - val_acc: 0.5308\n",
      "\n",
      "Epoch 00003: val_acc improved from 0.45181 to 0.53080, saving model to weights-simple.hdf5\n",
      "Epoch 4/50\n",
      "62/62 [==============================] - 2s 35ms/step - loss: 0.6570 - acc: 0.7915 - val_loss: 1.1065 - val_acc: 0.5794\n",
      "\n",
      "Epoch 00004: val_acc improved from 0.53080 to 0.57943, saving model to weights-simple.hdf5\n",
      "Epoch 5/50\n",
      "62/62 [==============================] - 2s 34ms/step - loss: 0.4196 - acc: 0.8771 - val_loss: 1.1468 - val_acc: 0.5939\n",
      "\n",
      "Epoch 00005: val_acc improved from 0.57943 to 0.59387, saving model to weights-simple.hdf5\n",
      "Epoch 6/50\n",
      "62/62 [==============================] - 2s 36ms/step - loss: 0.2675 - acc: 0.9289 - val_loss: 1.2018 - val_acc: 0.6033\n",
      "\n",
      "Epoch 00006: val_acc improved from 0.59387 to 0.60330, saving model to weights-simple.hdf5\n",
      "Epoch 7/50\n",
      "62/62 [==============================] - 2s 38ms/step - loss: 0.1760 - acc: 0.9609 - val_loss: 1.2821 - val_acc: 0.6095\n",
      "\n",
      "Epoch 00007: val_acc improved from 0.60330 to 0.60949, saving model to weights-simple.hdf5\n",
      "Epoch 8/50\n",
      "62/62 [==============================] - 2s 38ms/step - loss: 0.1205 - acc: 0.9745 - val_loss: 1.3541 - val_acc: 0.6151\n",
      "\n",
      "Epoch 00008: val_acc improved from 0.60949 to 0.61509, saving model to weights-simple.hdf5\n",
      "Epoch 9/50\n",
      "62/62 [==============================] - 2s 37ms/step - loss: 0.0883 - acc: 0.9819 - val_loss: 1.4328 - val_acc: 0.6151\n",
      "\n",
      "Epoch 00009: val_acc did not improve from 0.61509\n",
      "Epoch 10/50\n",
      "62/62 [==============================] - 2s 38ms/step - loss: 0.0687 - acc: 0.9875 - val_loss: 1.5295 - val_acc: 0.6142\n",
      "\n",
      "Epoch 00010: val_acc did not improve from 0.61509\n",
      "Epoch 11/50\n",
      "62/62 [==============================] - 3s 40ms/step - loss: 0.0564 - acc: 0.9894 - val_loss: 1.6099 - val_acc: 0.6054\n",
      "\n",
      "Epoch 00011: val_acc did not improve from 0.61509\n",
      "Epoch 12/50\n",
      "62/62 [==============================] - 2s 39ms/step - loss: 0.0478 - acc: 0.9909 - val_loss: 1.6918 - val_acc: 0.6110\n",
      "\n",
      "Epoch 00012: val_acc did not improve from 0.61509\n",
      "Epoch 13/50\n",
      "62/62 [==============================] - 2s 37ms/step - loss: 0.0403 - acc: 0.9923 - val_loss: 1.7161 - val_acc: 0.6092\n",
      "\n",
      "Epoch 00013: val_acc did not improve from 0.61509\n",
      "Epoch 14/50\n",
      "62/62 [==============================] - 2s 37ms/step - loss: 0.0351 - acc: 0.9917 - val_loss: 1.7960 - val_acc: 0.6124\n",
      "\n",
      "Epoch 00014: val_acc did not improve from 0.61509\n",
      "Epoch 15/50\n",
      "62/62 [==============================] - 2s 38ms/step - loss: 0.0339 - acc: 0.9927 - val_loss: 1.8064 - val_acc: 0.6062\n",
      "\n",
      "Epoch 00015: val_acc did not improve from 0.61509\n",
      "Epoch 16/50\n",
      "62/62 [==============================] - 2s 37ms/step - loss: 0.0331 - acc: 0.9928 - val_loss: 1.8765 - val_acc: 0.6039\n",
      "\n",
      "Epoch 00016: val_acc did not improve from 0.61509\n",
      "Epoch 17/50\n",
      "62/62 [==============================] - 2s 36ms/step - loss: 0.0318 - acc: 0.9929 - val_loss: 1.9506 - val_acc: 0.6027\n",
      "\n",
      "Epoch 00017: val_acc did not improve from 0.61509\n",
      "Epoch 18/50\n",
      "62/62 [==============================] - 2s 40ms/step - loss: 0.0284 - acc: 0.9938 - val_loss: 1.9569 - val_acc: 0.6006\n",
      "\n",
      "Epoch 00018: val_acc did not improve from 0.61509\n",
      "Epoch 19/50\n",
      "62/62 [==============================] - 3s 41ms/step - loss: 0.0283 - acc: 0.9929 - val_loss: 1.9952 - val_acc: 0.6054\n",
      "\n",
      "Epoch 00019: val_acc did not improve from 0.61509\n",
      "Epoch 20/50\n",
      "62/62 [==============================] - 3s 41ms/step - loss: 0.0277 - acc: 0.9933 - val_loss: 2.0729 - val_acc: 0.6004\n",
      "\n",
      "Epoch 00020: val_acc did not improve from 0.61509\n",
      "Epoch 21/50\n",
      "62/62 [==============================] - 3s 42ms/step - loss: 0.0267 - acc: 0.9933 - val_loss: 2.0674 - val_acc: 0.6012\n",
      "\n",
      "Epoch 00021: val_acc did not improve from 0.61509\n",
      "Epoch 22/50\n",
      "62/62 [==============================] - 2s 37ms/step - loss: 0.0276 - acc: 0.9934 - val_loss: 2.0903 - val_acc: 0.6015\n",
      "\n",
      "Epoch 00022: val_acc did not improve from 0.61509\n",
      "Epoch 23/50\n",
      "62/62 [==============================] - 2s 38ms/step - loss: 0.0237 - acc: 0.9940 - val_loss: 2.1408 - val_acc: 0.5959\n",
      "\n",
      "Epoch 00023: val_acc did not improve from 0.61509\n",
      "Epoch 24/50\n",
      "62/62 [==============================] - 2s 38ms/step - loss: 0.0277 - acc: 0.9923 - val_loss: 2.1403 - val_acc: 0.5912\n",
      "\n",
      "Epoch 00024: val_acc did not improve from 0.61509\n",
      "Epoch 25/50\n",
      "62/62 [==============================] - 2s 38ms/step - loss: 0.0248 - acc: 0.9936 - val_loss: 2.1948 - val_acc: 0.5992\n",
      "\n",
      "Epoch 00025: val_acc did not improve from 0.61509\n",
      "Epoch 26/50\n",
      "62/62 [==============================] - 2s 37ms/step - loss: 0.0236 - acc: 0.9936 - val_loss: 2.1895 - val_acc: 0.5918\n",
      "\n",
      "Epoch 00026: val_acc did not improve from 0.61509\n",
      "Epoch 27/50\n",
      "62/62 [==============================] - 3s 42ms/step - loss: 0.0229 - acc: 0.9937 - val_loss: 2.2077 - val_acc: 0.5830\n",
      "\n",
      "Epoch 00027: val_acc did not improve from 0.61509\n",
      "Epoch 28/50\n",
      "62/62 [==============================] - 2s 40ms/step - loss: 0.0224 - acc: 0.9938 - val_loss: 2.2021 - val_acc: 0.5965\n",
      "\n",
      "Epoch 00028: val_acc did not improve from 0.61509\n",
      "Epoch 29/50\n",
      "62/62 [==============================] - 2s 40ms/step - loss: 0.0241 - acc: 0.9926 - val_loss: 2.2621 - val_acc: 0.5903\n",
      "\n",
      "Epoch 00029: val_acc did not improve from 0.61509\n",
      "Epoch 30/50\n",
      "62/62 [==============================] - 2s 39ms/step - loss: 0.0228 - acc: 0.9942 - val_loss: 2.2712 - val_acc: 0.5992\n",
      "\n",
      "Epoch 00030: val_acc did not improve from 0.61509\n",
      "Epoch 31/50\n",
      "62/62 [==============================] - 2s 38ms/step - loss: 0.0222 - acc: 0.9937 - val_loss: 2.3225 - val_acc: 0.5859\n",
      "\n",
      "Epoch 00031: val_acc did not improve from 0.61509\n",
      "Epoch 32/50\n",
      "62/62 [==============================] - 2s 37ms/step - loss: 0.0245 - acc: 0.9928 - val_loss: 2.2642 - val_acc: 0.5956\n",
      "\n",
      "Epoch 00032: val_acc did not improve from 0.61509\n",
      "Epoch 33/50\n",
      "62/62 [==============================] - 2s 40ms/step - loss: 0.0226 - acc: 0.9936 - val_loss: 2.3234 - val_acc: 0.5909\n",
      "\n",
      "Epoch 00033: val_acc did not improve from 0.61509\n",
      "Epoch 34/50\n",
      "62/62 [==============================] - 2s 39ms/step - loss: 0.0220 - acc: 0.9936 - val_loss: 2.4122 - val_acc: 0.5841\n",
      "\n",
      "Epoch 00034: val_acc did not improve from 0.61509\n",
      "Epoch 35/50\n",
      "62/62 [==============================] - 2s 37ms/step - loss: 0.0238 - acc: 0.9922 - val_loss: 2.3506 - val_acc: 0.5886\n",
      "\n",
      "Epoch 00035: val_acc did not improve from 0.61509\n",
      "Epoch 36/50\n",
      "62/62 [==============================] - 2s 38ms/step - loss: 0.0225 - acc: 0.9942 - val_loss: 2.2478 - val_acc: 0.5909\n",
      "\n",
      "Epoch 00036: val_acc did not improve from 0.61509\n",
      "Epoch 37/50\n",
      "62/62 [==============================] - 2s 36ms/step - loss: 0.0227 - acc: 0.9934 - val_loss: 2.4314 - val_acc: 0.5794\n",
      "\n",
      "Epoch 00037: val_acc did not improve from 0.61509\n",
      "Epoch 38/50\n",
      "62/62 [==============================] - 2s 38ms/step - loss: 0.0234 - acc: 0.9926 - val_loss: 2.3237 - val_acc: 0.5886\n",
      "\n",
      "Epoch 00038: val_acc did not improve from 0.61509\n",
      "Epoch 39/50\n",
      "62/62 [==============================] - 2s 38ms/step - loss: 0.0224 - acc: 0.9936 - val_loss: 2.3522 - val_acc: 0.5909\n",
      "\n",
      "Epoch 00039: val_acc did not improve from 0.61509\n",
      "Epoch 40/50\n",
      "62/62 [==============================] - 2s 37ms/step - loss: 0.0197 - acc: 0.9940 - val_loss: 2.4038 - val_acc: 0.5838\n",
      "\n",
      "Epoch 00040: val_acc did not improve from 0.61509\n",
      "Epoch 41/50\n",
      "62/62 [==============================] - 2s 37ms/step - loss: 0.0199 - acc: 0.9943 - val_loss: 2.4390 - val_acc: 0.5862\n",
      "\n",
      "Epoch 00041: val_acc did not improve from 0.61509\n",
      "Epoch 42/50\n",
      "62/62 [==============================] - 2s 36ms/step - loss: 0.0203 - acc: 0.9943 - val_loss: 2.3843 - val_acc: 0.5892\n",
      "\n",
      "Epoch 00042: val_acc did not improve from 0.61509\n",
      "Epoch 43/50\n",
      "62/62 [==============================] - 2s 36ms/step - loss: 0.0208 - acc: 0.9940 - val_loss: 2.4034 - val_acc: 0.5800\n",
      "\n",
      "Epoch 00043: val_acc did not improve from 0.61509\n",
      "Epoch 44/50\n"
     ]
    },
    {
     "name": "stdout",
     "output_type": "stream",
     "text": [
      "62/62 [==============================] - 2s 34ms/step - loss: 0.0178 - acc: 0.9945 - val_loss: 2.5097 - val_acc: 0.5812\n",
      "\n",
      "Epoch 00044: val_acc did not improve from 0.61509\n",
      "Epoch 45/50\n",
      "62/62 [==============================] - 2s 34ms/step - loss: 0.0199 - acc: 0.9938 - val_loss: 2.5972 - val_acc: 0.5812\n",
      "\n",
      "Epoch 00045: val_acc did not improve from 0.61509\n",
      "Epoch 46/50\n",
      "62/62 [==============================] - 2s 35ms/step - loss: 0.0181 - acc: 0.9946 - val_loss: 2.4712 - val_acc: 0.5903\n",
      "\n",
      "Epoch 00046: val_acc did not improve from 0.61509\n",
      "Epoch 47/50\n",
      "62/62 [==============================] - 2s 35ms/step - loss: 0.0187 - acc: 0.9946 - val_loss: 2.5183 - val_acc: 0.5774\n",
      "\n",
      "Epoch 00047: val_acc did not improve from 0.61509\n",
      "Epoch 48/50\n",
      "62/62 [==============================] - 2s 35ms/step - loss: 0.0192 - acc: 0.9940 - val_loss: 2.4965 - val_acc: 0.5753\n",
      "\n",
      "Epoch 00048: val_acc did not improve from 0.61509\n",
      "Epoch 49/50\n",
      "62/62 [==============================] - 2s 34ms/step - loss: 0.0197 - acc: 0.9936 - val_loss: 2.5472 - val_acc: 0.5836\n",
      "\n",
      "Epoch 00049: val_acc did not improve from 0.61509\n",
      "Epoch 50/50\n",
      "62/62 [==============================] - 2s 35ms/step - loss: 0.0206 - acc: 0.9937 - val_loss: 2.5139 - val_acc: 0.5824\n",
      "\n",
      "Epoch 00050: val_acc did not improve from 0.61509\n"
     ]
    }
   ],
   "source": [
    "epochs = 50\n",
    "\n",
    "hist = model.fit(X_train_pad, y_train, batch_size=batch_size, epochs=epochs,\n",
    "                 validation_data=(X_test_pad,y_test), callbacks=[checkpointer])"
   ]
  },
  {
   "cell_type": "code",
   "execution_count": 87,
   "id": "f8735bad",
   "metadata": {},
   "outputs": [
    {
     "name": "stdout",
     "output_type": "stream",
     "text": [
      "tf.Tensor(\n",
      "[[[-0.90063167  0.85521495 -0.05760406  0.30495885]\n",
      "  [-0.95698446  0.62691027 -0.3584068  -0.16066553]\n",
      "  [-0.99345523  0.65105623 -0.21151194  0.55910873]\n",
      "  ...\n",
      "  [-0.98187494  0.7984275   0.01104358  0.32442123]\n",
      "  [-0.9785234   0.37673625 -0.22141895  0.17924654]\n",
      "  [-0.95684475 -0.08964822 -0.35097322  0.10285882]]\n",
      "\n",
      " [[-0.41723436 -0.2153883  -0.5742436   0.60947996]\n",
      "  [-0.8829261   0.43846482  0.04908592  0.77623385]\n",
      "  [-0.87098306 -0.5438344   0.61280495 -0.01137532]\n",
      "  ...\n",
      "  [-0.8683994   0.26298055 -0.84763175 -0.5193502 ]\n",
      "  [-0.95425886  0.69936806 -0.49914452  0.64391613]\n",
      "  [-0.98565704 -0.09433898  0.31711137  0.14888963]]\n",
      "\n",
      " [[-0.96524066  0.6332015  -0.06899588  0.63496274]\n",
      "  [-0.9267563   0.40864807 -0.5033205  -0.39682925]\n",
      "  [-0.88588077  0.4912002  -0.833432    0.51437753]\n",
      "  ...\n",
      "  [-0.6352011  -0.67725945 -0.47238222  0.54220587]\n",
      "  [-0.8598432  -0.10580781 -0.18256472  0.82565796]\n",
      "  [-0.89973456 -0.59980524  0.60554844  0.24481075]]\n",
      "\n",
      " ...\n",
      "\n",
      " [[-0.8151661   0.21601206 -0.47057384  0.325179  ]\n",
      "  [-0.97253585  0.00550428  0.4396807   0.48488492]\n",
      "  [-0.88955206 -0.22582716 -0.08451764 -0.00258469]\n",
      "  ...\n",
      "  [-0.9703381   0.3176145   0.2533084   0.65365154]\n",
      "  [-0.94572276 -0.42591158  0.03204437  0.06561401]\n",
      "  [-0.84433377 -0.31747594 -0.32825902  0.33647215]]\n",
      "\n",
      " [[-0.60660326  0.29414642 -0.53746885  0.00309937]\n",
      "  [-0.9117932   0.8276813  -0.34864524  0.65372956]\n",
      "  [-0.99255437  0.7064391   0.06460418  0.26407665]\n",
      "  ...\n",
      "  [-0.9056423  -0.86501217 -0.66121733  0.38558105]\n",
      "  [-0.9653095  -0.6417652   0.39763078  0.8555885 ]\n",
      "  [-0.8410351  -0.68269527 -0.2579665   0.52402335]]\n",
      "\n",
      " [[-0.7476428  -0.18710566  0.36189643  0.69563055]\n",
      "  [-0.8649728  -0.2000638   0.3067069  -0.11982001]\n",
      "  [-0.9169157  -0.16731806 -0.08157849  0.3021577 ]\n",
      "  ...\n",
      "  [-0.8600248  -0.16105272 -0.67358136  0.81692666]\n",
      "  [-0.8836415  -0.6088442  -0.37288758  0.62313473]\n",
      "  [-0.93616754 -0.66807044  0.1029463   0.46990415]]], shape=(32, 10, 4), dtype=float32) tf.Tensor(\n",
      "[[-0.95684475 -0.08964822 -0.35097322  0.10285882]\n",
      " [-0.98565704 -0.09433898  0.31711137  0.14888963]\n",
      " [-0.89973456 -0.59980524  0.60554844  0.24481075]\n",
      " [-0.51310104 -0.82432365 -0.19255897 -0.18850823]\n",
      " [-0.76756227 -0.8089679  -0.32593918  0.7305703 ]\n",
      " [-0.92957824 -0.7996322  -0.1539128   0.25454244]\n",
      " [-0.6968789  -0.6620148  -0.38461345 -0.16810144]\n",
      " [-0.94484514 -0.30212688  0.26227978 -0.33174875]\n",
      " [-0.86288404  0.66525596 -0.741819    0.63884324]\n",
      " [-0.9077065  -0.38372156 -0.22424272  0.9547415 ]\n",
      " [-0.9384289  -0.08920946 -0.37295437  0.7583594 ]\n",
      " [-0.9903883   0.26598912  0.17359677  0.57417023]\n",
      " [-0.92479813 -0.6173216   0.48804408  0.5021789 ]\n",
      " [-0.9746547   0.5851718  -0.3624066  -0.03215884]\n",
      " [-0.9767364  -0.29495797 -0.33368358  0.19579601]\n",
      " [-0.98028207 -0.07801898  0.38659915  0.8399888 ]\n",
      " [-0.9202595  -0.3432152   0.24552312 -0.6291995 ]\n",
      " [-0.80821973  0.15026194 -0.83850807  0.0813577 ]\n",
      " [-0.9654525   0.33101767  0.11780515  0.87714124]\n",
      " [-0.97279924 -0.06680892 -0.50753963  0.49177563]\n",
      " [-0.95418406  0.6386193  -0.65799904  0.8653517 ]\n",
      " [-0.8447271  -0.53150034 -0.8665496  -0.7265108 ]\n",
      " [-0.7938802  -0.61884224 -0.50286007  0.33017692]\n",
      " [-0.93631154  0.09128135 -0.21454191  0.18513693]\n",
      " [-0.94286364 -0.5279009   0.31485257  0.70102644]\n",
      " [-0.977327   -0.7127147   0.78623646  0.51581824]\n",
      " [-0.9923295  -0.20451711  0.8246952   0.5570768 ]\n",
      " [-0.9357383  -0.6504853  -0.20409168  0.8199995 ]\n",
      " [-0.8540285  -0.3761631   0.18295044 -0.12170298]\n",
      " [-0.84433377 -0.31747594 -0.32825902  0.33647215]\n",
      " [-0.8410351  -0.68269527 -0.2579665   0.52402335]\n",
      " [-0.93616754 -0.66807044  0.1029463   0.46990415]], shape=(32, 4), dtype=float32)\n"
     ]
    }
   ],
   "source": [
    "inputs = np.random.random([32, 10, 18]).astype(np.float32)\n",
    "simple_rnn = SimpleRNN(4)\n",
    "\n",
    "output = simple_rnn(inputs)  # The output has shape `[32, 4]`.\n",
    "\n",
    "simple_rnn = SimpleRNN(\n",
    "    4, return_sequences=True, return_state=True)\n",
    "\n",
    "# whole_sequence_output has shape `[32, 10, 4]`.\n",
    "# final_state has shape `[32, 4]`.\n",
    "whole_sequence_output, final_state = simple_rnn(inputs)\n",
    "print(whole_sequence_output, final_state)"
   ]
  },
  {
   "cell_type": "code",
   "execution_count": 92,
   "id": "c901e8d3",
   "metadata": {},
   "outputs": [
    {
     "name": "stdout",
     "output_type": "stream",
     "text": [
      "Model: \"sequential_5\"\n",
      "_________________________________________________________________\n",
      "Layer (type)                 Output Shape              Param #   \n",
      "=================================================================\n",
      "embedding_12 (Embedding)     (None, 100, 300)          3626400   \n",
      "_________________________________________________________________\n",
      "bidirectional (Bidirectional (None, 256)               330240    \n",
      "_________________________________________________________________\n",
      "dense_26 (Dense)             (None, 5)                 1285      \n",
      "=================================================================\n",
      "Total params: 3,957,925\n",
      "Trainable params: 331,525\n",
      "Non-trainable params: 3,626,400\n",
      "_________________________________________________________________\n",
      "Epoch 1/3\n",
      "62/62 [==============================] - 90s 1s/step - loss: 1.4447 - acc: 0.3298 - val_loss: 1.4056 - val_acc: 0.3540\n",
      "\n",
      "Epoch 00001: saving model to shub_cp.ckpt\n",
      "Epoch 2/3\n",
      "62/62 [==============================] - 99s 2s/step - loss: 1.3685 - acc: 0.3779 - val_loss: 1.3804 - val_acc: 0.3655\n",
      "\n",
      "Epoch 00002: saving model to shub_cp.ckpt\n",
      "Epoch 3/3\n",
      "62/62 [==============================] - 107s 2s/step - loss: 1.3375 - acc: 0.3989 - val_loss: 1.3528 - val_acc: 0.3831\n",
      "\n",
      "Epoch 00003: saving model to shub_cp.ckpt\n"
     ]
    }
   ],
   "source": [
    "gru_output_size = 128\n",
    "bidirectional = True\n",
    "embed_num_dims = 300\n",
    "embedding_layer = Embedding(vocab_size,\n",
    "                         embed_num_dims,\n",
    "                         input_length = MAX_LENGTH,\n",
    "                         \n",
    "                         trainable=False)\n",
    "# Embedding Layer, LSTM or biLSTM, Dense, softmax\n",
    "# embedding_layer = Embedding(vocab_size,\n",
    "#                             128,\n",
    "#                             input_length=MAX_LENGTH)(inputs)\n",
    "\n",
    "model = Sequential()\n",
    "model.add(embedding_layer)\n",
    "\n",
    "if bidirectional:\n",
    "    model.add(Bidirectional(GRU(units=gru_output_size,\n",
    "                              dropout=0.2,\n",
    "                              recurrent_dropout=0.2)))\n",
    "else:\n",
    "     model.add(GRU(units=gru_output_size,\n",
    "                dropout=0.2, \n",
    "                recurrent_dropout=0.2))\n",
    "\n",
    "model.add(Dense(num_class, activation='softmax'))\n",
    "model.compile(optimizer='adam',\n",
    "              loss='categorical_crossentropy',\n",
    "              metrics=['acc'])\n",
    "\n",
    "model.summary()\n",
    "# filepath=\"weights-simple.hdf5\"\n",
    "checkpoint_path = \"shub_cp.ckpt\"\n",
    "\n",
    "# Create a callback that saves the model's weights\n",
    "checkpointer = ModelCheckpoint(filepath=checkpoint_path,\n",
    "                                                 save_weights_only=True,\n",
    "                                                 verbose=1)\n",
    "# checkpointer = ModelCheckpoint(filepath, monitor='val_acc', verbose=1, save_best_only=True, mode='max')\n",
    "\n",
    "# history = model.fit([X_train_pad], batch_size=64, y=to_categorical(y_train), verbose=1, validation_split=0.25, \n",
    "#           shuffle=True, epochs=5, callbacks=[checkpointer])\n",
    "batch_size = 128\n",
    "epochs = 3\n",
    "\n",
    "hist = model.fit(X_train_pad, y_train, batch_size=batch_size, epochs=epochs,\n",
    "                 validation_data=(X_test_pad,y_test), callbacks=[checkpointer])\n"
   ]
  },
  {
   "cell_type": "code",
   "execution_count": 94,
   "id": "db4368bf",
   "metadata": {},
   "outputs": [
    {
     "name": "stdout",
     "output_type": "stream",
     "text": [
      "Model: \"model_7\"\n",
      "_________________________________________________________________\n",
      "Layer (type)                 Output Shape              Param #   \n",
      "=================================================================\n",
      "input_8 (InputLayer)         [(None, 100)]             0         \n",
      "_________________________________________________________________\n",
      "embedding_13 (Embedding)     (None, 100, 128)          1547264   \n",
      "_________________________________________________________________\n",
      "lstm_1 (LSTM)                (None, 64)                49408     \n",
      "_________________________________________________________________\n",
      "dense_27 (Dense)             (None, 32)                2080      \n",
      "_________________________________________________________________\n",
      "dense_28 (Dense)             (None, 5)                 165       \n",
      "=================================================================\n",
      "Total params: 1,598,917\n",
      "Trainable params: 1,598,917\n",
      "Non-trainable params: 0\n",
      "_________________________________________________________________\n",
      "Epoch 1/20\n",
      "62/62 [==============================] - 27s 361ms/step - loss: 1.4548 - acc: 0.3421 - val_loss: 1.3699 - val_acc: 0.3917\n",
      "\n",
      "Epoch 00001: saving model to shub_lstm.ckpt\n",
      "Epoch 2/20\n",
      "62/62 [==============================] - 17s 273ms/step - loss: 1.1496 - acc: 0.5377 - val_loss: 1.0877 - val_acc: 0.5703\n",
      "\n",
      "Epoch 00002: saving model to shub_lstm.ckpt\n",
      "Epoch 3/20\n",
      "62/62 [==============================] - 20s 330ms/step - loss: 0.6869 - acc: 0.7685 - val_loss: 0.9430 - val_acc: 0.6525\n",
      "\n",
      "Epoch 00003: saving model to shub_lstm.ckpt\n",
      "Epoch 4/20\n",
      "62/62 [==============================] - 18s 291ms/step - loss: 0.4270 - acc: 0.8643 - val_loss: 0.9884 - val_acc: 0.6646\n",
      "\n",
      "Epoch 00004: saving model to shub_lstm.ckpt\n",
      "Epoch 5/20\n",
      "62/62 [==============================] - 24s 390ms/step - loss: 0.2995 - acc: 0.9080 - val_loss: 1.0810 - val_acc: 0.6605\n",
      "\n",
      "Epoch 00005: saving model to shub_lstm.ckpt\n",
      "Epoch 6/20\n",
      "62/62 [==============================] - 22s 352ms/step - loss: 0.2224 - acc: 0.9345 - val_loss: 1.1808 - val_acc: 0.6720\n",
      "\n",
      "Epoch 00006: saving model to shub_lstm.ckpt\n",
      "Epoch 7/20\n",
      "62/62 [==============================] - 23s 370ms/step - loss: 0.1811 - acc: 0.9462 - val_loss: 1.2440 - val_acc: 0.6678\n",
      "\n",
      "Epoch 00007: saving model to shub_lstm.ckpt\n",
      "Epoch 8/20\n",
      "62/62 [==============================] - 19s 301ms/step - loss: 0.1380 - acc: 0.9619 - val_loss: 1.4060 - val_acc: 0.6670\n",
      "\n",
      "Epoch 00008: saving model to shub_lstm.ckpt\n",
      "Epoch 9/20\n",
      "62/62 [==============================] - 20s 325ms/step - loss: 0.1156 - acc: 0.9701 - val_loss: 1.4605 - val_acc: 0.6693\n",
      "\n",
      "Epoch 00009: saving model to shub_lstm.ckpt\n",
      "Epoch 10/20\n",
      "62/62 [==============================] - 20s 318ms/step - loss: 0.1032 - acc: 0.9718 - val_loss: 1.5323 - val_acc: 0.6655\n",
      "\n",
      "Epoch 00010: saving model to shub_lstm.ckpt\n",
      "Epoch 11/20\n",
      "62/62 [==============================] - 17s 279ms/step - loss: 0.0930 - acc: 0.9745 - val_loss: 1.6196 - val_acc: 0.6676\n",
      "\n",
      "Epoch 00011: saving model to shub_lstm.ckpt\n",
      "Epoch 12/20\n",
      "62/62 [==============================] - 21s 340ms/step - loss: 0.0912 - acc: 0.9766 - val_loss: 1.6083 - val_acc: 0.6661\n",
      "\n",
      "Epoch 00012: saving model to shub_lstm.ckpt\n",
      "Epoch 13/20\n",
      "62/62 [==============================] - 22s 359ms/step - loss: 0.0714 - acc: 0.9821 - val_loss: 1.7013 - val_acc: 0.6637\n",
      "\n",
      "Epoch 00013: saving model to shub_lstm.ckpt\n",
      "Epoch 14/20\n",
      "62/62 [==============================] - 22s 351ms/step - loss: 0.0680 - acc: 0.9824 - val_loss: 1.9042 - val_acc: 0.6599\n",
      "\n",
      "Epoch 00014: saving model to shub_lstm.ckpt\n",
      "Epoch 15/20\n",
      "62/62 [==============================] - 20s 329ms/step - loss: 0.0696 - acc: 0.9821 - val_loss: 1.8304 - val_acc: 0.6558\n",
      "\n",
      "Epoch 00015: saving model to shub_lstm.ckpt\n",
      "Epoch 16/20\n",
      "62/62 [==============================] - 23s 378ms/step - loss: 0.0587 - acc: 0.9855 - val_loss: 1.9004 - val_acc: 0.6581\n",
      "\n",
      "Epoch 00016: saving model to shub_lstm.ckpt\n",
      "Epoch 17/20\n",
      "62/62 [==============================] - 17s 269ms/step - loss: 0.0539 - acc: 0.9855 - val_loss: 2.0224 - val_acc: 0.6614\n",
      "\n",
      "Epoch 00017: saving model to shub_lstm.ckpt\n",
      "Epoch 18/20\n",
      "62/62 [==============================] - 18s 288ms/step - loss: 0.0580 - acc: 0.9844 - val_loss: 1.9036 - val_acc: 0.6569\n",
      "\n",
      "Epoch 00018: saving model to shub_lstm.ckpt\n",
      "Epoch 19/20\n",
      "62/62 [==============================] - 19s 304ms/step - loss: 0.0514 - acc: 0.9865 - val_loss: 1.9550 - val_acc: 0.6505\n",
      "\n",
      "Epoch 00019: saving model to shub_lstm.ckpt\n",
      "Epoch 20/20\n",
      "62/62 [==============================] - 21s 337ms/step - loss: 0.0437 - acc: 0.9895 - val_loss: 2.1019 - val_acc: 0.6516\n",
      "\n",
      "Epoch 00020: saving model to shub_lstm.ckpt\n"
     ]
    }
   ],
   "source": [
    "inputs = Input(shape=(MAX_LENGTH, ))\n",
    "embedding_layer = Embedding(vocab_size,\n",
    "                            128,\n",
    "                            input_length=MAX_LENGTH)(inputs)\n",
    "x = LSTM(64)(embedding_layer)\n",
    "\n",
    "x = Dense(32, activation='relu')(x)\n",
    "predictions = Dense(num_class, activation='softmax')(x)\n",
    "model = Model(inputs=[inputs], outputs=predictions)\n",
    "model.compile(optimizer='adam',\n",
    "              loss='categorical_crossentropy',\n",
    "              metrics=['acc'])\n",
    "\n",
    "model.summary()\n",
    "\n",
    "# filepath=\"weights-simple.hdf5\"\n",
    "checkpoint_path = \"shub_lstm.ckpt\"\n",
    "\n",
    "# Create a callback that saves the model's weights\n",
    "checkpointer = ModelCheckpoint(filepath=checkpoint_path,\n",
    "                                                 save_weights_only=True,\n",
    "                                                 verbose=1)\n",
    "# checkpointer = ModelCheckpoint(filepath, monitor='val_acc', verbose=1, save_best_only=True, mode='max')\n",
    "\n",
    "# history = model.fit([X_train_pad], batch_size=64, y=to_categorical(y_train), verbose=1, validation_split=0.25, \n",
    "#           shuffle=True, epochs=5, callbacks=[checkpointer])\n",
    "batch_size = 128\n",
    "epochs = 20\n",
    "\n",
    "hist = model.fit(X_train_pad, y_train, batch_size=batch_size, epochs=epochs,\n",
    "                 validation_data=(X_test_pad,y_test), callbacks=[checkpointer])"
   ]
  },
  {
   "cell_type": "code",
   "execution_count": 95,
   "id": "3bb842d4",
   "metadata": {},
   "outputs": [],
   "source": [
    "model.save('shub_lstm.h5') #save\n",
    "model.save_weights(\"shub_cp_final.ckpt\")"
   ]
  },
  {
   "cell_type": "code",
   "execution_count": 98,
   "id": "664ba62e",
   "metadata": {},
   "outputs": [
    {
     "data": {
      "image/png": "[encoded data removed]",
      "text/plain": [
       "<Figure size 432x288 with 1 Axes>"
      ]
     },
     "metadata": {
      "needs_background": "light"
     },
     "output_type": "display_data"
    },
    {
     "data": {
      "image/png": "[encoded data removed]",
      "text/plain": [
       "<Figure size 432x288 with 1 Axes>"
      ]
     },
     "metadata": {
      "needs_background": "light"
     },
     "output_type": "display_data"
    }
   ],
   "source": [
    "plt.plot(hist.history['acc'])\n",
    "plt.plot(hist.history['val_acc'])\n",
    "plt.title('model accuracy')\n",
    "plt.ylabel('accuracy')\n",
    "plt.xlabel('epoch')\n",
    "plt.legend(['train', 'validation'], loc='upper left')\n",
    "plt.show()\n",
    "\n",
    "# \"Loss\"\n",
    "plt.plot(hist.history['loss'])\n",
    "plt.plot(hist.history['val_loss'])\n",
    "plt.title('model loss')\n",
    "plt.ylabel('loss')\n",
    "plt.xlabel('epoch')\n",
    "plt.legend(['train', 'validation'], loc='upper left')\n",
    "plt.show()"
   ]
  },
  {
   "cell_type": "code",
   "execution_count": 99,
   "id": "d40cc2e0",
   "metadata": {},
   "outputs": [],
   "source": [
    "predictions = model.predict(X_test_pad)\n",
    "predictions = np.argmax(predictions, axis=1)\n",
    "predictions = [class_names[pred] for pred in predictions]"
   ]
  },
  {
   "cell_type": "code",
   "execution_count": 101,
   "id": "dc977fc8",
   "metadata": {},
   "outputs": [],
   "source": [
    "from sklearn.metrics import accuracy_score, f1_score, confusion_matrix\n"
   ]
  },
  {
   "cell_type": "code",
   "execution_count": 102,
   "id": "1849192a",
   "metadata": {},
   "outputs": [
    {
     "name": "stdout",
     "output_type": "stream",
     "text": [
      "Accuracy: 65.16%\n",
      "\n",
      "F1 Score: 65.16\n"
     ]
    }
   ],
   "source": [
    "print(\"Accuracy: {:.2f}%\".format(accuracy_score(data_test.Emotion, predictions) * 100))\n",
    "print(\"\\nF1 Score: {:.2f}\".format(f1_score(data_test.Emotion, predictions, average='micro') * 100))"
   ]
  },
  {
   "cell_type": "code",
   "execution_count": 103,
   "id": "683f9073",
   "metadata": {},
   "outputs": [],
   "source": [
    "def plot_confusion_matrix(y_true, y_pred, classes,\n",
    "                          normalize=False,\n",
    "                          title=None,\n",
    "                          cmap=plt.cm.Blues):\n",
    "    '''\n",
    "    This function prints and plots the confusion matrix.\n",
    "    Normalization can be applied by setting `normalize=True`.\n",
    "    '''\n",
    "    if not title:\n",
    "        if normalize:\n",
    "            title = 'Normalized confusion matrix'\n",
    "        else:\n",
    "            title = 'Confusion matrix, without normalization'\n",
    "\n",
    "    # Compute confusion matrix\n",
    "    cm = confusion_matrix(y_true, y_pred)\n",
    "\n",
    "    if normalize:\n",
    "        cm = cm.astype('float') / cm.sum(axis=1)[:, np.newaxis]\n",
    "\n",
    "    fig, ax = plt.subplots()\n",
    "    \n",
    "    # Set size\n",
    "    fig.set_size_inches(12.5, 7.5)\n",
    "    im = ax.imshow(cm, interpolation='nearest', cmap=cmap)\n",
    "    ax.figure.colorbar(im, ax=ax)\n",
    "    ax.grid(False)\n",
    "    \n",
    "    # We want to show all ticks...\n",
    "    ax.set(xticks=np.arange(cm.shape[1]),\n",
    "           yticks=np.arange(cm.shape[0]),\n",
    "           # ... and label them with the respective list entries\n",
    "           xticklabels=classes, yticklabels=classes,\n",
    "           title=title,\n",
    "           ylabel='True label',\n",
    "           xlabel='Predicted label')\n",
    "\n",
    "    # Rotate the tick labels and set their alignment.\n",
    "    plt.setp(ax.get_xticklabels(), rotation=45, ha=\"right\",\n",
    "             rotation_mode=\"anchor\")\n",
    "\n",
    "    # Loop over data dimensions and create text annotations.\n",
    "    fmt = '.2f' if normalize else 'd'\n",
    "    thresh = cm.max() / 2.\n",
    "    for i in range(cm.shape[0]):\n",
    "        for j in range(cm.shape[1]):\n",
    "            ax.text(j, i, format(cm[i, j], fmt),\n",
    "                    ha=\"center\", va=\"center\",\n",
    "                    color=\"white\" if cm[i, j] > thresh else \"black\")\n",
    "    fig.tight_layout()\n",
    "    return ax"
   ]
  },
  {
   "cell_type": "code",
   "execution_count": 104,
   "id": "5f9e24ca",
   "metadata": {},
   "outputs": [
    {
     "name": "stdout",
     "output_type": "stream",
     "text": [
      "\n",
      "F1 Score: 65.16\n"
     ]
    },
    {
     "data": {
      "image/png": "[encoded data removed]",
      "text/plain": [
       "<Figure size 900x540 with 2 Axes>"
      ]
     },
     "metadata": {
      "needs_background": "light"
     },
     "output_type": "display_data"
    }
   ],
   "source": [
    "print(\"\\nF1 Score: {:.2f}\".format(f1_score(data_test.Emotion, predictions, average='micro') * 100))\n",
    "\n",
    "# Plot normalized confusion matrix\n",
    "plot_confusion_matrix(data_test.Emotion, predictions, classes=class_names, normalize=True, title='Normalized confusion matrix')\n",
    "plt.show()"
   ]
  },
  {
   "cell_type": "code",
   "execution_count": 105,
   "id": "8b08a452",
   "metadata": {},
   "outputs": [
    {
     "name": "stdout",
     "output_type": "stream",
     "text": [
      "Message: My boyfriend didn't turn up after promising that he was coming.\n",
      "Predicted: sadness\n"
     ]
    }
   ],
   "source": [
    "print('Message: {}\\nPredicted: {}'.format(X_test[4], predictions[4]))"
   ]
  },
  {
   "cell_type": "code",
   "execution_count": 106,
   "id": "568c215c",
   "metadata": {},
   "outputs": [
    {
     "name": "stdout",
     "output_type": "stream",
     "text": [
      "Message: ['delivery was hour late and my pizza was cold!']\n",
      "predicted: fear (0.10 seconds)\n"
     ]
    }
   ],
   "source": [
    "import time\n",
    "\n",
    "message = ['delivery was hour late and my pizza was cold!']\n",
    "\n",
    "seq = tokenizer.texts_to_sequences(message)\n",
    "padded = pad_sequences(seq, maxlen=MAX_LENGTH)\n",
    "\n",
    "start_time = time.time()\n",
    "pred = model.predict(padded)\n",
    "\n",
    "print('Message: ' + str(message))\n",
    "print('predicted: {} ({:.2f} seconds)'.format(class_names[np.argmax(pred)], (time.time() - start_time)))"
   ]
  },
  {
   "cell_type": "code",
   "execution_count": 108,
   "id": "40cc3fa2",
   "metadata": {},
   "outputs": [
    {
     "name": "stdout",
     "output_type": "stream",
     "text": [
      "Message: delivery was hour late and my pizza was cold!\n",
      "predicted: fear (0.97 seconds)\n",
      "Message: They seemed anxious and hesitant about leaving , as if uncertain of which direction to take .\n",
      "predicted: sadness (0.10 seconds)\n",
      "Message: Leading scorer Paul Wilkinson struck his 20th goal of the season against his former club but looked glum as he left the dressing room . \n",
      "predicted: sadness (0.10 seconds)\n"
     ]
    }
   ],
   "source": [
    "# from keras.models import \n",
    "from tensorflow.keras.models import load_model\n",
    "# model.load_weights('amar_cp_final.ckpt', compile=False)\n",
    "predictor = load_model('shub_lstm.h5')\n",
    "\n",
    "\n",
    "message_list = [['delivery was hour late and my pizza was cold!'],\n",
    "                ['They seemed anxious and hesitant about leaving , as if uncertain of which direction to take .'],\n",
    "                ['Leading scorer Paul Wilkinson struck his 20th goal of the season against his former club but looked glum as he left the dressing room . ']]\n",
    "\n",
    "for message in message_list:\n",
    "    seq = tokenizer.texts_to_sequences(message)\n",
    "    padded = pad_sequences(seq, maxlen=MAX_LENGTH)\n",
    "\n",
    "    start_time = time.time()\n",
    "    pred = predictor.predict(padded)\n",
    "\n",
    "    print('Message: ' + str(message[0]))\n",
    "    print('predicted: {} ({:.2f} seconds)'.format(class_names[np.argmax(pred)], (time.time() - start_time)))"
   ]
  },
  {
   "cell_type": "code",
   "execution_count": 109,
   "id": "d549b8d9",
   "metadata": {},
   "outputs": [
    {
     "name": "stdout",
     "output_type": "stream",
     "text": [
      "Message: I am happy today\n",
      "predicted: joy (0.10 seconds)\n"
     ]
    }
   ],
   "source": [
    "from tensorflow.keras.models import load_model\n",
    "# model.load_weights('amar_cp_final.ckpt', compile=False)\n",
    "# predictor = load_model('/content/amarnath_lstm.h5')\n",
    "\n",
    "\n",
    "message_list = [['I am happy today']]\n",
    "\n",
    "for message in message_list:\n",
    "    seq = tokenizer.texts_to_sequences(message)\n",
    "    padded = pad_sequences(seq, maxlen=MAX_LENGTH)\n",
    "\n",
    "    start_time = time.time()\n",
    "    pred = model.predict(padded)\n",
    "\n",
    "    print('Message: ' + str(message[0]))\n",
    "    print('predicted: {} ({:.2f} seconds)'.format(class_names[np.argmax(pred)], (time.time() - start_time)))"
   ]
  },
  {
   "cell_type": "code",
   "execution_count": 113,
   "id": "291c79c7",
   "metadata": {},
   "outputs": [
    {
     "name": "stdout",
     "output_type": "stream",
     "text": [
      "Downloading data from https://storage.googleapis.com/download.tensorflow.org/data/shakespeare.txt\n",
      "1122304/1115394 [==============================] - 3s 2us/step\n",
      "1130496/1115394 [==============================] - 3s 2us/step\n"
     ]
    }
   ],
   "source": [
    "path_to_file = keras.utils.data_utils.get_file('shakespeare.txt', 'https://storage.googleapis.com/download.tensorflow.org/data/shakespeare.txt')"
   ]
  },
  {
   "cell_type": "code",
   "execution_count": 114,
   "id": "9f537408",
   "metadata": {},
   "outputs": [
    {
     "name": "stdout",
     "output_type": "stream",
     "text": [
      "Length of text: 1115394 characters\n"
     ]
    }
   ],
   "source": [
    "# Read, then decode for py2 compat.\n",
    "text = open(path_to_file, 'rb').read().decode(encoding='utf-8')\n",
    "# length of text is the number of characters in it\n",
    "print(f'Length of text: {len(text)} characters')"
   ]
  },
  {
   "cell_type": "code",
   "execution_count": 115,
   "id": "7257239a",
   "metadata": {},
   "outputs": [
    {
     "name": "stdout",
     "output_type": "stream",
     "text": [
      "First Citizen:\n",
      "Before we proceed any further, hear me speak.\n",
      "\n",
      "All:\n",
      "Speak, speak.\n",
      "\n",
      "First Citizen:\n",
      "You are all resolved rather to die than to famish?\n",
      "\n",
      "All:\n",
      "Resolved. resolved.\n",
      "\n",
      "First Citizen:\n",
      "First, you know Caius Marcius is chief enemy to the people.\n",
      "\n",
      "A\n"
     ]
    }
   ],
   "source": [
    "print(text[:252])"
   ]
  },
  {
   "cell_type": "code",
   "execution_count": 116,
   "id": "099921c8",
   "metadata": {},
   "outputs": [
    {
     "name": "stdout",
     "output_type": "stream",
     "text": [
      "65 unique characters\n"
     ]
    }
   ],
   "source": [
    "vocab = sorted(set(text))\n",
    "print(f'{len(vocab)} unique characters')"
   ]
  },
  {
   "cell_type": "code",
   "execution_count": 123,
   "id": "d7d558b9",
   "metadata": {},
   "outputs": [],
   "source": [
    "from tensorflow.keras.layers.experimental import preprocessing\n",
    "ids_from_chars = preprocessing.StringLookup(\n",
    "    vocabulary=list(vocab), mask_token=None)"
   ]
  },
  {
   "cell_type": "code",
   "execution_count": 126,
   "id": "e92756ac",
   "metadata": {},
   "outputs": [
    {
     "data": {
      "text/plain": [
       "<tf.RaggedTensor [[b'a', b'b', b'c', b'd', b'e', b'f', b'g'], [b'x', b'y', b'z']]>"
      ]
     },
     "execution_count": 126,
     "metadata": {},
     "output_type": "execute_result"
    }
   ],
   "source": [
    "example_texts = ['abcdefg', 'xyz']\n",
    "\n",
    "chars = tf.strings.unicode_split(example_texts, input_encoding='UTF-8')\n",
    "chars"
   ]
  },
  {
   "cell_type": "code",
   "execution_count": 127,
   "id": "28bf1250",
   "metadata": {},
   "outputs": [
    {
     "data": {
      "text/plain": [
       "<tf.RaggedTensor [[40, 41, 42, 43, 44, 45, 46], [63, 64, 65]]>"
      ]
     },
     "execution_count": 127,
     "metadata": {},
     "output_type": "execute_result"
    }
   ],
   "source": [
    "ids = ids_from_chars(chars)\n",
    "ids"
   ]
  },
  {
   "cell_type": "code",
   "execution_count": 129,
   "id": "616d762e",
   "metadata": {},
   "outputs": [
    {
     "data": {
      "text/plain": [
       "<tf.RaggedTensor [[b'a', b'b', b'c', b'd', b'e', b'f', b'g'], [b'x', b'y', b'z']]>"
      ]
     },
     "execution_count": 129,
     "metadata": {},
     "output_type": "execute_result"
    }
   ],
   "source": [
    "chars_from_ids = tf.keras.layers.experimental.preprocessing.StringLookup(\n",
    "    vocabulary=ids_from_chars.get_vocabulary(), invert=True, mask_token=None)\n",
    "chars = chars_from_ids(ids)\n",
    "chars"
   ]
  },
  {
   "cell_type": "code",
   "execution_count": 130,
   "id": "752832fe",
   "metadata": {},
   "outputs": [
    {
     "data": {
      "text/plain": [
       "array([b'abcdefg', b'xyz'], dtype=object)"
      ]
     },
     "execution_count": 130,
     "metadata": {},
     "output_type": "execute_result"
    }
   ],
   "source": [
    "tf.strings.reduce_join(chars, axis=-1).numpy()"
   ]
  },
  {
   "cell_type": "code",
   "execution_count": 131,
   "id": "55f586b6",
   "metadata": {},
   "outputs": [],
   "source": [
    "def text_from_ids(ids):\n",
    "  return tf.strings.reduce_join(chars_from_ids(ids), axis=-1)"
   ]
  },
  {
   "cell_type": "code",
   "execution_count": 132,
   "id": "357b5b43",
   "metadata": {},
   "outputs": [
    {
     "data": {
      "text/plain": [
       "<tf.Tensor: shape=(1115394,), dtype=int64, numpy=array([19, 48, 57, ..., 46,  9,  1], dtype=int64)>"
      ]
     },
     "execution_count": 132,
     "metadata": {},
     "output_type": "execute_result"
    }
   ],
   "source": [
    "all_ids = ids_from_chars(tf.strings.unicode_split(text, 'UTF-8'))\n",
    "all_ids"
   ]
  },
  {
   "cell_type": "code",
   "execution_count": 133,
   "id": "173cd09a",
   "metadata": {},
   "outputs": [],
   "source": [
    "ids_dataset = tf.data.Dataset.from_tensor_slices(all_ids)"
   ]
  },
  {
   "cell_type": "code",
   "execution_count": 134,
   "id": "5c7154ee",
   "metadata": {},
   "outputs": [
    {
     "name": "stdout",
     "output_type": "stream",
     "text": [
      "F\n",
      "i\n",
      "r\n",
      "s\n",
      "t\n",
      " \n",
      "C\n",
      "i\n",
      "t\n",
      "i\n"
     ]
    }
   ],
   "source": [
    "for ids in ids_dataset.take(10):\n",
    "    print(chars_from_ids(ids).numpy().decode('utf-8'))"
   ]
  },
  {
   "cell_type": "code",
   "execution_count": 135,
   "id": "7cd157db",
   "metadata": {},
   "outputs": [],
   "source": [
    "seq_length = 100\n",
    "examples_per_epoch = len(text)//(seq_length+1)"
   ]
  },
  {
   "cell_type": "code",
   "execution_count": 136,
   "id": "ca63c522",
   "metadata": {},
   "outputs": [
    {
     "name": "stdout",
     "output_type": "stream",
     "text": [
      "tf.Tensor(\n",
      "[b'F' b'i' b'r' b's' b't' b' ' b'C' b'i' b't' b'i' b'z' b'e' b'n' b':'\n",
      " b'\\n' b'B' b'e' b'f' b'o' b'r' b'e' b' ' b'w' b'e' b' ' b'p' b'r' b'o'\n",
      " b'c' b'e' b'e' b'd' b' ' b'a' b'n' b'y' b' ' b'f' b'u' b'r' b't' b'h'\n",
      " b'e' b'r' b',' b' ' b'h' b'e' b'a' b'r' b' ' b'm' b'e' b' ' b's' b'p'\n",
      " b'e' b'a' b'k' b'.' b'\\n' b'\\n' b'A' b'l' b'l' b':' b'\\n' b'S' b'p' b'e'\n",
      " b'a' b'k' b',' b' ' b's' b'p' b'e' b'a' b'k' b'.' b'\\n' b'\\n' b'F' b'i'\n",
      " b'r' b's' b't' b' ' b'C' b'i' b't' b'i' b'z' b'e' b'n' b':' b'\\n' b'Y'\n",
      " b'o' b'u' b' '], shape=(101,), dtype=string)\n"
     ]
    }
   ],
   "source": [
    "sequences = ids_dataset.batch(seq_length+1, drop_remainder=True)\n",
    "\n",
    "for seq in sequences.take(1):\n",
    "  print(chars_from_ids(seq))"
   ]
  },
  {
   "cell_type": "code",
   "execution_count": 137,
   "id": "86866e21",
   "metadata": {},
   "outputs": [
    {
     "name": "stdout",
     "output_type": "stream",
     "text": [
      "b'First Citizen:\\nBefore we proceed any further, hear me speak.\\n\\nAll:\\nSpeak, speak.\\n\\nFirst Citizen:\\nYou '\n",
      "b'are all resolved rather to die than to famish?\\n\\nAll:\\nResolved. resolved.\\n\\nFirst Citizen:\\nFirst, you k'\n",
      "b\"now Caius Marcius is chief enemy to the people.\\n\\nAll:\\nWe know't, we know't.\\n\\nFirst Citizen:\\nLet us ki\"\n",
      "b\"ll him, and we'll have corn at our own price.\\nIs't a verdict?\\n\\nAll:\\nNo more talking on't; let it be d\"\n",
      "b'one: away, away!\\n\\nSecond Citizen:\\nOne word, good citizens.\\n\\nFirst Citizen:\\nWe are accounted poor citi'\n"
     ]
    }
   ],
   "source": [
    "for seq in sequences.take(5):\n",
    "  print(text_from_ids(seq).numpy())"
   ]
  },
  {
   "cell_type": "code",
   "execution_count": 138,
   "id": "2217a4bb",
   "metadata": {},
   "outputs": [],
   "source": [
    "def split_input_target(sequence):\n",
    "    input_text = sequence[:-1]\n",
    "    target_text = sequence[1:]\n",
    "    return input_text, target_text"
   ]
  },
  {
   "cell_type": "code",
   "execution_count": 139,
   "id": "43f1bd26",
   "metadata": {},
   "outputs": [
    {
     "data": {
      "text/plain": [
       "(['T', 'e', 'n', 's', 'o', 'r', 'f', 'l', 'o'],\n",
       " ['e', 'n', 's', 'o', 'r', 'f', 'l', 'o', 'w'])"
      ]
     },
     "execution_count": 139,
     "metadata": {},
     "output_type": "execute_result"
    }
   ],
   "source": [
    "split_input_target(list(\"Tensorflow\"))"
   ]
  },
  {
   "cell_type": "code",
   "execution_count": 140,
   "id": "cab09d9a",
   "metadata": {},
   "outputs": [],
   "source": [
    "dataset = sequences.map(split_input_target)"
   ]
  },
  {
   "cell_type": "code",
   "execution_count": 141,
   "id": "afd0b39e",
   "metadata": {},
   "outputs": [
    {
     "name": "stdout",
     "output_type": "stream",
     "text": [
      "Input : b'First Citizen:\\nBefore we proceed any further, hear me speak.\\n\\nAll:\\nSpeak, speak.\\n\\nFirst Citizen:\\nYou'\n",
      "Target: b'irst Citizen:\\nBefore we proceed any further, hear me speak.\\n\\nAll:\\nSpeak, speak.\\n\\nFirst Citizen:\\nYou '\n"
     ]
    }
   ],
   "source": [
    "for input_example, target_example in dataset.take(1):\n",
    "    print(\"Input :\", text_from_ids(input_example).numpy())\n",
    "    print(\"Target:\", text_from_ids(target_example).numpy())"
   ]
  },
  {
   "cell_type": "code",
   "execution_count": 142,
   "id": "4bfc5d68",
   "metadata": {},
   "outputs": [
    {
     "data": {
      "text/plain": [
       "<PrefetchDataset shapes: ((64, 100), (64, 100)), types: (tf.int64, tf.int64)>"
      ]
     },
     "execution_count": 142,
     "metadata": {},
     "output_type": "execute_result"
    }
   ],
   "source": [
    "# Batch size\n",
    "BATCH_SIZE = 64\n",
    "\n",
    "# Buffer size to shuffle the dataset\n",
    "# (TF data is designed to work with possibly infinite sequences,\n",
    "# so it doesn't attempt to shuffle the entire sequence in memory. Instead,\n",
    "# it maintains a buffer in which it shuffles elements).\n",
    "BUFFER_SIZE = 10000\n",
    "\n",
    "dataset = (\n",
    "    dataset\n",
    "    .shuffle(BUFFER_SIZE)\n",
    "    .batch(BATCH_SIZE, drop_remainder=True)\n",
    "    .prefetch(tf.data.experimental.AUTOTUNE))\n",
    "\n",
    "dataset"
   ]
  },
  {
   "cell_type": "code",
   "execution_count": 143,
   "id": "f8606643",
   "metadata": {},
   "outputs": [],
   "source": [
    "# Length of the vocabulary in chars\n",
    "vocab_size = len(vocab)\n",
    "\n",
    "# The embedding dimension\n",
    "embedding_dim = 256\n",
    "\n",
    "# Number of RNN units\n",
    "rnn_units = 1024"
   ]
  },
  {
   "cell_type": "code",
   "execution_count": 144,
   "id": "d9a84ab8",
   "metadata": {},
   "outputs": [],
   "source": [
    "class MyModel(tf.keras.Model):\n",
    "  def __init__(self, vocab_size, embedding_dim, rnn_units):\n",
    "    super().__init__(self)\n",
    "    self.embedding = tf.keras.layers.Embedding(vocab_size, embedding_dim)\n",
    "    self.gru = tf.keras.layers.GRU(rnn_units,\n",
    "                                   return_sequences=True,\n",
    "                                   return_state=True)\n",
    "    self.dense = tf.keras.layers.Dense(vocab_size)\n",
    "\n",
    "  def call(self, inputs, states=None, return_state=False, training=False):\n",
    "    x = inputs\n",
    "    x = self.embedding(x, training=training)\n",
    "    if states is None:\n",
    "      states = self.gru.get_initial_state(x)\n",
    "    x, states = self.gru(x, initial_state=states, training=training)\n",
    "    x = self.dense(x, training=training)\n",
    "\n",
    "    if return_state:\n",
    "      return x, states\n",
    "    else:\n",
    "      return x"
   ]
  },
  {
   "cell_type": "code",
   "execution_count": 145,
   "id": "6d1dc2e8",
   "metadata": {},
   "outputs": [],
   "source": [
    "model = MyModel(\n",
    "    # Be sure the vocabulary size matches the `StringLookup` layers.\n",
    "    vocab_size=len(ids_from_chars.get_vocabulary()),\n",
    "    embedding_dim=embedding_dim,\n",
    "    rnn_units=rnn_units)"
   ]
  },
  {
   "cell_type": "code",
   "execution_count": 146,
   "id": "ab7010e6",
   "metadata": {},
   "outputs": [
    {
     "name": "stdout",
     "output_type": "stream",
     "text": [
      "(64, 100, 66) # (batch_size, sequence_length, vocab_size)\n"
     ]
    }
   ],
   "source": [
    "for input_example_batch, target_example_batch in dataset.take(1):\n",
    "    example_batch_predictions = model(input_example_batch)\n",
    "    print(example_batch_predictions.shape, \"# (batch_size, sequence_length, vocab_size)\")"
   ]
  },
  {
   "cell_type": "code",
   "execution_count": 147,
   "id": "08de32e0",
   "metadata": {},
   "outputs": [
    {
     "name": "stdout",
     "output_type": "stream",
     "text": [
      "Model: \"my_model\"\n",
      "_________________________________________________________________\n",
      "Layer (type)                 Output Shape              Param #   \n",
      "=================================================================\n",
      "embedding_14 (Embedding)     multiple                  16896     \n",
      "_________________________________________________________________\n",
      "gru_1 (GRU)                  multiple                  3938304   \n",
      "_________________________________________________________________\n",
      "dense_29 (Dense)             multiple                  67650     \n",
      "=================================================================\n",
      "Total params: 4,022,850\n",
      "Trainable params: 4,022,850\n",
      "Non-trainable params: 0\n",
      "_________________________________________________________________\n"
     ]
    }
   ],
   "source": [
    "model.summary()"
   ]
  },
  {
   "cell_type": "code",
   "execution_count": 148,
   "id": "d0ec40b1",
   "metadata": {},
   "outputs": [
    {
     "data": {
      "text/plain": [
       "array([32, 26,  1, 32, 10, 15, 57, 60, 26, 12, 17,  9, 23, 47, 16, 18, 39,\n",
       "       21, 25, 16, 34, 22, 61, 17, 47, 65,  6, 61, 18, 26, 12, 19, 26,  0,\n",
       "       16, 10, 35, 28,  2, 16, 64, 43, 24, 13, 39, 11,  5, 55, 33, 41, 57,\n",
       "        7, 11, 56, 48, 17, 39, 54,  2, 28, 55, 19, 37, 44, 32, 28, 39, 40,\n",
       "       39, 61, 38, 15, 32, 10, 38, 54, 52, 15, 54, 15, 15, 57, 54, 34, 22,\n",
       "       53, 38, 59, 17,  2, 31, 16, 36,  7, 11, 62, 64, 52, 40, 55],\n",
       "      dtype=int64)"
      ]
     },
     "execution_count": 148,
     "metadata": {},
     "output_type": "execute_result"
    }
   ],
   "source": [
    "sampled_indices = tf.random.categorical(example_batch_predictions[0], num_samples=1)\n",
    "sampled_indices = tf.squeeze(sampled_indices, axis=-1).numpy()\n",
    "sampled_indices"
   ]
  },
  {
   "cell_type": "code",
   "execution_count": 149,
   "id": "bd7310bf",
   "metadata": {},
   "outputs": [
    {
     "name": "stdout",
     "output_type": "stream",
     "text": [
      "Input:\n",
      " b\"e a grief, so brief to part with thee: Farewell.\\n\\nCAPULET:\\nThings have fall'n out, sir, so unluckily\"\n",
      "\n",
      "Next Char Predictions:\n",
      " b\"SM\\nS3BruM;D.JhCEZHLCUIvDhz'vEM;FM[UNK]C3VO CydK?Z:&pTbr,:qiDZo OpFXeSOZaZvYBS3YomBoBBroUInYtD RCW,:wymap\"\n"
     ]
    }
   ],
   "source": [
    "print(\"Input:\\n\", text_from_ids(input_example_batch[0]).numpy())\n",
    "print()\n",
    "print(\"Next Char Predictions:\\n\", text_from_ids(sampled_indices).numpy())"
   ]
  },
  {
   "cell_type": "code",
   "execution_count": 150,
   "id": "d8d0b64b",
   "metadata": {},
   "outputs": [],
   "source": [
    "loss = tf.losses.SparseCategoricalCrossentropy(from_logits=True)"
   ]
  },
  {
   "cell_type": "code",
   "execution_count": 151,
   "id": "4bf3ae29",
   "metadata": {},
   "outputs": [
    {
     "name": "stdout",
     "output_type": "stream",
     "text": [
      "Prediction shape:  (64, 100, 66)  # (batch_size, sequence_length, vocab_size)\n",
      "Mean loss:         4.1895623\n"
     ]
    }
   ],
   "source": [
    "example_batch_loss = loss(target_example_batch, example_batch_predictions)\n",
    "mean_loss = example_batch_loss.numpy().mean()\n",
    "print(\"Prediction shape: \", example_batch_predictions.shape, \" # (batch_size, sequence_length, vocab_size)\")\n",
    "print(\"Mean loss:        \", mean_loss)"
   ]
  },
  {
   "cell_type": "code",
   "execution_count": 152,
   "id": "e465f56b",
   "metadata": {},
   "outputs": [],
   "source": [
    "model.compile(optimizer='adam', loss=loss)"
   ]
  },
  {
   "cell_type": "code",
   "execution_count": 154,
   "id": "f2f4f46b",
   "metadata": {},
   "outputs": [],
   "source": [
    "import os\n",
    "# Directory where the checkpoints will be saved\n",
    "checkpoint_dir = 'training_checkpoints'\n",
    "# Name of the checkpoint files\n",
    "checkpoint_prefix = os.path.join(checkpoint_dir, \"ckpt_{epoch}\")\n",
    "\n",
    "checkpoint_callback = tf.keras.callbacks.ModelCheckpoint(\n",
    "    filepath=checkpoint_prefix,\n",
    "    save_weights_only=True)"
   ]
  },
  {
   "cell_type": "code",
   "execution_count": 155,
   "id": "db97ae30",
   "metadata": {},
   "outputs": [
    {
     "name": "stdout",
     "output_type": "stream",
     "text": [
      "Epoch 1/20\n",
      "172/172 [==============================] - 462s 3s/step - loss: 2.7509\n",
      "Epoch 2/20\n",
      "172/172 [==============================] - 459s 3s/step - loss: 2.0027\n",
      "Epoch 3/20\n",
      "172/172 [==============================] - 462s 3s/step - loss: 1.7259\n",
      "Epoch 4/20\n",
      "172/172 [==============================] - 468s 3s/step - loss: 1.5605\n",
      "Epoch 5/20\n",
      "172/172 [==============================] - 469s 3s/step - loss: 1.4567\n",
      "Epoch 6/20\n",
      "172/172 [==============================] - 469s 3s/step - loss: 1.3871\n",
      "Epoch 7/20\n",
      "172/172 [==============================] - 451s 3s/step - loss: 1.3317\n",
      "Epoch 8/20\n",
      "150/172 [=========================>....] - ETA: 57s - loss: 1.2867 "
     ]
    },
    {
     "ename": "KeyboardInterrupt",
     "evalue": "",
     "output_type": "error",
     "traceback": [
      "\u001b[1;31m---------------------------------------------------------------------------\u001b[0m",
      "\u001b[1;31mKeyboardInterrupt\u001b[0m                         Traceback (most recent call last)",
      "\u001b[1;32m<ipython-input-155-7ccb3e647e62>\u001b[0m in \u001b[0;36m<module>\u001b[1;34m\u001b[0m\n\u001b[1;32m----> 1\u001b[1;33m \u001b[0mhistory\u001b[0m \u001b[1;33m=\u001b[0m \u001b[0mmodel\u001b[0m\u001b[1;33m.\u001b[0m\u001b[0mfit\u001b[0m\u001b[1;33m(\u001b[0m\u001b[0mdataset\u001b[0m\u001b[1;33m,\u001b[0m \u001b[0mepochs\u001b[0m\u001b[1;33m=\u001b[0m\u001b[1;36m20\u001b[0m\u001b[1;33m,\u001b[0m \u001b[0mcallbacks\u001b[0m\u001b[1;33m=\u001b[0m\u001b[1;33m[\u001b[0m\u001b[0mcheckpoint_callback\u001b[0m\u001b[1;33m]\u001b[0m\u001b[1;33m)\u001b[0m\u001b[1;33m\u001b[0m\u001b[1;33m\u001b[0m\u001b[0m\n\u001b[0m",
      "\u001b[1;32m~\\Anaconda3\\lib\\site-packages\\keras\\engine\\training.py\u001b[0m in \u001b[0;36mfit\u001b[1;34m(self, x, y, batch_size, epochs, verbose, callbacks, validation_split, validation_data, shuffle, class_weight, sample_weight, initial_epoch, steps_per_epoch, validation_steps, validation_batch_size, validation_freq, max_queue_size, workers, use_multiprocessing)\u001b[0m\n\u001b[0;32m   1182\u001b[0m                 _r=1):\n\u001b[0;32m   1183\u001b[0m               \u001b[0mcallbacks\u001b[0m\u001b[1;33m.\u001b[0m\u001b[0mon_train_batch_begin\u001b[0m\u001b[1;33m(\u001b[0m\u001b[0mstep\u001b[0m\u001b[1;33m)\u001b[0m\u001b[1;33m\u001b[0m\u001b[1;33m\u001b[0m\u001b[0m\n\u001b[1;32m-> 1184\u001b[1;33m               \u001b[0mtmp_logs\u001b[0m \u001b[1;33m=\u001b[0m \u001b[0mself\u001b[0m\u001b[1;33m.\u001b[0m\u001b[0mtrain_function\u001b[0m\u001b[1;33m(\u001b[0m\u001b[0miterator\u001b[0m\u001b[1;33m)\u001b[0m\u001b[1;33m\u001b[0m\u001b[1;33m\u001b[0m\u001b[0m\n\u001b[0m\u001b[0;32m   1185\u001b[0m               \u001b[1;32mif\u001b[0m \u001b[0mdata_handler\u001b[0m\u001b[1;33m.\u001b[0m\u001b[0mshould_sync\u001b[0m\u001b[1;33m:\u001b[0m\u001b[1;33m\u001b[0m\u001b[1;33m\u001b[0m\u001b[0m\n\u001b[0;32m   1186\u001b[0m                 \u001b[0mcontext\u001b[0m\u001b[1;33m.\u001b[0m\u001b[0masync_wait\u001b[0m\u001b[1;33m(\u001b[0m\u001b[1;33m)\u001b[0m\u001b[1;33m\u001b[0m\u001b[1;33m\u001b[0m\u001b[0m\n",
      "\u001b[1;32m~\\Anaconda3\\lib\\site-packages\\tensorflow\\python\\eager\\def_function.py\u001b[0m in \u001b[0;36m__call__\u001b[1;34m(self, *args, **kwds)\u001b[0m\n\u001b[0;32m    883\u001b[0m \u001b[1;33m\u001b[0m\u001b[0m\n\u001b[0;32m    884\u001b[0m       \u001b[1;32mwith\u001b[0m \u001b[0mOptionalXlaContext\u001b[0m\u001b[1;33m(\u001b[0m\u001b[0mself\u001b[0m\u001b[1;33m.\u001b[0m\u001b[0m_jit_compile\u001b[0m\u001b[1;33m)\u001b[0m\u001b[1;33m:\u001b[0m\u001b[1;33m\u001b[0m\u001b[1;33m\u001b[0m\u001b[0m\n\u001b[1;32m--> 885\u001b[1;33m         \u001b[0mresult\u001b[0m \u001b[1;33m=\u001b[0m \u001b[0mself\u001b[0m\u001b[1;33m.\u001b[0m\u001b[0m_call\u001b[0m\u001b[1;33m(\u001b[0m\u001b[1;33m*\u001b[0m\u001b[0margs\u001b[0m\u001b[1;33m,\u001b[0m \u001b[1;33m**\u001b[0m\u001b[0mkwds\u001b[0m\u001b[1;33m)\u001b[0m\u001b[1;33m\u001b[0m\u001b[1;33m\u001b[0m\u001b[0m\n\u001b[0m\u001b[0;32m    886\u001b[0m \u001b[1;33m\u001b[0m\u001b[0m\n\u001b[0;32m    887\u001b[0m       \u001b[0mnew_tracing_count\u001b[0m \u001b[1;33m=\u001b[0m \u001b[0mself\u001b[0m\u001b[1;33m.\u001b[0m\u001b[0mexperimental_get_tracing_count\u001b[0m\u001b[1;33m(\u001b[0m\u001b[1;33m)\u001b[0m\u001b[1;33m\u001b[0m\u001b[1;33m\u001b[0m\u001b[0m\n",
      "\u001b[1;32m~\\Anaconda3\\lib\\site-packages\\tensorflow\\python\\eager\\def_function.py\u001b[0m in \u001b[0;36m_call\u001b[1;34m(self, *args, **kwds)\u001b[0m\n\u001b[0;32m    915\u001b[0m       \u001b[1;31m# In this case we have created variables on the first call, so we run the\u001b[0m\u001b[1;33m\u001b[0m\u001b[1;33m\u001b[0m\u001b[1;33m\u001b[0m\u001b[0m\n\u001b[0;32m    916\u001b[0m       \u001b[1;31m# defunned version which is guaranteed to never create variables.\u001b[0m\u001b[1;33m\u001b[0m\u001b[1;33m\u001b[0m\u001b[1;33m\u001b[0m\u001b[0m\n\u001b[1;32m--> 917\u001b[1;33m       \u001b[1;32mreturn\u001b[0m \u001b[0mself\u001b[0m\u001b[1;33m.\u001b[0m\u001b[0m_stateless_fn\u001b[0m\u001b[1;33m(\u001b[0m\u001b[1;33m*\u001b[0m\u001b[0margs\u001b[0m\u001b[1;33m,\u001b[0m \u001b[1;33m**\u001b[0m\u001b[0mkwds\u001b[0m\u001b[1;33m)\u001b[0m  \u001b[1;31m# pylint: disable=not-callable\u001b[0m\u001b[1;33m\u001b[0m\u001b[1;33m\u001b[0m\u001b[0m\n\u001b[0m\u001b[0;32m    918\u001b[0m     \u001b[1;32melif\u001b[0m \u001b[0mself\u001b[0m\u001b[1;33m.\u001b[0m\u001b[0m_stateful_fn\u001b[0m \u001b[1;32mis\u001b[0m \u001b[1;32mnot\u001b[0m \u001b[1;32mNone\u001b[0m\u001b[1;33m:\u001b[0m\u001b[1;33m\u001b[0m\u001b[1;33m\u001b[0m\u001b[0m\n\u001b[0;32m    919\u001b[0m       \u001b[1;31m# Release the lock early so that multiple threads can perform the call\u001b[0m\u001b[1;33m\u001b[0m\u001b[1;33m\u001b[0m\u001b[1;33m\u001b[0m\u001b[0m\n",
      "\u001b[1;32m~\\Anaconda3\\lib\\site-packages\\tensorflow\\python\\eager\\function.py\u001b[0m in \u001b[0;36m__call__\u001b[1;34m(self, *args, **kwargs)\u001b[0m\n\u001b[0;32m   3037\u001b[0m       (graph_function,\n\u001b[0;32m   3038\u001b[0m        filtered_flat_args) = self._maybe_define_function(args, kwargs)\n\u001b[1;32m-> 3039\u001b[1;33m     return graph_function._call_flat(\n\u001b[0m\u001b[0;32m   3040\u001b[0m         filtered_flat_args, captured_inputs=graph_function.captured_inputs)  # pylint: disable=protected-access\n\u001b[0;32m   3041\u001b[0m \u001b[1;33m\u001b[0m\u001b[0m\n",
      "\u001b[1;32m~\\Anaconda3\\lib\\site-packages\\tensorflow\\python\\eager\\function.py\u001b[0m in \u001b[0;36m_call_flat\u001b[1;34m(self, args, captured_inputs, cancellation_manager)\u001b[0m\n\u001b[0;32m   1961\u001b[0m         and executing_eagerly):\n\u001b[0;32m   1962\u001b[0m       \u001b[1;31m# No tape is watching; skip to running the function.\u001b[0m\u001b[1;33m\u001b[0m\u001b[1;33m\u001b[0m\u001b[1;33m\u001b[0m\u001b[0m\n\u001b[1;32m-> 1963\u001b[1;33m       return self._build_call_outputs(self._inference_function.call(\n\u001b[0m\u001b[0;32m   1964\u001b[0m           ctx, args, cancellation_manager=cancellation_manager))\n\u001b[0;32m   1965\u001b[0m     forward_backward = self._select_forward_and_backward_functions(\n",
      "\u001b[1;32m~\\Anaconda3\\lib\\site-packages\\tensorflow\\python\\eager\\function.py\u001b[0m in \u001b[0;36mcall\u001b[1;34m(self, ctx, args, cancellation_manager)\u001b[0m\n\u001b[0;32m    589\u001b[0m       \u001b[1;32mwith\u001b[0m \u001b[0m_InterpolateFunctionError\u001b[0m\u001b[1;33m(\u001b[0m\u001b[0mself\u001b[0m\u001b[1;33m)\u001b[0m\u001b[1;33m:\u001b[0m\u001b[1;33m\u001b[0m\u001b[1;33m\u001b[0m\u001b[0m\n\u001b[0;32m    590\u001b[0m         \u001b[1;32mif\u001b[0m \u001b[0mcancellation_manager\u001b[0m \u001b[1;32mis\u001b[0m \u001b[1;32mNone\u001b[0m\u001b[1;33m:\u001b[0m\u001b[1;33m\u001b[0m\u001b[1;33m\u001b[0m\u001b[0m\n\u001b[1;32m--> 591\u001b[1;33m           outputs = execute.execute(\n\u001b[0m\u001b[0;32m    592\u001b[0m               \u001b[0mstr\u001b[0m\u001b[1;33m(\u001b[0m\u001b[0mself\u001b[0m\u001b[1;33m.\u001b[0m\u001b[0msignature\u001b[0m\u001b[1;33m.\u001b[0m\u001b[0mname\u001b[0m\u001b[1;33m)\u001b[0m\u001b[1;33m,\u001b[0m\u001b[1;33m\u001b[0m\u001b[1;33m\u001b[0m\u001b[0m\n\u001b[0;32m    593\u001b[0m               \u001b[0mnum_outputs\u001b[0m\u001b[1;33m=\u001b[0m\u001b[0mself\u001b[0m\u001b[1;33m.\u001b[0m\u001b[0m_num_outputs\u001b[0m\u001b[1;33m,\u001b[0m\u001b[1;33m\u001b[0m\u001b[1;33m\u001b[0m\u001b[0m\n",
      "\u001b[1;32m~\\Anaconda3\\lib\\site-packages\\tensorflow\\python\\eager\\execute.py\u001b[0m in \u001b[0;36mquick_execute\u001b[1;34m(op_name, num_outputs, inputs, attrs, ctx, name)\u001b[0m\n\u001b[0;32m     57\u001b[0m   \u001b[1;32mtry\u001b[0m\u001b[1;33m:\u001b[0m\u001b[1;33m\u001b[0m\u001b[1;33m\u001b[0m\u001b[0m\n\u001b[0;32m     58\u001b[0m     \u001b[0mctx\u001b[0m\u001b[1;33m.\u001b[0m\u001b[0mensure_initialized\u001b[0m\u001b[1;33m(\u001b[0m\u001b[1;33m)\u001b[0m\u001b[1;33m\u001b[0m\u001b[1;33m\u001b[0m\u001b[0m\n\u001b[1;32m---> 59\u001b[1;33m     tensors = pywrap_tfe.TFE_Py_Execute(ctx._handle, device_name, op_name,\n\u001b[0m\u001b[0;32m     60\u001b[0m                                         inputs, attrs, num_outputs)\n\u001b[0;32m     61\u001b[0m   \u001b[1;32mexcept\u001b[0m \u001b[0mcore\u001b[0m\u001b[1;33m.\u001b[0m\u001b[0m_NotOkStatusException\u001b[0m \u001b[1;32mas\u001b[0m \u001b[0me\u001b[0m\u001b[1;33m:\u001b[0m\u001b[1;33m\u001b[0m\u001b[1;33m\u001b[0m\u001b[0m\n",
      "\u001b[1;31mKeyboardInterrupt\u001b[0m: "
     ]
    }
   ],
   "source": [
    "history = model.fit(dataset, epochs=20, callbacks=[checkpoint_callback])"
   ]
  }
 ],
 "metadata": {
  "kernelspec": {
   "display_name": "Python 3",
   "language": "python",
   "name": "python3"
  },
  "language_info": {
   "codemirror_mode": {
    "name": "ipython",
    "version": 3
   },
   "file_extension": ".py",
   "mimetype": "text/x-python",
   "name": "python",
   "nbconvert_exporter": "python",
   "pygments_lexer": "ipython3",
   "version": "3.8.5"
  }
 },
 "nbformat": 4,
 "nbformat_minor": 5
}
