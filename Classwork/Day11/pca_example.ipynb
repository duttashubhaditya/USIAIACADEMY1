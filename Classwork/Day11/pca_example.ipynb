{
 "cells": [
  {
   "cell_type": "code",
   "execution_count": 1,
   "metadata": {},
   "outputs": [],
   "source": [
    "x = [1, 2, 4, 6, 12, 15, 25, 25, 68, 67, 64, 98]"
   ]
  },
  {
   "cell_type": "code",
   "execution_count": 2,
   "metadata": {},
   "outputs": [],
   "source": [
    "import numpy as np"
   ]
  },
  {
   "cell_type": "code",
   "execution_count": 3,
   "metadata": {},
   "outputs": [
    {
     "data": {
      "text/plain": [
       "32.25"
      ]
     },
     "execution_count": 3,
     "metadata": {},
     "output_type": "execute_result"
    }
   ],
   "source": [
    "np.mean(x)"
   ]
  },
  {
   "cell_type": "code",
   "execution_count": 4,
   "metadata": {},
   "outputs": [
    {
     "data": {
      "text/plain": [
       "31.63364506344471"
      ]
     },
     "execution_count": 4,
     "metadata": {},
     "output_type": "execute_result"
    }
   ],
   "source": [
    "np.std(x)"
   ]
  },
  {
   "cell_type": "code",
   "execution_count": 6,
   "metadata": {},
   "outputs": [],
   "source": [
    "x = [12, 23, 34, 44, 59, 70, 98]"
   ]
  },
  {
   "cell_type": "code",
   "execution_count": 7,
   "metadata": {},
   "outputs": [
    {
     "data": {
      "text/plain": [
       "48.57142857142857"
      ]
     },
     "execution_count": 7,
     "metadata": {},
     "output_type": "execute_result"
    }
   ],
   "source": [
    "np.mean(x)"
   ]
  },
  {
   "cell_type": "code",
   "execution_count": 8,
   "metadata": {},
   "outputs": [
    {
     "data": {
      "text/plain": [
       "27.348842455823785"
      ]
     },
     "execution_count": 8,
     "metadata": {},
     "output_type": "execute_result"
    }
   ],
   "source": [
    "np.std(x)"
   ]
  },
  {
   "cell_type": "code",
   "execution_count": 9,
   "metadata": {},
   "outputs": [
    {
     "data": {
      "text/plain": [
       "747.9591836734695"
      ]
     },
     "execution_count": 9,
     "metadata": {},
     "output_type": "execute_result"
    }
   ],
   "source": [
    "np.var(x)"
   ]
  },
  {
   "cell_type": "code",
   "execution_count": null,
   "metadata": {},
   "outputs": [],
   "source": [
    "# A single dimension\n",
    "# Mean\n",
    "# Standard Deviation\n",
    "# Variance\n"
   ]
  },
  {
   "cell_type": "code",
   "execution_count": null,
   "metadata": {},
   "outputs": [],
   "source": [
    "# Two variables (X and Y)\n",
    "# Covariance\n"
   ]
  },
  {
   "cell_type": "code",
   "execution_count": 10,
   "metadata": {},
   "outputs": [],
   "source": [
    "f1 = [9,15,25,14,10,18,0,16,5,19,16,20]\n",
    "\n",
    "f2 = [39,56,93,61,50,75,32,85,42,70,66,80]"
   ]
  },
  {
   "cell_type": "code",
   "execution_count": 12,
   "metadata": {},
   "outputs": [],
   "source": [
    "\n",
    "f1_mean = np.mean(f1)\n",
    "f2_mean = np.mean(f2)"
   ]
  },
  {
   "cell_type": "code",
   "execution_count": 13,
   "metadata": {},
   "outputs": [
    {
     "data": {
      "text/plain": [
       "13.916666666666666"
      ]
     },
     "execution_count": 13,
     "metadata": {},
     "output_type": "execute_result"
    }
   ],
   "source": [
    "f1_mean"
   ]
  },
  {
   "cell_type": "code",
   "execution_count": 14,
   "metadata": {},
   "outputs": [
    {
     "data": {
      "text/plain": [
       "62.416666666666664"
      ]
     },
     "execution_count": 14,
     "metadata": {},
     "output_type": "execute_result"
    }
   ],
   "source": [
    "f2_mean"
   ]
  },
  {
   "cell_type": "code",
   "execution_count": 26,
   "metadata": {},
   "outputs": [
    {
     "name": "stdout",
     "output_type": "stream",
     "text": [
      "1352.4166666666667\n",
      "112.7013888888889\n"
     ]
    }
   ],
   "source": [
    "val = 0\n",
    "for i in range(len(f1)):\n",
    "    val += (f1[i] - f1_mean)*(f2[i] - f2_mean)\n",
    "print(val)\n",
    "avg = val/len(f1)\n",
    "print(avg)"
   ]
  },
  {
   "cell_type": "code",
   "execution_count": null,
   "metadata": {},
   "outputs": [],
   "source": [
    "# Covarience between two features F1 and F2\n",
    "\n",
    "112"
   ]
  },
  {
   "cell_type": "code",
   "execution_count": null,
   "metadata": {},
   "outputs": [],
   "source": [
    "\n",
    "# Multiple features\n",
    "\n",
    "f1 f2 f3 f4 .....\n",
    "\n",
    "\n",
    "cov_matix  =  \n",
    "\n",
    "(f1, f1)    (f1, f2)     (f1, f3)    (f1, f4)\n",
    "(f2, f1)    (f2, f2)     (f2, f3)    (f2, f4)\n",
    "(f3, f1)    (f3, f2)     (f3, f3)    (f3, f4)\n",
    "(f4, f1)    (f4, f2)     (f4, f3)    (f4, f4)\n",
    "\n",
    "    "
   ]
  },
  {
   "cell_type": "code",
   "execution_count": 37,
   "metadata": {},
   "outputs": [],
   "source": [
    "f1 = [1, -1, 4]\n",
    "f2 = [2, 1, 3]\n",
    "f3 = [1, 3, -1]"
   ]
  },
  {
   "cell_type": "code",
   "execution_count": 38,
   "metadata": {},
   "outputs": [
    {
     "data": {
      "text/plain": [
       "[1, -1, 4]"
      ]
     },
     "execution_count": 38,
     "metadata": {},
     "output_type": "execute_result"
    }
   ],
   "source": [
    "f1"
   ]
  },
  {
   "cell_type": "code",
   "execution_count": 39,
   "metadata": {},
   "outputs": [
    {
     "data": {
      "text/plain": [
       "[2, 1, 3]"
      ]
     },
     "execution_count": 39,
     "metadata": {},
     "output_type": "execute_result"
    }
   ],
   "source": [
    "f2"
   ]
  },
  {
   "cell_type": "code",
   "execution_count": 40,
   "metadata": {},
   "outputs": [
    {
     "data": {
      "text/plain": [
       "[1, 3, -1]"
      ]
     },
     "execution_count": 40,
     "metadata": {},
     "output_type": "execute_result"
    }
   ],
   "source": [
    "f3"
   ]
  },
  {
   "cell_type": "code",
   "execution_count": 44,
   "metadata": {},
   "outputs": [],
   "source": [
    "f1_mean = np.mean(f1)\n",
    "f2_mean = np.mean(f2)\n",
    "f3_mean = np.mean(f3)"
   ]
  },
  {
   "cell_type": "code",
   "execution_count": 46,
   "metadata": {},
   "outputs": [
    {
     "name": "stdout",
     "output_type": "stream",
     "text": [
      "4.222222222222222\n"
     ]
    }
   ],
   "source": [
    "val = 0\n",
    "for i in range(len(f1)):\n",
    "    val += (f1[i] - f1_mean)*(f1[i] - f1_mean)\n",
    "# print(val)\n",
    "f1_f1_cov = val/len(f1)\n",
    "print(f1_f1_cov)"
   ]
  },
  {
   "cell_type": "code",
   "execution_count": 48,
   "metadata": {},
   "outputs": [
    {
     "name": "stdout",
     "output_type": "stream",
     "text": [
      "1.6666666666666667\n"
     ]
    }
   ],
   "source": [
    "val = 0\n",
    "for i in range(len(f1)):\n",
    "    val += (f1[i] - f1_mean)*(f2[i] - f2_mean)\n",
    "# print(val)\n",
    "f1_f2_cov = val/len(f1)\n",
    "print(f1_f2_cov)"
   ]
  },
  {
   "cell_type": "code",
   "execution_count": 49,
   "metadata": {},
   "outputs": [
    {
     "name": "stdout",
     "output_type": "stream",
     "text": [
      "-3.3333333333333335\n"
     ]
    }
   ],
   "source": [
    "val = 0\n",
    "for i in range(len(f1)):\n",
    "    val += (f1[i] - f1_mean)*(f3[i] - f3_mean)\n",
    "# print(val)\n",
    "f1_f3_cov = val/len(f1)\n",
    "print(f1_f3_cov)"
   ]
  },
  {
   "cell_type": "code",
   "execution_count": 50,
   "metadata": {},
   "outputs": [
    {
     "name": "stdout",
     "output_type": "stream",
     "text": [
      "1.6666666666666667\n"
     ]
    }
   ],
   "source": [
    "val = 0\n",
    "for i in range(len(f1)):\n",
    "    val += (f2[i] - f2_mean)*(f1[i] - f1_mean)\n",
    "# print(val)\n",
    "f2_f1_cov = val/len(f1)\n",
    "print(f2_f1_cov)"
   ]
  },
  {
   "cell_type": "code",
   "execution_count": 51,
   "metadata": {},
   "outputs": [
    {
     "name": "stdout",
     "output_type": "stream",
     "text": [
      "0.6666666666666666\n"
     ]
    }
   ],
   "source": [
    "val = 0\n",
    "for i in range(len(f1)):\n",
    "    val += (f2[i] - f2_mean)*(f2[i] - f2_mean)\n",
    "# print(val)\n",
    "f2_f2_cov = val/len(f1)\n",
    "print(f2_f2_cov)"
   ]
  },
  {
   "cell_type": "code",
   "execution_count": 52,
   "metadata": {},
   "outputs": [
    {
     "name": "stdout",
     "output_type": "stream",
     "text": [
      "-1.3333333333333333\n"
     ]
    }
   ],
   "source": [
    "val = 0\n",
    "for i in range(len(f1)):\n",
    "    val += (f2[i] - f2_mean)*(f3[i] - f3_mean)\n",
    "# print(val)\n",
    "f2_f3_cov = val/len(f1)\n",
    "print(f2_f3_cov)"
   ]
  },
  {
   "cell_type": "code",
   "execution_count": 53,
   "metadata": {},
   "outputs": [
    {
     "name": "stdout",
     "output_type": "stream",
     "text": [
      "-3.3333333333333335\n"
     ]
    }
   ],
   "source": [
    "val = 0\n",
    "for i in range(len(f1)):\n",
    "    val += (f3[i] - f3_mean)*(f1[i] - f1_mean)\n",
    "# print(val)\n",
    "f3_f1_cov = val/len(f1)\n",
    "print(f3_f1_cov)"
   ]
  },
  {
   "cell_type": "code",
   "execution_count": 54,
   "metadata": {},
   "outputs": [
    {
     "name": "stdout",
     "output_type": "stream",
     "text": [
      "-1.3333333333333333\n"
     ]
    }
   ],
   "source": [
    "val = 0\n",
    "for i in range(len(f1)):\n",
    "    val += (f3[i] - f3_mean)*(f2[i] - f2_mean)\n",
    "# print(val)\n",
    "f3_f2_cov = val/len(f2)\n",
    "print(f3_f2_cov)"
   ]
  },
  {
   "cell_type": "code",
   "execution_count": 55,
   "metadata": {},
   "outputs": [
    {
     "name": "stdout",
     "output_type": "stream",
     "text": [
      "2.6666666666666665\n"
     ]
    }
   ],
   "source": [
    "val = 0\n",
    "for i in range(len(f1)):\n",
    "    val += (f3[i] - f3_mean)*(f3[i] - f3_mean)\n",
    "# print(val)\n",
    "f3_f3_cov = val/len(f3)\n",
    "print(f3_f3_cov)"
   ]
  },
  {
   "cell_type": "code",
   "execution_count": 60,
   "metadata": {},
   "outputs": [],
   "source": [
    "cov_mat = [[f1_f1_cov, f1_f2_cov, f1_f3_cov], [f2_f1_cov, f2_f2_cov, f2_f3_cov], [f3_f1_cov, f3_f2_cov, f3_f3_cov]]"
   ]
  },
  {
   "cell_type": "code",
   "execution_count": 61,
   "metadata": {},
   "outputs": [
    {
     "data": {
      "text/plain": [
       "[[4.222222222222222, 1.6666666666666667, -3.3333333333333335],\n",
       " [1.6666666666666667, 0.6666666666666666, -1.3333333333333333],\n",
       " [-3.3333333333333335, -1.3333333333333333, 2.6666666666666665]]"
      ]
     },
     "execution_count": 61,
     "metadata": {},
     "output_type": "execute_result"
    }
   ],
   "source": [
    "cov_mat"
   ]
  },
  {
   "cell_type": "code",
   "execution_count": null,
   "metadata": {},
   "outputs": [],
   "source": []
  }
 ],
 "metadata": {
  "kernelspec": {
   "display_name": "Python 3",
   "language": "python",
   "name": "python3"
  },
  "language_info": {
   "codemirror_mode": {
    "name": "ipython",
    "version": 3
   },
   "file_extension": ".py",
   "mimetype": "text/x-python",
   "name": "python",
   "nbconvert_exporter": "python",
   "pygments_lexer": "ipython3",
   "version": "3.8.5"
  }
 },
 "nbformat": 4,
 "nbformat_minor": 4
}
