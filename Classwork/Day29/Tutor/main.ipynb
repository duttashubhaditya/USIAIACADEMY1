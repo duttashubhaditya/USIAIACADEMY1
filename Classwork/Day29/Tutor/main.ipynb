{
 "cells": [
  {
   "cell_type": "code",
   "execution_count": 1,
   "metadata": {},
   "outputs": [
    {
     "name": "stderr",
     "output_type": "stream",
     "text": [
      "In /home/amarnath/.local/lib/python3.6/site-packages/matplotlib/mpl-data/stylelib/_classic_test.mplstyle: \n",
      "The text.latex.preview rcparam was deprecated in Matplotlib 3.3 and will be removed two minor releases later.\n",
      "In /home/amarnath/.local/lib/python3.6/site-packages/matplotlib/mpl-data/stylelib/_classic_test.mplstyle: \n",
      "The mathtext.fallback_to_cm rcparam was deprecated in Matplotlib 3.3 and will be removed two minor releases later.\n",
      "In /home/amarnath/.local/lib/python3.6/site-packages/matplotlib/mpl-data/stylelib/_classic_test.mplstyle: Support for setting the 'mathtext.fallback_to_cm' rcParam is deprecated since 3.3 and will be removed two minor releases later; use 'mathtext.fallback : 'cm' instead.\n",
      "In /home/amarnath/.local/lib/python3.6/site-packages/matplotlib/mpl-data/stylelib/_classic_test.mplstyle: \n",
      "The validate_bool_maybe_none function was deprecated in Matplotlib 3.3 and will be removed two minor releases later.\n",
      "In /home/amarnath/.local/lib/python3.6/site-packages/matplotlib/mpl-data/stylelib/_classic_test.mplstyle: \n",
      "The savefig.jpeg_quality rcparam was deprecated in Matplotlib 3.3 and will be removed two minor releases later.\n",
      "In /home/amarnath/.local/lib/python3.6/site-packages/matplotlib/mpl-data/stylelib/_classic_test.mplstyle: \n",
      "The keymap.all_axes rcparam was deprecated in Matplotlib 3.3 and will be removed two minor releases later.\n",
      "In /home/amarnath/.local/lib/python3.6/site-packages/matplotlib/mpl-data/stylelib/_classic_test.mplstyle: \n",
      "The animation.avconv_path rcparam was deprecated in Matplotlib 3.3 and will be removed two minor releases later.\n",
      "In /home/amarnath/.local/lib/python3.6/site-packages/matplotlib/mpl-data/stylelib/_classic_test.mplstyle: \n",
      "The animation.avconv_args rcparam was deprecated in Matplotlib 3.3 and will be removed two minor releases later.\n",
      "Using TensorFlow backend.\n",
      "/usr/local/lib/python3.6/dist-packages/tensorflow/python/framework/dtypes.py:516: FutureWarning: Passing (type, 1) or '1type' as a synonym of type is deprecated; in a future version of numpy, it will be understood as (type, (1,)) / '(1,)type'.\n",
      "  _np_qint8 = np.dtype([(\"qint8\", np.int8, 1)])\n",
      "/usr/local/lib/python3.6/dist-packages/tensorflow/python/framework/dtypes.py:517: FutureWarning: Passing (type, 1) or '1type' as a synonym of type is deprecated; in a future version of numpy, it will be understood as (type, (1,)) / '(1,)type'.\n",
      "  _np_quint8 = np.dtype([(\"quint8\", np.uint8, 1)])\n",
      "/usr/local/lib/python3.6/dist-packages/tensorflow/python/framework/dtypes.py:518: FutureWarning: Passing (type, 1) or '1type' as a synonym of type is deprecated; in a future version of numpy, it will be understood as (type, (1,)) / '(1,)type'.\n",
      "  _np_qint16 = np.dtype([(\"qint16\", np.int16, 1)])\n",
      "/usr/local/lib/python3.6/dist-packages/tensorflow/python/framework/dtypes.py:519: FutureWarning: Passing (type, 1) or '1type' as a synonym of type is deprecated; in a future version of numpy, it will be understood as (type, (1,)) / '(1,)type'.\n",
      "  _np_quint16 = np.dtype([(\"quint16\", np.uint16, 1)])\n",
      "/usr/local/lib/python3.6/dist-packages/tensorflow/python/framework/dtypes.py:520: FutureWarning: Passing (type, 1) or '1type' as a synonym of type is deprecated; in a future version of numpy, it will be understood as (type, (1,)) / '(1,)type'.\n",
      "  _np_qint32 = np.dtype([(\"qint32\", np.int32, 1)])\n",
      "/usr/local/lib/python3.6/dist-packages/tensorflow/python/framework/dtypes.py:525: FutureWarning: Passing (type, 1) or '1type' as a synonym of type is deprecated; in a future version of numpy, it will be understood as (type, (1,)) / '(1,)type'.\n",
      "  np_resource = np.dtype([(\"resource\", np.ubyte, 1)])\n",
      "/home/amarnath/.local/lib/python3.6/site-packages/tensorboard/compat/tensorflow_stub/dtypes.py:541: FutureWarning: Passing (type, 1) or '1type' as a synonym of type is deprecated; in a future version of numpy, it will be understood as (type, (1,)) / '(1,)type'.\n",
      "  _np_qint8 = np.dtype([(\"qint8\", np.int8, 1)])\n",
      "/home/amarnath/.local/lib/python3.6/site-packages/tensorboard/compat/tensorflow_stub/dtypes.py:542: FutureWarning: Passing (type, 1) or '1type' as a synonym of type is deprecated; in a future version of numpy, it will be understood as (type, (1,)) / '(1,)type'.\n",
      "  _np_quint8 = np.dtype([(\"quint8\", np.uint8, 1)])\n",
      "/home/amarnath/.local/lib/python3.6/site-packages/tensorboard/compat/tensorflow_stub/dtypes.py:543: FutureWarning: Passing (type, 1) or '1type' as a synonym of type is deprecated; in a future version of numpy, it will be understood as (type, (1,)) / '(1,)type'.\n",
      "  _np_qint16 = np.dtype([(\"qint16\", np.int16, 1)])\n",
      "/home/amarnath/.local/lib/python3.6/site-packages/tensorboard/compat/tensorflow_stub/dtypes.py:544: FutureWarning: Passing (type, 1) or '1type' as a synonym of type is deprecated; in a future version of numpy, it will be understood as (type, (1,)) / '(1,)type'.\n",
      "  _np_quint16 = np.dtype([(\"quint16\", np.uint16, 1)])\n",
      "/home/amarnath/.local/lib/python3.6/site-packages/tensorboard/compat/tensorflow_stub/dtypes.py:545: FutureWarning: Passing (type, 1) or '1type' as a synonym of type is deprecated; in a future version of numpy, it will be understood as (type, (1,)) / '(1,)type'.\n",
      "  _np_qint32 = np.dtype([(\"qint32\", np.int32, 1)])\n",
      "/home/amarnath/.local/lib/python3.6/site-packages/tensorboard/compat/tensorflow_stub/dtypes.py:550: FutureWarning: Passing (type, 1) or '1type' as a synonym of type is deprecated; in a future version of numpy, it will be understood as (type, (1,)) / '(1,)type'.\n",
      "  np_resource = np.dtype([(\"resource\", np.ubyte, 1)])\n"
     ]
    }
   ],
   "source": [
    "import pandas as pd\n",
    "import numpy as np\n",
    "\n",
    "# text preprocessing\n",
    "from nltk.tokenize import word_tokenize\n",
    "import re\n",
    "\n",
    "# plots and metrics\n",
    "import matplotlib.pyplot as plt\n",
    "from sklearn.metrics import accuracy_score, f1_score, confusion_matrix\n",
    "\n",
    "# preparing input to our model\n",
    "from keras.preprocessing.text import Tokenizer\n",
    "from keras.preprocessing.sequence import pad_sequences\n",
    "from keras.utils import to_categorical\n",
    "\n",
    "# keras layers\n",
    "from keras.models import Sequential\n",
    "from keras.layers import Embedding, Bidirectional, LSTM, GRU, Dense"
   ]
  },
  {
   "cell_type": "code",
   "execution_count": 2,
   "metadata": {},
   "outputs": [],
   "source": [
    "\n",
    "class_names = ['joy', 'fear', 'anger', 'sadness', 'neutral']"
   ]
  },
  {
   "cell_type": "code",
   "execution_count": 3,
   "metadata": {},
   "outputs": [],
   "source": [
    "\n",
    "data_train = pd.read_csv('data_train.csv', encoding='utf-8')\n",
    "data_test = pd.read_csv('data_test.csv', encoding='utf-8')\n",
    "\n",
    "X_train = data_train.Text\n",
    "X_test = data_test.Text\n",
    "\n",
    "y_train = data_train.Emotion\n",
    "y_test = data_test.Emotion\n",
    "\n",
    "data = data_train.append(data_test, ignore_index=True)"
   ]
  },
  {
   "cell_type": "code",
   "execution_count": 4,
   "metadata": {},
   "outputs": [
    {
     "data": {
      "text/html": [
       "<div>\n",
       "<style scoped>\n",
       "    .dataframe tbody tr th:only-of-type {\n",
       "        vertical-align: middle;\n",
       "    }\n",
       "\n",
       "    .dataframe tbody tr th {\n",
       "        vertical-align: top;\n",
       "    }\n",
       "\n",
       "    .dataframe thead th {\n",
       "        text-align: right;\n",
       "    }\n",
       "</style>\n",
       "<table border=\"1\" class=\"dataframe\">\n",
       "  <thead>\n",
       "    <tr style=\"text-align: right;\">\n",
       "      <th></th>\n",
       "      <th>Emotion</th>\n",
       "      <th>Text</th>\n",
       "    </tr>\n",
       "  </thead>\n",
       "  <tbody>\n",
       "    <tr>\n",
       "      <th>0</th>\n",
       "      <td>neutral</td>\n",
       "      <td>There are tons of other paintings that I thin...</td>\n",
       "    </tr>\n",
       "    <tr>\n",
       "      <th>1</th>\n",
       "      <td>sadness</td>\n",
       "      <td>Yet the dog had grown old and less capable , a...</td>\n",
       "    </tr>\n",
       "    <tr>\n",
       "      <th>2</th>\n",
       "      <td>fear</td>\n",
       "      <td>When I get into the tube or the train without ...</td>\n",
       "    </tr>\n",
       "    <tr>\n",
       "      <th>3</th>\n",
       "      <td>fear</td>\n",
       "      <td>This last may be a source of considerable disq...</td>\n",
       "    </tr>\n",
       "    <tr>\n",
       "      <th>4</th>\n",
       "      <td>anger</td>\n",
       "      <td>She disliked the intimacy he showed towards so...</td>\n",
       "    </tr>\n",
       "    <tr>\n",
       "      <th>...</th>\n",
       "      <td>...</td>\n",
       "      <td>...</td>\n",
       "    </tr>\n",
       "    <tr>\n",
       "      <th>11322</th>\n",
       "      <td>sadness</td>\n",
       "      <td>My sweetheart left me, or rather we decided to...</td>\n",
       "    </tr>\n",
       "    <tr>\n",
       "      <th>11323</th>\n",
       "      <td>sadness</td>\n",
       "      <td>Well , it's too bad that we like different kin...</td>\n",
       "    </tr>\n",
       "    <tr>\n",
       "      <th>11324</th>\n",
       "      <td>neutral</td>\n",
       "      <td>It sure is .</td>\n",
       "    </tr>\n",
       "    <tr>\n",
       "      <th>11325</th>\n",
       "      <td>sadness</td>\n",
       "      <td>He ’ s got laid off again . I do feel sorry fo...</td>\n",
       "    </tr>\n",
       "    <tr>\n",
       "      <th>11326</th>\n",
       "      <td>anger</td>\n",
       "      <td>When stupid people push me during rush time in...</td>\n",
       "    </tr>\n",
       "  </tbody>\n",
       "</table>\n",
       "<p>11327 rows × 2 columns</p>\n",
       "</div>"
      ],
      "text/plain": [
       "       Emotion                                               Text\n",
       "0      neutral   There are tons of other paintings that I thin...\n",
       "1      sadness  Yet the dog had grown old and less capable , a...\n",
       "2         fear  When I get into the tube or the train without ...\n",
       "3         fear  This last may be a source of considerable disq...\n",
       "4        anger  She disliked the intimacy he showed towards so...\n",
       "...        ...                                                ...\n",
       "11322  sadness  My sweetheart left me, or rather we decided to...\n",
       "11323  sadness  Well , it's too bad that we like different kin...\n",
       "11324  neutral                                      It sure is . \n",
       "11325  sadness  He ’ s got laid off again . I do feel sorry fo...\n",
       "11326    anger  When stupid people push me during rush time in...\n",
       "\n",
       "[11327 rows x 2 columns]"
      ]
     },
     "execution_count": 4,
     "metadata": {},
     "output_type": "execute_result"
    }
   ],
   "source": [
    "data"
   ]
  },
  {
   "cell_type": "code",
   "execution_count": 5,
   "metadata": {},
   "outputs": [
    {
     "name": "stdout",
     "output_type": "stream",
     "text": [
      "joy        2326\n",
      "sadness    2317\n",
      "anger      2259\n",
      "neutral    2254\n",
      "fear       2171\n",
      "Name: Emotion, dtype: int64\n"
     ]
    }
   ],
   "source": [
    "print(data.Emotion.value_counts())\n"
   ]
  },
  {
   "cell_type": "code",
   "execution_count": 6,
   "metadata": {},
   "outputs": [
    {
     "name": "stdout",
     "output_type": "stream",
     "text": [
      "      bins  counts\n",
      "0    0-100   11318\n",
      "1  100-300       9\n",
      "2  300-500       0\n",
      "3  500-800       0\n",
      "4     >800       0\n"
     ]
    }
   ],
   "source": [
    "bins=[0,50,75, np.inf]\n",
    "num_words = data.Text.apply(lambda x : len(x.split()))\n",
    "\n",
    "data['bins']=pd.cut(num_words, bins=[0,100,300,500,800, np.inf], labels=['0-100', '100-300', '300-500','500-800' ,'>800'])\n",
    "\n",
    "word_distribution = data.groupby('bins').size().reset_index().rename(columns={0:'counts'})\n",
    "\n",
    "print(word_distribution)"
   ]
  },
  {
   "cell_type": "code",
   "execution_count": 7,
   "metadata": {},
   "outputs": [],
   "source": [
    "def clean_text(data):\n",
    "    data = re.sub(r\"(#[\\d\\w\\.]+)\", '', data)\n",
    "    data = re.sub(r\"(@[\\d\\w\\.]+)\", '', data)\n",
    "    data = word_tokenize(data)\n",
    "    return data"
   ]
  },
  {
   "cell_type": "code",
   "execution_count": 8,
   "metadata": {},
   "outputs": [],
   "source": [
    "texts = [' '.join(clean_text(text)) for text in data.Text]\n",
    "\n",
    "texts_train = [' '.join(clean_text(text)) for text in X_train]\n",
    "texts_test = [' '.join(clean_text(text)) for text in X_test]\n"
   ]
  },
  {
   "cell_type": "code",
   "execution_count": 9,
   "metadata": {},
   "outputs": [
    {
     "name": "stdout",
     "output_type": "stream",
     "text": [
      "11327 7934 3393\n"
     ]
    }
   ],
   "source": [
    "print(len(texts), len(texts_train), len(texts_test))\n",
    "\n",
    "# texts_train"
   ]
  },
  {
   "cell_type": "code",
   "execution_count": 10,
   "metadata": {},
   "outputs": [
    {
     "name": "stdout",
     "output_type": "stream",
     "text": [
      "There are tons of other paintings that I think are better .\n"
     ]
    }
   ],
   "source": [
    "print(texts_train[0])\n"
   ]
  },
  {
   "cell_type": "code",
   "execution_count": 11,
   "metadata": {},
   "outputs": [
    {
     "name": "stdout",
     "output_type": "stream",
     "text": [
      "Number of unique words: 12087\n"
     ]
    }
   ],
   "source": [
    "tokenizer = Tokenizer()\n",
    "tokenizer.fit_on_texts(texts)\n",
    "\n",
    "sequence_train = tokenizer.texts_to_sequences(texts_train)\n",
    "sequence_test = tokenizer.texts_to_sequences(texts_test)\n",
    "\n",
    "index_of_words = tokenizer.word_index\n",
    "\n",
    "# vacab size is number of unique words + reserved 0 index for padding\n",
    "vocab_size = len(index_of_words) + 1\n",
    "\n",
    "print('Number of unique words: {}'.format(len(index_of_words)))"
   ]
  },
  {
   "cell_type": "code",
   "execution_count": 12,
   "metadata": {},
   "outputs": [
    {
     "name": "stdout",
     "output_type": "stream",
     "text": [
      "[57, 51, 5933, 8, 132, 3296, 11, 1, 119, 51, 345]\n"
     ]
    }
   ],
   "source": [
    "MAX_LENGTH = 100\n",
    "print(sequence_train[0])"
   ]
  },
  {
   "cell_type": "code",
   "execution_count": 13,
   "metadata": {},
   "outputs": [],
   "source": [
    "X_train_pad = pad_sequences(sequence_train, maxlen = MAX_LENGTH )\n",
    "X_test_pad = pad_sequences(sequence_test, maxlen = MAX_LENGTH )"
   ]
  },
  {
   "cell_type": "code",
   "execution_count": 14,
   "metadata": {
    "scrolled": true
   },
   "outputs": [
    {
     "data": {
      "text/plain": [
       "array([   0,    0,    0,    0,    0,    0,    0,    0,    0,    0,    0,\n",
       "          0,    0,    0,    0,    0,    0,    0,    0,    0,    0,    0,\n",
       "          0,    0,    0,    0,    0,    0,    0,    0,    0,    0,    0,\n",
       "          0,    0,    0,    0,    0,    0,    0,    0,    0,    0,    0,\n",
       "          0,    0,    0,    0,    0,    0,    0,    0,    0,    0,    0,\n",
       "          0,    0,    0,    0,    0,    0,    0,    0,    0,    0,    0,\n",
       "          0,    0,    0,    0,    0,    0,    0,    0,    0,    0,    0,\n",
       "          0,    0,    0,    0,    0,    0,    0,    0,    0,    0,    0,\n",
       "          0,   57,   51, 5933,    8,  132, 3296,   11,    1,  119,   51,\n",
       "        345], dtype=int32)"
      ]
     },
     "execution_count": 14,
     "metadata": {},
     "output_type": "execute_result"
    }
   ],
   "source": [
    "X_train_pad[0]"
   ]
  },
  {
   "cell_type": "code",
   "execution_count": 15,
   "metadata": {},
   "outputs": [],
   "source": [
    "encoding = {\n",
    "    'joy': 0,\n",
    "    'fear': 1,\n",
    "    'anger': 2,\n",
    "    'sadness': 3,\n",
    "    'neutral': 4\n",
    "}\n",
    "\n",
    "# Integer labels\n",
    "y_train = [encoding[x] for x in data_train.Emotion]\n",
    "y_test = [encoding[x] for x in data_test.Emotion]"
   ]
  },
  {
   "cell_type": "code",
   "execution_count": 16,
   "metadata": {},
   "outputs": [
    {
     "name": "stdout",
     "output_type": "stream",
     "text": [
      "There are tons of other paintings that I think are better .\n",
      "[57, 51, 5933, 8, 132, 3296, 11, 1, 119, 51, 345]\n",
      "4\n"
     ]
    }
   ],
   "source": [
    "print(texts_train[0])\n",
    "print(sequence_train[0])\n",
    "print(y_train[0])"
   ]
  },
  {
   "cell_type": "code",
   "execution_count": 17,
   "metadata": {},
   "outputs": [
    {
     "data": {
      "text/plain": [
       "array([0., 0., 0., 0., 1.], dtype=float32)"
      ]
     },
     "execution_count": 17,
     "metadata": {},
     "output_type": "execute_result"
    }
   ],
   "source": [
    "y_train = to_categorical(y_train)\n",
    "y_test = to_categorical(y_test)\n",
    "\n",
    "y_train[0]"
   ]
  },
  {
   "cell_type": "code",
   "execution_count": null,
   "metadata": {},
   "outputs": [],
   "source": []
  },
  {
   "cell_type": "code",
   "execution_count": 18,
   "metadata": {},
   "outputs": [],
   "source": [
    "import keras\n",
    "from keras.datasets import mnist\n",
    "from keras.models import Sequential\n",
    "from keras.layers import Input, Dense, Dropout, Embedding, LSTM, Flatten\n",
    "from keras.layers import Conv1D, MaxPooling1D\n",
    "from keras import backend as K\n",
    "from keras.models import Model\n",
    "from keras.callbacks import ModelCheckpoint\n",
    "\n",
    "# from keras.layers import \n"
   ]
  },
  {
   "cell_type": "code",
   "execution_count": 19,
   "metadata": {},
   "outputs": [],
   "source": [
    "num_class = len(class_names)"
   ]
  },
  {
   "cell_type": "code",
   "execution_count": 51,
   "metadata": {
    "scrolled": true
   },
   "outputs": [
    {
     "name": "stdout",
     "output_type": "stream",
     "text": [
      "Model: \"model_8\"\n",
      "_________________________________________________________________\n",
      "Layer (type)                 Output Shape              Param #   \n",
      "=================================================================\n",
      "input_10 (InputLayer)        (None, 100)               0         \n",
      "_________________________________________________________________\n",
      "embedding_10 (Embedding)     (None, 100, 128)          1547264   \n",
      "_________________________________________________________________\n",
      "flatten_10 (Flatten)         (None, 12800)             0         \n",
      "_________________________________________________________________\n",
      "dense_18 (Dense)             (None, 32)                409632    \n",
      "_________________________________________________________________\n",
      "dense_19 (Dense)             (None, 5)                 165       \n",
      "=================================================================\n",
      "Total params: 1,957,061\n",
      "Trainable params: 1,957,061\n",
      "Non-trainable params: 0\n",
      "_________________________________________________________________\n",
      "Train on 7934 samples, validate on 3393 samples\n",
      "Epoch 1/50\n",
      "7934/7934 [==============================] - 2s 280us/step - loss: 1.4439 - acc: 0.3338 - val_loss: 1.3887 - val_acc: 0.3442\n",
      "\n",
      "Epoch 00001: val_acc improved from -inf to 0.34424, saving model to weights-simple.hdf5\n",
      "Epoch 2/50\n",
      "7934/7934 [==============================] - 2s 247us/step - loss: 1.2869 - acc: 0.4568 - val_loss: 1.2870 - val_acc: 0.4674\n",
      "\n",
      "Epoch 00002: val_acc improved from 0.34424 to 0.46743, saving model to weights-simple.hdf5\n",
      "Epoch 3/50\n",
      "7934/7934 [==============================] - 2s 247us/step - loss: 0.9931 - acc: 0.6715 - val_loss: 1.0943 - val_acc: 0.5753\n",
      "\n",
      "Epoch 00003: val_acc improved from 0.46743 to 0.57530, saving model to weights-simple.hdf5\n",
      "Epoch 4/50\n",
      "7934/7934 [==============================] - 2s 265us/step - loss: 0.5817 - acc: 0.8377 - val_loss: 0.9857 - val_acc: 0.6239\n",
      "\n",
      "Epoch 00004: val_acc improved from 0.57530 to 0.62393, saving model to weights-simple.hdf5\n",
      "Epoch 5/50\n",
      "7934/7934 [==============================] - 2s 279us/step - loss: 0.3042 - acc: 0.9225 - val_loss: 0.9680 - val_acc: 0.6457\n",
      "\n",
      "Epoch 00005: val_acc improved from 0.62393 to 0.64574, saving model to weights-simple.hdf5\n",
      "Epoch 6/50\n",
      "7934/7934 [==============================] - 2s 266us/step - loss: 0.1681 - acc: 0.9633 - val_loss: 1.0037 - val_acc: 0.6493\n",
      "\n",
      "Epoch 00006: val_acc improved from 0.64574 to 0.64928, saving model to weights-simple.hdf5\n",
      "Epoch 7/50\n",
      "7934/7934 [==============================] - 2s 285us/step - loss: 0.1074 - acc: 0.9790 - val_loss: 1.0775 - val_acc: 0.6390\n",
      "\n",
      "Epoch 00007: val_acc did not improve from 0.64928\n",
      "Epoch 8/50\n",
      "7934/7934 [==============================] - 2s 257us/step - loss: 0.0754 - acc: 0.9850 - val_loss: 1.1062 - val_acc: 0.6440\n",
      "\n",
      "Epoch 00008: val_acc did not improve from 0.64928\n",
      "Epoch 9/50\n",
      "7934/7934 [==============================] - 2s 282us/step - loss: 0.0563 - acc: 0.9888 - val_loss: 1.1533 - val_acc: 0.6487\n",
      "\n",
      "Epoch 00009: val_acc did not improve from 0.64928\n",
      "Epoch 10/50\n",
      "7934/7934 [==============================] - 2s 294us/step - loss: 0.0449 - acc: 0.9918 - val_loss: 1.2047 - val_acc: 0.6413\n",
      "\n",
      "Epoch 00010: val_acc did not improve from 0.64928\n",
      "Epoch 11/50\n",
      "7934/7934 [==============================] - 2s 291us/step - loss: 0.0393 - acc: 0.9921 - val_loss: 1.2658 - val_acc: 0.6419\n",
      "\n",
      "Epoch 00011: val_acc did not improve from 0.64928\n",
      "Epoch 12/50\n",
      "7934/7934 [==============================] - 2s 282us/step - loss: 0.0334 - acc: 0.9936 - val_loss: 1.2830 - val_acc: 0.6463\n",
      "\n",
      "Epoch 00012: val_acc did not improve from 0.64928\n",
      "Epoch 13/50\n",
      "7934/7934 [==============================] - 2s 280us/step - loss: 0.0300 - acc: 0.9938 - val_loss: 1.3305 - val_acc: 0.6419\n",
      "\n",
      "Epoch 00013: val_acc did not improve from 0.64928\n",
      "Epoch 14/50\n",
      "7934/7934 [==============================] - 2s 257us/step - loss: 0.0285 - acc: 0.9937 - val_loss: 1.3542 - val_acc: 0.6384\n",
      "\n",
      "Epoch 00014: val_acc did not improve from 0.64928\n",
      "Epoch 15/50\n",
      "7934/7934 [==============================] - 2s 259us/step - loss: 0.0265 - acc: 0.9937 - val_loss: 1.3866 - val_acc: 0.6446\n",
      "\n",
      "Epoch 00015: val_acc did not improve from 0.64928\n",
      "Epoch 16/50\n",
      "7934/7934 [==============================] - 2s 255us/step - loss: 0.0257 - acc: 0.9941 - val_loss: 1.3948 - val_acc: 0.6384\n",
      "\n",
      "Epoch 00016: val_acc did not improve from 0.64928\n",
      "Epoch 17/50\n",
      "7934/7934 [==============================] - 2s 256us/step - loss: 0.0272 - acc: 0.9931 - val_loss: 1.4560 - val_acc: 0.6404\n",
      "\n",
      "Epoch 00017: val_acc did not improve from 0.64928\n",
      "Epoch 18/50\n",
      "7934/7934 [==============================] - 2s 250us/step - loss: 0.0241 - acc: 0.9934 - val_loss: 1.4638 - val_acc: 0.6431\n",
      "\n",
      "Epoch 00018: val_acc did not improve from 0.64928\n",
      "Epoch 19/50\n",
      "7934/7934 [==============================] - 2s 270us/step - loss: 0.0216 - acc: 0.9940 - val_loss: 1.4893 - val_acc: 0.6378\n",
      "\n",
      "Epoch 00019: val_acc did not improve from 0.64928\n",
      "Epoch 20/50\n",
      "7934/7934 [==============================] - 2s 251us/step - loss: 0.0216 - acc: 0.9940 - val_loss: 1.5033 - val_acc: 0.6375\n",
      "\n",
      "Epoch 00020: val_acc did not improve from 0.64928\n",
      "Epoch 21/50\n",
      "7934/7934 [==============================] - 2s 251us/step - loss: 0.0221 - acc: 0.9943 - val_loss: 1.5357 - val_acc: 0.6393\n",
      "\n",
      "Epoch 00021: val_acc did not improve from 0.64928\n",
      "Epoch 22/50\n",
      "7934/7934 [==============================] - 2s 259us/step - loss: 0.0207 - acc: 0.9943 - val_loss: 1.5440 - val_acc: 0.6387\n",
      "\n",
      "Epoch 00022: val_acc did not improve from 0.64928\n",
      "Epoch 23/50\n",
      "7934/7934 [==============================] - 2s 262us/step - loss: 0.0207 - acc: 0.9937 - val_loss: 1.5633 - val_acc: 0.6419\n",
      "\n",
      "Epoch 00023: val_acc did not improve from 0.64928\n",
      "Epoch 24/50\n",
      "7934/7934 [==============================] - 2s 265us/step - loss: 0.0230 - acc: 0.9933 - val_loss: 1.6352 - val_acc: 0.6357\n",
      "\n",
      "Epoch 00024: val_acc did not improve from 0.64928\n",
      "Epoch 25/50\n",
      "7934/7934 [==============================] - 2s 256us/step - loss: 0.0221 - acc: 0.9938 - val_loss: 1.5983 - val_acc: 0.6363\n",
      "\n",
      "Epoch 00025: val_acc did not improve from 0.64928\n",
      "Epoch 26/50\n",
      "7934/7934 [==============================] - 2s 255us/step - loss: 0.0200 - acc: 0.9934 - val_loss: 1.6519 - val_acc: 0.6337\n",
      "\n",
      "Epoch 00026: val_acc did not improve from 0.64928\n",
      "Epoch 27/50\n",
      "7934/7934 [==============================] - 2s 258us/step - loss: 0.0226 - acc: 0.9928 - val_loss: 1.6141 - val_acc: 0.6390\n",
      "\n",
      "Epoch 00027: val_acc did not improve from 0.64928\n",
      "Epoch 28/50\n",
      "7934/7934 [==============================] - 2s 259us/step - loss: 0.0209 - acc: 0.9940 - val_loss: 1.6189 - val_acc: 0.6310\n",
      "\n",
      "Epoch 00028: val_acc did not improve from 0.64928\n",
      "Epoch 29/50\n",
      "7934/7934 [==============================] - 2s 301us/step - loss: 0.0216 - acc: 0.9936 - val_loss: 1.6137 - val_acc: 0.6357\n",
      "\n",
      "Epoch 00029: val_acc did not improve from 0.64928\n",
      "Epoch 30/50\n",
      "7934/7934 [==============================] - 2s 238us/step - loss: 0.0203 - acc: 0.9947 - val_loss: 1.6593 - val_acc: 0.6351\n",
      "\n",
      "Epoch 00030: val_acc did not improve from 0.64928\n",
      "Epoch 31/50\n",
      "7934/7934 [==============================] - 2s 271us/step - loss: 0.0204 - acc: 0.9940 - val_loss: 1.6457 - val_acc: 0.6337\n",
      "\n",
      "Epoch 00031: val_acc did not improve from 0.64928\n",
      "Epoch 32/50\n",
      "7934/7934 [==============================] - 2s 276us/step - loss: 0.0210 - acc: 0.9941 - val_loss: 1.6576 - val_acc: 0.6322\n",
      "\n",
      "Epoch 00032: val_acc did not improve from 0.64928\n",
      "Epoch 33/50\n",
      "7934/7934 [==============================] - 2s 214us/step - loss: 0.0209 - acc: 0.9940 - val_loss: 1.6942 - val_acc: 0.6295\n",
      "\n",
      "Epoch 00033: val_acc did not improve from 0.64928\n",
      "Epoch 34/50\n",
      "7934/7934 [==============================] - 2s 218us/step - loss: 0.0192 - acc: 0.9941 - val_loss: 1.7223 - val_acc: 0.6266\n",
      "\n",
      "Epoch 00034: val_acc did not improve from 0.64928\n",
      "Epoch 35/50\n",
      "7934/7934 [==============================] - 2s 223us/step - loss: 0.0199 - acc: 0.9943 - val_loss: 1.7109 - val_acc: 0.6275\n",
      "\n",
      "Epoch 00035: val_acc did not improve from 0.64928\n",
      "Epoch 36/50\n",
      "7934/7934 [==============================] - 2s 224us/step - loss: 0.0204 - acc: 0.9938 - val_loss: 1.7077 - val_acc: 0.6298\n",
      "\n",
      "Epoch 00036: val_acc did not improve from 0.64928\n",
      "Epoch 37/50\n",
      "7934/7934 [==============================] - 2s 234us/step - loss: 0.0218 - acc: 0.9936 - val_loss: 1.7421 - val_acc: 0.6286\n"
     ]
    },
    {
     "name": "stdout",
     "output_type": "stream",
     "text": [
      "\n",
      "Epoch 00037: val_acc did not improve from 0.64928\n",
      "Epoch 38/50\n",
      "7934/7934 [==============================] - 2s 232us/step - loss: 0.0196 - acc: 0.9941 - val_loss: 1.7178 - val_acc: 0.6360\n",
      "\n",
      "Epoch 00038: val_acc did not improve from 0.64928\n",
      "Epoch 39/50\n",
      "7934/7934 [==============================] - 2s 229us/step - loss: 0.0209 - acc: 0.9934 - val_loss: 1.7831 - val_acc: 0.6272\n",
      "\n",
      "Epoch 00039: val_acc did not improve from 0.64928\n",
      "Epoch 40/50\n",
      "7934/7934 [==============================] - 2s 234us/step - loss: 0.0212 - acc: 0.9934 - val_loss: 1.6950 - val_acc: 0.6289\n",
      "\n",
      "Epoch 00040: val_acc did not improve from 0.64928\n",
      "Epoch 41/50\n",
      "7934/7934 [==============================] - 2s 223us/step - loss: 0.0187 - acc: 0.9943 - val_loss: 1.7390 - val_acc: 0.6310\n",
      "\n",
      "Epoch 00041: val_acc did not improve from 0.64928\n",
      "Epoch 42/50\n",
      "7934/7934 [==============================] - 2s 230us/step - loss: 0.0190 - acc: 0.9934 - val_loss: 1.7424 - val_acc: 0.6275\n",
      "\n",
      "Epoch 00042: val_acc did not improve from 0.64928\n",
      "Epoch 43/50\n",
      "7934/7934 [==============================] - 2s 288us/step - loss: 0.0184 - acc: 0.9938 - val_loss: 1.8474 - val_acc: 0.6230\n",
      "\n",
      "Epoch 00043: val_acc did not improve from 0.64928\n",
      "Epoch 44/50\n",
      "7934/7934 [==============================] - 2s 288us/step - loss: 0.0210 - acc: 0.9937 - val_loss: 1.7460 - val_acc: 0.6248\n",
      "\n",
      "Epoch 00044: val_acc did not improve from 0.64928\n",
      "Epoch 45/50\n",
      "7934/7934 [==============================] - 3s 320us/step - loss: 0.0186 - acc: 0.9946 - val_loss: 1.7517 - val_acc: 0.6316\n",
      "\n",
      "Epoch 00045: val_acc did not improve from 0.64928\n",
      "Epoch 46/50\n",
      "7934/7934 [==============================] - 2s 280us/step - loss: 0.0191 - acc: 0.9938 - val_loss: 1.7368 - val_acc: 0.6284\n",
      "\n",
      "Epoch 00046: val_acc did not improve from 0.64928\n",
      "Epoch 47/50\n",
      "7934/7934 [==============================] - 2s 241us/step - loss: 0.0191 - acc: 0.9938 - val_loss: 1.8137 - val_acc: 0.6219\n",
      "\n",
      "Epoch 00047: val_acc did not improve from 0.64928\n",
      "Epoch 48/50\n",
      "7934/7934 [==============================] - 2s 245us/step - loss: 0.0205 - acc: 0.9938 - val_loss: 1.7726 - val_acc: 0.6242\n",
      "\n",
      "Epoch 00048: val_acc did not improve from 0.64928\n",
      "Epoch 49/50\n",
      "7934/7934 [==============================] - 2s 241us/step - loss: 0.0194 - acc: 0.9941 - val_loss: 1.7329 - val_acc: 0.6295\n",
      "\n",
      "Epoch 00049: val_acc did not improve from 0.64928\n",
      "Epoch 50/50\n",
      "7934/7934 [==============================] - 2s 242us/step - loss: 0.0194 - acc: 0.9938 - val_loss: 1.7883 - val_acc: 0.6298\n",
      "\n",
      "Epoch 00050: val_acc did not improve from 0.64928\n"
     ]
    }
   ],
   "source": [
    "\n",
    "\n",
    "\n",
    "inputs = Input(shape=(MAX_LENGTH, ))\n",
    "embedding_layer = Embedding(vocab_size,\n",
    "                            128,\n",
    "                            input_length=MAX_LENGTH)(inputs)\n",
    "x = Flatten()(embedding_layer)\n",
    "x = Dense(32, activation='relu')(x)\n",
    "\n",
    "predictions = Dense(num_class, activation='softmax')(x)\n",
    "\n",
    "\n",
    "model = Model(inputs=[inputs], outputs=predictions)\n",
    "model.compile(optimizer='adam',\n",
    "              loss='categorical_crossentropy',\n",
    "              metrics=['acc'])\n",
    "\n",
    "model.summary()\n",
    "filepath=\"weights-simple.hdf5\"\n",
    "checkpointer = ModelCheckpoint(filepath, monitor='val_acc', verbose=1, save_best_only=True, mode='max')\n",
    "\n",
    "# history = model.fit([X_train_pad], batch_size=64, y=to_categorical(y_train), verbose=1, validation_split=0.25, \n",
    "#           shuffle=True, epochs=5, callbacks=[checkpointer])\n",
    "batch_size = 128\n",
    "epochs = 50\n",
    "\n",
    "hist = model.fit(X_train_pad, y_train, batch_size=batch_size, epochs=epochs,\n",
    "                 validation_data=(X_test_pad,y_test), callbacks=[checkpointer])"
   ]
  },
  {
   "cell_type": "code",
   "execution_count": 20,
   "metadata": {
    "scrolled": true
   },
   "outputs": [
    {
     "name": "stdout",
     "output_type": "stream",
     "text": [
      "Model: \"sequential_1\"\n",
      "_________________________________________________________________\n",
      "Layer (type)                 Output Shape              Param #   \n",
      "=================================================================\n",
      "embedding_1 (Embedding)      (None, 100, 300)          3626400   \n",
      "_________________________________________________________________\n",
      "bidirectional_1 (Bidirection (None, 256)               329472    \n",
      "_________________________________________________________________\n",
      "dense_1 (Dense)              (None, 5)                 1285      \n",
      "=================================================================\n",
      "Total params: 3,957,157\n",
      "Trainable params: 330,757\n",
      "Non-trainable params: 3,626,400\n",
      "_________________________________________________________________\n",
      "WARNING:tensorflow:From /home/amarnath/.local/lib/python3.6/site-packages/keras/backend/tensorflow_backend.py:422: The name tf.global_variables is deprecated. Please use tf.compat.v1.global_variables instead.\n",
      "\n",
      "Train on 7934 samples, validate on 3393 samples\n",
      "Epoch 1/3\n",
      "7934/7934 [==============================] - 37s 5ms/step - loss: 9.4742 - acc: 0.3204 - val_loss: 1.5382 - val_acc: 0.3442\n",
      "\n",
      "Epoch 00001: saving model to amar_cp.ckpt\n",
      "Epoch 2/3\n",
      "7934/7934 [==============================] - 41s 5ms/step - loss: 1.4625 - acc: 0.3418 - val_loss: 1.5024 - val_acc: 0.3386\n",
      "\n",
      "Epoch 00002: saving model to amar_cp.ckpt\n",
      "Epoch 3/3\n",
      "7934/7934 [==============================] - 49s 6ms/step - loss: 1.4241 - acc: 0.3406 - val_loss: 1.4858 - val_acc: 0.3198\n",
      "\n",
      "Epoch 00003: saving model to amar_cp.ckpt\n"
     ]
    }
   ],
   "source": [
    "gru_output_size = 128\n",
    "bidirectional = True\n",
    "embed_num_dims = 300\n",
    "embedding_layer = Embedding(vocab_size,\n",
    "                         embed_num_dims,\n",
    "                         input_length = MAX_LENGTH,\n",
    "                         \n",
    "                         trainable=False)\n",
    "# Embedding Layer, LSTM or biLSTM, Dense, softmax\n",
    "# embedding_layer = Embedding(vocab_size,\n",
    "#                             128,\n",
    "#                             input_length=MAX_LENGTH)(inputs)\n",
    "\n",
    "model = Sequential()\n",
    "model.add(embedding_layer)\n",
    "\n",
    "if bidirectional:\n",
    "    model.add(Bidirectional(GRU(units=gru_output_size,\n",
    "                              dropout=0.2,\n",
    "                              recurrent_dropout=0.2)))\n",
    "else:\n",
    "     model.add(GRU(units=gru_output_size,\n",
    "                dropout=0.2, \n",
    "                recurrent_dropout=0.2))\n",
    "\n",
    "model.add(Dense(num_class, activation='softmax'))\n",
    "model.compile(optimizer='adam',\n",
    "              loss='categorical_crossentropy',\n",
    "              metrics=['acc'])\n",
    "\n",
    "model.summary()\n",
    "# filepath=\"weights-simple.hdf5\"\n",
    "checkpoint_path = \"amar_cp.ckpt\"\n",
    "\n",
    "# Create a callback that saves the model's weights\n",
    "checkpointer = ModelCheckpoint(filepath=checkpoint_path,\n",
    "                                                 save_weights_only=True,\n",
    "                                                 verbose=1)\n",
    "# checkpointer = ModelCheckpoint(filepath, monitor='val_acc', verbose=1, save_best_only=True, mode='max')\n",
    "\n",
    "# history = model.fit([X_train_pad], batch_size=64, y=to_categorical(y_train), verbose=1, validation_split=0.25, \n",
    "#           shuffle=True, epochs=5, callbacks=[checkpointer])\n",
    "batch_size = 128\n",
    "epochs = 3\n",
    "\n",
    "hist = model.fit(X_train_pad, y_train, batch_size=batch_size, epochs=epochs,\n",
    "                 validation_data=(X_test_pad,y_test), callbacks=[checkpointer])"
   ]
  },
  {
   "cell_type": "code",
   "execution_count": 23,
   "metadata": {
    "scrolled": true
   },
   "outputs": [
    {
     "name": "stdout",
     "output_type": "stream",
     "text": [
      "Model: \"model_3\"\n",
      "_________________________________________________________________\n",
      "Layer (type)                 Output Shape              Param #   \n",
      "=================================================================\n",
      "input_3 (InputLayer)         (None, 100)               0         \n",
      "_________________________________________________________________\n",
      "embedding_4 (Embedding)      (None, 100, 128)          1547264   \n",
      "_________________________________________________________________\n",
      "lstm_4 (LSTM)                (None, 64)                49408     \n",
      "_________________________________________________________________\n",
      "dense_5 (Dense)              (None, 32)                2080      \n",
      "_________________________________________________________________\n",
      "dense_6 (Dense)              (None, 5)                 165       \n",
      "=================================================================\n",
      "Total params: 1,598,917\n",
      "Trainable params: 1,598,917\n",
      "Non-trainable params: 0\n",
      "_________________________________________________________________\n",
      "Train on 7934 samples, validate on 3393 samples\n",
      "Epoch 1/20\n",
      "7934/7934 [==============================] - 10s 1ms/step - loss: 1.4402 - acc: 0.3317 - val_loss: 1.3713 - val_acc: 0.3890\n",
      "\n",
      "Epoch 00001: saving model to amar_lstm.ckpt\n",
      "Epoch 2/20\n",
      "7934/7934 [==============================] - 10s 1ms/step - loss: 1.2299 - acc: 0.4880 - val_loss: 1.1656 - val_acc: 0.5184\n",
      "\n",
      "Epoch 00002: saving model to amar_lstm.ckpt\n",
      "Epoch 3/20\n",
      "7934/7934 [==============================] - 12s 2ms/step - loss: 0.8035 - acc: 0.7087 - val_loss: 0.9568 - val_acc: 0.6525\n",
      "\n",
      "Epoch 00003: saving model to amar_lstm.ckpt\n",
      "Epoch 4/20\n",
      "7934/7934 [==============================] - 11s 1ms/step - loss: 0.4552 - acc: 0.8476 - val_loss: 0.9252 - val_acc: 0.6852\n",
      "\n",
      "Epoch 00004: saving model to amar_lstm.ckpt\n",
      "Epoch 5/20\n",
      "7934/7934 [==============================] - 11s 1ms/step - loss: 0.2929 - acc: 0.9090 - val_loss: 0.9852 - val_acc: 0.6979\n",
      "\n",
      "Epoch 00005: saving model to amar_lstm.ckpt\n",
      "Epoch 6/20\n",
      "7934/7934 [==============================] - 10s 1ms/step - loss: 0.2085 - acc: 0.9370 - val_loss: 1.0604 - val_acc: 0.6885\n",
      "\n",
      "Epoch 00006: saving model to amar_lstm.ckpt\n",
      "Epoch 7/20\n",
      "7934/7934 [==============================] - 10s 1ms/step - loss: 0.1630 - acc: 0.9524 - val_loss: 1.1958 - val_acc: 0.6758\n",
      "\n",
      "Epoch 00007: saving model to amar_lstm.ckpt\n",
      "Epoch 8/20\n",
      "7934/7934 [==============================] - 10s 1ms/step - loss: 0.1401 - acc: 0.9594 - val_loss: 1.1911 - val_acc: 0.6923\n",
      "\n",
      "Epoch 00008: saving model to amar_lstm.ckpt\n",
      "Epoch 9/20\n",
      "7934/7934 [==============================] - 11s 1ms/step - loss: 0.1149 - acc: 0.9677 - val_loss: 1.3229 - val_acc: 0.6811\n",
      "\n",
      "Epoch 00009: saving model to amar_lstm.ckpt\n",
      "Epoch 10/20\n",
      "7934/7934 [==============================] - 11s 1ms/step - loss: 0.0918 - acc: 0.9753 - val_loss: 1.3894 - val_acc: 0.6888\n",
      "\n",
      "Epoch 00010: saving model to amar_lstm.ckpt\n",
      "Epoch 11/20\n",
      "7934/7934 [==============================] - 11s 1ms/step - loss: 0.0795 - acc: 0.9788 - val_loss: 1.4319 - val_acc: 0.6888\n",
      "\n",
      "Epoch 00011: saving model to amar_lstm.ckpt\n",
      "Epoch 12/20\n",
      "7934/7934 [==============================] - 12s 1ms/step - loss: 0.0730 - acc: 0.9813 - val_loss: 1.5132 - val_acc: 0.6788\n",
      "\n",
      "Epoch 00012: saving model to amar_lstm.ckpt\n",
      "Epoch 13/20\n",
      "7934/7934 [==============================] - 11s 1ms/step - loss: 0.0718 - acc: 0.9820 - val_loss: 1.5729 - val_acc: 0.6782\n",
      "\n",
      "Epoch 00013: saving model to amar_lstm.ckpt\n",
      "Epoch 14/20\n",
      "7934/7934 [==============================] - 10s 1ms/step - loss: 0.0627 - acc: 0.9851 - val_loss: 1.6282 - val_acc: 0.6758\n",
      "\n",
      "Epoch 00014: saving model to amar_lstm.ckpt\n",
      "Epoch 15/20\n",
      "7934/7934 [==============================] - 10s 1ms/step - loss: 0.0601 - acc: 0.9847 - val_loss: 1.6893 - val_acc: 0.6661\n",
      "\n",
      "Epoch 00015: saving model to amar_lstm.ckpt\n",
      "Epoch 16/20\n",
      "7934/7934 [==============================] - 11s 1ms/step - loss: 0.0564 - acc: 0.9851 - val_loss: 1.7008 - val_acc: 0.6696\n",
      "\n",
      "Epoch 00016: saving model to amar_lstm.ckpt\n",
      "Epoch 17/20\n",
      "7934/7934 [==============================] - 12s 1ms/step - loss: 0.0519 - acc: 0.9880 - val_loss: 1.7643 - val_acc: 0.6646\n",
      "\n",
      "Epoch 00017: saving model to amar_lstm.ckpt\n",
      "Epoch 18/20\n",
      "7934/7934 [==============================] - 11s 1ms/step - loss: 0.0496 - acc: 0.9883 - val_loss: 1.7967 - val_acc: 0.6711\n",
      "\n",
      "Epoch 00018: saving model to amar_lstm.ckpt\n",
      "Epoch 19/20\n",
      "7934/7934 [==============================] - 11s 1ms/step - loss: 0.0535 - acc: 0.9870 - val_loss: 1.7725 - val_acc: 0.6693\n",
      "\n",
      "Epoch 00019: saving model to amar_lstm.ckpt\n",
      "Epoch 20/20\n",
      "7934/7934 [==============================] - 11s 1ms/step - loss: 0.0505 - acc: 0.9864 - val_loss: 1.7663 - val_acc: 0.6634\n",
      "\n",
      "Epoch 00020: saving model to amar_lstm.ckpt\n"
     ]
    }
   ],
   "source": [
    "\n",
    "inputs = Input(shape=(MAX_LENGTH, ))\n",
    "embedding_layer = Embedding(vocab_size,\n",
    "                            128,\n",
    "                            input_length=MAX_LENGTH)(inputs)\n",
    "\n",
    "\n",
    "x = LSTM(64)(embedding_layer)\n",
    "x = Dense(32, activation='relu')(x)\n",
    "predictions = Dense(num_class, activation='softmax')(x)\n",
    "model = Model(inputs=[inputs], outputs=predictions)\n",
    "model.compile(optimizer='adam',\n",
    "              loss='categorical_crossentropy',\n",
    "              metrics=['acc'])\n",
    "\n",
    "model.summary()\n",
    "\n",
    "# filepath=\"weights-simple.hdf5\"\n",
    "checkpoint_path = \"amar_lstm.ckpt\"\n",
    "\n",
    "# Create a callback that saves the model's weights\n",
    "checkpointer = ModelCheckpoint(filepath=checkpoint_path,\n",
    "                                                 save_weights_only=True,\n",
    "                                                 verbose=1)\n",
    "# checkpointer = ModelCheckpoint(filepath, monitor='val_acc', verbose=1, save_best_only=True, mode='max')\n",
    "\n",
    "# history = model.fit([X_train_pad], batch_size=64, y=to_categorical(y_train), verbose=1, validation_split=0.25, \n",
    "#           shuffle=True, epochs=5, callbacks=[checkpointer])\n",
    "batch_size = 128\n",
    "epochs = 20\n",
    "\n",
    "hist = model.fit(X_train_pad, y_train, batch_size=batch_size, epochs=epochs,\n",
    "                 validation_data=(X_test_pad,y_test), callbacks=[checkpointer])"
   ]
  },
  {
   "cell_type": "code",
   "execution_count": 24,
   "metadata": {},
   "outputs": [],
   "source": [
    "model.save('amarnath_lstm.h5') #sAVING THE MODEL\n",
    "# model.save_weights(\"amar_cp_final.ckpt\")\n"
   ]
  },
  {
   "cell_type": "code",
   "execution_count": 25,
   "metadata": {},
   "outputs": [
    {
     "data": {
      "image/png": "[encoded data removed]",
      "text/plain": [
       "<Figure size 432x288 with 1 Axes>"
      ]
     },
     "metadata": {},
     "output_type": "display_data"
    },
    {
     "data": {
      "image/png": "[encoded data removed]",
      "text/plain": [
       "<Figure size 432x288 with 1 Axes>"
      ]
     },
     "metadata": {},
     "output_type": "display_data"
    }
   ],
   "source": [
    "#  \"Accuracy\"\n",
    "plt.plot(hist.history['acc'])\n",
    "plt.plot(hist.history['val_acc'])\n",
    "plt.title('model accuracy')\n",
    "plt.ylabel('accuracy')\n",
    "plt.xlabel('epoch')\n",
    "plt.legend(['train', 'validation'], loc='upper left')\n",
    "plt.show()\n",
    "\n",
    "# \"Loss\"\n",
    "plt.plot(hist.history['loss'])\n",
    "plt.plot(hist.history['val_loss'])\n",
    "plt.title('model loss')\n",
    "plt.ylabel('loss')\n",
    "plt.xlabel('epoch')\n",
    "plt.legend(['train', 'validation'], loc='upper left')\n",
    "plt.show()"
   ]
  },
  {
   "cell_type": "code",
   "execution_count": 26,
   "metadata": {},
   "outputs": [],
   "source": [
    "# num_classes = 5\n",
    "# model = Sequential()\n",
    "# model.add(Conv1D(filters=64, kernel_size=3,\n",
    "#                  activation='relu',\n",
    "#                  input_shape=(500,300)))\n",
    "# model.add(Conv1D(128, kernel_size=5, activation='relu'))\n",
    "# model.add(MaxPooling1D(pool_size=1))\n",
    "# model.add(Conv1D(128, kernel_size=5, activation='relu'))\n",
    "# model.add(MaxPooling1D(pool_size=1))\n",
    "# model.add(Conv1D(128, kernel_size=5, activation='relu'))\n",
    "# model.add(MaxPooling1D(pool_size=1))\n",
    "# model.add(Conv1D(128, kernel_size=5, activation='relu'))\n",
    "# model.add(MaxPooling1D(pool_size=1))\n",
    "# model.add(Flatten())\n",
    "# model.add(Dense(64, activation='relu'))\n",
    "\n",
    "# model.add(Dense(num_classes, activation='softmax'))"
   ]
  },
  {
   "cell_type": "code",
   "execution_count": 27,
   "metadata": {},
   "outputs": [],
   "source": [
    "predictions = model.predict(X_test_pad)\n",
    "predictions = np.argmax(predictions, axis=1)\n",
    "predictions = [class_names[pred] for pred in predictions]"
   ]
  },
  {
   "cell_type": "code",
   "execution_count": 28,
   "metadata": {},
   "outputs": [
    {
     "name": "stdout",
     "output_type": "stream",
     "text": [
      "Accuracy: 66.34%\n",
      "\n",
      "F1 Score: 66.34\n"
     ]
    }
   ],
   "source": [
    "print(\"Accuracy: {:.2f}%\".format(accuracy_score(data_test.Emotion, predictions) * 100))\n",
    "print(\"\\nF1 Score: {:.2f}\".format(f1_score(data_test.Emotion, predictions, average='micro') * 100))"
   ]
  },
  {
   "cell_type": "code",
   "execution_count": 29,
   "metadata": {},
   "outputs": [],
   "source": [
    "def plot_confusion_matrix(y_true, y_pred, classes,\n",
    "                          normalize=False,\n",
    "                          title=None,\n",
    "                          cmap=plt.cm.Blues):\n",
    "    '''\n",
    "    This function prints and plots the confusion matrix.\n",
    "    Normalization can be applied by setting `normalize=True`.\n",
    "    '''\n",
    "    if not title:\n",
    "        if normalize:\n",
    "            title = 'Normalized confusion matrix'\n",
    "        else:\n",
    "            title = 'Confusion matrix, without normalization'\n",
    "\n",
    "    # Compute confusion matrix\n",
    "    cm = confusion_matrix(y_true, y_pred)\n",
    "\n",
    "    if normalize:\n",
    "        cm = cm.astype('float') / cm.sum(axis=1)[:, np.newaxis]\n",
    "\n",
    "    fig, ax = plt.subplots()\n",
    "    \n",
    "    # Set size\n",
    "    fig.set_size_inches(12.5, 7.5)\n",
    "    im = ax.imshow(cm, interpolation='nearest', cmap=cmap)\n",
    "    ax.figure.colorbar(im, ax=ax)\n",
    "    ax.grid(False)\n",
    "    \n",
    "    # We want to show all ticks...\n",
    "    ax.set(xticks=np.arange(cm.shape[1]),\n",
    "           yticks=np.arange(cm.shape[0]),\n",
    "           # ... and label them with the respective list entries\n",
    "           xticklabels=classes, yticklabels=classes,\n",
    "           title=title,\n",
    "           ylabel='True label',\n",
    "           xlabel='Predicted label')\n",
    "\n",
    "    # Rotate the tick labels and set their alignment.\n",
    "    plt.setp(ax.get_xticklabels(), rotation=45, ha=\"right\",\n",
    "             rotation_mode=\"anchor\")\n",
    "\n",
    "    # Loop over data dimensions and create text annotations.\n",
    "    fmt = '.2f' if normalize else 'd'\n",
    "    thresh = cm.max() / 2.\n",
    "    for i in range(cm.shape[0]):\n",
    "        for j in range(cm.shape[1]):\n",
    "            ax.text(j, i, format(cm[i, j], fmt),\n",
    "                    ha=\"center\", va=\"center\",\n",
    "                    color=\"white\" if cm[i, j] > thresh else \"black\")\n",
    "    fig.tight_layout()\n",
    "    return ax"
   ]
  },
  {
   "cell_type": "code",
   "execution_count": 30,
   "metadata": {},
   "outputs": [
    {
     "name": "stdout",
     "output_type": "stream",
     "text": [
      "\n",
      "F1 Score: 66.34\n"
     ]
    },
    {
     "data": {
      "image/png": "[encoded data removed]",
      "text/plain": [
       "<Figure size 900x540 with 2 Axes>"
      ]
     },
     "metadata": {},
     "output_type": "display_data"
    }
   ],
   "source": [
    "print(\"\\nF1 Score: {:.2f}\".format(f1_score(data_test.Emotion, predictions, average='micro') * 100))\n",
    "\n",
    "# Plot normalized confusion matrix\n",
    "plot_confusion_matrix(data_test.Emotion, predictions, classes=class_names, normalize=True, title='Normalized confusion matrix')\n",
    "plt.show()"
   ]
  },
  {
   "cell_type": "code",
   "execution_count": 31,
   "metadata": {},
   "outputs": [
    {
     "name": "stdout",
     "output_type": "stream",
     "text": [
      "Message: My boyfriend didn't turn up after promising that he was coming.\n",
      "Predicted: sadness\n"
     ]
    }
   ],
   "source": [
    "print('Message: {}\\nPredicted: {}'.format(X_test[4], predictions[4]))\n"
   ]
  },
  {
   "cell_type": "code",
   "execution_count": 32,
   "metadata": {},
   "outputs": [
    {
     "name": "stdout",
     "output_type": "stream",
     "text": [
      "Message: ['delivery was hour late and my pizza was cold!']\n",
      "predicted: anger (0.02 seconds)\n"
     ]
    }
   ],
   "source": [
    "import time\n",
    "\n",
    "message = ['delivery was hour late and my pizza was cold!']\n",
    "\n",
    "seq = tokenizer.texts_to_sequences(message)\n",
    "padded = pad_sequences(seq, maxlen=MAX_LENGTH)\n",
    "\n",
    "start_time = time.time()\n",
    "pred = model.predict(padded)\n",
    "\n",
    "print('Message: ' + str(message))\n",
    "print('predicted: {} ({:.2f} seconds)'.format(class_names[np.argmax(pred)], (time.time() - start_time)))"
   ]
  },
  {
   "cell_type": "code",
   "execution_count": 33,
   "metadata": {},
   "outputs": [
    {
     "name": "stdout",
     "output_type": "stream",
     "text": [
      "WARNING:tensorflow:From /usr/local/lib/python3.6/dist-packages/tensorflow/python/keras/initializers.py:119: calling RandomUniform.__init__ (from tensorflow.python.ops.init_ops) with dtype is deprecated and will be removed in a future version.\n",
      "Instructions for updating:\n",
      "Call initializer instance with the dtype argument instead of passing it to the constructor\n",
      "WARNING:tensorflow:From /usr/local/lib/python3.6/dist-packages/tensorflow/python/ops/init_ops.py:97: calling VarianceScaling.__init__ (from tensorflow.python.ops.init_ops) with dtype is deprecated and will be removed in a future version.\n",
      "Instructions for updating:\n",
      "Call initializer instance with the dtype argument instead of passing it to the constructor\n",
      "WARNING:tensorflow:From /usr/local/lib/python3.6/dist-packages/tensorflow/python/ops/init_ops.py:97: calling Orthogonal.__init__ (from tensorflow.python.ops.init_ops) with dtype is deprecated and will be removed in a future version.\n",
      "Instructions for updating:\n",
      "Call initializer instance with the dtype argument instead of passing it to the constructor\n",
      "WARNING:tensorflow:From /usr/local/lib/python3.6/dist-packages/tensorflow/python/ops/init_ops.py:97: calling Zeros.__init__ (from tensorflow.python.ops.init_ops) with dtype is deprecated and will be removed in a future version.\n",
      "Instructions for updating:\n",
      "Call initializer instance with the dtype argument instead of passing it to the constructor\n",
      "Message: delivery was hour late and my pizza was cold!\n",
      "predicted: joy (0.60 seconds)\n",
      "Message: They seemed anxious and hesitant about leaving , as if uncertain of which direction to take .\n",
      "predicted: joy (0.04 seconds)\n",
      "Message: Leading scorer Paul Wilkinson struck his 20th goal of the season against his former club but looked glum as he left the dressing room . \n",
      "predicted: joy (0.03 seconds)\n"
     ]
    }
   ],
   "source": [
    "# from keras.models import \n",
    "from tensorflow.keras.models import load_model\n",
    "# model.load_weights('amar_cp_final.ckpt', compile=False)\n",
    "predictor = load_model('/opt/amarnath/aicopia/sentiment/weights-simple.hdf5')\n",
    "\n",
    "\n",
    "message_list = [['delivery was hour late and my pizza was cold!'],\n",
    "                ['They seemed anxious and hesitant about leaving , as if uncertain of which direction to take .'],\n",
    "                ['Leading scorer Paul Wilkinson struck his 20th goal of the season against his former club but looked glum as he left the dressing room . ']]\n",
    "\n",
    "for message in message_list:\n",
    "    seq = tokenizer.texts_to_sequences(message)\n",
    "    padded = pad_sequences(seq, maxlen=MAX_LENGTH)\n",
    "\n",
    "    start_time = time.time()\n",
    "    pred = predictor.predict(padded)\n",
    "\n",
    "    print('Message: ' + str(message[0]))\n",
    "    print('predicted: {} ({:.2f} seconds)'.format(class_names[np.argmax(pred)], (time.time() - start_time)))"
   ]
  },
  {
   "cell_type": "code",
   "execution_count": null,
   "metadata": {},
   "outputs": [],
   "source": []
  }
 ],
 "metadata": {
  "kernelspec": {
   "display_name": "Python 3",
   "language": "python",
   "name": "python3"
  },
  "language_info": {
   "codemirror_mode": {
    "name": "ipython",
    "version": 3
   },
   "file_extension": ".py",
   "mimetype": "text/x-python",
   "name": "python",
   "nbconvert_exporter": "python",
   "pygments_lexer": "ipython3",
   "version": "3.6.9"
  }
 },
 "nbformat": 4,
 "nbformat_minor": 2
}
