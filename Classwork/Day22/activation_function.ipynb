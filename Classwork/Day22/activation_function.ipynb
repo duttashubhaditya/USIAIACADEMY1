{
  "nbformat": 4,
  "nbformat_minor": 0,
  "metadata": {
    "colab": {
      "name": "activation_function.ipynb",
      "provenance": []
    },
    "kernelspec": {
      "name": "python3",
      "display_name": "Python 3"
    },
    "language_info": {
      "name": "python"
    }
  },
  "cells": [
    {
      "cell_type": "code",
      "metadata": {
        "id": "FmUFqSZUXm0A"
      },
      "source": [
        "import numpy as np\n",
        "import matplotlib.pyplot as plt\n",
        "%matplotlib inline"
      ],
      "execution_count": null,
      "outputs": []
    },
    {
      "cell_type": "code",
      "metadata": {
        "id": "aTl-cQ85XpZu"
      },
      "source": [
        "x = np.arange(-5, 5, 0.01)\n"
      ],
      "execution_count": null,
      "outputs": []
    },
    {
      "cell_type": "code",
      "metadata": {
        "id": "IJXqOPJoXs_L"
      },
      "source": [
        "def plot(func, yaxis=(-1.4, 1.4)):\n",
        "    plt.ylim(yaxis)\n",
        "    plt.locator_params(nbins=5)\n",
        "    plt.xticks(fontsize = 14)\n",
        "    plt.yticks(fontsize = 14)\n",
        "    plt.axhline(lw=1, c='black')\n",
        "    plt.axvline(lw=1, c='black')\n",
        "    plt.grid(alpha=0.4, ls='-.')\n",
        "    plt.box(on=None)\n",
        "    plt.plot(x, func(x), c='r', lw=3)"
      ],
      "execution_count": null,
      "outputs": []
    },
    {
      "cell_type": "code",
      "metadata": {
        "id": "pcXTxUu6X2uJ"
      },
      "source": [
        "binary_step = np.vectorize(lambda x: 1 if x > 0 else 0, otypes=[np.float])"
      ],
      "execution_count": null,
      "outputs": []
    },
    {
      "cell_type": "code",
      "metadata": {
        "colab": {
          "base_uri": "https://localhost:8080/",
          "height": 269
        },
        "id": "aTXlFNvtX8oY",
        "outputId": "2efbc549-ffa7-46be-89eb-585a0736ea0b"
      },
      "source": [
        "plot(binary_step, yaxis=(-0.4, 1.4))\n"
      ],
      "execution_count": null,
      "outputs": [
        {
          "output_type": "display_data",
          "data": {
            "image/png": "[encoded data removed]",
            "text/plain": [
              "<Figure size 432x288 with 1 Axes>"
            ]
          },
          "metadata": {
            "needs_background": "light"
          }
        }
      ]
    },
    {
      "cell_type": "code",
      "metadata": {
        "id": "8LJDK6tJX-Tk"
      },
      "source": [
        "def sigmoid(x):\n",
        "    return 1 / (1 + np.exp(-x))"
      ],
      "execution_count": null,
      "outputs": []
    },
    {
      "cell_type": "code",
      "metadata": {
        "colab": {
          "base_uri": "https://localhost:8080/",
          "height": 269
        },
        "id": "X2uRCyh_YDxt",
        "outputId": "9be2fe61-a2b5-4d07-f1bf-47a741009999"
      },
      "source": [
        "plot(sigmoid, yaxis=(-0.4, 1.4))\n"
      ],
      "execution_count": null,
      "outputs": [
        {
          "output_type": "display_data",
          "data": {
            "image/png": "[encoded data removed]",
            "text/plain": [
              "<Figure size 432x288 with 1 Axes>"
            ]
          },
          "metadata": {
            "needs_background": "light"
          }
        }
      ]
    },
    {
      "cell_type": "code",
      "metadata": {
        "id": "V8XunXGRYE_e"
      },
      "source": [
        "def tanh(x):\n",
        "    return 2 / (1 + np.exp(-2 * x)) -1"
      ],
      "execution_count": null,
      "outputs": []
    },
    {
      "cell_type": "code",
      "metadata": {
        "colab": {
          "base_uri": "https://localhost:8080/",
          "height": 269
        },
        "id": "PlM9xJpYYIh2",
        "outputId": "5558da3c-2bff-4c39-fb84-272878f51ad4"
      },
      "source": [
        "plot(tanh)"
      ],
      "execution_count": null,
      "outputs": [
        {
          "output_type": "display_data",
          "data": {
            "image/png": "[encoded data removed]",
            "text/plain": [
              "<Figure size 432x288 with 1 Axes>"
            ]
          },
          "metadata": {
            "needs_background": "light"
          }
        }
      ]
    },
    {
      "cell_type": "code",
      "metadata": {
        "id": "XzUz8OGYYLvs"
      },
      "source": [
        "relu = np.vectorize(lambda x: x if x > 0 else 0, otypes=[np.float])"
      ],
      "execution_count": null,
      "outputs": []
    },
    {
      "cell_type": "code",
      "metadata": {
        "colab": {
          "base_uri": "https://localhost:8080/",
          "height": 269
        },
        "id": "Ml8w_MZcYQvk",
        "outputId": "60a05533-23ef-40ad-8f40-1c3345e9c63f"
      },
      "source": [
        "plot(relu, yaxis=(-0.4, 1.4))\n"
      ],
      "execution_count": null,
      "outputs": [
        {
          "output_type": "display_data",
          "data": {
            "image/png": "[encoded data removed]",
            "text/plain": [
              "<Figure size 432x288 with 1 Axes>"
            ]
          },
          "metadata": {
            "needs_background": "light"
          }
        }
      ]
    },
    {
      "cell_type": "code",
      "metadata": {
        "id": "AZxVIOZJYSO0"
      },
      "source": [
        "leaky_relu = np.vectorize(lambda x: max(0.1 * x, x), otypes=[np.float])"
      ],
      "execution_count": null,
      "outputs": []
    },
    {
      "cell_type": "code",
      "metadata": {
        "colab": {
          "base_uri": "https://localhost:8080/",
          "height": 269
        },
        "id": "Io3FcfMoYVEA",
        "outputId": "a1bd5c9a-652f-4a45-cb6c-8d6063081612"
      },
      "source": [
        "plot(leaky_relu)\n"
      ],
      "execution_count": null,
      "outputs": [
        {
          "output_type": "display_data",
          "data": {
            "image/png": "[encoded data removed]",
            "text/plain": [
              "<Figure size 432x288 with 1 Axes>"
            ]
          },
          "metadata": {
            "needs_background": "light"
          }
        }
      ]
    },
    {
      "cell_type": "code",
      "metadata": {
        "id": "Ycb7krGzYWg8"
      },
      "source": [
        "import numpy as np"
      ],
      "execution_count": null,
      "outputs": []
    },
    {
      "cell_type": "code",
      "metadata": {
        "id": "8GdTXdzXYzWh"
      },
      "source": [
        "x_input = np.array([-2 ,4, 12,22])"
      ],
      "execution_count": null,
      "outputs": []
    },
    {
      "cell_type": "code",
      "metadata": {
        "id": "sfAz9u2VY8Un"
      },
      "source": [
        "num = np.exp(x_input)"
      ],
      "execution_count": null,
      "outputs": []
    },
    {
      "cell_type": "code",
      "metadata": {
        "colab": {
          "base_uri": "https://localhost:8080/"
        },
        "id": "DFH88MuLZH9f",
        "outputId": "932f51f4-3d83-4e63-e800-0b7cb357b510"
      },
      "source": [
        "num"
      ],
      "execution_count": null,
      "outputs": [
        {
          "output_type": "execute_result",
          "data": {
            "text/plain": [
              "array([1.35335283e-01, 5.45981500e+01, 1.62754791e+05, 3.58491285e+09])"
            ]
          },
          "metadata": {},
          "execution_count": 17
        }
      ]
    },
    {
      "cell_type": "code",
      "metadata": {
        "id": "ptKGLrMEZI2S"
      },
      "source": [
        "den = np.sum(np.exp(x_input))"
      ],
      "execution_count": null,
      "outputs": []
    },
    {
      "cell_type": "code",
      "metadata": {
        "colab": {
          "base_uri": "https://localhost:8080/"
        },
        "id": "XZTClhcSZOdl",
        "outputId": "d522f7ca-af80-41a4-a72c-ed20032491ff"
      },
      "source": [
        "den"
      ],
      "execution_count": null,
      "outputs": [
        {
          "output_type": "execute_result",
          "data": {
            "text/plain": [
              "3585075655.656496"
            ]
          },
          "metadata": {},
          "execution_count": 21
        }
      ]
    },
    {
      "cell_type": "code",
      "metadata": {
        "id": "7lPVSCoyZQC_"
      },
      "source": [
        "out = num/den"
      ],
      "execution_count": null,
      "outputs": []
    },
    {
      "cell_type": "code",
      "metadata": {
        "colab": {
          "base_uri": "https://localhost:8080/"
        },
        "id": "7EWeUWEtZZ0v",
        "outputId": "0c9a202b-63e3-4489-de67-ea1237081279"
      },
      "source": [
        "np.sum(out)"
      ],
      "execution_count": null,
      "outputs": [
        {
          "output_type": "execute_result",
          "data": {
            "text/plain": [
              "1.0"
            ]
          },
          "metadata": {},
          "execution_count": 26
        }
      ]
    },
    {
      "cell_type": "code",
      "metadata": {
        "id": "4UVRNTLYZaf_"
      },
      "source": [
        "def tanh(x):\n",
        "  return (math.exp(x) - math.exp(-x)) / (math.exp(x) + math.exp(-x))"
      ],
      "execution_count": null,
      "outputs": []
    },
    {
      "cell_type": "code",
      "metadata": {
        "id": "-I1DkDhGaHsP"
      },
      "source": [
        "def relu(x):\n",
        "    return max(0,x)"
      ],
      "execution_count": null,
      "outputs": []
    },
    {
      "cell_type": "code",
      "metadata": {
        "id": "nwrq8R1ZaJ5C"
      },
      "source": [
        "\n",
        "def leaky_relu(x):\n",
        "    return max(0.1*x,x)"
      ],
      "execution_count": null,
      "outputs": []
    },
    {
      "cell_type": "code",
      "metadata": {
        "id": "vxSavNptaL0-"
      },
      "source": [
        ""
      ],
      "execution_count": null,
      "outputs": []
    }
  ]
}