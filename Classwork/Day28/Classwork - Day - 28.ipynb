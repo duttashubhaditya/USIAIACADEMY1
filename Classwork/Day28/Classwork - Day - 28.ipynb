{
 "cells": [
  {
   "cell_type": "code",
   "execution_count": 46,
   "metadata": {
    "id": "OevRZ-KJ7gXs"
   },
   "outputs": [],
   "source": [
    "import numpy as np\n",
    "import pandas as pd\n",
    "import tensorflow as tf\n",
    "from tensorflow.keras.models import Sequential\n",
    "from tensorflow.keras.layers import Dense\n",
    "from tensorflow.keras import datasets, layers, models\n",
    "import matplotlib.pyplot as plt\n",
    "import cv2"
   ]
  },
  {
   "cell_type": "code",
   "execution_count": 2,
   "metadata": {
    "id": "b7i6vFyA8MR9"
   },
   "outputs": [],
   "source": [
    "img = cv2.imread('img.png')"
   ]
  },
  {
   "cell_type": "code",
   "execution_count": 3,
   "metadata": {
    "colab": {
     "base_uri": "https://localhost:8080/"
    },
    "id": "XlT8GRB58Usy",
    "outputId": "e0538434-dff0-4c30-ead1-b9dd1c9b46a2"
   },
   "outputs": [
    {
     "name": "stdout",
     "output_type": "stream",
     "text": [
      "[[[255 255 255]\n",
      "  [255 255 255]\n",
      "  [255 255 255]\n",
      "  ...\n",
      "  [255 255 255]\n",
      "  [255 255 255]\n",
      "  [255 255 255]]\n",
      "\n",
      " [[255 255 255]\n",
      "  [255 255 255]\n",
      "  [255 255 255]\n",
      "  ...\n",
      "  [255 255 255]\n",
      "  [255 255 255]\n",
      "  [255 255 255]]\n",
      "\n",
      " [[255 255 255]\n",
      "  [255 255 255]\n",
      "  [255 255 255]\n",
      "  ...\n",
      "  [255 255 255]\n",
      "  [255 255 255]\n",
      "  [255 255 255]]\n",
      "\n",
      " ...\n",
      "\n",
      " [[255 255 255]\n",
      "  [255 255 255]\n",
      "  [255 255 255]\n",
      "  ...\n",
      "  [255 255 255]\n",
      "  [255 255 255]\n",
      "  [255 255 255]]\n",
      "\n",
      " [[255 255 255]\n",
      "  [255 255 255]\n",
      "  [255 255 255]\n",
      "  ...\n",
      "  [255 255 255]\n",
      "  [255 255 255]\n",
      "  [255 255 255]]\n",
      "\n",
      " [[255 255 255]\n",
      "  [255 255 255]\n",
      "  [255 255 255]\n",
      "  ...\n",
      "  [255 255 255]\n",
      "  [255 255 255]\n",
      "  [255 255 255]]]\n"
     ]
    }
   ],
   "source": [
    "print(img)"
   ]
  },
  {
   "cell_type": "code",
   "execution_count": 4,
   "metadata": {
    "colab": {
     "base_uri": "https://localhost:8080/"
    },
    "id": "zXleAdtj8Wza",
    "outputId": "da306c6f-1f47-4882-f742-8f22b2d95489"
   },
   "outputs": [
    {
     "data": {
      "text/plain": [
       "(648, 1152, 3)"
      ]
     },
     "execution_count": 4,
     "metadata": {},
     "output_type": "execute_result"
    }
   ],
   "source": [
    "img.shape"
   ]
  },
  {
   "cell_type": "code",
   "execution_count": 5,
   "metadata": {
    "id": "VOJHDZlD8axl"
   },
   "outputs": [],
   "source": [
    "b = img[:,:,0]"
   ]
  },
  {
   "cell_type": "code",
   "execution_count": 6,
   "metadata": {
    "colab": {
     "base_uri": "https://localhost:8080/"
    },
    "id": "BQ0rLT7T8jyG",
    "outputId": "2750a2d7-a141-418a-bd68-3b37ef0238fe"
   },
   "outputs": [
    {
     "name": "stdout",
     "output_type": "stream",
     "text": [
      "[[255 255 255 ... 255 255 255]\n",
      " [255 255 255 ... 255 255 255]\n",
      " [255 255 255 ... 255 255 255]\n",
      " ...\n",
      " [255 255 255 ... 255 255 255]\n",
      " [255 255 255 ... 255 255 255]\n",
      " [255 255 255 ... 255 255 255]]\n"
     ]
    }
   ],
   "source": [
    "print(b)"
   ]
  },
  {
   "cell_type": "code",
   "execution_count": 7,
   "metadata": {
    "id": "pqSgb-HL8l_Q"
   },
   "outputs": [],
   "source": [
    "g = img[:,:,1]"
   ]
  },
  {
   "cell_type": "code",
   "execution_count": 8,
   "metadata": {
    "id": "gdUiNR34824Y"
   },
   "outputs": [],
   "source": [
    "r = img[:,:,2]"
   ]
  },
  {
   "cell_type": "code",
   "execution_count": 9,
   "metadata": {
    "colab": {
     "base_uri": "https://localhost:8080/"
    },
    "id": "33uwz3Dx85kC",
    "outputId": "a3e729c1-1323-49be-c6df-a50bc8ca6b9f"
   },
   "outputs": [
    {
     "data": {
      "text/plain": [
       "array([[255, 255, 255, ..., 255, 255, 255],\n",
       "       [255, 255, 255, ..., 255, 255, 255],\n",
       "       [255, 255, 255, ..., 255, 255, 255],\n",
       "       ...,\n",
       "       [255, 255, 255, ..., 255, 255, 255],\n",
       "       [255, 255, 255, ..., 255, 255, 255],\n",
       "       [255, 255, 255, ..., 255, 255, 255]], dtype=uint8)"
      ]
     },
     "execution_count": 9,
     "metadata": {},
     "output_type": "execute_result"
    }
   ],
   "source": [
    "g"
   ]
  },
  {
   "cell_type": "code",
   "execution_count": 10,
   "metadata": {
    "colab": {
     "base_uri": "https://localhost:8080/"
    },
    "id": "WxJOi9fx8_Cx",
    "outputId": "a3eaf0a5-3043-4ab2-ae77-48b64eb7a3f0"
   },
   "outputs": [
    {
     "data": {
      "text/plain": [
       "array([[255, 255, 255, ..., 255, 255, 255],\n",
       "       [255, 255, 255, ..., 255, 255, 255],\n",
       "       [255, 255, 255, ..., 255, 255, 255],\n",
       "       ...,\n",
       "       [255, 255, 255, ..., 255, 255, 255],\n",
       "       [255, 255, 255, ..., 255, 255, 255],\n",
       "       [255, 255, 255, ..., 255, 255, 255]], dtype=uint8)"
      ]
     },
     "execution_count": 10,
     "metadata": {},
     "output_type": "execute_result"
    }
   ],
   "source": [
    "r"
   ]
  },
  {
   "cell_type": "code",
   "execution_count": 11,
   "metadata": {
    "id": "GPSqN5ZL9AWk"
   },
   "outputs": [
    {
     "data": {
      "image/png": "[encoded data removed]",
      "text/plain": [
       "<Figure size 432x288 with 1 Axes>"
      ]
     },
     "metadata": {
      "needs_background": "light"
     },
     "output_type": "display_data"
    }
   ],
   "source": [
    "from matplotlib import pyplot as plt\n",
    "plt.imshow(img)\n",
    "plt.show()"
   ]
  },
  {
   "cell_type": "code",
   "execution_count": 12,
   "metadata": {},
   "outputs": [
    {
     "data": {
      "image/png": "[encoded data removed]",
      "text/plain": [
       "<Figure size 432x288 with 1 Axes>"
      ]
     },
     "metadata": {
      "needs_background": "light"
     },
     "output_type": "display_data"
    }
   ],
   "source": [
    "plt.imshow(b, cmap=\"gray\")\n",
    "plt.show()"
   ]
  },
  {
   "cell_type": "code",
   "execution_count": 13,
   "metadata": {},
   "outputs": [
    {
     "data": {
      "image/png": "[encoded data removed]",
      "text/plain": [
       "<Figure size 432x288 with 1 Axes>"
      ]
     },
     "metadata": {
      "needs_background": "light"
     },
     "output_type": "display_data"
    }
   ],
   "source": [
    "plt.imshow(g)\n",
    "plt.show()"
   ]
  },
  {
   "cell_type": "code",
   "execution_count": 14,
   "metadata": {},
   "outputs": [],
   "source": [
    "img = cv2.cvtColor(img, cv2.COLOR_BGR2RGB)"
   ]
  },
  {
   "cell_type": "code",
   "execution_count": 15,
   "metadata": {},
   "outputs": [
    {
     "data": {
      "image/png": "[encoded data removed]",
      "text/plain": [
       "<Figure size 432x288 with 1 Axes>"
      ]
     },
     "metadata": {
      "needs_background": "light"
     },
     "output_type": "display_data"
    }
   ],
   "source": [
    "plt.imshow(b, cmap=\"gray\")\n",
    "plt.show()"
   ]
  },
  {
   "cell_type": "code",
   "execution_count": 16,
   "metadata": {},
   "outputs": [],
   "source": [
    "# Blur the image for better edge detection\n",
    "img_gray = cv2.cvtColor(img, cv2.COLOR_BGR2GRAY)\n",
    "img_blur = cv2.GaussianBlur(img_gray, (3,3), 0) "
   ]
  },
  {
   "cell_type": "code",
   "execution_count": 17,
   "metadata": {},
   "outputs": [],
   "source": [
    "# Sobel Edge Detection\n",
    "sobelx = cv2.Sobel(src=img_blur, ddepth=cv2.CV_64F, dx=1, dy=0, ksize=5) # Sobel Edge Detection on the X axis\n",
    "sobely = cv2.Sobel(src=img_blur, ddepth=cv2.CV_64F, dx=0, dy=1, ksize=5) # Sobel Edge Detection on the Y axis\n",
    "sobelxy = cv2.Sobel(src=img_blur, ddepth=cv2.CV_64F, dx=1, dy=1, ksize=5) # Combined X and Y Sobel Edge Detection"
   ]
  },
  {
   "cell_type": "code",
   "execution_count": 18,
   "metadata": {},
   "outputs": [
    {
     "data": {
      "image/png": "[encoded data removed]",
      "text/plain": [
       "<Figure size 432x288 with 1 Axes>"
      ]
     },
     "metadata": {
      "needs_background": "light"
     },
     "output_type": "display_data"
    }
   ],
   "source": [
    "plt.imshow(sobelx, cmap=\"gray\")\n",
    "plt.show()"
   ]
  },
  {
   "cell_type": "code",
   "execution_count": 19,
   "metadata": {},
   "outputs": [
    {
     "data": {
      "image/png": "[encoded data removed]",
      "text/plain": [
       "<Figure size 432x288 with 1 Axes>"
      ]
     },
     "metadata": {
      "needs_background": "light"
     },
     "output_type": "display_data"
    }
   ],
   "source": [
    "plt.imshow(sobely, cmap=\"gray\")\n",
    "plt.show()"
   ]
  },
  {
   "cell_type": "code",
   "execution_count": 20,
   "metadata": {},
   "outputs": [
    {
     "data": {
      "image/png": "[encoded data removed]",
      "text/plain": [
       "<Figure size 432x288 with 1 Axes>"
      ]
     },
     "metadata": {
      "needs_background": "light"
     },
     "output_type": "display_data"
    }
   ],
   "source": [
    "plt.imshow(sobelxy, cmap=\"gray\")\n",
    "plt.show()"
   ]
  },
  {
   "cell_type": "code",
   "execution_count": 21,
   "metadata": {},
   "outputs": [],
   "source": [
    "import os\n",
    "import shutil"
   ]
  },
  {
   "cell_type": "code",
   "execution_count": 25,
   "metadata": {},
   "outputs": [],
   "source": [
    "model = models.Sequential()\n",
    "model.add(layers.Conv2D(6, (3, 3), strides=(1, 1), activation='relu', input_shape=(20, 20, 3)))\n",
    "model.add(layers.MaxPooling2D(pool_size=(2, 2), strides=(2,2)))\n",
    "model.add(layers.Conv2D(6, (3, 3), activation='relu'))\n",
    "\n",
    "model.add(layers.Flatten())\n"
   ]
  },
  {
   "cell_type": "code",
   "execution_count": 26,
   "metadata": {},
   "outputs": [
    {
     "name": "stdout",
     "output_type": "stream",
     "text": [
      "Model: \"sequential\"\n",
      "_________________________________________________________________\n",
      "Layer (type)                 Output Shape              Param #   \n",
      "=================================================================\n",
      "conv2d (Conv2D)              (None, 18, 18, 6)         168       \n",
      "_________________________________________________________________\n",
      "max_pooling2d (MaxPooling2D) (None, 9, 9, 6)           0         \n",
      "_________________________________________________________________\n",
      "conv2d_1 (Conv2D)            (None, 7, 7, 6)           330       \n",
      "_________________________________________________________________\n",
      "flatten (Flatten)            (None, 294)               0         \n",
      "=================================================================\n",
      "Total params: 498\n",
      "Trainable params: 498\n",
      "Non-trainable params: 0\n",
      "_________________________________________________________________\n"
     ]
    }
   ],
   "source": [
    "model.summary()"
   ]
  },
  {
   "cell_type": "code",
   "execution_count": 30,
   "metadata": {},
   "outputs": [],
   "source": [
    "model2 = models.Sequential()\n",
    "model2.add(layers.Conv2D(9, (3, 3), strides=(1, 1), activation='relu', input_shape=(20, 20, 3)))\n",
    "model2.add(layers.MaxPooling2D(pool_size=(2, 2), strides=(2,2)))\n",
    "model2.add(layers.Conv2D(9, (3, 3), activation='relu'))\n",
    "\n",
    "model2.add(layers.Flatten())"
   ]
  },
  {
   "cell_type": "code",
   "execution_count": 31,
   "metadata": {},
   "outputs": [
    {
     "name": "stdout",
     "output_type": "stream",
     "text": [
      "Model: \"sequential_4\"\n",
      "_________________________________________________________________\n",
      "Layer (type)                 Output Shape              Param #   \n",
      "=================================================================\n",
      "conv2d_8 (Conv2D)            (None, 18, 18, 9)         252       \n",
      "_________________________________________________________________\n",
      "max_pooling2d_4 (MaxPooling2 (None, 9, 9, 9)           0         \n",
      "_________________________________________________________________\n",
      "conv2d_9 (Conv2D)            (None, 7, 7, 9)           738       \n",
      "_________________________________________________________________\n",
      "flatten_2 (Flatten)          (None, 441)               0         \n",
      "=================================================================\n",
      "Total params: 990\n",
      "Trainable params: 990\n",
      "Non-trainable params: 0\n",
      "_________________________________________________________________\n"
     ]
    }
   ],
   "source": [
    "model2.summary()"
   ]
  },
  {
   "cell_type": "code",
   "execution_count": 32,
   "metadata": {},
   "outputs": [
    {
     "name": "stdout",
     "output_type": "stream",
     "text": [
      "Model: \"sequential_5\"\n",
      "_________________________________________________________________\n",
      "Layer (type)                 Output Shape              Param #   \n",
      "=================================================================\n",
      "conv2d_10 (Conv2D)           (None, 20, 20, 6)         168       \n",
      "_________________________________________________________________\n",
      "max_pooling2d_5 (MaxPooling2 (None, 10, 10, 6)         0         \n",
      "_________________________________________________________________\n",
      "conv2d_11 (Conv2D)           (None, 10, 10, 5)         275       \n",
      "_________________________________________________________________\n",
      "max_pooling2d_6 (MaxPooling2 (None, 5, 5, 5)           0         \n",
      "_________________________________________________________________\n",
      "flatten_3 (Flatten)          (None, 125)               0         \n",
      "=================================================================\n",
      "Total params: 443\n",
      "Trainable params: 443\n",
      "Non-trainable params: 0\n",
      "_________________________________________________________________\n"
     ]
    }
   ],
   "source": [
    "model3 = models.Sequential()\n",
    "model3.add(layers.Conv2D(6, (3, 3), strides=(1, 1), activation='relu', input_shape=(20, 20, 3), padding='same'))\n",
    "model3.add(layers.MaxPooling2D(pool_size=(2, 2), strides=(2,2)))\n",
    "model3.add(layers.Conv2D(5, (3, 3), activation='relu', padding='same'))\n",
    "model3.add(layers.MaxPooling2D(pool_size=(2, 2), strides=(2,2)))\n",
    "model3.add(layers.Flatten())\n",
    "model3.summary()"
   ]
  },
  {
   "cell_type": "code",
   "execution_count": 33,
   "metadata": {},
   "outputs": [
    {
     "name": "stdout",
     "output_type": "stream",
     "text": [
      "Model: \"sequential_4\"\n",
      "_________________________________________________________________\n",
      "Layer (type)                 Output Shape              Param #   \n",
      "=================================================================\n",
      "conv2d_8 (Conv2D)            (None, 18, 18, 9)         252       \n",
      "_________________________________________________________________\n",
      "max_pooling2d_4 (MaxPooling2 (None, 9, 9, 9)           0         \n",
      "_________________________________________________________________\n",
      "conv2d_9 (Conv2D)            (None, 7, 7, 9)           738       \n",
      "_________________________________________________________________\n",
      "flatten_2 (Flatten)          (None, 441)               0         \n",
      "_________________________________________________________________\n",
      "dense (Dense)                (None, 20)                8840      \n",
      "_________________________________________________________________\n",
      "dense_1 (Dense)              (None, 3)                 63        \n",
      "=================================================================\n",
      "Total params: 9,893\n",
      "Trainable params: 9,893\n",
      "Non-trainable params: 0\n",
      "_________________________________________________________________\n"
     ]
    }
   ],
   "source": [
    "model2.add(Dense(20, activation='relu'))\n",
    "model2.add(Dense(3))\n",
    "model2.summary()"
   ]
  },
  {
   "cell_type": "code",
   "execution_count": 35,
   "metadata": {},
   "outputs": [
    {
     "name": "stdout",
     "output_type": "stream",
     "text": [
      "Found 30 files belonging to 3 classes.\n",
      "Using 6 files for validation.\n"
     ]
    }
   ],
   "source": [
    "data_dir = 'digits'\n",
    "img_height, img_width = 20, 20\n",
    "batch_size=10\n",
    "\n",
    "train_ds = tf.keras.utils.image_dataset_from_directory(\n",
    "  data_dir,\n",
    "  validation_split=0.2,\n",
    "  subset=\"validation\",\n",
    "  seed=123,\n",
    "  image_size=(img_height, img_width),\n",
    "  batch_size=batch_size)"
   ]
  },
  {
   "cell_type": "code",
   "execution_count": 36,
   "metadata": {},
   "outputs": [
    {
     "name": "stdout",
     "output_type": "stream",
     "text": [
      "['1', '2', '3']\n"
     ]
    }
   ],
   "source": [
    "class_names = train_ds.class_names\n",
    "print(class_names)"
   ]
  },
  {
   "cell_type": "code",
   "execution_count": 37,
   "metadata": {},
   "outputs": [
    {
     "name": "stdout",
     "output_type": "stream",
     "text": [
      "(6, 20, 20, 3) tf.Tensor([0 1 2 1 1 0], shape=(6,), dtype=int32)\n"
     ]
    },
    {
     "data": {
      "image/png": "[encoded data removed]",
      "text/plain": [
       "<Figure size 720x720 with 6 Axes>"
      ]
     },
     "metadata": {
      "needs_background": "light"
     },
     "output_type": "display_data"
    }
   ],
   "source": [
    "import matplotlib.pyplot as plt\n",
    "\n",
    "plt.figure(figsize=(10, 10))\n",
    "for images, labels in train_ds.take(1):\n",
    "  print(images.shape, labels)\n",
    "  for i in range(6):\n",
    "    ax = plt.subplot(3, 3, i + 1)\n",
    "    plt.imshow(images[i].numpy().astype(\"uint8\"))\n",
    "    plt.title(class_names[labels[i]])\n",
    "    plt.axis(\"off\")"
   ]
  },
  {
   "cell_type": "code",
   "execution_count": 38,
   "metadata": {},
   "outputs": [
    {
     "name": "stdout",
     "output_type": "stream",
     "text": [
      "(6, 20, 20, 3)\n",
      "(6,)\n"
     ]
    }
   ],
   "source": [
    "for image_batch, labels_batch in train_ds:\n",
    "  print(image_batch.shape)\n",
    "  print(labels_batch.shape)\n",
    "  break"
   ]
  },
  {
   "cell_type": "code",
   "execution_count": 43,
   "metadata": {},
   "outputs": [],
   "source": [
    "normalization_layer = tf.keras.layers.Rescaling(1./255)"
   ]
  },
  {
   "cell_type": "code",
   "execution_count": 47,
   "metadata": {},
   "outputs": [
    {
     "name": "stdout",
     "output_type": "stream",
     "text": [
      "0.0 1.0\n"
     ]
    }
   ],
   "source": [
    "normalized_ds = train_ds.map(lambda x, y: (normalization_layer(x), y))\n",
    "image_batch, labels_batch = next(iter(normalized_ds))\n",
    "first_image = image_batch[0]\n",
    "# Notice the pixel values are now in `[0,1]`.\n",
    "print(np.min(first_image), np.max(first_image))"
   ]
  },
  {
   "cell_type": "code",
   "execution_count": 49,
   "metadata": {},
   "outputs": [],
   "source": [
    "model2.compile(optimizer='adam',\n",
    "              loss=tf.keras.losses.SparseCategoricalCrossentropy(from_logits=True),\n",
    "              metrics=['accuracy'])"
   ]
  },
  {
   "cell_type": "code",
   "execution_count": 50,
   "metadata": {},
   "outputs": [
    {
     "name": "stdout",
     "output_type": "stream",
     "text": [
      "Epoch 1/20\n",
      "1/1 [==============================] - 0s 428ms/step - loss: 240.0455 - accuracy: 0.3333\n",
      "Epoch 2/20\n",
      "1/1 [==============================] - 0s 10ms/step - loss: 121.2059 - accuracy: 0.5000\n",
      "Epoch 3/20\n",
      "1/1 [==============================] - 0s 12ms/step - loss: 51.7445 - accuracy: 0.6667\n",
      "Epoch 4/20\n",
      "1/1 [==============================] - 0s 9ms/step - loss: 60.0134 - accuracy: 0.3333\n",
      "Epoch 5/20\n",
      "1/1 [==============================] - 0s 14ms/step - loss: 70.8663 - accuracy: 0.5000\n",
      "Epoch 6/20\n",
      "1/1 [==============================] - 0s 11ms/step - loss: 58.1425 - accuracy: 0.5000\n",
      "Epoch 7/20\n",
      "1/1 [==============================] - 0s 9ms/step - loss: 33.6030 - accuracy: 0.3333\n",
      "Epoch 8/20\n",
      "1/1 [==============================] - 0s 12ms/step - loss: 34.0782 - accuracy: 0.5000\n",
      "Epoch 9/20\n",
      "1/1 [==============================] - 0s 12ms/step - loss: 29.7335 - accuracy: 0.5000\n",
      "Epoch 10/20\n",
      "1/1 [==============================] - 0s 10ms/step - loss: 17.9904 - accuracy: 0.5000\n",
      "Epoch 11/20\n",
      "1/1 [==============================] - 0s 15ms/step - loss: 3.8102 - accuracy: 0.6667\n",
      "Epoch 12/20\n",
      "1/1 [==============================] - 0s 13ms/step - loss: 1.9868e-08 - accuracy: 1.0000\n",
      "Epoch 13/20\n",
      "1/1 [==============================] - 0s 12ms/step - loss: 0.0000e+00 - accuracy: 1.0000\n",
      "Epoch 14/20\n",
      "1/1 [==============================] - 0s 12ms/step - loss: 0.0000e+00 - accuracy: 1.0000\n",
      "Epoch 15/20\n",
      "1/1 [==============================] - 0s 12ms/step - loss: 0.0000e+00 - accuracy: 1.0000\n",
      "Epoch 16/20\n",
      "1/1 [==============================] - 0s 13ms/step - loss: 5.9605e-08 - accuracy: 1.0000\n",
      "Epoch 17/20\n",
      "1/1 [==============================] - 0s 9ms/step - loss: 0.0603 - accuracy: 1.0000\n",
      "Epoch 18/20\n",
      "1/1 [==============================] - 0s 17ms/step - loss: 1.7225 - accuracy: 0.8333\n",
      "Epoch 19/20\n",
      "1/1 [==============================] - 0s 13ms/step - loss: 2.5989 - accuracy: 0.8333\n",
      "Epoch 20/20\n",
      "1/1 [==============================] - 0s 13ms/step - loss: 2.6151 - accuracy: 0.8333\n"
     ]
    }
   ],
   "source": [
    "history = model2.fit(train_ds, epochs=20)"
   ]
  },
  {
   "cell_type": "code",
   "execution_count": 88,
   "metadata": {},
   "outputs": [],
   "source": [
    "from keras.datasets import mnist\n",
    "from matplotlib import pyplot\n",
    "# load dataset\n",
    "(trainX, trainy), (testX, testy) = mnist.load_data()\n"
   ]
  },
  {
   "cell_type": "code",
   "execution_count": 89,
   "metadata": {},
   "outputs": [],
   "source": [
    "trainX = trainX.reshape((trainX.shape[0], 28, 28, 1))\n",
    "testX = testX.reshape((testX.shape[0], 28, 28, 1))"
   ]
  },
  {
   "cell_type": "code",
   "execution_count": 90,
   "metadata": {},
   "outputs": [],
   "source": [
    "# one hot encode target values\n",
    "trainy = tf.keras.utils.to_categorical(trainy)\n",
    "testy = tf.keras.utils.to_categorical(testy)"
   ]
  },
  {
   "cell_type": "code",
   "execution_count": 91,
   "metadata": {},
   "outputs": [
    {
     "data": {
      "image/png": "[encoded data removed]",
      "text/plain": [
       "<Figure size 432x288 with 9 Axes>"
      ]
     },
     "metadata": {
      "needs_background": "light"
     },
     "output_type": "display_data"
    }
   ],
   "source": [
    "for i in range(9):\n",
    "\t# define subplot\n",
    "\tpyplot.subplot(330 + 1 + i)\n",
    "\t# plot raw pixel data\n",
    "\tpyplot.imshow(trainX[i], cmap=pyplot.get_cmap('gray'))\n",
    "# show the figure\n",
    "pyplot.show()"
   ]
  },
  {
   "cell_type": "code",
   "execution_count": 92,
   "metadata": {},
   "outputs": [
    {
     "name": "stdout",
     "output_type": "stream",
     "text": [
      "Model: \"sequential_16\"\n",
      "_________________________________________________________________\n",
      "Layer (type)                 Output Shape              Param #   \n",
      "=================================================================\n",
      "conv2d_32 (Conv2D)           (None, 26, 26, 64)        640       \n",
      "_________________________________________________________________\n",
      "max_pooling2d_27 (MaxPooling (None, 13, 13, 64)        0         \n",
      "_________________________________________________________________\n",
      "conv2d_33 (Conv2D)           (None, 11, 11, 32)        18464     \n",
      "_________________________________________________________________\n",
      "max_pooling2d_28 (MaxPooling (None, 5, 5, 32)          0         \n",
      "_________________________________________________________________\n",
      "flatten_13 (Flatten)         (None, 800)               0         \n",
      "_________________________________________________________________\n",
      "dense_29 (Dense)             (None, 40)                32040     \n",
      "_________________________________________________________________\n",
      "dense_30 (Dense)             (None, 20)                820       \n",
      "_________________________________________________________________\n",
      "dense_31 (Dense)             (None, 10)                210       \n",
      "=================================================================\n",
      "Total params: 52,174\n",
      "Trainable params: 52,174\n",
      "Non-trainable params: 0\n",
      "_________________________________________________________________\n"
     ]
    }
   ],
   "source": [
    "model3 = models.Sequential()\n",
    "model3.add(layers.Conv2D(64, (3, 3), activation='relu', input_shape=(28, 28, 1)))\n",
    "model3.add(layers.MaxPooling2D((2, 2)))\n",
    "model3.add(layers.Conv2D(32, (3, 3), activation='relu'))\n",
    "model3.add(layers.MaxPooling2D((2, 2)))\n",
    "\n",
    "model3.add(layers.Flatten())\n",
    "model3.add(Dense(40, activation='relu'))\n",
    "model3.add(Dense(20, activation='relu'))\n",
    "model3.add(Dense(10, activation='softmax'))\n",
    "model3.summary()"
   ]
  },
  {
   "cell_type": "code",
   "execution_count": 93,
   "metadata": {},
   "outputs": [
    {
     "name": "stdout",
     "output_type": "stream",
     "text": [
      "Epoch 1/50\n",
      "1875/1875 [==============================] - 58s 30ms/step - loss: 0.2548 - accuracy: 0.9282 - val_loss: 0.0850 - val_accuracy: 0.9756\n",
      "Epoch 2/50\n",
      "1875/1875 [==============================] - 54s 29ms/step - loss: 0.0781 - accuracy: 0.9776 - val_loss: 0.0530 - val_accuracy: 0.9828\n",
      "Epoch 3/50\n",
      "1875/1875 [==============================] - 49s 26ms/step - loss: 0.0566 - accuracy: 0.9832 - val_loss: 0.0414 - val_accuracy: 0.9869\n",
      "Epoch 4/50\n",
      "1875/1875 [==============================] - 51s 27ms/step - loss: 0.0467 - accuracy: 0.9862 - val_loss: 0.0550 - val_accuracy: 0.9841\n",
      "Epoch 5/50\n",
      "1875/1875 [==============================] - 52s 28ms/step - loss: 0.0387 - accuracy: 0.9878 - val_loss: 0.0413 - val_accuracy: 0.9873\n",
      "Epoch 6/50\n",
      "1875/1875 [==============================] - 53s 28ms/step - loss: 0.0317 - accuracy: 0.9897 - val_loss: 0.0448 - val_accuracy: 0.9875\n",
      "Epoch 7/50\n",
      "1875/1875 [==============================] - 52s 28ms/step - loss: 0.0293 - accuracy: 0.9907 - val_loss: 0.0529 - val_accuracy: 0.9866\n",
      "Epoch 8/50\n",
      "1875/1875 [==============================] - 53s 28ms/step - loss: 0.0252 - accuracy: 0.9922 - val_loss: 0.0612 - val_accuracy: 0.9841\n",
      "Epoch 9/50\n",
      "1875/1875 [==============================] - 52s 28ms/step - loss: 0.0231 - accuracy: 0.9929 - val_loss: 0.0568 - val_accuracy: 0.9861\n",
      "Epoch 10/50\n",
      "1875/1875 [==============================] - 52s 28ms/step - loss: 0.0216 - accuracy: 0.9935 - val_loss: 0.0578 - val_accuracy: 0.9855\n",
      "Epoch 11/50\n",
      "1875/1875 [==============================] - 52s 28ms/step - loss: 0.0196 - accuracy: 0.9939 - val_loss: 0.0513 - val_accuracy: 0.9880\n",
      "Epoch 12/50\n",
      "1875/1875 [==============================] - 53s 28ms/step - loss: 0.0188 - accuracy: 0.9941 - val_loss: 0.0611 - val_accuracy: 0.9858\n",
      "Epoch 13/50\n",
      "1875/1875 [==============================] - 53s 28ms/step - loss: 0.0202 - accuracy: 0.9939 - val_loss: 0.0670 - val_accuracy: 0.9856\n",
      "Epoch 14/50\n",
      "1875/1875 [==============================] - 53s 28ms/step - loss: 0.0162 - accuracy: 0.9952 - val_loss: 0.0658 - val_accuracy: 0.9854\n",
      "Epoch 15/50\n",
      "1875/1875 [==============================] - 52s 28ms/step - loss: 0.0152 - accuracy: 0.9953 - val_loss: 0.0576 - val_accuracy: 0.9869\n",
      "Epoch 16/50\n",
      "1875/1875 [==============================] - 52s 28ms/step - loss: 0.0147 - accuracy: 0.9952 - val_loss: 0.0864 - val_accuracy: 0.9824\n",
      "Epoch 17/50\n",
      "1875/1875 [==============================] - 53s 28ms/step - loss: 0.0142 - accuracy: 0.9958 - val_loss: 0.0718 - val_accuracy: 0.9872\n",
      "Epoch 18/50\n",
      "1875/1875 [==============================] - 52s 28ms/step - loss: 0.0144 - accuracy: 0.9959 - val_loss: 0.0762 - val_accuracy: 0.9874\n",
      "Epoch 19/50\n",
      "1875/1875 [==============================] - 53s 28ms/step - loss: 0.0140 - accuracy: 0.9961 - val_loss: 0.0635 - val_accuracy: 0.9880\n",
      "Epoch 20/50\n",
      "1875/1875 [==============================] - 51s 27ms/step - loss: 0.0131 - accuracy: 0.9963 - val_loss: 0.0810 - val_accuracy: 0.9874\n",
      "Epoch 21/50\n",
      "1875/1875 [==============================] - 51s 27ms/step - loss: 0.0133 - accuracy: 0.9963 - val_loss: 0.1047 - val_accuracy: 0.9859\n",
      "Epoch 22/50\n",
      "1875/1875 [==============================] - 54s 29ms/step - loss: 0.0160 - accuracy: 0.9958 - val_loss: 0.0765 - val_accuracy: 0.9878\n",
      "Epoch 23/50\n",
      "1875/1875 [==============================] - 55s 29ms/step - loss: 0.0100 - accuracy: 0.9971 - val_loss: 0.0784 - val_accuracy: 0.9871\n",
      "Epoch 24/50\n",
      "1875/1875 [==============================] - 52s 28ms/step - loss: 0.0125 - accuracy: 0.9965 - val_loss: 0.0693 - val_accuracy: 0.9880\n",
      "Epoch 25/50\n",
      "1875/1875 [==============================] - 51s 27ms/step - loss: 0.0118 - accuracy: 0.9970 - val_loss: 0.0665 - val_accuracy: 0.9898\n",
      "Epoch 26/50\n",
      "1875/1875 [==============================] - 51s 27ms/step - loss: 0.0124 - accuracy: 0.9967 - val_loss: 0.0756 - val_accuracy: 0.9866\n",
      "Epoch 27/50\n",
      "1875/1875 [==============================] - 52s 28ms/step - loss: 0.0124 - accuracy: 0.9966 - val_loss: 0.1028 - val_accuracy: 0.9836\n",
      "Epoch 28/50\n",
      "1875/1875 [==============================] - 51s 27ms/step - loss: 0.0117 - accuracy: 0.9970 - val_loss: 0.1057 - val_accuracy: 0.9857\n",
      "Epoch 29/50\n",
      "1875/1875 [==============================] - 52s 28ms/step - loss: 0.0096 - accuracy: 0.9974 - val_loss: 0.0815 - val_accuracy: 0.9884\n",
      "Epoch 30/50\n",
      "1875/1875 [==============================] - 53s 28ms/step - loss: 0.0105 - accuracy: 0.9972 - val_loss: 0.0931 - val_accuracy: 0.9871\n",
      "Epoch 31/50\n",
      "1875/1875 [==============================] - 60s 32ms/step - loss: 0.0130 - accuracy: 0.9970 - val_loss: 0.0808 - val_accuracy: 0.9884\n",
      "Epoch 32/50\n",
      "1875/1875 [==============================] - 60s 32ms/step - loss: 0.0101 - accuracy: 0.9974 - val_loss: 0.0966 - val_accuracy: 0.9877\n",
      "Epoch 33/50\n",
      "1875/1875 [==============================] - 58s 31ms/step - loss: 0.0094 - accuracy: 0.9976 - val_loss: 0.0891 - val_accuracy: 0.9891\n",
      "Epoch 34/50\n",
      "1875/1875 [==============================] - 53s 28ms/step - loss: 0.0103 - accuracy: 0.9973 - val_loss: 0.0880 - val_accuracy: 0.9877\n",
      "Epoch 35/50\n",
      "1875/1875 [==============================] - 52s 28ms/step - loss: 0.0108 - accuracy: 0.9973 - val_loss: 0.1077 - val_accuracy: 0.9843\n",
      "Epoch 36/50\n",
      "1875/1875 [==============================] - 53s 28ms/step - loss: 0.0087 - accuracy: 0.9978 - val_loss: 0.1152 - val_accuracy: 0.9845\n",
      "Epoch 37/50\n",
      "1875/1875 [==============================] - 53s 28ms/step - loss: 0.0140 - accuracy: 0.9970 - val_loss: 0.0986 - val_accuracy: 0.9876\n",
      "Epoch 38/50\n",
      "1875/1875 [==============================] - 52s 28ms/step - loss: 0.0051 - accuracy: 0.9985 - val_loss: 0.0881 - val_accuracy: 0.9887\n",
      "Epoch 39/50\n",
      "1875/1875 [==============================] - 52s 28ms/step - loss: 0.0111 - accuracy: 0.9972 - val_loss: 0.0990 - val_accuracy: 0.9880\n",
      "Epoch 40/50\n",
      "1875/1875 [==============================] - 53s 28ms/step - loss: 0.0093 - accuracy: 0.9977 - val_loss: 0.1216 - val_accuracy: 0.9865\n",
      "Epoch 41/50\n",
      "1875/1875 [==============================] - 53s 28ms/step - loss: 0.0102 - accuracy: 0.9976 - val_loss: 0.1007 - val_accuracy: 0.9875\n",
      "Epoch 42/50\n",
      "1875/1875 [==============================] - 51s 27ms/step - loss: 0.0087 - accuracy: 0.9977 - val_loss: 0.0925 - val_accuracy: 0.9896\n",
      "Epoch 43/50\n",
      "1875/1875 [==============================] - 53s 28ms/step - loss: 0.0089 - accuracy: 0.9980 - val_loss: 0.1331 - val_accuracy: 0.9857\n",
      "Epoch 44/50\n",
      "1875/1875 [==============================] - 52s 28ms/step - loss: 0.0126 - accuracy: 0.9973 - val_loss: 0.1060 - val_accuracy: 0.9889\n",
      "Epoch 45/50\n",
      "1875/1875 [==============================] - 53s 28ms/step - loss: 0.0097 - accuracy: 0.9978 - val_loss: 0.1171 - val_accuracy: 0.9850\n",
      "Epoch 46/50\n",
      "1875/1875 [==============================] - 53s 28ms/step - loss: 0.0086 - accuracy: 0.9979 - val_loss: 0.1346 - val_accuracy: 0.9864\n",
      "Epoch 47/50\n",
      "1875/1875 [==============================] - 53s 28ms/step - loss: 0.0109 - accuracy: 0.9975 - val_loss: 0.1145 - val_accuracy: 0.9876\n",
      "Epoch 48/50\n",
      "1875/1875 [==============================] - 53s 28ms/step - loss: 0.0061 - accuracy: 0.9987 - val_loss: 0.1152 - val_accuracy: 0.9876\n",
      "Epoch 49/50\n",
      "1875/1875 [==============================] - 53s 28ms/step - loss: 0.0115 - accuracy: 0.9979 - val_loss: 0.1608 - val_accuracy: 0.9871\n",
      "Epoch 50/50\n",
      "1875/1875 [==============================] - 52s 28ms/step - loss: 0.0091 - accuracy: 0.9981 - val_loss: 0.1781 - val_accuracy: 0.9856\n"
     ]
    }
   ],
   "source": [
    "opt = tf.keras.optimizers.Adam(learning_rate=0.001)\n",
    "model3.compile(optimizer=opt, loss='categorical_crossentropy', metrics=['accuracy'])\n",
    "\n",
    "# change test and train y values to  Categorical\n",
    "history = model3.fit(trainX, trainy, epochs=50, \n",
    "                    validation_data=(testX, testy))"
   ]
  },
  {
   "cell_type": "code",
   "execution_count": 103,
   "metadata": {},
   "outputs": [
    {
     "name": "stdout",
     "output_type": "stream",
     "text": [
      "313/313 - 3s - loss: 27.3482 - accuracy: 0.1138\n"
     ]
    },
    {
     "data": {
      "image/png": "[encoded data removed]",
      "text/plain": [
       "<Figure size 432x288 with 1 Axes>"
      ]
     },
     "metadata": {
      "needs_background": "light"
     },
     "output_type": "display_data"
    }
   ],
   "source": [
    "plt.plot(history.history['accuracy'], label='accuracy')\n",
    "plt.plot(history.history['val_accuracy'], label = 'val_accuracy')\n",
    "plt.xlabel('Epoch')\n",
    "plt.ylabel('Accuracy')\n",
    "plt.ylim([0.5, 1])\n",
    "plt.legend(loc='lower right')\n",
    "\n",
    "test_loss, test_acc = model.evaluate(testX, testy, verbose=2)"
   ]
  }
 ],
 "metadata": {
  "colab": {
   "name": "computer_vision.ipynb",
   "provenance": []
  },
  "kernelspec": {
   "display_name": "Python 3",
   "language": "python",
   "name": "python3"
  },
  "language_info": {
   "codemirror_mode": {
    "name": "ipython",
    "version": 3
   },
   "file_extension": ".py",
   "mimetype": "text/x-python",
   "name": "python",
   "nbconvert_exporter": "python",
   "pygments_lexer": "ipython3",
   "version": "3.8.5"
  }
 },
 "nbformat": 4,
 "nbformat_minor": 1
}
