{
 "cells": [
  {
   "cell_type": "code",
   "execution_count": 1,
   "metadata": {},
   "outputs": [],
   "source": [
    "f1 = [10,17,12,15,8,9]\n",
    "f2 = [60,52,57,49,55,40]"
   ]
  },
  {
   "cell_type": "code",
   "execution_count": 2,
   "metadata": {},
   "outputs": [
    {
     "data": {
      "text/plain": [
       "[10, 17, 12, 15, 8, 9]"
      ]
     },
     "execution_count": 2,
     "metadata": {},
     "output_type": "execute_result"
    }
   ],
   "source": [
    "f1"
   ]
  },
  {
   "cell_type": "code",
   "execution_count": 3,
   "metadata": {},
   "outputs": [
    {
     "data": {
      "text/plain": [
       "[60, 52, 57, 49, 55, 40]"
      ]
     },
     "execution_count": 3,
     "metadata": {},
     "output_type": "execute_result"
    }
   ],
   "source": [
    "f2"
   ]
  },
  {
   "cell_type": "code",
   "execution_count": 13,
   "metadata": {},
   "outputs": [],
   "source": [
    "dismat = []\n",
    "import math\n",
    "for i in range(6):\n",
    "    tmp = []\n",
    "    for j in range(6):\n",
    "        dis = math.sqrt((f1[j]-f1[i])*(f1[j]-f1[i])+(f2[j]-f2[i])*(f2[j]-f2[i]))\n",
    "#         print(i, j, f1[i], f2[i], f1[j], f2[j], round(dis,2))\n",
    "        tmp.append(round(dis,2))\n",
    "    dismat.append(tmp)\n",
    "        \n",
    "        "
   ]
  },
  {
   "cell_type": "code",
   "execution_count": 14,
   "metadata": {},
   "outputs": [
    {
     "data": {
      "text/plain": [
       "[[0.0, 10.63, 3.61, 12.08, 5.39, 20.02],\n",
       " [10.63, 0.0, 7.07, 3.61, 9.49, 14.42],\n",
       " [3.61, 7.07, 0.0, 8.54, 4.47, 17.26],\n",
       " [12.08, 3.61, 8.54, 0.0, 9.22, 10.82],\n",
       " [5.39, 9.49, 4.47, 9.22, 0.0, 15.03],\n",
       " [20.02, 14.42, 17.26, 10.82, 15.03, 0.0]]"
      ]
     },
     "execution_count": 14,
     "metadata": {},
     "output_type": "execute_result"
    }
   ],
   "source": [
    "dismat"
   ]
  },
  {
   "cell_type": "code",
   "execution_count": null,
   "metadata": {},
   "outputs": [],
   "source": []
  }
 ],
 "metadata": {
  "kernelspec": {
   "display_name": "Python 3",
   "language": "python",
   "name": "python3"
  },
  "language_info": {
   "codemirror_mode": {
    "name": "ipython",
    "version": 3
   },
   "file_extension": ".py",
   "mimetype": "text/x-python",
   "name": "python",
   "nbconvert_exporter": "python",
   "pygments_lexer": "ipython3",
   "version": "3.8.10"
  }
 },
 "nbformat": 4,
 "nbformat_minor": 4
}
