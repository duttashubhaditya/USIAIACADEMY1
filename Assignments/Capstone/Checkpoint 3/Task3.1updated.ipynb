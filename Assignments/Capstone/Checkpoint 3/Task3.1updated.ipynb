{
 "cells": [
  {
   "cell_type": "markdown",
   "metadata": {},
   "source": [
    "Import findspark with spark installation path "
   ]
  },
  {
   "cell_type": "code",
   "execution_count": 1,
   "metadata": {},
   "outputs": [],
   "source": [
    "import findspark"
   ]
  },
  {
   "cell_type": "markdown",
   "metadata": {},
   "source": [
    "Initialize findspark"
   ]
  },
  {
   "cell_type": "code",
   "execution_count": 2,
   "metadata": {},
   "outputs": [],
   "source": [
    "findspark.init(\"/usr/local/spark\")"
   ]
  },
  {
   "cell_type": "markdown",
   "metadata": {},
   "source": [
    "Import pyspark"
   ]
  },
  {
   "cell_type": "code",
   "execution_count": 3,
   "metadata": {},
   "outputs": [],
   "source": [
    "import pyspark"
   ]
  },
  {
   "cell_type": "markdown",
   "metadata": {},
   "source": [
    "Instantiate SparkSession with Hive support"
   ]
  },
  {
   "cell_type": "code",
   "execution_count": 4,
   "metadata": {},
   "outputs": [],
   "source": [
    "from pyspark.sql import SparkSession"
   ]
  },
  {
   "cell_type": "code",
   "execution_count": 5,
   "metadata": {},
   "outputs": [],
   "source": [
    "spark = SparkSession.builder.appName(\"capstone\").config(\"spark.sql.warehouse.dir\",\"https://localhost:50070/user/hive/warehouse\").enableHiveSupport().getOrCreate()"
   ]
  },
  {
   "cell_type": "markdown",
   "metadata": {},
   "source": [
    "Import necessary libraries"
   ]
  },
  {
   "cell_type": "code",
   "execution_count": 6,
   "metadata": {},
   "outputs": [],
   "source": [
    "from pyspark.sql import Row\n",
    "from pyspark.sql import *\n",
    "from pyspark.sql.types import StructField\n",
    "from pyspark.sql.types import StructType,StringType\n",
    "from pyspark.sql import functions as F\n",
    "import pandas as pd\n",
    "from pyspark.sql.functions import isnan, when, count, col"
   ]
  },
  {
   "cell_type": "markdown",
   "metadata": {},
   "source": [
    "Pyspark show dataframe with horizontal scroll"
   ]
  },
  {
   "cell_type": "code",
   "execution_count": 7,
   "metadata": {},
   "outputs": [
    {
     "data": {
      "text/html": [
       "<style>pre { white-space: pre !important; }</style>"
      ],
      "text/plain": [
       "<IPython.core.display.HTML object>"
      ]
     },
     "metadata": {},
     "output_type": "display_data"
    }
   ],
   "source": [
    "from IPython.core.display import HTML\n",
    "display(HTML(\"<style>pre { white-space: pre !important; }</style>\"))"
   ]
  },
  {
   "cell_type": "markdown",
   "metadata": {},
   "source": [
    "# Task 3.1 - Data Analysis using Big Data Tools\n",
    "## Big Data technologies like HDFS, Hive and PySpark need to be used as the historical data increases in size. As part of this task the following activities need to be done.\n",
    "## ●       Develop a PySpark application to load data Spark DataFrames and save it into Hive tables on a Hadoop cluster in an optimized format.\n",
    "## ●       Perform profiling of the data through PySpark and ensure that it is migrated correctly whereever the source is an RDBMS\n",
    "## ●       Write PySpark routines to cleanse the data, prepare the data to handle missing values, and the data transformations identified in task 1.1 again making sure that the data is written into Hive tables in an efficient format\n",
    "## ●       If the predictive model identified in task 2.4 available in Spark MLlib then develop a PySpark application to implement and evaluate the ML model identified with appropriate metrics\\\n",
    "## ●       Ensure that the best practices are followed and the design & code use the features of Spark and take advantage thereof."
   ]
  },
  {
   "cell_type": "markdown",
   "metadata": {},
   "source": [
    "#### PySpark application to load data Spark DataFrames and infer the schema"
   ]
  },
  {
   "cell_type": "code",
   "execution_count": 8,
   "metadata": {},
   "outputs": [],
   "source": [
    "loan_df = spark.read.load('Loan_details_datasets_P5/Loan_details.csv',format='csv',inferSchema=\"true\",header=\"true\")\n",
    "status_df = spark.read.load('Loan_details_datasets_P5/Loan_status.csv',format='csv',inferSchema=\"true\",header=\"true\")\n",
    "Branch_df = spark.read.load('Loan_details_datasets_P5/Branch_region_mapping.csv',format='csv',inferSchema=\"true\",header=\"true\")"
   ]
  },
  {
   "cell_type": "markdown",
   "metadata": {},
   "source": [
    "Print the schema of loan_df with its features and their data types"
   ]
  },
  {
   "cell_type": "code",
   "execution_count": 9,
   "metadata": {},
   "outputs": [
    {
     "name": "stdout",
     "output_type": "stream",
     "text": [
      "root\n",
      " |-- Loan_id: integer (nullable = true)\n",
      " |-- disbursed_amount: integer (nullable = true)\n",
      " |-- asset_cost: integer (nullable = true)\n",
      " |-- ltv: double (nullable = true)\n",
      " |-- branch_id: integer (nullable = true)\n",
      " |-- Date.of.Birth: string (nullable = true)\n",
      " |-- Employment.Type: string (nullable = true)\n",
      " |-- DisbursalDate: string (nullable = true)\n",
      " |-- MobileNo_Avl_Flag: integer (nullable = true)\n",
      " |-- Aadhar_flag: integer (nullable = true)\n",
      " |-- PAN_flag: integer (nullable = true)\n",
      " |-- VoterID_flag: integer (nullable = true)\n",
      " |-- Driving_flag: integer (nullable = true)\n",
      " |-- Passport_flag: integer (nullable = true)\n",
      " |-- PERFORM_CNS.SCORE: integer (nullable = true)\n",
      " |-- DELINQUENT.ACCTS.IN.LAST.SIX.MONTHS: integer (nullable = true)\n",
      " |-- CREDIT.HISTORY.LENGTH: string (nullable = true)\n",
      " |-- NO.OF_INQUIRIES: integer (nullable = true)\n",
      "\n"
     ]
    }
   ],
   "source": [
    "loan_df.printSchema()"
   ]
  },
  {
   "cell_type": "markdown",
   "metadata": {},
   "source": [
    "Show first 3 records from loan_df"
   ]
  },
  {
   "cell_type": "code",
   "execution_count": 10,
   "metadata": {},
   "outputs": [
    {
     "name": "stdout",
     "output_type": "stream",
     "text": [
      "+-------+----------------+----------+-----+---------+-------------+---------------+-------------+-----------------+-----------+--------+------------+------------+-------------+-----------------+-----------------------------------+---------------------+---------------+\n",
      "|Loan_id|disbursed_amount|asset_cost|  ltv|branch_id|Date.of.Birth|Employment.Type|DisbursalDate|MobileNo_Avl_Flag|Aadhar_flag|PAN_flag|VoterID_flag|Driving_flag|Passport_flag|PERFORM_CNS.SCORE|DELINQUENT.ACCTS.IN.LAST.SIX.MONTHS|CREDIT.HISTORY.LENGTH|NO.OF_INQUIRIES|\n",
      "+-------+----------------+----------+-----+---------+-------------+---------------+-------------+-----------------+-----------+--------+------------+------------+-------------+-----------------+-----------------------------------+---------------------+---------------+\n",
      "|      1|           36439|     65850|56.19|       64|   14-06-1990|  Self employed|   28-09-2018|                1|          1|       0|           0|           0|            0|                0|                                  0|            0yrs 0mon|              0|\n",
      "|      2|           48749|     69303|72.15|       67|   01-01-1991|       Salaried|   10-09-2018|                1|          1|       0|           0|           0|            0|              783|                                  0|            2yrs 6mon|              0|\n",
      "|      3|           55348|     66340| 85.0|        2|   16-08-1993|  Self employed|   31-08-2018|                1|          1|       0|           0|           0|            0|                0|                                  0|            0yrs 0mon|              0|\n",
      "+-------+----------------+----------+-----+---------+-------------+---------------+-------------+-----------------+-----------+--------+------------+------------+-------------+-----------------+-----------------------------------+---------------------+---------------+\n",
      "only showing top 3 rows\n",
      "\n"
     ]
    }
   ],
   "source": [
    "loan_df.show(3)"
   ]
  },
  {
   "cell_type": "markdown",
   "metadata": {},
   "source": [
    "Print the schema of status_df with its features and their data types"
   ]
  },
  {
   "cell_type": "code",
   "execution_count": 11,
   "metadata": {},
   "outputs": [
    {
     "name": "stdout",
     "output_type": "stream",
     "text": [
      "root\n",
      " |-- Loan_id: integer (nullable = true)\n",
      " |-- loan_default: integer (nullable = true)\n",
      "\n"
     ]
    }
   ],
   "source": [
    "status_df.printSchema()"
   ]
  },
  {
   "cell_type": "markdown",
   "metadata": {},
   "source": [
    "Show first 3 records from status_df"
   ]
  },
  {
   "cell_type": "code",
   "execution_count": 12,
   "metadata": {},
   "outputs": [
    {
     "name": "stdout",
     "output_type": "stream",
     "text": [
      "+-------+------------+\n",
      "|Loan_id|loan_default|\n",
      "+-------+------------+\n",
      "|      1|           0|\n",
      "|      2|           0|\n",
      "|      3|           1|\n",
      "+-------+------------+\n",
      "only showing top 3 rows\n",
      "\n"
     ]
    }
   ],
   "source": [
    "status_df.show(3)"
   ]
  },
  {
   "cell_type": "markdown",
   "metadata": {},
   "source": [
    "Print the schema of Branch_df with its features and their data types"
   ]
  },
  {
   "cell_type": "code",
   "execution_count": 13,
   "metadata": {},
   "outputs": [
    {
     "name": "stdout",
     "output_type": "stream",
     "text": [
      "root\n",
      " |-- branch_id: integer (nullable = true)\n",
      " |-- region: string (nullable = true)\n",
      "\n"
     ]
    }
   ],
   "source": [
    "Branch_df.printSchema()"
   ]
  },
  {
   "cell_type": "markdown",
   "metadata": {},
   "source": [
    "Show first 3 records from Branch_df"
   ]
  },
  {
   "cell_type": "code",
   "execution_count": 14,
   "metadata": {},
   "outputs": [
    {
     "name": "stdout",
     "output_type": "stream",
     "text": [
      "+---------+------+\n",
      "|branch_id|region|\n",
      "+---------+------+\n",
      "|        1|  East|\n",
      "|        2|  East|\n",
      "|        3|  East|\n",
      "+---------+------+\n",
      "only showing top 3 rows\n",
      "\n"
     ]
    }
   ],
   "source": [
    "Branch_df.show(3)"
   ]
  },
  {
   "cell_type": "markdown",
   "metadata": {},
   "source": [
    "Creating master dataframe by combining all subsidiary data"
   ]
  },
  {
   "cell_type": "code",
   "execution_count": 15,
   "metadata": {},
   "outputs": [],
   "source": [
    "master_loan_df=loan_df.join(Branch_df,\"branch_id\").join(status_df,\"loan_id\")"
   ]
  },
  {
   "cell_type": "markdown",
   "metadata": {},
   "source": [
    "Print the schema of master_loan_df with its features and their data types"
   ]
  },
  {
   "cell_type": "code",
   "execution_count": 16,
   "metadata": {},
   "outputs": [
    {
     "name": "stdout",
     "output_type": "stream",
     "text": [
      "root\n",
      " |-- Loan_id: integer (nullable = true)\n",
      " |-- branch_id: integer (nullable = true)\n",
      " |-- disbursed_amount: integer (nullable = true)\n",
      " |-- asset_cost: integer (nullable = true)\n",
      " |-- ltv: double (nullable = true)\n",
      " |-- Date.of.Birth: string (nullable = true)\n",
      " |-- Employment.Type: string (nullable = true)\n",
      " |-- DisbursalDate: string (nullable = true)\n",
      " |-- MobileNo_Avl_Flag: integer (nullable = true)\n",
      " |-- Aadhar_flag: integer (nullable = true)\n",
      " |-- PAN_flag: integer (nullable = true)\n",
      " |-- VoterID_flag: integer (nullable = true)\n",
      " |-- Driving_flag: integer (nullable = true)\n",
      " |-- Passport_flag: integer (nullable = true)\n",
      " |-- PERFORM_CNS.SCORE: integer (nullable = true)\n",
      " |-- DELINQUENT.ACCTS.IN.LAST.SIX.MONTHS: integer (nullable = true)\n",
      " |-- CREDIT.HISTORY.LENGTH: string (nullable = true)\n",
      " |-- NO.OF_INQUIRIES: integer (nullable = true)\n",
      " |-- region: string (nullable = true)\n",
      " |-- loan_default: integer (nullable = true)\n",
      "\n"
     ]
    }
   ],
   "source": [
    "master_loan_df.printSchema()"
   ]
  },
  {
   "cell_type": "markdown",
   "metadata": {},
   "source": [
    "Show the records of master_loan_df"
   ]
  },
  {
   "cell_type": "code",
   "execution_count": 17,
   "metadata": {},
   "outputs": [
    {
     "name": "stdout",
     "output_type": "stream",
     "text": [
      "+-------+---------+----------------+----------+-----+-------------+---------------+-------------+-----------------+-----------+--------+------------+------------+-------------+-----------------+-----------------------------------+---------------------+---------------+------+------------+\n",
      "|Loan_id|branch_id|disbursed_amount|asset_cost|  ltv|Date.of.Birth|Employment.Type|DisbursalDate|MobileNo_Avl_Flag|Aadhar_flag|PAN_flag|VoterID_flag|Driving_flag|Passport_flag|PERFORM_CNS.SCORE|DELINQUENT.ACCTS.IN.LAST.SIX.MONTHS|CREDIT.HISTORY.LENGTH|NO.OF_INQUIRIES|region|loan_default|\n",
      "+-------+---------+----------------+----------+-----+-------------+---------------+-------------+-----------------+-----------+--------+------------+------------+-------------+-----------------+-----------------------------------+---------------------+---------------+------+------------+\n",
      "|      1|       64|           36439|     65850|56.19|   14-06-1990|  Self employed|   28-09-2018|                1|          1|       0|           0|           0|            0|                0|                                  0|            0yrs 0mon|              0| South|           0|\n",
      "|      2|       67|           48749|     69303|72.15|   01-01-1991|       Salaried|   10-09-2018|                1|          1|       0|           0|           0|            0|              783|                                  0|            2yrs 6mon|              0| South|           0|\n",
      "|      3|        2|           55348|     66340| 85.0|   16-08-1993|  Self employed|   31-08-2018|                1|          1|       0|           0|           0|            0|                0|                                  0|            0yrs 0mon|              0|  East|           1|\n",
      "|      4|      217|           48849|     64133|77.96|   01-01-1989|  Self employed|   13-10-2018|                1|          1|       0|           0|           0|            0|                0|                                  0|            0yrs 0mon|              0| North|           0|\n",
      "|      5|       74|           40394|     59386|70.72|   31-12-1974|  Self employed|   14-09-2018|                1|          1|       0|           0|           0|            0|               14|                                  1|            3yrs 1mon|              1| South|           0|\n",
      "|      6|      162|           51803|     67466| 79.3|   23-11-1964|  Self employed|   17-08-2018|                1|          1|       0|           0|           0|            0|              300|                                  0|           15yrs 2mon|              0| North|           0|\n",
      "|      7|      251|           61947|    109094|58.21|   01-10-1989|  Self employed|   16-08-2018|                1|          0|       0|           1|           0|            0|              737|                                  0|           1yrs 10mon|              0| North|           0|\n",
      "|      8|       67|           51301|     61815| 85.0|   01-01-1995|       Salaried|   26-08-2018|                1|          1|       0|           0|           0|            0|                0|                                  0|            0yrs 0mon|              0| South|           0|\n",
      "|      9|      255|           65882|     80461|84.51|   15-06-1994|  Self employed|   15-10-2018|                1|          1|       0|           0|           0|            0|                0|                                  0|            0yrs 0mon|              0| North|           0|\n",
      "|     10|       34|           34639|     69717|50.49|   23-11-1982|  Self employed|   26-10-2018|                1|          1|       0|           0|           0|            0|              300|                                  0|           3yrs 10mon|              0|  East|           1|\n",
      "|     11|      147|           51996|     63051| 85.0|   01-01-1984|       Salaried|   03-09-2018|                1|          1|       0|           0|           0|            0|                0|                                  0|            0yrs 0mon|              0|  West|           0|\n",
      "|     12|      146|           64269|     85632|77.07|   15-02-1990|       Salaried|   24-08-2018|                1|          1|       0|           0|           0|            0|                0|                                  0|            0yrs 0mon|              0|  West|           0|\n",
      "|     13|       20|           68377|     90512|79.55|   05-12-1975|  Self employed|   28-08-2018|                1|          1|       0|           0|           0|            0|              654|                                  1|            2yrs 0mon|              1|  East|           0|\n",
      "|     14|        2|           61256|     73000|84.99|   11-09-1995|       Salaried|   21-09-2018|                1|          1|       0|           0|           0|            0|                0|                                  0|            0yrs 0mon|              0|  East|           0|\n",
      "|     15|       67|           46949|     64600|74.92|   29-10-1975|  Self employed|   20-08-2018|                1|          1|       0|           0|           0|            0|              524|                                  0|            0yrs 0mon|              0| South|           0|\n",
      "|     16|        7|           56333|     80271| 73.5|   28-02-1984|  Self employed|   26-10-2018|                1|          1|       0|           0|           0|            0|              653|                                  0|           0yrs 11mon|              0|  East|           0|\n",
      "|     17|      165|           73717|     94315|79.41|   02-11-1975|       Salaried|   30-09-2018|                1|          1|       0|           0|           0|            0|               16|                                  0|            1yrs 1mon|              0| North|           0|\n",
      "|     18|      152|           54373|     73891|77.14|   21-10-1990|  Self employed|   30-09-2018|                1|          1|       0|           0|           0|            0|                0|                                  0|            0yrs 0mon|              0| North|           0|\n",
      "|     19|        2|           72817|     82820|89.35|   11-10-1994|       Salaried|   31-10-2018|                1|          1|       0|           0|           0|            0|              753|                                  1|            1yrs 1mon|              0|  East|           0|\n",
      "|     20|      135|           78151|    107074|74.25|   05-06-1987|  Self employed|   25-10-2018|                1|          1|       1|           1|           0|            0|                0|                                  0|            0yrs 0mon|              0|  West|           1|\n",
      "+-------+---------+----------------+----------+-----+-------------+---------------+-------------+-----------------+-----------+--------+------------+------------+-------------+-----------------+-----------------------------------+---------------------+---------------+------+------------+\n",
      "only showing top 20 rows\n",
      "\n"
     ]
    }
   ],
   "source": [
    "master_loan_df.show()"
   ]
  },
  {
   "cell_type": "markdown",
   "metadata": {},
   "source": [
    "Display the type of master_loan_df"
   ]
  },
  {
   "cell_type": "code",
   "execution_count": 18,
   "metadata": {},
   "outputs": [
    {
     "data": {
      "text/plain": [
       "pyspark.sql.dataframe.DataFrame"
      ]
     },
     "execution_count": 18,
     "metadata": {},
     "output_type": "execute_result"
    }
   ],
   "source": [
    "type(master_loan_df)"
   ]
  },
  {
   "cell_type": "markdown",
   "metadata": {},
   "source": [
    "Datatypes of all features of master_loan_df"
   ]
  },
  {
   "cell_type": "code",
   "execution_count": 19,
   "metadata": {},
   "outputs": [
    {
     "data": {
      "text/plain": [
       "<bound method DataFrame.describe of DataFrame[Loan_id: int, branch_id: int, disbursed_amount: int, asset_cost: int, ltv: double, Date.of.Birth: string, Employment.Type: string, DisbursalDate: string, MobileNo_Avl_Flag: int, Aadhar_flag: int, PAN_flag: int, VoterID_flag: int, Driving_flag: int, Passport_flag: int, PERFORM_CNS.SCORE: int, DELINQUENT.ACCTS.IN.LAST.SIX.MONTHS: int, CREDIT.HISTORY.LENGTH: string, NO.OF_INQUIRIES: int, region: string, loan_default: int]>"
      ]
     },
     "execution_count": 19,
     "metadata": {},
     "output_type": "execute_result"
    }
   ],
   "source": [
    "master_loan_df.describe"
   ]
  },
  {
   "cell_type": "code",
   "execution_count": 20,
   "metadata": {},
   "outputs": [],
   "source": [
    "# schemaString=\"Loan_id branch_id disbursed_amount asset_cost ltv Date_of_Birth Employment_Type DisbursalDate MobileNo_Avl_Flag Aadhar_flag PAN_flag VoterID_flag Driving_flag Passport_flag PERFORM_CNS_SCORE DELINQUENT_ACCTS CREDIT_HISTORY_LENGTH NO_OF_INQUIRIES region loan_default\""
   ]
  },
  {
   "cell_type": "code",
   "execution_count": 21,
   "metadata": {},
   "outputs": [],
   "source": [
    "# daily_cols=[StructField(column_name,StringType(),True) for column_name in schemaString.split()]\n",
    "# daily_schema=StructType(daily_cols)"
   ]
  },
  {
   "cell_type": "code",
   "execution_count": 22,
   "metadata": {},
   "outputs": [],
   "source": [
    "# nyse_daily_df1= spark.createDataFrame(master_loan_df,daily_schema)"
   ]
  },
  {
   "cell_type": "code",
   "execution_count": 23,
   "metadata": {},
   "outputs": [],
   "source": [
    "# from pyspark.sql import SQLContext \n",
    "# # sc = pyspark.SparkContext(appName='Task3.1')\n",
    "# sqlContext = SQLContext(spark)\n",
    "# sqlContext.registerDataFrameAsTable(master_loan_df, \"myTable\")"
   ]
  },
  {
   "cell_type": "code",
   "execution_count": 24,
   "metadata": {},
   "outputs": [],
   "source": [
    "# df2 = sqlContext.sql(\"SELECT DELINQUENT.ACCTS.IN.LAST.SIX.MONTHS as Delinquent_accounts from myTable\")"
   ]
  },
  {
   "cell_type": "code",
   "execution_count": 25,
   "metadata": {},
   "outputs": [],
   "source": [
    "# df = master_loan_df.selectExpr(\"DELINQUENT.ACCTS.IN.LAST.SIX.MONTHS as Delinquent_accounts\")\n",
    "# df.show()\n",
    "# df.printSchema()"
   ]
  },
  {
   "cell_type": "markdown",
   "metadata": {},
   "source": [
    "#### Save the master_loan_df into Hive tables on a Hadoop cluster in an optimized format"
   ]
  },
  {
   "cell_type": "code",
   "execution_count": 31,
   "metadata": {},
   "outputs": [],
   "source": [
    "master_loan_df.write.saveAsTable(\"master\")"
   ]
  },
  {
   "attachments": {
    "Capture.PNG": {
     "image/png": "[encoded data removed]"
    }
   },
   "cell_type": "markdown",
   "metadata": {},
   "source": [
    "![Capture.PNG](attachment:Capture.PNG)"
   ]
  },
  {
   "cell_type": "markdown",
   "metadata": {},
   "source": [
    "Renaming the columns containing \".\""
   ]
  },
  {
   "cell_type": "code",
   "execution_count": 33,
   "metadata": {},
   "outputs": [],
   "source": [
    "master_loan_df=master_loan_df.withColumnRenamed(\"Date.of.Birth\",\"DateOfBirth\").withColumnRenamed(\"Employment.Type\",\"EmploymentType\").withColumnRenamed(\"PERFORM_CNS.SCORE\",\"Perform_CNS_score\").withColumnRenamed(\"DELINQUENT.ACCTS.IN.LAST.SIX.MONTHS\",\"Delinquent_accounts\").withColumnRenamed(\"CREDIT.HISTORY.LENGTH\",\"Credit_History_Length\").withColumnRenamed(\"NO.OF_INQUIRIES\",\"No_of_inquiries\")"
   ]
  },
  {
   "cell_type": "code",
   "execution_count": 34,
   "metadata": {},
   "outputs": [
    {
     "name": "stdout",
     "output_type": "stream",
     "text": [
      "root\n",
      " |-- Loan_id: integer (nullable = true)\n",
      " |-- branch_id: integer (nullable = true)\n",
      " |-- disbursed_amount: integer (nullable = true)\n",
      " |-- asset_cost: integer (nullable = true)\n",
      " |-- ltv: double (nullable = true)\n",
      " |-- DateOfBirth: string (nullable = true)\n",
      " |-- EmploymentType: string (nullable = true)\n",
      " |-- DisbursalDate: string (nullable = true)\n",
      " |-- MobileNo_Avl_Flag: integer (nullable = true)\n",
      " |-- Aadhar_flag: integer (nullable = true)\n",
      " |-- PAN_flag: integer (nullable = true)\n",
      " |-- VoterID_flag: integer (nullable = true)\n",
      " |-- Driving_flag: integer (nullable = true)\n",
      " |-- Passport_flag: integer (nullable = true)\n",
      " |-- Perform_CNS_score: integer (nullable = true)\n",
      " |-- Delinquent_accounts: integer (nullable = true)\n",
      " |-- Credit_History_Length: string (nullable = true)\n",
      " |-- No_of_inquiries: integer (nullable = true)\n",
      " |-- region: string (nullable = true)\n",
      " |-- loan_default: integer (nullable = true)\n",
      "\n"
     ]
    }
   ],
   "source": [
    "master_loan_df.printSchema()"
   ]
  },
  {
   "cell_type": "markdown",
   "metadata": {},
   "source": [
    "#### Perform profiling of the data through PySpark and ensure that it is migrated correctly whereever the source is an RDBMS"
   ]
  },
  {
   "cell_type": "code",
   "execution_count": 35,
   "metadata": {},
   "outputs": [
    {
     "data": {
      "text/html": [
       "<div>\n",
       "<style scoped>\n",
       "    .dataframe tbody tr th:only-of-type {\n",
       "        vertical-align: middle;\n",
       "    }\n",
       "\n",
       "    .dataframe tbody tr th {\n",
       "        vertical-align: top;\n",
       "    }\n",
       "\n",
       "    .dataframe thead th {\n",
       "        text-align: right;\n",
       "    }\n",
       "</style>\n",
       "<table border=\"1\" class=\"dataframe\">\n",
       "  <thead>\n",
       "    <tr style=\"text-align: right;\">\n",
       "      <th></th>\n",
       "      <th>Loan_id</th>\n",
       "      <th>branch_id</th>\n",
       "      <th>disbursed_amount</th>\n",
       "      <th>asset_cost</th>\n",
       "      <th>ltv</th>\n",
       "      <th>MobileNo_Avl_Flag</th>\n",
       "      <th>Aadhar_flag</th>\n",
       "      <th>PAN_flag</th>\n",
       "      <th>VoterID_flag</th>\n",
       "      <th>Driving_flag</th>\n",
       "      <th>Passport_flag</th>\n",
       "      <th>Perform_CNS_score</th>\n",
       "      <th>Delinquent_accounts</th>\n",
       "      <th>No_of_inquiries</th>\n",
       "      <th>loan_default</th>\n",
       "    </tr>\n",
       "  </thead>\n",
       "  <tbody>\n",
       "    <tr>\n",
       "      <th>count</th>\n",
       "      <td>23315.000000</td>\n",
       "      <td>23315.000000</td>\n",
       "      <td>23315.000000</td>\n",
       "      <td>23315.000000</td>\n",
       "      <td>23315.000000</td>\n",
       "      <td>23315.0</td>\n",
       "      <td>23315.000000</td>\n",
       "      <td>23315.000000</td>\n",
       "      <td>23315.000000</td>\n",
       "      <td>23315.000000</td>\n",
       "      <td>23315.000000</td>\n",
       "      <td>23315.000000</td>\n",
       "      <td>23315.000000</td>\n",
       "      <td>23315.000000</td>\n",
       "      <td>23315.000000</td>\n",
       "    </tr>\n",
       "    <tr>\n",
       "      <th>mean</th>\n",
       "      <td>11658.000000</td>\n",
       "      <td>72.079262</td>\n",
       "      <td>54297.647309</td>\n",
       "      <td>75842.182887</td>\n",
       "      <td>74.701607</td>\n",
       "      <td>1.0</td>\n",
       "      <td>0.845078</td>\n",
       "      <td>0.075531</td>\n",
       "      <td>0.141068</td>\n",
       "      <td>0.023161</td>\n",
       "      <td>0.002059</td>\n",
       "      <td>291.234956</td>\n",
       "      <td>0.100622</td>\n",
       "      <td>0.205790</td>\n",
       "      <td>0.219858</td>\n",
       "    </tr>\n",
       "    <tr>\n",
       "      <th>std</th>\n",
       "      <td>6730.605099</td>\n",
       "      <td>69.095008</td>\n",
       "      <td>13061.877434</td>\n",
       "      <td>18988.525635</td>\n",
       "      <td>11.462722</td>\n",
       "      <td>0.0</td>\n",
       "      <td>0.361838</td>\n",
       "      <td>0.264252</td>\n",
       "      <td>0.348099</td>\n",
       "      <td>0.150418</td>\n",
       "      <td>0.045328</td>\n",
       "      <td>338.490214</td>\n",
       "      <td>0.388782</td>\n",
       "      <td>0.699901</td>\n",
       "      <td>0.414159</td>\n",
       "    </tr>\n",
       "    <tr>\n",
       "      <th>min</th>\n",
       "      <td>1.000000</td>\n",
       "      <td>1.000000</td>\n",
       "      <td>13369.000000</td>\n",
       "      <td>37230.000000</td>\n",
       "      <td>17.130000</td>\n",
       "      <td>1.0</td>\n",
       "      <td>0.000000</td>\n",
       "      <td>0.000000</td>\n",
       "      <td>0.000000</td>\n",
       "      <td>0.000000</td>\n",
       "      <td>0.000000</td>\n",
       "      <td>0.000000</td>\n",
       "      <td>0.000000</td>\n",
       "      <td>0.000000</td>\n",
       "      <td>0.000000</td>\n",
       "    </tr>\n",
       "    <tr>\n",
       "      <th>25%</th>\n",
       "      <td>5829.500000</td>\n",
       "      <td>13.000000</td>\n",
       "      <td>46949.000000</td>\n",
       "      <td>65629.000000</td>\n",
       "      <td>68.830000</td>\n",
       "      <td>1.0</td>\n",
       "      <td>1.000000</td>\n",
       "      <td>0.000000</td>\n",
       "      <td>0.000000</td>\n",
       "      <td>0.000000</td>\n",
       "      <td>0.000000</td>\n",
       "      <td>0.000000</td>\n",
       "      <td>0.000000</td>\n",
       "      <td>0.000000</td>\n",
       "      <td>0.000000</td>\n",
       "    </tr>\n",
       "    <tr>\n",
       "      <th>50%</th>\n",
       "      <td>11658.000000</td>\n",
       "      <td>61.000000</td>\n",
       "      <td>53759.000000</td>\n",
       "      <td>70929.000000</td>\n",
       "      <td>76.710000</td>\n",
       "      <td>1.0</td>\n",
       "      <td>1.000000</td>\n",
       "      <td>0.000000</td>\n",
       "      <td>0.000000</td>\n",
       "      <td>0.000000</td>\n",
       "      <td>0.000000</td>\n",
       "      <td>0.000000</td>\n",
       "      <td>0.000000</td>\n",
       "      <td>0.000000</td>\n",
       "      <td>0.000000</td>\n",
       "    </tr>\n",
       "    <tr>\n",
       "      <th>75%</th>\n",
       "      <td>17486.500000</td>\n",
       "      <td>121.000000</td>\n",
       "      <td>60379.000000</td>\n",
       "      <td>79354.500000</td>\n",
       "      <td>83.630000</td>\n",
       "      <td>1.0</td>\n",
       "      <td>1.000000</td>\n",
       "      <td>0.000000</td>\n",
       "      <td>0.000000</td>\n",
       "      <td>0.000000</td>\n",
       "      <td>0.000000</td>\n",
       "      <td>679.000000</td>\n",
       "      <td>0.000000</td>\n",
       "      <td>0.000000</td>\n",
       "      <td>0.000000</td>\n",
       "    </tr>\n",
       "    <tr>\n",
       "      <th>max</th>\n",
       "      <td>23315.000000</td>\n",
       "      <td>261.000000</td>\n",
       "      <td>592460.000000</td>\n",
       "      <td>715186.000000</td>\n",
       "      <td>94.980000</td>\n",
       "      <td>1.0</td>\n",
       "      <td>1.000000</td>\n",
       "      <td>1.000000</td>\n",
       "      <td>1.000000</td>\n",
       "      <td>1.000000</td>\n",
       "      <td>1.000000</td>\n",
       "      <td>890.000000</td>\n",
       "      <td>7.000000</td>\n",
       "      <td>23.000000</td>\n",
       "      <td>1.000000</td>\n",
       "    </tr>\n",
       "  </tbody>\n",
       "</table>\n",
       "</div>"
      ],
      "text/plain": [
       "            Loan_id     branch_id  disbursed_amount     asset_cost  \\\n",
       "count  23315.000000  23315.000000      23315.000000   23315.000000   \n",
       "mean   11658.000000     72.079262      54297.647309   75842.182887   \n",
       "std     6730.605099     69.095008      13061.877434   18988.525635   \n",
       "min        1.000000      1.000000      13369.000000   37230.000000   \n",
       "25%     5829.500000     13.000000      46949.000000   65629.000000   \n",
       "50%    11658.000000     61.000000      53759.000000   70929.000000   \n",
       "75%    17486.500000    121.000000      60379.000000   79354.500000   \n",
       "max    23315.000000    261.000000     592460.000000  715186.000000   \n",
       "\n",
       "                ltv  MobileNo_Avl_Flag   Aadhar_flag      PAN_flag  \\\n",
       "count  23315.000000            23315.0  23315.000000  23315.000000   \n",
       "mean      74.701607                1.0      0.845078      0.075531   \n",
       "std       11.462722                0.0      0.361838      0.264252   \n",
       "min       17.130000                1.0      0.000000      0.000000   \n",
       "25%       68.830000                1.0      1.000000      0.000000   \n",
       "50%       76.710000                1.0      1.000000      0.000000   \n",
       "75%       83.630000                1.0      1.000000      0.000000   \n",
       "max       94.980000                1.0      1.000000      1.000000   \n",
       "\n",
       "       VoterID_flag  Driving_flag  Passport_flag  Perform_CNS_score  \\\n",
       "count  23315.000000  23315.000000   23315.000000       23315.000000   \n",
       "mean       0.141068      0.023161       0.002059         291.234956   \n",
       "std        0.348099      0.150418       0.045328         338.490214   \n",
       "min        0.000000      0.000000       0.000000           0.000000   \n",
       "25%        0.000000      0.000000       0.000000           0.000000   \n",
       "50%        0.000000      0.000000       0.000000           0.000000   \n",
       "75%        0.000000      0.000000       0.000000         679.000000   \n",
       "max        1.000000      1.000000       1.000000         890.000000   \n",
       "\n",
       "       Delinquent_accounts  No_of_inquiries  loan_default  \n",
       "count         23315.000000     23315.000000  23315.000000  \n",
       "mean              0.100622         0.205790      0.219858  \n",
       "std               0.388782         0.699901      0.414159  \n",
       "min               0.000000         0.000000      0.000000  \n",
       "25%               0.000000         0.000000      0.000000  \n",
       "50%               0.000000         0.000000      0.000000  \n",
       "75%               0.000000         0.000000      0.000000  \n",
       "max               7.000000        23.000000      1.000000  "
      ]
     },
     "execution_count": 35,
     "metadata": {},
     "output_type": "execute_result"
    }
   ],
   "source": [
    "master_loan_df.toPandas().describe()"
   ]
  },
  {
   "cell_type": "markdown",
   "metadata": {},
   "source": [
    "Creates or replaces a local temporary view with this DataFrame."
   ]
  },
  {
   "cell_type": "code",
   "execution_count": 36,
   "metadata": {},
   "outputs": [],
   "source": [
    "master_loan_df.createOrReplaceTempView(\"master\")"
   ]
  },
  {
   "cell_type": "markdown",
   "metadata": {},
   "source": [
    "Profiling the data"
   ]
  },
  {
   "cell_type": "code",
   "execution_count": 37,
   "metadata": {},
   "outputs": [],
   "source": [
    "master_loan_temp=spark.sql('select * from master')"
   ]
  },
  {
   "cell_type": "code",
   "execution_count": 38,
   "metadata": {},
   "outputs": [
    {
     "data": {
      "text/plain": [
       "pyspark.sql.dataframe.DataFrame"
      ]
     },
     "execution_count": 38,
     "metadata": {},
     "output_type": "execute_result"
    }
   ],
   "source": [
    "type(master_loan_temp)"
   ]
  },
  {
   "cell_type": "code",
   "execution_count": 39,
   "metadata": {},
   "outputs": [
    {
     "data": {
      "text/plain": [
       "<bound method DataFrame.describe of DataFrame[Loan_id: int, branch_id: int, disbursed_amount: int, asset_cost: int, ltv: double, DateOfBirth: string, EmploymentType: string, DisbursalDate: string, MobileNo_Avl_Flag: int, Aadhar_flag: int, PAN_flag: int, VoterID_flag: int, Driving_flag: int, Passport_flag: int, Perform_CNS_score: int, Delinquent_accounts: int, Credit_History_Length: string, No_of_inquiries: int, region: string, loan_default: int]>"
      ]
     },
     "execution_count": 39,
     "metadata": {},
     "output_type": "execute_result"
    }
   ],
   "source": [
    "master_loan_temp.describe"
   ]
  },
  {
   "cell_type": "code",
   "execution_count": 40,
   "metadata": {},
   "outputs": [
    {
     "name": "stdout",
     "output_type": "stream",
     "text": [
      "+-------+---------+----------------+----------+-----+-----------+--------------+-------------+-----------------+-----------+--------+------------+------------+-------------+-----------------+-------------------+---------------------+---------------+------+------------+\n",
      "|Loan_id|branch_id|disbursed_amount|asset_cost|  ltv|DateOfBirth|EmploymentType|DisbursalDate|MobileNo_Avl_Flag|Aadhar_flag|PAN_flag|VoterID_flag|Driving_flag|Passport_flag|Perform_CNS_score|Delinquent_accounts|Credit_History_Length|No_of_inquiries|region|loan_default|\n",
      "+-------+---------+----------------+----------+-----+-----------+--------------+-------------+-----------------+-----------+--------+------------+------------+-------------+-----------------+-------------------+---------------------+---------------+------+------------+\n",
      "|      1|       64|           36439|     65850|56.19| 14-06-1990| Self employed|   28-09-2018|                1|          1|       0|           0|           0|            0|                0|                  0|            0yrs 0mon|              0| South|           0|\n",
      "|      2|       67|           48749|     69303|72.15| 01-01-1991|      Salaried|   10-09-2018|                1|          1|       0|           0|           0|            0|              783|                  0|            2yrs 6mon|              0| South|           0|\n",
      "|      3|        2|           55348|     66340| 85.0| 16-08-1993| Self employed|   31-08-2018|                1|          1|       0|           0|           0|            0|                0|                  0|            0yrs 0mon|              0|  East|           1|\n",
      "+-------+---------+----------------+----------+-----+-----------+--------------+-------------+-----------------+-----------+--------+------------+------------+-------------+-----------------+-------------------+---------------------+---------------+------+------------+\n",
      "only showing top 3 rows\n",
      "\n"
     ]
    }
   ],
   "source": [
    "master_loan_temp.show(3)"
   ]
  },
  {
   "cell_type": "markdown",
   "metadata": {},
   "source": [
    "Describing the statistical measures for features using in-built function"
   ]
  },
  {
   "cell_type": "code",
   "execution_count": 41,
   "metadata": {},
   "outputs": [
    {
     "name": "stdout",
     "output_type": "stream",
     "text": [
      "+-------+-----------------+-----------------+-----------------+-----------------+------------------+-----------+--------------+-------------+-----------------+------------------+-------------------+-------------------+--------------------+--------------------+-----------------+-------------------+---------------------+-------------------+------+-------------------+\n",
      "|summary|          Loan_id|        branch_id| disbursed_amount|       asset_cost|               ltv|DateOfBirth|EmploymentType|DisbursalDate|MobileNo_Avl_Flag|       Aadhar_flag|           PAN_flag|       VoterID_flag|        Driving_flag|       Passport_flag|Perform_CNS_score|Delinquent_accounts|Credit_History_Length|    No_of_inquiries|region|       loan_default|\n",
      "+-------+-----------------+-----------------+-----------------+-----------------+------------------+-----------+--------------+-------------+-----------------+------------------+-------------------+-------------------+--------------------+--------------------+-----------------+-------------------+---------------------+-------------------+------+-------------------+\n",
      "|  count|            23315|            23315|            23315|            23315|             23315|      23315|         22545|        23315|            23315|             23315|              23315|              23315|               23315|               23315|            23315|              23315|                23315|              23315| 23315|              23315|\n",
      "|   mean|          11658.0|72.07926227750376|54297.64730859961|75842.18288655372| 74.70160669097099|       null|          null|         null|              1.0|0.8450782757881192|0.07553077417971263|0.14106798198584602|0.023161055114733004|0.002058760454642...|291.2349560368861|0.10062191722067339|                 null|0.20579026377868326|  null| 0.2198584602187433|\n",
      "| stddev|6730.605099097703|69.09500824842503|13061.87743441026|18988.52563450024|11.462722365672377|       null|          null|         null|              0.0|0.3618378077692845|0.26425153046041194|0.34809912906604457|  0.1504180543398142|0.045327806962078915|  338.49021363711| 0.3887817919189767|                 null|  0.699900675387826|  null|0.41415947975710266|\n",
      "|    min|                1|                1|            13369|            37230|             17.13| 01-01-1955|      Salaried|   01-08-2018|                1|                 0|                  0|                  0|                   0|                   0|                0|                  0|            0yrs 0mon|                  0|  East|                  0|\n",
      "|    max|            23315|              261|           592460|           715186|             94.98| 31-12-1997| Self employed|   31-10-2018|                1|                 1|                  1|                  1|                   1|                   1|              890|                  7|            9yrs 9mon|                 23|  West|                  1|\n",
      "+-------+-----------------+-----------------+-----------------+-----------------+------------------+-----------+--------------+-------------+-----------------+------------------+-------------------+-------------------+--------------------+--------------------+-----------------+-------------------+---------------------+-------------------+------+-------------------+\n",
      "\n"
     ]
    }
   ],
   "source": [
    "master_loan_statistics=master_loan_temp.describe()\n",
    "master_loan_statistics.show()"
   ]
  },
  {
   "cell_type": "markdown",
   "metadata": {},
   "source": [
    "Selecting all columns in the dataframe for data profiling"
   ]
  },
  {
   "cell_type": "code",
   "execution_count": 42,
   "metadata": {},
   "outputs": [],
   "source": [
    "profile_cols=master_loan_temp.columns"
   ]
  },
  {
   "cell_type": "code",
   "execution_count": 43,
   "metadata": {},
   "outputs": [
    {
     "data": {
      "text/plain": [
       "['Loan_id',\n",
       " 'branch_id',\n",
       " 'disbursed_amount',\n",
       " 'asset_cost',\n",
       " 'ltv',\n",
       " 'DateOfBirth',\n",
       " 'EmploymentType',\n",
       " 'DisbursalDate',\n",
       " 'MobileNo_Avl_Flag',\n",
       " 'Aadhar_flag',\n",
       " 'PAN_flag',\n",
       " 'VoterID_flag',\n",
       " 'Driving_flag',\n",
       " 'Passport_flag',\n",
       " 'Perform_CNS_score',\n",
       " 'Delinquent_accounts',\n",
       " 'Credit_History_Length',\n",
       " 'No_of_inquiries',\n",
       " 'region',\n",
       " 'loan_default']"
      ]
     },
     "execution_count": 43,
     "metadata": {},
     "output_type": "execute_result"
    }
   ],
   "source": [
    "profile_cols"
   ]
  },
  {
   "cell_type": "markdown",
   "metadata": {},
   "source": [
    "Displaying the data types of profile_cols"
   ]
  },
  {
   "cell_type": "code",
   "execution_count": 44,
   "metadata": {},
   "outputs": [
    {
     "data": {
      "text/plain": [
       "[('Loan_id', 'int'),\n",
       " ('branch_id', 'int'),\n",
       " ('disbursed_amount', 'int'),\n",
       " ('asset_cost', 'int'),\n",
       " ('ltv', 'double'),\n",
       " ('DateOfBirth', 'string'),\n",
       " ('EmploymentType', 'string'),\n",
       " ('DisbursalDate', 'string'),\n",
       " ('MobileNo_Avl_Flag', 'int'),\n",
       " ('Aadhar_flag', 'int'),\n",
       " ('PAN_flag', 'int'),\n",
       " ('VoterID_flag', 'int'),\n",
       " ('Driving_flag', 'int'),\n",
       " ('Passport_flag', 'int'),\n",
       " ('Perform_CNS_score', 'int'),\n",
       " ('Delinquent_accounts', 'int'),\n",
       " ('Credit_History_Length', 'string'),\n",
       " ('No_of_inquiries', 'int'),\n",
       " ('region', 'string'),\n",
       " ('loan_default', 'int')]"
      ]
     },
     "execution_count": 44,
     "metadata": {},
     "output_type": "execute_result"
    }
   ],
   "source": [
    "master_loan_temp.dtypes"
   ]
  },
  {
   "cell_type": "code",
   "execution_count": 45,
   "metadata": {},
   "outputs": [],
   "source": [
    "# data_df = master_loan_temp.select(profile_cols)\n",
    "# columns2Bprofiled = data_df.columns"
   ]
  },
  {
   "cell_type": "code",
   "execution_count": 46,
   "metadata": {},
   "outputs": [],
   "source": [
    "# global schema_name, table_name\n",
    "# if not 'schema_name' in globals():\n",
    "#     schema_name = 'schema_name'\n",
    "# if not 'table_name' in globals():\n",
    "#     table_name = 'table_name' "
   ]
  },
  {
   "cell_type": "code",
   "execution_count": 47,
   "metadata": {},
   "outputs": [],
   "source": [
    "# dprof_df = pd.DataFrame({'columna':data_df.columns,'data_types':[x[1] for x in data_df.dtypes]}) \n",
    "    "
   ]
  },
  {
   "cell_type": "code",
   "execution_count": 48,
   "metadata": {},
   "outputs": [],
   "source": [
    "master_loan_profile = pd.DataFrame({'Features':profile_cols,'data_types':[dt[1] for dt in master_loan_temp.dtypes]}) "
   ]
  },
  {
   "cell_type": "code",
   "execution_count": 49,
   "metadata": {},
   "outputs": [
    {
     "data": {
      "text/html": [
       "<div>\n",
       "<style scoped>\n",
       "    .dataframe tbody tr th:only-of-type {\n",
       "        vertical-align: middle;\n",
       "    }\n",
       "\n",
       "    .dataframe tbody tr th {\n",
       "        vertical-align: top;\n",
       "    }\n",
       "\n",
       "    .dataframe thead th {\n",
       "        text-align: right;\n",
       "    }\n",
       "</style>\n",
       "<table border=\"1\" class=\"dataframe\">\n",
       "  <thead>\n",
       "    <tr style=\"text-align: right;\">\n",
       "      <th></th>\n",
       "      <th>Features</th>\n",
       "      <th>data_types</th>\n",
       "    </tr>\n",
       "  </thead>\n",
       "  <tbody>\n",
       "    <tr>\n",
       "      <th>0</th>\n",
       "      <td>Loan_id</td>\n",
       "      <td>int</td>\n",
       "    </tr>\n",
       "    <tr>\n",
       "      <th>1</th>\n",
       "      <td>branch_id</td>\n",
       "      <td>int</td>\n",
       "    </tr>\n",
       "    <tr>\n",
       "      <th>2</th>\n",
       "      <td>disbursed_amount</td>\n",
       "      <td>int</td>\n",
       "    </tr>\n",
       "    <tr>\n",
       "      <th>3</th>\n",
       "      <td>asset_cost</td>\n",
       "      <td>int</td>\n",
       "    </tr>\n",
       "    <tr>\n",
       "      <th>4</th>\n",
       "      <td>ltv</td>\n",
       "      <td>double</td>\n",
       "    </tr>\n",
       "    <tr>\n",
       "      <th>5</th>\n",
       "      <td>DateOfBirth</td>\n",
       "      <td>string</td>\n",
       "    </tr>\n",
       "    <tr>\n",
       "      <th>6</th>\n",
       "      <td>EmploymentType</td>\n",
       "      <td>string</td>\n",
       "    </tr>\n",
       "    <tr>\n",
       "      <th>7</th>\n",
       "      <td>DisbursalDate</td>\n",
       "      <td>string</td>\n",
       "    </tr>\n",
       "    <tr>\n",
       "      <th>8</th>\n",
       "      <td>MobileNo_Avl_Flag</td>\n",
       "      <td>int</td>\n",
       "    </tr>\n",
       "    <tr>\n",
       "      <th>9</th>\n",
       "      <td>Aadhar_flag</td>\n",
       "      <td>int</td>\n",
       "    </tr>\n",
       "    <tr>\n",
       "      <th>10</th>\n",
       "      <td>PAN_flag</td>\n",
       "      <td>int</td>\n",
       "    </tr>\n",
       "    <tr>\n",
       "      <th>11</th>\n",
       "      <td>VoterID_flag</td>\n",
       "      <td>int</td>\n",
       "    </tr>\n",
       "    <tr>\n",
       "      <th>12</th>\n",
       "      <td>Driving_flag</td>\n",
       "      <td>int</td>\n",
       "    </tr>\n",
       "    <tr>\n",
       "      <th>13</th>\n",
       "      <td>Passport_flag</td>\n",
       "      <td>int</td>\n",
       "    </tr>\n",
       "    <tr>\n",
       "      <th>14</th>\n",
       "      <td>Perform_CNS_score</td>\n",
       "      <td>int</td>\n",
       "    </tr>\n",
       "    <tr>\n",
       "      <th>15</th>\n",
       "      <td>Delinquent_accounts</td>\n",
       "      <td>int</td>\n",
       "    </tr>\n",
       "    <tr>\n",
       "      <th>16</th>\n",
       "      <td>Credit_History_Length</td>\n",
       "      <td>string</td>\n",
       "    </tr>\n",
       "    <tr>\n",
       "      <th>17</th>\n",
       "      <td>No_of_inquiries</td>\n",
       "      <td>int</td>\n",
       "    </tr>\n",
       "    <tr>\n",
       "      <th>18</th>\n",
       "      <td>region</td>\n",
       "      <td>string</td>\n",
       "    </tr>\n",
       "    <tr>\n",
       "      <th>19</th>\n",
       "      <td>loan_default</td>\n",
       "      <td>int</td>\n",
       "    </tr>\n",
       "  </tbody>\n",
       "</table>\n",
       "</div>"
      ],
      "text/plain": [
       "                 Features data_types\n",
       "0                 Loan_id        int\n",
       "1               branch_id        int\n",
       "2        disbursed_amount        int\n",
       "3              asset_cost        int\n",
       "4                     ltv     double\n",
       "5             DateOfBirth     string\n",
       "6          EmploymentType     string\n",
       "7           DisbursalDate     string\n",
       "8       MobileNo_Avl_Flag        int\n",
       "9             Aadhar_flag        int\n",
       "10               PAN_flag        int\n",
       "11           VoterID_flag        int\n",
       "12           Driving_flag        int\n",
       "13          Passport_flag        int\n",
       "14      Perform_CNS_score        int\n",
       "15    Delinquent_accounts        int\n",
       "16  Credit_History_Length     string\n",
       "17        No_of_inquiries        int\n",
       "18                 region     string\n",
       "19           loan_default        int"
      ]
     },
     "execution_count": 49,
     "metadata": {},
     "output_type": "execute_result"
    }
   ],
   "source": [
    "master_loan_profile"
   ]
  },
  {
   "cell_type": "markdown",
   "metadata": {},
   "source": [
    "Find the total number of rows in dataframe"
   ]
  },
  {
   "cell_type": "code",
   "execution_count": 50,
   "metadata": {},
   "outputs": [
    {
     "data": {
      "text/plain": [
       "23315"
      ]
     },
     "execution_count": 50,
     "metadata": {},
     "output_type": "execute_result"
    }
   ],
   "source": [
    "rows = master_loan_temp.count()\n",
    "rows"
   ]
  },
  {
   "cell_type": "markdown",
   "metadata": {},
   "source": [
    "Finding the null values or missing values for each feature"
   ]
  },
  {
   "cell_type": "code",
   "execution_count": 51,
   "metadata": {},
   "outputs": [],
   "source": [
    "count_nan = master_loan_temp.select([count(when(isnan(c) | col(c).isNull(), c)).alias(c) for c in profile_cols]).toPandas().transpose()\n",
    "count_nan = count_nan.reset_index()  \n",
    "count_nan.columns = ['Features','Missing_values']\n",
    "master_loan_profile = pd.merge(master_loan_profile,count_nan, on = ['Features'], how = 'left')"
   ]
  },
  {
   "cell_type": "code",
   "execution_count": 52,
   "metadata": {},
   "outputs": [
    {
     "data": {
      "text/html": [
       "<div>\n",
       "<style scoped>\n",
       "    .dataframe tbody tr th:only-of-type {\n",
       "        vertical-align: middle;\n",
       "    }\n",
       "\n",
       "    .dataframe tbody tr th {\n",
       "        vertical-align: top;\n",
       "    }\n",
       "\n",
       "    .dataframe thead th {\n",
       "        text-align: right;\n",
       "    }\n",
       "</style>\n",
       "<table border=\"1\" class=\"dataframe\">\n",
       "  <thead>\n",
       "    <tr style=\"text-align: right;\">\n",
       "      <th></th>\n",
       "      <th>Features</th>\n",
       "      <th>data_types</th>\n",
       "      <th>Missing_values</th>\n",
       "    </tr>\n",
       "  </thead>\n",
       "  <tbody>\n",
       "    <tr>\n",
       "      <th>0</th>\n",
       "      <td>Loan_id</td>\n",
       "      <td>int</td>\n",
       "      <td>0</td>\n",
       "    </tr>\n",
       "    <tr>\n",
       "      <th>1</th>\n",
       "      <td>branch_id</td>\n",
       "      <td>int</td>\n",
       "      <td>0</td>\n",
       "    </tr>\n",
       "    <tr>\n",
       "      <th>2</th>\n",
       "      <td>disbursed_amount</td>\n",
       "      <td>int</td>\n",
       "      <td>0</td>\n",
       "    </tr>\n",
       "    <tr>\n",
       "      <th>3</th>\n",
       "      <td>asset_cost</td>\n",
       "      <td>int</td>\n",
       "      <td>0</td>\n",
       "    </tr>\n",
       "    <tr>\n",
       "      <th>4</th>\n",
       "      <td>ltv</td>\n",
       "      <td>double</td>\n",
       "      <td>0</td>\n",
       "    </tr>\n",
       "    <tr>\n",
       "      <th>5</th>\n",
       "      <td>DateOfBirth</td>\n",
       "      <td>string</td>\n",
       "      <td>0</td>\n",
       "    </tr>\n",
       "    <tr>\n",
       "      <th>6</th>\n",
       "      <td>EmploymentType</td>\n",
       "      <td>string</td>\n",
       "      <td>770</td>\n",
       "    </tr>\n",
       "    <tr>\n",
       "      <th>7</th>\n",
       "      <td>DisbursalDate</td>\n",
       "      <td>string</td>\n",
       "      <td>0</td>\n",
       "    </tr>\n",
       "    <tr>\n",
       "      <th>8</th>\n",
       "      <td>MobileNo_Avl_Flag</td>\n",
       "      <td>int</td>\n",
       "      <td>0</td>\n",
       "    </tr>\n",
       "    <tr>\n",
       "      <th>9</th>\n",
       "      <td>Aadhar_flag</td>\n",
       "      <td>int</td>\n",
       "      <td>0</td>\n",
       "    </tr>\n",
       "    <tr>\n",
       "      <th>10</th>\n",
       "      <td>PAN_flag</td>\n",
       "      <td>int</td>\n",
       "      <td>0</td>\n",
       "    </tr>\n",
       "    <tr>\n",
       "      <th>11</th>\n",
       "      <td>VoterID_flag</td>\n",
       "      <td>int</td>\n",
       "      <td>0</td>\n",
       "    </tr>\n",
       "    <tr>\n",
       "      <th>12</th>\n",
       "      <td>Driving_flag</td>\n",
       "      <td>int</td>\n",
       "      <td>0</td>\n",
       "    </tr>\n",
       "    <tr>\n",
       "      <th>13</th>\n",
       "      <td>Passport_flag</td>\n",
       "      <td>int</td>\n",
       "      <td>0</td>\n",
       "    </tr>\n",
       "    <tr>\n",
       "      <th>14</th>\n",
       "      <td>Perform_CNS_score</td>\n",
       "      <td>int</td>\n",
       "      <td>0</td>\n",
       "    </tr>\n",
       "    <tr>\n",
       "      <th>15</th>\n",
       "      <td>Delinquent_accounts</td>\n",
       "      <td>int</td>\n",
       "      <td>0</td>\n",
       "    </tr>\n",
       "    <tr>\n",
       "      <th>16</th>\n",
       "      <td>Credit_History_Length</td>\n",
       "      <td>string</td>\n",
       "      <td>0</td>\n",
       "    </tr>\n",
       "    <tr>\n",
       "      <th>17</th>\n",
       "      <td>No_of_inquiries</td>\n",
       "      <td>int</td>\n",
       "      <td>0</td>\n",
       "    </tr>\n",
       "    <tr>\n",
       "      <th>18</th>\n",
       "      <td>region</td>\n",
       "      <td>string</td>\n",
       "      <td>0</td>\n",
       "    </tr>\n",
       "    <tr>\n",
       "      <th>19</th>\n",
       "      <td>loan_default</td>\n",
       "      <td>int</td>\n",
       "      <td>0</td>\n",
       "    </tr>\n",
       "  </tbody>\n",
       "</table>\n",
       "</div>"
      ],
      "text/plain": [
       "                 Features data_types  Missing_values\n",
       "0                 Loan_id        int               0\n",
       "1               branch_id        int               0\n",
       "2        disbursed_amount        int               0\n",
       "3              asset_cost        int               0\n",
       "4                     ltv     double               0\n",
       "5             DateOfBirth     string               0\n",
       "6          EmploymentType     string             770\n",
       "7           DisbursalDate     string               0\n",
       "8       MobileNo_Avl_Flag        int               0\n",
       "9             Aadhar_flag        int               0\n",
       "10               PAN_flag        int               0\n",
       "11           VoterID_flag        int               0\n",
       "12           Driving_flag        int               0\n",
       "13          Passport_flag        int               0\n",
       "14      Perform_CNS_score        int               0\n",
       "15    Delinquent_accounts        int               0\n",
       "16  Credit_History_Length     string               0\n",
       "17        No_of_inquiries        int               0\n",
       "18                 region     string               0\n",
       "19           loan_default        int               0"
      ]
     },
     "execution_count": 52,
     "metadata": {},
     "output_type": "execute_result"
    }
   ],
   "source": [
    "master_loan_profile "
   ]
  },
  {
   "cell_type": "code",
   "execution_count": 53,
   "metadata": {},
   "outputs": [],
   "source": [
    "# num_spaces = [data_df.where(F.col(c).rlike('^\\\\s+$')).count() for c in data_df.columns]\n",
    "# dprof_df['num_spaces'] = num_spaces\n",
    "# num_blank = [data_df.where(F.col(c)=='').count() for c in data_df.columns]\n",
    "# dprof_df['num_blank'] = num_blank"
   ]
  },
  {
   "cell_type": "code",
   "execution_count": 54,
   "metadata": {},
   "outputs": [
    {
     "data": {
      "text/html": [
       "<div>\n",
       "<style scoped>\n",
       "    .dataframe tbody tr th:only-of-type {\n",
       "        vertical-align: middle;\n",
       "    }\n",
       "\n",
       "    .dataframe tbody tr th {\n",
       "        vertical-align: top;\n",
       "    }\n",
       "\n",
       "    .dataframe thead th {\n",
       "        text-align: right;\n",
       "    }\n",
       "</style>\n",
       "<table border=\"1\" class=\"dataframe\">\n",
       "  <thead>\n",
       "    <tr style=\"text-align: right;\">\n",
       "      <th></th>\n",
       "      <th>0</th>\n",
       "      <th>1</th>\n",
       "      <th>2</th>\n",
       "      <th>3</th>\n",
       "      <th>4</th>\n",
       "    </tr>\n",
       "  </thead>\n",
       "  <tbody>\n",
       "    <tr>\n",
       "      <th>summary</th>\n",
       "      <td>count</td>\n",
       "      <td>mean</td>\n",
       "      <td>stddev</td>\n",
       "      <td>min</td>\n",
       "      <td>max</td>\n",
       "    </tr>\n",
       "    <tr>\n",
       "      <th>Loan_id</th>\n",
       "      <td>23315</td>\n",
       "      <td>11658.0</td>\n",
       "      <td>6730.605099097703</td>\n",
       "      <td>1</td>\n",
       "      <td>23315</td>\n",
       "    </tr>\n",
       "    <tr>\n",
       "      <th>branch_id</th>\n",
       "      <td>23315</td>\n",
       "      <td>72.07926227750376</td>\n",
       "      <td>69.09500824842503</td>\n",
       "      <td>1</td>\n",
       "      <td>261</td>\n",
       "    </tr>\n",
       "    <tr>\n",
       "      <th>disbursed_amount</th>\n",
       "      <td>23315</td>\n",
       "      <td>54297.64730859961</td>\n",
       "      <td>13061.87743441026</td>\n",
       "      <td>13369</td>\n",
       "      <td>592460</td>\n",
       "    </tr>\n",
       "    <tr>\n",
       "      <th>asset_cost</th>\n",
       "      <td>23315</td>\n",
       "      <td>75842.18288655372</td>\n",
       "      <td>18988.52563450024</td>\n",
       "      <td>37230</td>\n",
       "      <td>715186</td>\n",
       "    </tr>\n",
       "    <tr>\n",
       "      <th>ltv</th>\n",
       "      <td>23315</td>\n",
       "      <td>74.70160669097099</td>\n",
       "      <td>11.462722365672377</td>\n",
       "      <td>17.13</td>\n",
       "      <td>94.98</td>\n",
       "    </tr>\n",
       "    <tr>\n",
       "      <th>DateOfBirth</th>\n",
       "      <td>23315</td>\n",
       "      <td>None</td>\n",
       "      <td>None</td>\n",
       "      <td>01-01-1955</td>\n",
       "      <td>31-12-1997</td>\n",
       "    </tr>\n",
       "    <tr>\n",
       "      <th>EmploymentType</th>\n",
       "      <td>22545</td>\n",
       "      <td>None</td>\n",
       "      <td>None</td>\n",
       "      <td>Salaried</td>\n",
       "      <td>Self employed</td>\n",
       "    </tr>\n",
       "    <tr>\n",
       "      <th>DisbursalDate</th>\n",
       "      <td>23315</td>\n",
       "      <td>None</td>\n",
       "      <td>None</td>\n",
       "      <td>01-08-2018</td>\n",
       "      <td>31-10-2018</td>\n",
       "    </tr>\n",
       "    <tr>\n",
       "      <th>MobileNo_Avl_Flag</th>\n",
       "      <td>23315</td>\n",
       "      <td>1.0</td>\n",
       "      <td>0.0</td>\n",
       "      <td>1</td>\n",
       "      <td>1</td>\n",
       "    </tr>\n",
       "    <tr>\n",
       "      <th>Aadhar_flag</th>\n",
       "      <td>23315</td>\n",
       "      <td>0.8450782757881192</td>\n",
       "      <td>0.3618378077692845</td>\n",
       "      <td>0</td>\n",
       "      <td>1</td>\n",
       "    </tr>\n",
       "    <tr>\n",
       "      <th>PAN_flag</th>\n",
       "      <td>23315</td>\n",
       "      <td>0.07553077417971263</td>\n",
       "      <td>0.26425153046041194</td>\n",
       "      <td>0</td>\n",
       "      <td>1</td>\n",
       "    </tr>\n",
       "    <tr>\n",
       "      <th>VoterID_flag</th>\n",
       "      <td>23315</td>\n",
       "      <td>0.14106798198584602</td>\n",
       "      <td>0.34809912906604457</td>\n",
       "      <td>0</td>\n",
       "      <td>1</td>\n",
       "    </tr>\n",
       "    <tr>\n",
       "      <th>Driving_flag</th>\n",
       "      <td>23315</td>\n",
       "      <td>0.023161055114733004</td>\n",
       "      <td>0.1504180543398142</td>\n",
       "      <td>0</td>\n",
       "      <td>1</td>\n",
       "    </tr>\n",
       "    <tr>\n",
       "      <th>Passport_flag</th>\n",
       "      <td>23315</td>\n",
       "      <td>0.0020587604546429337</td>\n",
       "      <td>0.045327806962078915</td>\n",
       "      <td>0</td>\n",
       "      <td>1</td>\n",
       "    </tr>\n",
       "    <tr>\n",
       "      <th>Perform_CNS_score</th>\n",
       "      <td>23315</td>\n",
       "      <td>291.2349560368861</td>\n",
       "      <td>338.49021363711</td>\n",
       "      <td>0</td>\n",
       "      <td>890</td>\n",
       "    </tr>\n",
       "    <tr>\n",
       "      <th>Delinquent_accounts</th>\n",
       "      <td>23315</td>\n",
       "      <td>0.10062191722067339</td>\n",
       "      <td>0.3887817919189767</td>\n",
       "      <td>0</td>\n",
       "      <td>7</td>\n",
       "    </tr>\n",
       "    <tr>\n",
       "      <th>Credit_History_Length</th>\n",
       "      <td>23315</td>\n",
       "      <td>None</td>\n",
       "      <td>None</td>\n",
       "      <td>0yrs 0mon</td>\n",
       "      <td>9yrs 9mon</td>\n",
       "    </tr>\n",
       "    <tr>\n",
       "      <th>No_of_inquiries</th>\n",
       "      <td>23315</td>\n",
       "      <td>0.20579026377868326</td>\n",
       "      <td>0.699900675387826</td>\n",
       "      <td>0</td>\n",
       "      <td>23</td>\n",
       "    </tr>\n",
       "    <tr>\n",
       "      <th>region</th>\n",
       "      <td>23315</td>\n",
       "      <td>None</td>\n",
       "      <td>None</td>\n",
       "      <td>East</td>\n",
       "      <td>West</td>\n",
       "    </tr>\n",
       "    <tr>\n",
       "      <th>loan_default</th>\n",
       "      <td>23315</td>\n",
       "      <td>0.2198584602187433</td>\n",
       "      <td>0.41415947975710266</td>\n",
       "      <td>0</td>\n",
       "      <td>1</td>\n",
       "    </tr>\n",
       "  </tbody>\n",
       "</table>\n",
       "</div>"
      ],
      "text/plain": [
       "                           0                      1                     2  \\\n",
       "summary                count                   mean                stddev   \n",
       "Loan_id                23315                11658.0     6730.605099097703   \n",
       "branch_id              23315      72.07926227750376     69.09500824842503   \n",
       "disbursed_amount       23315      54297.64730859961     13061.87743441026   \n",
       "asset_cost             23315      75842.18288655372     18988.52563450024   \n",
       "ltv                    23315      74.70160669097099    11.462722365672377   \n",
       "DateOfBirth            23315                   None                  None   \n",
       "EmploymentType         22545                   None                  None   \n",
       "DisbursalDate          23315                   None                  None   \n",
       "MobileNo_Avl_Flag      23315                    1.0                   0.0   \n",
       "Aadhar_flag            23315     0.8450782757881192    0.3618378077692845   \n",
       "PAN_flag               23315    0.07553077417971263   0.26425153046041194   \n",
       "VoterID_flag           23315    0.14106798198584602   0.34809912906604457   \n",
       "Driving_flag           23315   0.023161055114733004    0.1504180543398142   \n",
       "Passport_flag          23315  0.0020587604546429337  0.045327806962078915   \n",
       "Perform_CNS_score      23315      291.2349560368861       338.49021363711   \n",
       "Delinquent_accounts    23315    0.10062191722067339    0.3887817919189767   \n",
       "Credit_History_Length  23315                   None                  None   \n",
       "No_of_inquiries        23315    0.20579026377868326     0.699900675387826   \n",
       "region                 23315                   None                  None   \n",
       "loan_default           23315     0.2198584602187433   0.41415947975710266   \n",
       "\n",
       "                                3              4  \n",
       "summary                       min            max  \n",
       "Loan_id                         1          23315  \n",
       "branch_id                       1            261  \n",
       "disbursed_amount            13369         592460  \n",
       "asset_cost                  37230         715186  \n",
       "ltv                         17.13          94.98  \n",
       "DateOfBirth            01-01-1955     31-12-1997  \n",
       "EmploymentType           Salaried  Self employed  \n",
       "DisbursalDate          01-08-2018     31-10-2018  \n",
       "MobileNo_Avl_Flag               1              1  \n",
       "Aadhar_flag                     0              1  \n",
       "PAN_flag                        0              1  \n",
       "VoterID_flag                    0              1  \n",
       "Driving_flag                    0              1  \n",
       "Passport_flag                   0              1  \n",
       "Perform_CNS_score               0            890  \n",
       "Delinquent_accounts             0              7  \n",
       "Credit_History_Length   0yrs 0mon      9yrs 9mon  \n",
       "No_of_inquiries                 0             23  \n",
       "region                       East           West  \n",
       "loan_default                    0              1  "
      ]
     },
     "execution_count": 54,
     "metadata": {},
     "output_type": "execute_result"
    }
   ],
   "source": [
    "master_loan_statistics.toPandas().transpose()"
   ]
  },
  {
   "cell_type": "code",
   "execution_count": 55,
   "metadata": {},
   "outputs": [],
   "source": [
    "master_loan_statistics_desc=master_loan_statistics.toPandas().transpose()\n",
    "master_loan_statistics_desc.columns = ['count', 'mean', 'stddev', 'min', 'max']\n",
    "master_loan_statistics_desc= master_loan_statistics_desc.iloc[1:,:]  \n",
    "master_loan_statistics_desc= master_loan_statistics_desc.reset_index()  \n",
    "master_loan_statistics_desc.columns.values[0] = 'Features' \n",
    "master_loan_statistics_desc = master_loan_statistics_desc[['Features','count', 'mean', 'stddev']] \n",
    "master_loan_profile= pd.merge(master_loan_profile, master_loan_statistics_desc , on = ['Features'], how = 'left')"
   ]
  },
  {
   "cell_type": "code",
   "execution_count": 56,
   "metadata": {},
   "outputs": [],
   "source": [
    "allminvalues = [master_loan_temp.select(F.min(x)).limit(1).toPandas().iloc[0][0] for x in profile_cols]\n",
    "allmaxvalues = [master_loan_temp.select(F.max(x)).limit(1).toPandas().iloc[0][0] for x in profile_cols]\n",
    "df_counts =master_loan_profile[['Features']]\n",
    "df_counts.insert(loc=0, column='min', value=allminvalues)\n",
    "df_counts.insert(loc=0, column='max', value=allmaxvalues)\n",
    "df_counts = df_counts[['Features','min','max']]\n",
    "master_loan_profile = pd.merge(master_loan_profile, df_counts , on = ['Features'], how = 'left')  "
   ]
  },
  {
   "cell_type": "code",
   "execution_count": 57,
   "metadata": {},
   "outputs": [
    {
     "data": {
      "text/html": [
       "<div>\n",
       "<style scoped>\n",
       "    .dataframe tbody tr th:only-of-type {\n",
       "        vertical-align: middle;\n",
       "    }\n",
       "\n",
       "    .dataframe tbody tr th {\n",
       "        vertical-align: top;\n",
       "    }\n",
       "\n",
       "    .dataframe thead th {\n",
       "        text-align: right;\n",
       "    }\n",
       "</style>\n",
       "<table border=\"1\" class=\"dataframe\">\n",
       "  <thead>\n",
       "    <tr style=\"text-align: right;\">\n",
       "      <th></th>\n",
       "      <th>Features</th>\n",
       "      <th>data_types</th>\n",
       "      <th>Missing_values</th>\n",
       "      <th>count</th>\n",
       "      <th>mean</th>\n",
       "      <th>stddev</th>\n",
       "      <th>min</th>\n",
       "      <th>max</th>\n",
       "    </tr>\n",
       "  </thead>\n",
       "  <tbody>\n",
       "    <tr>\n",
       "      <th>0</th>\n",
       "      <td>Loan_id</td>\n",
       "      <td>int</td>\n",
       "      <td>0</td>\n",
       "      <td>23315</td>\n",
       "      <td>11658.0</td>\n",
       "      <td>6730.605099097703</td>\n",
       "      <td>1</td>\n",
       "      <td>23315</td>\n",
       "    </tr>\n",
       "    <tr>\n",
       "      <th>1</th>\n",
       "      <td>branch_id</td>\n",
       "      <td>int</td>\n",
       "      <td>0</td>\n",
       "      <td>23315</td>\n",
       "      <td>72.07926227750376</td>\n",
       "      <td>69.09500824842503</td>\n",
       "      <td>1</td>\n",
       "      <td>261</td>\n",
       "    </tr>\n",
       "    <tr>\n",
       "      <th>2</th>\n",
       "      <td>disbursed_amount</td>\n",
       "      <td>int</td>\n",
       "      <td>0</td>\n",
       "      <td>23315</td>\n",
       "      <td>54297.64730859961</td>\n",
       "      <td>13061.87743441026</td>\n",
       "      <td>13369</td>\n",
       "      <td>592460</td>\n",
       "    </tr>\n",
       "    <tr>\n",
       "      <th>3</th>\n",
       "      <td>asset_cost</td>\n",
       "      <td>int</td>\n",
       "      <td>0</td>\n",
       "      <td>23315</td>\n",
       "      <td>75842.18288655372</td>\n",
       "      <td>18988.52563450024</td>\n",
       "      <td>37230</td>\n",
       "      <td>715186</td>\n",
       "    </tr>\n",
       "    <tr>\n",
       "      <th>4</th>\n",
       "      <td>ltv</td>\n",
       "      <td>double</td>\n",
       "      <td>0</td>\n",
       "      <td>23315</td>\n",
       "      <td>74.70160669097099</td>\n",
       "      <td>11.462722365672377</td>\n",
       "      <td>17.13</td>\n",
       "      <td>94.98</td>\n",
       "    </tr>\n",
       "    <tr>\n",
       "      <th>5</th>\n",
       "      <td>DateOfBirth</td>\n",
       "      <td>string</td>\n",
       "      <td>0</td>\n",
       "      <td>23315</td>\n",
       "      <td>None</td>\n",
       "      <td>None</td>\n",
       "      <td>01-01-1955</td>\n",
       "      <td>31-12-1997</td>\n",
       "    </tr>\n",
       "    <tr>\n",
       "      <th>6</th>\n",
       "      <td>EmploymentType</td>\n",
       "      <td>string</td>\n",
       "      <td>770</td>\n",
       "      <td>22545</td>\n",
       "      <td>None</td>\n",
       "      <td>None</td>\n",
       "      <td>Salaried</td>\n",
       "      <td>Self employed</td>\n",
       "    </tr>\n",
       "    <tr>\n",
       "      <th>7</th>\n",
       "      <td>DisbursalDate</td>\n",
       "      <td>string</td>\n",
       "      <td>0</td>\n",
       "      <td>23315</td>\n",
       "      <td>None</td>\n",
       "      <td>None</td>\n",
       "      <td>01-08-2018</td>\n",
       "      <td>31-10-2018</td>\n",
       "    </tr>\n",
       "    <tr>\n",
       "      <th>8</th>\n",
       "      <td>MobileNo_Avl_Flag</td>\n",
       "      <td>int</td>\n",
       "      <td>0</td>\n",
       "      <td>23315</td>\n",
       "      <td>1.0</td>\n",
       "      <td>0.0</td>\n",
       "      <td>1</td>\n",
       "      <td>1</td>\n",
       "    </tr>\n",
       "    <tr>\n",
       "      <th>9</th>\n",
       "      <td>Aadhar_flag</td>\n",
       "      <td>int</td>\n",
       "      <td>0</td>\n",
       "      <td>23315</td>\n",
       "      <td>0.8450782757881192</td>\n",
       "      <td>0.3618378077692845</td>\n",
       "      <td>0</td>\n",
       "      <td>1</td>\n",
       "    </tr>\n",
       "    <tr>\n",
       "      <th>10</th>\n",
       "      <td>PAN_flag</td>\n",
       "      <td>int</td>\n",
       "      <td>0</td>\n",
       "      <td>23315</td>\n",
       "      <td>0.07553077417971263</td>\n",
       "      <td>0.26425153046041194</td>\n",
       "      <td>0</td>\n",
       "      <td>1</td>\n",
       "    </tr>\n",
       "    <tr>\n",
       "      <th>11</th>\n",
       "      <td>VoterID_flag</td>\n",
       "      <td>int</td>\n",
       "      <td>0</td>\n",
       "      <td>23315</td>\n",
       "      <td>0.14106798198584602</td>\n",
       "      <td>0.34809912906604457</td>\n",
       "      <td>0</td>\n",
       "      <td>1</td>\n",
       "    </tr>\n",
       "    <tr>\n",
       "      <th>12</th>\n",
       "      <td>Driving_flag</td>\n",
       "      <td>int</td>\n",
       "      <td>0</td>\n",
       "      <td>23315</td>\n",
       "      <td>0.023161055114733004</td>\n",
       "      <td>0.1504180543398142</td>\n",
       "      <td>0</td>\n",
       "      <td>1</td>\n",
       "    </tr>\n",
       "    <tr>\n",
       "      <th>13</th>\n",
       "      <td>Passport_flag</td>\n",
       "      <td>int</td>\n",
       "      <td>0</td>\n",
       "      <td>23315</td>\n",
       "      <td>0.0020587604546429337</td>\n",
       "      <td>0.045327806962078915</td>\n",
       "      <td>0</td>\n",
       "      <td>1</td>\n",
       "    </tr>\n",
       "    <tr>\n",
       "      <th>14</th>\n",
       "      <td>Perform_CNS_score</td>\n",
       "      <td>int</td>\n",
       "      <td>0</td>\n",
       "      <td>23315</td>\n",
       "      <td>291.2349560368861</td>\n",
       "      <td>338.49021363711</td>\n",
       "      <td>0</td>\n",
       "      <td>890</td>\n",
       "    </tr>\n",
       "    <tr>\n",
       "      <th>15</th>\n",
       "      <td>Delinquent_accounts</td>\n",
       "      <td>int</td>\n",
       "      <td>0</td>\n",
       "      <td>23315</td>\n",
       "      <td>0.10062191722067339</td>\n",
       "      <td>0.3887817919189767</td>\n",
       "      <td>0</td>\n",
       "      <td>7</td>\n",
       "    </tr>\n",
       "    <tr>\n",
       "      <th>16</th>\n",
       "      <td>Credit_History_Length</td>\n",
       "      <td>string</td>\n",
       "      <td>0</td>\n",
       "      <td>23315</td>\n",
       "      <td>None</td>\n",
       "      <td>None</td>\n",
       "      <td>0yrs 0mon</td>\n",
       "      <td>9yrs 9mon</td>\n",
       "    </tr>\n",
       "    <tr>\n",
       "      <th>17</th>\n",
       "      <td>No_of_inquiries</td>\n",
       "      <td>int</td>\n",
       "      <td>0</td>\n",
       "      <td>23315</td>\n",
       "      <td>0.20579026377868326</td>\n",
       "      <td>0.699900675387826</td>\n",
       "      <td>0</td>\n",
       "      <td>23</td>\n",
       "    </tr>\n",
       "    <tr>\n",
       "      <th>18</th>\n",
       "      <td>region</td>\n",
       "      <td>string</td>\n",
       "      <td>0</td>\n",
       "      <td>23315</td>\n",
       "      <td>None</td>\n",
       "      <td>None</td>\n",
       "      <td>East</td>\n",
       "      <td>West</td>\n",
       "    </tr>\n",
       "    <tr>\n",
       "      <th>19</th>\n",
       "      <td>loan_default</td>\n",
       "      <td>int</td>\n",
       "      <td>0</td>\n",
       "      <td>23315</td>\n",
       "      <td>0.2198584602187433</td>\n",
       "      <td>0.41415947975710266</td>\n",
       "      <td>0</td>\n",
       "      <td>1</td>\n",
       "    </tr>\n",
       "  </tbody>\n",
       "</table>\n",
       "</div>"
      ],
      "text/plain": [
       "                 Features data_types  Missing_values  count  \\\n",
       "0                 Loan_id        int               0  23315   \n",
       "1               branch_id        int               0  23315   \n",
       "2        disbursed_amount        int               0  23315   \n",
       "3              asset_cost        int               0  23315   \n",
       "4                     ltv     double               0  23315   \n",
       "5             DateOfBirth     string               0  23315   \n",
       "6          EmploymentType     string             770  22545   \n",
       "7           DisbursalDate     string               0  23315   \n",
       "8       MobileNo_Avl_Flag        int               0  23315   \n",
       "9             Aadhar_flag        int               0  23315   \n",
       "10               PAN_flag        int               0  23315   \n",
       "11           VoterID_flag        int               0  23315   \n",
       "12           Driving_flag        int               0  23315   \n",
       "13          Passport_flag        int               0  23315   \n",
       "14      Perform_CNS_score        int               0  23315   \n",
       "15    Delinquent_accounts        int               0  23315   \n",
       "16  Credit_History_Length     string               0  23315   \n",
       "17        No_of_inquiries        int               0  23315   \n",
       "18                 region     string               0  23315   \n",
       "19           loan_default        int               0  23315   \n",
       "\n",
       "                     mean                stddev         min            max  \n",
       "0                 11658.0     6730.605099097703           1          23315  \n",
       "1       72.07926227750376     69.09500824842503           1            261  \n",
       "2       54297.64730859961     13061.87743441026       13369         592460  \n",
       "3       75842.18288655372     18988.52563450024       37230         715186  \n",
       "4       74.70160669097099    11.462722365672377       17.13          94.98  \n",
       "5                    None                  None  01-01-1955     31-12-1997  \n",
       "6                    None                  None    Salaried  Self employed  \n",
       "7                    None                  None  01-08-2018     31-10-2018  \n",
       "8                     1.0                   0.0           1              1  \n",
       "9      0.8450782757881192    0.3618378077692845           0              1  \n",
       "10    0.07553077417971263   0.26425153046041194           0              1  \n",
       "11    0.14106798198584602   0.34809912906604457           0              1  \n",
       "12   0.023161055114733004    0.1504180543398142           0              1  \n",
       "13  0.0020587604546429337  0.045327806962078915           0              1  \n",
       "14      291.2349560368861       338.49021363711           0            890  \n",
       "15    0.10062191722067339    0.3887817919189767           0              7  \n",
       "16                   None                  None   0yrs 0mon      9yrs 9mon  \n",
       "17    0.20579026377868326     0.699900675387826           0             23  \n",
       "18                   None                  None        East           West  \n",
       "19     0.2198584602187433   0.41415947975710266           0              1  "
      ]
     },
     "execution_count": 57,
     "metadata": {},
     "output_type": "execute_result"
    }
   ],
   "source": [
    "master_loan_profile"
   ]
  },
  {
   "cell_type": "markdown",
   "metadata": {},
   "source": [
    "Finding the number of distinct values for each feature"
   ]
  },
  {
   "cell_type": "code",
   "execution_count": 58,
   "metadata": {},
   "outputs": [],
   "source": [
    "master_loan_profile['num_distinct'] = [master_loan_temp.select(x).distinct().count() for x in profile_cols]\n",
    "    # ============================================\n",
    "    # most frequently occuring value in a column and its count\n",
    "# master_loan_profile['most_freq_valwcount'] = [master_loan_temp.groupBy(x).count().sort(\"count\",ascending=False).limit(1).toPandas().iloc[0].values.tolist() for x in profile_cols]\n",
    "# master_loan_profile['most_freq_value'] = [x[0] for x in master_loan_profile['most_freq_valwcount']]\n",
    "# master_loan_profile['most_freq_value_count'] = [x[1] for x in master_loan_profile['most_freq_valwcount']]\n",
    "# master_loan_profile = master_loan_profile.drop(['most_freq_valwcount'],axis=1)\n",
    "#     # least frequently occuring value in a column and its count\n",
    "# master_loan_profile['least_freq_valwcount'] = [master_loan_temp.groupBy(x).count().sort(\"count\",ascending=True).limit(1).toPandas().iloc[0].values.tolist() for x in profile_cols]\n",
    "# master_loan_profile['least_freq_value'] = [x[0] for x in master_loan_profile['least_freq_valwcount']]\n",
    "# master_loan_profile['least_freq_value_count'] = [x[1] for x in master_loan_profile['least_freq_valwcount']]\n",
    "# master_loan_profile = master_loan_profile.drop(['least_freq_valwcount'],axis=1)\n"
   ]
  },
  {
   "cell_type": "code",
   "execution_count": 59,
   "metadata": {},
   "outputs": [
    {
     "data": {
      "text/html": [
       "<div>\n",
       "<style scoped>\n",
       "    .dataframe tbody tr th:only-of-type {\n",
       "        vertical-align: middle;\n",
       "    }\n",
       "\n",
       "    .dataframe tbody tr th {\n",
       "        vertical-align: top;\n",
       "    }\n",
       "\n",
       "    .dataframe thead th {\n",
       "        text-align: right;\n",
       "    }\n",
       "</style>\n",
       "<table border=\"1\" class=\"dataframe\">\n",
       "  <thead>\n",
       "    <tr style=\"text-align: right;\">\n",
       "      <th></th>\n",
       "      <th>Features</th>\n",
       "      <th>data_types</th>\n",
       "      <th>Missing_values</th>\n",
       "      <th>count</th>\n",
       "      <th>mean</th>\n",
       "      <th>stddev</th>\n",
       "      <th>min</th>\n",
       "      <th>max</th>\n",
       "      <th>num_distinct</th>\n",
       "    </tr>\n",
       "  </thead>\n",
       "  <tbody>\n",
       "    <tr>\n",
       "      <th>0</th>\n",
       "      <td>Loan_id</td>\n",
       "      <td>int</td>\n",
       "      <td>0</td>\n",
       "      <td>23315</td>\n",
       "      <td>11658.0</td>\n",
       "      <td>6730.605099097703</td>\n",
       "      <td>1</td>\n",
       "      <td>23315</td>\n",
       "      <td>23315</td>\n",
       "    </tr>\n",
       "    <tr>\n",
       "      <th>1</th>\n",
       "      <td>branch_id</td>\n",
       "      <td>int</td>\n",
       "      <td>0</td>\n",
       "      <td>23315</td>\n",
       "      <td>72.07926227750376</td>\n",
       "      <td>69.09500824842503</td>\n",
       "      <td>1</td>\n",
       "      <td>261</td>\n",
       "      <td>82</td>\n",
       "    </tr>\n",
       "    <tr>\n",
       "      <th>2</th>\n",
       "      <td>disbursed_amount</td>\n",
       "      <td>int</td>\n",
       "      <td>0</td>\n",
       "      <td>23315</td>\n",
       "      <td>54297.64730859961</td>\n",
       "      <td>13061.87743441026</td>\n",
       "      <td>13369</td>\n",
       "      <td>592460</td>\n",
       "      <td>6057</td>\n",
       "    </tr>\n",
       "    <tr>\n",
       "      <th>3</th>\n",
       "      <td>asset_cost</td>\n",
       "      <td>int</td>\n",
       "      <td>0</td>\n",
       "      <td>23315</td>\n",
       "      <td>75842.18288655372</td>\n",
       "      <td>18988.52563450024</td>\n",
       "      <td>37230</td>\n",
       "      <td>715186</td>\n",
       "      <td>13886</td>\n",
       "    </tr>\n",
       "    <tr>\n",
       "      <th>4</th>\n",
       "      <td>ltv</td>\n",
       "      <td>double</td>\n",
       "      <td>0</td>\n",
       "      <td>23315</td>\n",
       "      <td>74.70160669097099</td>\n",
       "      <td>11.462722365672377</td>\n",
       "      <td>17.13</td>\n",
       "      <td>94.98</td>\n",
       "      <td>4527</td>\n",
       "    </tr>\n",
       "    <tr>\n",
       "      <th>5</th>\n",
       "      <td>DateOfBirth</td>\n",
       "      <td>string</td>\n",
       "      <td>0</td>\n",
       "      <td>23315</td>\n",
       "      <td>None</td>\n",
       "      <td>None</td>\n",
       "      <td>01-01-1955</td>\n",
       "      <td>31-12-1997</td>\n",
       "      <td>8729</td>\n",
       "    </tr>\n",
       "    <tr>\n",
       "      <th>6</th>\n",
       "      <td>EmploymentType</td>\n",
       "      <td>string</td>\n",
       "      <td>770</td>\n",
       "      <td>22545</td>\n",
       "      <td>None</td>\n",
       "      <td>None</td>\n",
       "      <td>Salaried</td>\n",
       "      <td>Self employed</td>\n",
       "      <td>3</td>\n",
       "    </tr>\n",
       "    <tr>\n",
       "      <th>7</th>\n",
       "      <td>DisbursalDate</td>\n",
       "      <td>string</td>\n",
       "      <td>0</td>\n",
       "      <td>23315</td>\n",
       "      <td>None</td>\n",
       "      <td>None</td>\n",
       "      <td>01-08-2018</td>\n",
       "      <td>31-10-2018</td>\n",
       "      <td>84</td>\n",
       "    </tr>\n",
       "    <tr>\n",
       "      <th>8</th>\n",
       "      <td>MobileNo_Avl_Flag</td>\n",
       "      <td>int</td>\n",
       "      <td>0</td>\n",
       "      <td>23315</td>\n",
       "      <td>1.0</td>\n",
       "      <td>0.0</td>\n",
       "      <td>1</td>\n",
       "      <td>1</td>\n",
       "      <td>1</td>\n",
       "    </tr>\n",
       "    <tr>\n",
       "      <th>9</th>\n",
       "      <td>Aadhar_flag</td>\n",
       "      <td>int</td>\n",
       "      <td>0</td>\n",
       "      <td>23315</td>\n",
       "      <td>0.8450782757881192</td>\n",
       "      <td>0.3618378077692845</td>\n",
       "      <td>0</td>\n",
       "      <td>1</td>\n",
       "      <td>2</td>\n",
       "    </tr>\n",
       "    <tr>\n",
       "      <th>10</th>\n",
       "      <td>PAN_flag</td>\n",
       "      <td>int</td>\n",
       "      <td>0</td>\n",
       "      <td>23315</td>\n",
       "      <td>0.07553077417971263</td>\n",
       "      <td>0.26425153046041194</td>\n",
       "      <td>0</td>\n",
       "      <td>1</td>\n",
       "      <td>2</td>\n",
       "    </tr>\n",
       "    <tr>\n",
       "      <th>11</th>\n",
       "      <td>VoterID_flag</td>\n",
       "      <td>int</td>\n",
       "      <td>0</td>\n",
       "      <td>23315</td>\n",
       "      <td>0.14106798198584602</td>\n",
       "      <td>0.34809912906604457</td>\n",
       "      <td>0</td>\n",
       "      <td>1</td>\n",
       "      <td>2</td>\n",
       "    </tr>\n",
       "    <tr>\n",
       "      <th>12</th>\n",
       "      <td>Driving_flag</td>\n",
       "      <td>int</td>\n",
       "      <td>0</td>\n",
       "      <td>23315</td>\n",
       "      <td>0.023161055114733004</td>\n",
       "      <td>0.1504180543398142</td>\n",
       "      <td>0</td>\n",
       "      <td>1</td>\n",
       "      <td>2</td>\n",
       "    </tr>\n",
       "    <tr>\n",
       "      <th>13</th>\n",
       "      <td>Passport_flag</td>\n",
       "      <td>int</td>\n",
       "      <td>0</td>\n",
       "      <td>23315</td>\n",
       "      <td>0.0020587604546429337</td>\n",
       "      <td>0.045327806962078915</td>\n",
       "      <td>0</td>\n",
       "      <td>1</td>\n",
       "      <td>2</td>\n",
       "    </tr>\n",
       "    <tr>\n",
       "      <th>14</th>\n",
       "      <td>Perform_CNS_score</td>\n",
       "      <td>int</td>\n",
       "      <td>0</td>\n",
       "      <td>23315</td>\n",
       "      <td>291.2349560368861</td>\n",
       "      <td>338.49021363711</td>\n",
       "      <td>0</td>\n",
       "      <td>890</td>\n",
       "      <td>537</td>\n",
       "    </tr>\n",
       "    <tr>\n",
       "      <th>15</th>\n",
       "      <td>Delinquent_accounts</td>\n",
       "      <td>int</td>\n",
       "      <td>0</td>\n",
       "      <td>23315</td>\n",
       "      <td>0.10062191722067339</td>\n",
       "      <td>0.3887817919189767</td>\n",
       "      <td>0</td>\n",
       "      <td>7</td>\n",
       "      <td>8</td>\n",
       "    </tr>\n",
       "    <tr>\n",
       "      <th>16</th>\n",
       "      <td>Credit_History_Length</td>\n",
       "      <td>string</td>\n",
       "      <td>0</td>\n",
       "      <td>23315</td>\n",
       "      <td>None</td>\n",
       "      <td>None</td>\n",
       "      <td>0yrs 0mon</td>\n",
       "      <td>9yrs 9mon</td>\n",
       "      <td>212</td>\n",
       "    </tr>\n",
       "    <tr>\n",
       "      <th>17</th>\n",
       "      <td>No_of_inquiries</td>\n",
       "      <td>int</td>\n",
       "      <td>0</td>\n",
       "      <td>23315</td>\n",
       "      <td>0.20579026377868326</td>\n",
       "      <td>0.699900675387826</td>\n",
       "      <td>0</td>\n",
       "      <td>23</td>\n",
       "      <td>14</td>\n",
       "    </tr>\n",
       "    <tr>\n",
       "      <th>18</th>\n",
       "      <td>region</td>\n",
       "      <td>string</td>\n",
       "      <td>0</td>\n",
       "      <td>23315</td>\n",
       "      <td>None</td>\n",
       "      <td>None</td>\n",
       "      <td>East</td>\n",
       "      <td>West</td>\n",
       "      <td>4</td>\n",
       "    </tr>\n",
       "    <tr>\n",
       "      <th>19</th>\n",
       "      <td>loan_default</td>\n",
       "      <td>int</td>\n",
       "      <td>0</td>\n",
       "      <td>23315</td>\n",
       "      <td>0.2198584602187433</td>\n",
       "      <td>0.41415947975710266</td>\n",
       "      <td>0</td>\n",
       "      <td>1</td>\n",
       "      <td>2</td>\n",
       "    </tr>\n",
       "  </tbody>\n",
       "</table>\n",
       "</div>"
      ],
      "text/plain": [
       "                 Features data_types  Missing_values  count  \\\n",
       "0                 Loan_id        int               0  23315   \n",
       "1               branch_id        int               0  23315   \n",
       "2        disbursed_amount        int               0  23315   \n",
       "3              asset_cost        int               0  23315   \n",
       "4                     ltv     double               0  23315   \n",
       "5             DateOfBirth     string               0  23315   \n",
       "6          EmploymentType     string             770  22545   \n",
       "7           DisbursalDate     string               0  23315   \n",
       "8       MobileNo_Avl_Flag        int               0  23315   \n",
       "9             Aadhar_flag        int               0  23315   \n",
       "10               PAN_flag        int               0  23315   \n",
       "11           VoterID_flag        int               0  23315   \n",
       "12           Driving_flag        int               0  23315   \n",
       "13          Passport_flag        int               0  23315   \n",
       "14      Perform_CNS_score        int               0  23315   \n",
       "15    Delinquent_accounts        int               0  23315   \n",
       "16  Credit_History_Length     string               0  23315   \n",
       "17        No_of_inquiries        int               0  23315   \n",
       "18                 region     string               0  23315   \n",
       "19           loan_default        int               0  23315   \n",
       "\n",
       "                     mean                stddev         min            max  \\\n",
       "0                 11658.0     6730.605099097703           1          23315   \n",
       "1       72.07926227750376     69.09500824842503           1            261   \n",
       "2       54297.64730859961     13061.87743441026       13369         592460   \n",
       "3       75842.18288655372     18988.52563450024       37230         715186   \n",
       "4       74.70160669097099    11.462722365672377       17.13          94.98   \n",
       "5                    None                  None  01-01-1955     31-12-1997   \n",
       "6                    None                  None    Salaried  Self employed   \n",
       "7                    None                  None  01-08-2018     31-10-2018   \n",
       "8                     1.0                   0.0           1              1   \n",
       "9      0.8450782757881192    0.3618378077692845           0              1   \n",
       "10    0.07553077417971263   0.26425153046041194           0              1   \n",
       "11    0.14106798198584602   0.34809912906604457           0              1   \n",
       "12   0.023161055114733004    0.1504180543398142           0              1   \n",
       "13  0.0020587604546429337  0.045327806962078915           0              1   \n",
       "14      291.2349560368861       338.49021363711           0            890   \n",
       "15    0.10062191722067339    0.3887817919189767           0              7   \n",
       "16                   None                  None   0yrs 0mon      9yrs 9mon   \n",
       "17    0.20579026377868326     0.699900675387826           0             23   \n",
       "18                   None                  None        East           West   \n",
       "19     0.2198584602187433   0.41415947975710266           0              1   \n",
       "\n",
       "    num_distinct  \n",
       "0          23315  \n",
       "1             82  \n",
       "2           6057  \n",
       "3          13886  \n",
       "4           4527  \n",
       "5           8729  \n",
       "6              3  \n",
       "7             84  \n",
       "8              1  \n",
       "9              2  \n",
       "10             2  \n",
       "11             2  \n",
       "12             2  \n",
       "13             2  \n",
       "14           537  \n",
       "15             8  \n",
       "16           212  \n",
       "17            14  \n",
       "18             4  \n",
       "19             2  "
      ]
     },
     "execution_count": 59,
     "metadata": {},
     "output_type": "execute_result"
    }
   ],
   "source": [
    "master_loan_profile"
   ]
  },
  {
   "cell_type": "code",
   "execution_count": 60,
   "metadata": {},
   "outputs": [
    {
     "data": {
      "text/plain": [
       "pandas.core.frame.DataFrame"
      ]
     },
     "execution_count": 60,
     "metadata": {},
     "output_type": "execute_result"
    }
   ],
   "source": [
    "type(master_loan_profile)"
   ]
  },
  {
   "cell_type": "code",
   "execution_count": 61,
   "metadata": {},
   "outputs": [],
   "source": [
    "# quantile=master_loan_profile.groupby('Features').agg(F.expr('percentile(Features, array(0.25))')[0].alias('%25'),F.expr('percentile(Features, array(0.50))')[0].alias('%50'),F.expr('percentile(Features, array(0.75))')[0].alias('%75'))"
   ]
  },
  {
   "cell_type": "code",
   "execution_count": 62,
   "metadata": {},
   "outputs": [],
   "source": [
    "# quantile"
   ]
  },
  {
   "cell_type": "code",
   "execution_count": 63,
   "metadata": {},
   "outputs": [],
   "source": [
    "# from pyspark.sql import DataFrameStatFunctions as statFunc"
   ]
  },
  {
   "cell_type": "code",
   "execution_count": 64,
   "metadata": {},
   "outputs": [],
   "source": [
    "# from pyspark.sql import SQLContext \n",
    "# sqlContext = SQLContext(spark)"
   ]
  },
  {
   "cell_type": "code",
   "execution_count": 65,
   "metadata": {},
   "outputs": [],
   "source": [
    "# df2 = sqlContext.sql(\"select Loan_id, percentile_approx(disbursed_amount,0.25) as approxQuantile from master_loan_df group by Loan_id\")\n"
   ]
  },
  {
   "cell_type": "code",
   "execution_count": 67,
   "metadata": {},
   "outputs": [],
   "source": [
    "# statFunc(master_loan_profile).approxQuantile(\"Features\",[0.5],0.25)"
   ]
  },
  {
   "cell_type": "markdown",
   "metadata": {},
   "source": [
    "Finding the missing values for data cleaning"
   ]
  },
  {
   "cell_type": "code",
   "execution_count": 68,
   "metadata": {},
   "outputs": [
    {
     "name": "stdout",
     "output_type": "stream",
     "text": [
      "\u001b[33mDEPRECATION: Python 3.5 reached the end of its life on September 13th, 2020. Please upgrade your Python as Python 3.5 is no longer maintained. pip 21.0 will drop support for Python 3.5 in January 2021. pip 21.0 will remove support for this functionality.\u001b[0m\n",
      "Defaulting to user installation because normal site-packages is not writeable\n",
      "Requirement already satisfied: missingno in ./.local/lib/python3.5/site-packages (0.5.0)\n",
      "Requirement already satisfied: matplotlib in ./.local/lib/python3.5/site-packages (from missingno) (3.0.3)\n",
      "Requirement already satisfied: seaborn in ./.local/lib/python3.5/site-packages (from missingno) (0.9.1)\n",
      "Requirement already satisfied: numpy in ./.local/lib/python3.5/site-packages (from missingno) (1.18.5)\n",
      "Requirement already satisfied: scipy in ./.local/lib/python3.5/site-packages (from missingno) (1.4.1)\n",
      "Requirement already satisfied: pyparsing!=2.0.4,!=2.1.2,!=2.1.6,>=2.0.1 in /usr/lib/python3/dist-packages (from matplotlib->missingno) (2.0.3)\n",
      "Requirement already satisfied: kiwisolver>=1.0.1 in ./.local/lib/python3.5/site-packages (from matplotlib->missingno) (1.1.0)\n",
      "Requirement already satisfied: cycler>=0.10 in ./.local/lib/python3.5/site-packages (from matplotlib->missingno) (0.10.0)\n",
      "Requirement already satisfied: python-dateutil>=2.1 in ./.local/lib/python3.5/site-packages (from matplotlib->missingno) (2.7.4)\n",
      "Requirement already satisfied: six in ./.local/lib/python3.5/site-packages (from cycler>=0.10->matplotlib->missingno) (1.11.0)\n",
      "Requirement already satisfied: setuptools in ./.local/lib/python3.5/site-packages (from kiwisolver>=1.0.1->matplotlib->missingno) (40.4.3)\n",
      "Requirement already satisfied: pandas>=0.17.1 in ./.local/lib/python3.5/site-packages (from seaborn->missingno) (0.24.2)\n",
      "Requirement already satisfied: pytz>=2011k in ./.local/lib/python3.5/site-packages (from pandas>=0.17.1->seaborn->missingno) (2021.3)\n"
     ]
    }
   ],
   "source": [
    "!pip install missingno"
   ]
  },
  {
   "cell_type": "code",
   "execution_count": 72,
   "metadata": {},
   "outputs": [
    {
     "data": {
      "text/plain": [
       "<matplotlib.axes._subplots.AxesSubplot at 0x7fee7b009400>"
      ]
     },
     "execution_count": 72,
     "metadata": {},
     "output_type": "execute_result"
    },
    {
     "data": {
      "image/png": "[encoded data removed]",
      "text/plain": [
       "<Figure size 1800x720 with 3 Axes>"
      ]
     },
     "metadata": {
      "needs_background": "light"
     },
     "output_type": "display_data"
    }
   ],
   "source": [
    "import missingno as msno\n",
    "msno.bar(master_loan_df.toPandas())"
   ]
  },
  {
   "cell_type": "markdown",
   "metadata": {},
   "source": [
    "The above bar plot shows that there are 23315-22545=770 missing values for EmploymentType in the given dataset."
   ]
  },
  {
   "cell_type": "code",
   "execution_count": 70,
   "metadata": {},
   "outputs": [
    {
     "data": {
      "text/plain": [
       "<matplotlib.axes._subplots.AxesSubplot at 0x7fee7affada0>"
      ]
     },
     "execution_count": 70,
     "metadata": {},
     "output_type": "execute_result"
    },
    {
     "data": {
      "image/png": "[encoded data removed]",
      "text/plain": [
       "<Figure size 1800x720 with 2 Axes>"
      ]
     },
     "metadata": {
      "needs_background": "light"
     },
     "output_type": "display_data"
    }
   ],
   "source": [
    "msno.matrix(master_loan_df.toPandas())"
   ]
  },
  {
   "cell_type": "markdown",
   "metadata": {},
   "source": [
    "The above matrix shows the Loan_id's which have the missing values for EmploymentType."
   ]
  },
  {
   "cell_type": "code",
   "execution_count": 80,
   "metadata": {},
   "outputs": [
    {
     "name": "stdout",
     "output_type": "stream",
     "text": [
      "+--------------+-----+\n",
      "|EmploymentType|Count|\n",
      "+--------------+-----+\n",
      "|          null|  770|\n",
      "| Self employed|12724|\n",
      "|      Salaried| 9821|\n",
      "+--------------+-----+\n",
      "\n"
     ]
    }
   ],
   "source": [
    "unique_emptype=spark.sql(\"select EmploymentType, count(*) as Count from master group by EmploymentType\")\n",
    "unique_emptype.show()"
   ]
  },
  {
   "cell_type": "markdown",
   "metadata": {},
   "source": [
    "Missing value treatment"
   ]
  },
  {
   "cell_type": "code",
   "execution_count": 106,
   "metadata": {},
   "outputs": [
    {
     "data": {
      "text/plain": [
       "DataFrame[Loan_id: int, branch_id: int, disbursed_amount: int, asset_cost: int, ltv: double, DateOfBirth: string, EmploymentType: string, DisbursalDate: string, MobileNo_Avl_Flag: int, Aadhar_flag: int, PAN_flag: int, VoterID_flag: int, Driving_flag: int, Passport_flag: int, Perform_CNS_score: int, Delinquent_accounts: int, Credit_History_Length: string, No_of_inquiries: int, region: string, loan_default: int]"
      ]
     },
     "execution_count": 106,
     "metadata": {},
     "output_type": "execute_result"
    }
   ],
   "source": [
    "master_loan_df=master_loan_df.na.fill({'EmploymentType':'Unemployed'})\n",
    "master_loan_df"
   ]
  },
  {
   "cell_type": "code",
   "execution_count": 111,
   "metadata": {},
   "outputs": [
    {
     "name": "stdout",
     "output_type": "stream",
     "text": [
      "+--------------+\n",
      "|EmploymentType|\n",
      "+--------------+\n",
      "| Self employed|\n",
      "|      Salaried|\n",
      "|    Unemployed|\n",
      "+--------------+\n",
      "\n"
     ]
    }
   ],
   "source": [
    "master_loan_df.select('EmploymentType').distinct().show()"
   ]
  },
  {
   "cell_type": "markdown",
   "metadata": {},
   "source": [
    "The missing values in EmploymentType have been replaced with Unemployed."
   ]
  },
  {
   "cell_type": "markdown",
   "metadata": {},
   "source": [
    "One-hot encoding for categorical variables"
   ]
  },
  {
   "cell_type": "code",
   "execution_count": 113,
   "metadata": {},
   "outputs": [],
   "source": [
    "# from pyspark.ml.feature import StringIndexer\n",
    "\n",
    "# df = sqlContext.createDataFrame(\n",
    "#     [(0, \"Self employed\"), (1, \"Salaried\"), (2, \"c\"), (3, \"a\"), (4, \"a\"), (5, \"c\")],\n",
    "#     [\"id\", \"category\"])\n",
    "# indexer = StringIndexer(inputCol=\"category\", outputCol=\"categoryIndex\")\n",
    "# indexed = indexer.fit(df).transform(df)\n",
    "# indexed.show()"
   ]
  },
  {
   "cell_type": "markdown",
   "metadata": {},
   "source": [
    "Storing the dataframe in parquet"
   ]
  },
  {
   "cell_type": "code",
   "execution_count": null,
   "metadata": {},
   "outputs": [],
   "source": [
    "loan_df.write.parquet(\"Loan_details_saved.parquet\")"
   ]
  },
  {
   "cell_type": "code",
   "execution_count": null,
   "metadata": {},
   "outputs": [],
   "source": [
    "status_df.write.parquet(\"status_details_saved.parquet\")"
   ]
  },
  {
   "cell_type": "code",
   "execution_count": null,
   "metadata": {},
   "outputs": [],
   "source": [
    "Branch_df.write.parquet(\"branch_details_saved.parquet\")"
   ]
  }
 ],
 "metadata": {
  "kernelspec": {
   "display_name": "Python 3",
   "language": "python",
   "name": "python3"
  },
  "language_info": {
   "codemirror_mode": {
    "name": "ipython",
    "version": 3
   },
   "file_extension": ".py",
   "mimetype": "text/x-python",
   "name": "python",
   "nbconvert_exporter": "python",
   "pygments_lexer": "ipython3",
   "version": "3.5.2"
  }
 },
 "nbformat": 4,
 "nbformat_minor": 2
}
