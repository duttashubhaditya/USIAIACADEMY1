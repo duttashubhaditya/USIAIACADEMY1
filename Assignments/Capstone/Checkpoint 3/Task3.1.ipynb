{
 "cells": [
  {
   "cell_type": "markdown",
   "metadata": {},
   "source": [
    "Import findspark with spark installation path "
   ]
  },
  {
   "cell_type": "code",
   "execution_count": 1,
   "metadata": {},
   "outputs": [],
   "source": [
    "import findspark"
   ]
  },
  {
   "cell_type": "markdown",
   "metadata": {},
   "source": [
    "Initialize findspark"
   ]
  },
  {
   "cell_type": "code",
   "execution_count": 49,
   "metadata": {},
   "outputs": [],
   "source": [
    "findspark.init(\"/usr/local/spark\")"
   ]
  },
  {
   "cell_type": "markdown",
   "metadata": {},
   "source": [
    "Import pyspark"
   ]
  },
  {
   "cell_type": "code",
   "execution_count": 2,
   "metadata": {},
   "outputs": [],
   "source": [
    "import pyspark"
   ]
  },
  {
   "cell_type": "markdown",
   "metadata": {},
   "source": [
    "Instantiate SparkSession with Hive support"
   ]
  },
  {
   "cell_type": "code",
   "execution_count": 3,
   "metadata": {},
   "outputs": [],
   "source": [
    "from pyspark.sql import SparkSession"
   ]
  },
  {
   "cell_type": "code",
   "execution_count": 34,
   "metadata": {},
   "outputs": [],
   "source": [
    "spark = SparkSession.builder.appName(\"capstone\").config(\"spark.sql.warehouse.dir\",\"https://localhost:50070/user/hive/warehouse\").enableHiveSupport().getOrCreate()"
   ]
  },
  {
   "cell_type": "markdown",
   "metadata": {},
   "source": [
    "Import necessary libraries"
   ]
  },
  {
   "cell_type": "code",
   "execution_count": 27,
   "metadata": {},
   "outputs": [],
   "source": [
    "from pyspark.sql import Row\n",
    "from pyspark.sql import *\n",
    "from pyspark.sql.types import StructField\n",
    "from pyspark.sql.types import StructType,StringType\n",
    "from pyspark.sql import functions\n",
    "import pandas as pd\n",
    "from pyspark.sql.functions import isnan, when, count, col"
   ]
  },
  {
   "cell_type": "markdown",
   "metadata": {},
   "source": [
    "Pyspark show dataframe with horizontal scroll"
   ]
  },
  {
   "cell_type": "code",
   "execution_count": 46,
   "metadata": {},
   "outputs": [
    {
     "data": {
      "text/html": [
       "<style>pre { white-space: pre !important; }</style>"
      ],
      "text/plain": [
       "<IPython.core.display.HTML object>"
      ]
     },
     "metadata": {},
     "output_type": "display_data"
    }
   ],
   "source": [
    "from IPython.core.display import HTML\n",
    "display(HTML(\"<style>pre { white-space: pre !important; }</style>\"))"
   ]
  },
  {
   "cell_type": "markdown",
   "metadata": {},
   "source": [
    "# Task 3.1 - Data Analysis using Big Data Tools\n",
    "## Big Data technologies like HDFS, Hive and PySpark need to be used as the historical data increases in size. As part of this task the following activities need to be done.\n",
    "## ●       Develop a PySpark application to load data Spark DataFrames and save it into Hive tables on a Hadoop cluster in an optimized format.\n",
    "## ●       Perform profiling of the data through PySpark and ensure that it is migrated correctly whereever the source is an RDBMS\n",
    "## ●       Write PySpark routines to cleanse the data, prepare the data to handle missing values, and the data transformations identified in task 1.1 again making sure that the data is written into Hive tables in an efficient format\n",
    "## ●       If the predictive model identified in task 2.4 available in Spark MLlib then develop a PySpark application to implement and evaluate the ML model identified with appropriate metrics\\\n",
    "## ●       Ensure that the best practices are followed and the design & code use the features of Spark and take advantage thereof."
   ]
  },
  {
   "cell_type": "markdown",
   "metadata": {},
   "source": [
    "#### PySpark application to load data Spark DataFrames and infer the schema"
   ]
  },
  {
   "cell_type": "code",
   "execution_count": 12,
   "metadata": {},
   "outputs": [],
   "source": [
    "loan_df = spark.read.load('Loan_details_datasets_P5/Loan_details.csv',format='csv',sep=',',inferSchema=\"true\",header=\"true\")\n",
    "status_df = spark.read.load('Loan_details_datasets_P5/Loan_status.csv',format='csv',sep=',',inferSchema=\"true\",header=\"true\")\n",
    "Branch_df = spark.read.load('Loan_details_datasets_P5/Branch_region_mapping.csv',format='csv',sep=',',inferSchema=\"true\",header=\"true\")"
   ]
  },
  {
   "cell_type": "markdown",
   "metadata": {},
   "source": [
    "Print the schema of loan_df with its features and their data types"
   ]
  },
  {
   "cell_type": "code",
   "execution_count": 13,
   "metadata": {},
   "outputs": [
    {
     "name": "stdout",
     "output_type": "stream",
     "text": [
      "root\n",
      " |-- Loan_id: integer (nullable = true)\n",
      " |-- disbursed_amount: integer (nullable = true)\n",
      " |-- asset_cost: integer (nullable = true)\n",
      " |-- ltv: double (nullable = true)\n",
      " |-- branch_id: integer (nullable = true)\n",
      " |-- Date.of.Birth: string (nullable = true)\n",
      " |-- Employment.Type: string (nullable = true)\n",
      " |-- DisbursalDate: string (nullable = true)\n",
      " |-- MobileNo_Avl_Flag: integer (nullable = true)\n",
      " |-- Aadhar_flag: integer (nullable = true)\n",
      " |-- PAN_flag: integer (nullable = true)\n",
      " |-- VoterID_flag: integer (nullable = true)\n",
      " |-- Driving_flag: integer (nullable = true)\n",
      " |-- Passport_flag: integer (nullable = true)\n",
      " |-- PERFORM_CNS.SCORE: integer (nullable = true)\n",
      " |-- DELINQUENT.ACCTS.IN.LAST.SIX.MONTHS: integer (nullable = true)\n",
      " |-- CREDIT.HISTORY.LENGTH: string (nullable = true)\n",
      " |-- NO.OF_INQUIRIES: integer (nullable = true)\n",
      "\n"
     ]
    }
   ],
   "source": [
    "loan_df.printSchema()"
   ]
  },
  {
   "cell_type": "markdown",
   "metadata": {},
   "source": [
    "Show first 3 records from loan_df"
   ]
  },
  {
   "cell_type": "code",
   "execution_count": 14,
   "metadata": {},
   "outputs": [
    {
     "name": "stdout",
     "output_type": "stream",
     "text": [
      "+-------+----------------+----------+-----+---------+-------------+---------------+-------------+-----------------+-----------+--------+------------+------------+-------------+-----------------+-----------------------------------+---------------------+---------------+\n",
      "|Loan_id|disbursed_amount|asset_cost|  ltv|branch_id|Date.of.Birth|Employment.Type|DisbursalDate|MobileNo_Avl_Flag|Aadhar_flag|PAN_flag|VoterID_flag|Driving_flag|Passport_flag|PERFORM_CNS.SCORE|DELINQUENT.ACCTS.IN.LAST.SIX.MONTHS|CREDIT.HISTORY.LENGTH|NO.OF_INQUIRIES|\n",
      "+-------+----------------+----------+-----+---------+-------------+---------------+-------------+-----------------+-----------+--------+------------+------------+-------------+-----------------+-----------------------------------+---------------------+---------------+\n",
      "|      1|           36439|     65850|56.19|       64|   14-06-1990|  Self employed|   28-09-2018|                1|          1|       0|           0|           0|            0|                0|                                  0|            0yrs 0mon|              0|\n",
      "|      2|           48749|     69303|72.15|       67|   01-01-1991|       Salaried|   10-09-2018|                1|          1|       0|           0|           0|            0|              783|                                  0|            2yrs 6mon|              0|\n",
      "|      3|           55348|     66340| 85.0|        2|   16-08-1993|  Self employed|   31-08-2018|                1|          1|       0|           0|           0|            0|                0|                                  0|            0yrs 0mon|              0|\n",
      "+-------+----------------+----------+-----+---------+-------------+---------------+-------------+-----------------+-----------+--------+------------+------------+-------------+-----------------+-----------------------------------+---------------------+---------------+\n",
      "only showing top 3 rows\n",
      "\n"
     ]
    }
   ],
   "source": [
    "loan_df.show(3)"
   ]
  },
  {
   "cell_type": "markdown",
   "metadata": {},
   "source": [
    "Print the schema of status_df with its features and their data types"
   ]
  },
  {
   "cell_type": "code",
   "execution_count": 15,
   "metadata": {},
   "outputs": [
    {
     "name": "stdout",
     "output_type": "stream",
     "text": [
      "root\n",
      " |-- Loan_id: integer (nullable = true)\n",
      " |-- loan_default: integer (nullable = true)\n",
      "\n"
     ]
    }
   ],
   "source": [
    "status_df.printSchema()"
   ]
  },
  {
   "cell_type": "markdown",
   "metadata": {},
   "source": [
    "Show first 3 records from status_df"
   ]
  },
  {
   "cell_type": "code",
   "execution_count": 16,
   "metadata": {},
   "outputs": [
    {
     "name": "stdout",
     "output_type": "stream",
     "text": [
      "+-------+------------+\n",
      "|Loan_id|loan_default|\n",
      "+-------+------------+\n",
      "|      1|           0|\n",
      "|      2|           0|\n",
      "|      3|           1|\n",
      "+-------+------------+\n",
      "only showing top 3 rows\n",
      "\n"
     ]
    }
   ],
   "source": [
    "status_df.show(3)"
   ]
  },
  {
   "cell_type": "markdown",
   "metadata": {},
   "source": [
    "Print the schema of Branch_df with its features and their data types"
   ]
  },
  {
   "cell_type": "code",
   "execution_count": 17,
   "metadata": {},
   "outputs": [
    {
     "name": "stdout",
     "output_type": "stream",
     "text": [
      "root\n",
      " |-- branch_id: integer (nullable = true)\n",
      " |-- region: string (nullable = true)\n",
      "\n"
     ]
    }
   ],
   "source": [
    "Branch_df.printSchema()"
   ]
  },
  {
   "cell_type": "markdown",
   "metadata": {},
   "source": [
    "Show first 3 records from Branch_df"
   ]
  },
  {
   "cell_type": "code",
   "execution_count": 18,
   "metadata": {},
   "outputs": [
    {
     "name": "stdout",
     "output_type": "stream",
     "text": [
      "+---------+------+\n",
      "|branch_id|region|\n",
      "+---------+------+\n",
      "|        1|  East|\n",
      "|        2|  East|\n",
      "|        3|  East|\n",
      "+---------+------+\n",
      "only showing top 3 rows\n",
      "\n"
     ]
    }
   ],
   "source": [
    "Branch_df.show(3)"
   ]
  },
  {
   "cell_type": "markdown",
   "metadata": {},
   "source": [
    "Creating master dataframe by combining all subsidiary data"
   ]
  },
  {
   "cell_type": "code",
   "execution_count": 36,
   "metadata": {},
   "outputs": [],
   "source": [
    "master_loan_df=loan_df.join(Branch_df,\"branch_id\").join(status_df,\"loan_id\")"
   ]
  },
  {
   "cell_type": "markdown",
   "metadata": {},
   "source": [
    "Print the schema of master_loan_df with its features and their data types"
   ]
  },
  {
   "cell_type": "code",
   "execution_count": 37,
   "metadata": {},
   "outputs": [
    {
     "name": "stdout",
     "output_type": "stream",
     "text": [
      "root\n",
      " |-- Loan_id: integer (nullable = true)\n",
      " |-- branch_id: integer (nullable = true)\n",
      " |-- disbursed_amount: integer (nullable = true)\n",
      " |-- asset_cost: integer (nullable = true)\n",
      " |-- ltv: double (nullable = true)\n",
      " |-- Date.of.Birth: string (nullable = true)\n",
      " |-- Employment.Type: string (nullable = true)\n",
      " |-- DisbursalDate: string (nullable = true)\n",
      " |-- MobileNo_Avl_Flag: integer (nullable = true)\n",
      " |-- Aadhar_flag: integer (nullable = true)\n",
      " |-- PAN_flag: integer (nullable = true)\n",
      " |-- VoterID_flag: integer (nullable = true)\n",
      " |-- Driving_flag: integer (nullable = true)\n",
      " |-- Passport_flag: integer (nullable = true)\n",
      " |-- PERFORM_CNS.SCORE: integer (nullable = true)\n",
      " |-- DELINQUENT.ACCTS.IN.LAST.SIX.MONTHS: integer (nullable = true)\n",
      " |-- CREDIT.HISTORY.LENGTH: string (nullable = true)\n",
      " |-- NO.OF_INQUIRIES: integer (nullable = true)\n",
      " |-- region: string (nullable = true)\n",
      " |-- loan_default: integer (nullable = true)\n",
      "\n"
     ]
    }
   ],
   "source": [
    "master_loan_df.printSchema()"
   ]
  },
  {
   "cell_type": "markdown",
   "metadata": {},
   "source": [
    "Show the records of master_loan_df"
   ]
  },
  {
   "cell_type": "code",
   "execution_count": 38,
   "metadata": {},
   "outputs": [
    {
     "name": "stdout",
     "output_type": "stream",
     "text": [
      "+-------+---------+----------------+----------+-----+-------------+---------------+-------------+-----------------+-----------+--------+------------+------------+-------------+-----------------+-----------------------------------+---------------------+---------------+------+------------+\n",
      "|Loan_id|branch_id|disbursed_amount|asset_cost|  ltv|Date.of.Birth|Employment.Type|DisbursalDate|MobileNo_Avl_Flag|Aadhar_flag|PAN_flag|VoterID_flag|Driving_flag|Passport_flag|PERFORM_CNS.SCORE|DELINQUENT.ACCTS.IN.LAST.SIX.MONTHS|CREDIT.HISTORY.LENGTH|NO.OF_INQUIRIES|region|loan_default|\n",
      "+-------+---------+----------------+----------+-----+-------------+---------------+-------------+-----------------+-----------+--------+------------+------------+-------------+-----------------+-----------------------------------+---------------------+---------------+------+------------+\n",
      "|      1|       64|           36439|     65850|56.19|   14-06-1990|  Self employed|   28-09-2018|                1|          1|       0|           0|           0|            0|                0|                                  0|            0yrs 0mon|              0| South|           0|\n",
      "|      2|       67|           48749|     69303|72.15|   01-01-1991|       Salaried|   10-09-2018|                1|          1|       0|           0|           0|            0|              783|                                  0|            2yrs 6mon|              0| South|           0|\n",
      "|      3|        2|           55348|     66340| 85.0|   16-08-1993|  Self employed|   31-08-2018|                1|          1|       0|           0|           0|            0|                0|                                  0|            0yrs 0mon|              0|  East|           1|\n",
      "|      4|      217|           48849|     64133|77.96|   01-01-1989|  Self employed|   13-10-2018|                1|          1|       0|           0|           0|            0|                0|                                  0|            0yrs 0mon|              0| North|           0|\n",
      "|      5|       74|           40394|     59386|70.72|   31-12-1974|  Self employed|   14-09-2018|                1|          1|       0|           0|           0|            0|               14|                                  1|            3yrs 1mon|              1| South|           0|\n",
      "|      6|      162|           51803|     67466| 79.3|   23-11-1964|  Self employed|   17-08-2018|                1|          1|       0|           0|           0|            0|              300|                                  0|           15yrs 2mon|              0| North|           0|\n",
      "|      7|      251|           61947|    109094|58.21|   01-10-1989|  Self employed|   16-08-2018|                1|          0|       0|           1|           0|            0|              737|                                  0|           1yrs 10mon|              0| North|           0|\n",
      "|      8|       67|           51301|     61815| 85.0|   01-01-1995|       Salaried|   26-08-2018|                1|          1|       0|           0|           0|            0|                0|                                  0|            0yrs 0mon|              0| South|           0|\n",
      "|      9|      255|           65882|     80461|84.51|   15-06-1994|  Self employed|   15-10-2018|                1|          1|       0|           0|           0|            0|                0|                                  0|            0yrs 0mon|              0| North|           0|\n",
      "|     10|       34|           34639|     69717|50.49|   23-11-1982|  Self employed|   26-10-2018|                1|          1|       0|           0|           0|            0|              300|                                  0|           3yrs 10mon|              0|  East|           1|\n",
      "|     11|      147|           51996|     63051| 85.0|   01-01-1984|       Salaried|   03-09-2018|                1|          1|       0|           0|           0|            0|                0|                                  0|            0yrs 0mon|              0|  West|           0|\n",
      "|     12|      146|           64269|     85632|77.07|   15-02-1990|       Salaried|   24-08-2018|                1|          1|       0|           0|           0|            0|                0|                                  0|            0yrs 0mon|              0|  West|           0|\n",
      "|     13|       20|           68377|     90512|79.55|   05-12-1975|  Self employed|   28-08-2018|                1|          1|       0|           0|           0|            0|              654|                                  1|            2yrs 0mon|              1|  East|           0|\n",
      "|     14|        2|           61256|     73000|84.99|   11-09-1995|       Salaried|   21-09-2018|                1|          1|       0|           0|           0|            0|                0|                                  0|            0yrs 0mon|              0|  East|           0|\n",
      "|     15|       67|           46949|     64600|74.92|   29-10-1975|  Self employed|   20-08-2018|                1|          1|       0|           0|           0|            0|              524|                                  0|            0yrs 0mon|              0| South|           0|\n",
      "|     16|        7|           56333|     80271| 73.5|   28-02-1984|  Self employed|   26-10-2018|                1|          1|       0|           0|           0|            0|              653|                                  0|           0yrs 11mon|              0|  East|           0|\n",
      "|     17|      165|           73717|     94315|79.41|   02-11-1975|       Salaried|   30-09-2018|                1|          1|       0|           0|           0|            0|               16|                                  0|            1yrs 1mon|              0| North|           0|\n",
      "|     18|      152|           54373|     73891|77.14|   21-10-1990|  Self employed|   30-09-2018|                1|          1|       0|           0|           0|            0|                0|                                  0|            0yrs 0mon|              0| North|           0|\n",
      "|     19|        2|           72817|     82820|89.35|   11-10-1994|       Salaried|   31-10-2018|                1|          1|       0|           0|           0|            0|              753|                                  1|            1yrs 1mon|              0|  East|           0|\n",
      "|     20|      135|           78151|    107074|74.25|   05-06-1987|  Self employed|   25-10-2018|                1|          1|       1|           1|           0|            0|                0|                                  0|            0yrs 0mon|              0|  West|           1|\n",
      "+-------+---------+----------------+----------+-----+-------------+---------------+-------------+-----------------+-----------+--------+------------+------------+-------------+-----------------+-----------------------------------+---------------------+---------------+------+------------+\n",
      "only showing top 20 rows\n",
      "\n"
     ]
    }
   ],
   "source": [
    "master_loan_df.show()"
   ]
  },
  {
   "cell_type": "code",
   "execution_count": 43,
   "metadata": {},
   "outputs": [
    {
     "data": {
      "text/plain": [
       "pyspark.sql.dataframe.DataFrame"
      ]
     },
     "execution_count": 43,
     "metadata": {},
     "output_type": "execute_result"
    }
   ],
   "source": [
    "type(master_loan_df)"
   ]
  },
  {
   "cell_type": "markdown",
   "metadata": {},
   "source": [
    "Datatypes of all features of master_loan_df"
   ]
  },
  {
   "cell_type": "code",
   "execution_count": 42,
   "metadata": {},
   "outputs": [
    {
     "data": {
      "text/plain": [
       "<bound method DataFrame.describe of DataFrame[Loan_id: int, branch_id: int, disbursed_amount: int, asset_cost: int, ltv: double, Date.of.Birth: string, Employment.Type: string, DisbursalDate: string, MobileNo_Avl_Flag: int, Aadhar_flag: int, PAN_flag: int, VoterID_flag: int, Driving_flag: int, Passport_flag: int, PERFORM_CNS.SCORE: int, DELINQUENT.ACCTS.IN.LAST.SIX.MONTHS: int, CREDIT.HISTORY.LENGTH: string, NO.OF_INQUIRIES: int, region: string, loan_default: int]>"
      ]
     },
     "execution_count": 42,
     "metadata": {},
     "output_type": "execute_result"
    }
   ],
   "source": [
    "master_loan_df.describe"
   ]
  },
  {
   "cell_type": "markdown",
   "metadata": {},
   "source": [
    "#### Save the master_loan_df into Hive tables on a Hadoop cluster in an optimized format"
   ]
  },
  {
   "cell_type": "code",
   "execution_count": 39,
   "metadata": {},
   "outputs": [],
   "source": [
    "master_loan_df.write.saveAsTable(\"master\")"
   ]
  },
  {
   "cell_type": "code",
   "execution_count": 40,
   "metadata": {},
   "outputs": [
    {
     "name": "stdout",
     "output_type": "stream",
     "text": [
      "+--------+---------+-----------+\n",
      "|database|tableName|isTemporary|\n",
      "+--------+---------+-----------+\n",
      "| default|   master|      false|\n",
      "+--------+---------+-----------+\n",
      "\n"
     ]
    }
   ],
   "source": [
    "spark.sql('show tables').show()"
   ]
  },
  {
   "cell_type": "code",
   "execution_count": 52,
   "metadata": {},
   "outputs": [
    {
     "data": {
      "text/html": [
       "<div>\n",
       "<style scoped>\n",
       "    .dataframe tbody tr th:only-of-type {\n",
       "        vertical-align: middle;\n",
       "    }\n",
       "\n",
       "    .dataframe tbody tr th {\n",
       "        vertical-align: top;\n",
       "    }\n",
       "\n",
       "    .dataframe thead th {\n",
       "        text-align: right;\n",
       "    }\n",
       "</style>\n",
       "<table border=\"1\" class=\"dataframe\">\n",
       "  <thead>\n",
       "    <tr style=\"text-align: right;\">\n",
       "      <th></th>\n",
       "      <th>Loan_id</th>\n",
       "      <th>branch_id</th>\n",
       "      <th>disbursed_amount</th>\n",
       "      <th>asset_cost</th>\n",
       "      <th>ltv</th>\n",
       "      <th>MobileNo_Avl_Flag</th>\n",
       "      <th>Aadhar_flag</th>\n",
       "      <th>PAN_flag</th>\n",
       "      <th>VoterID_flag</th>\n",
       "      <th>Driving_flag</th>\n",
       "      <th>Passport_flag</th>\n",
       "      <th>PERFORM_CNS.SCORE</th>\n",
       "      <th>DELINQUENT.ACCTS.IN.LAST.SIX.MONTHS</th>\n",
       "      <th>NO.OF_INQUIRIES</th>\n",
       "      <th>loan_default</th>\n",
       "    </tr>\n",
       "  </thead>\n",
       "  <tbody>\n",
       "    <tr>\n",
       "      <th>count</th>\n",
       "      <td>23315.000000</td>\n",
       "      <td>23315.000000</td>\n",
       "      <td>23315.000000</td>\n",
       "      <td>23315.000000</td>\n",
       "      <td>23315.000000</td>\n",
       "      <td>23315.0</td>\n",
       "      <td>23315.000000</td>\n",
       "      <td>23315.000000</td>\n",
       "      <td>23315.000000</td>\n",
       "      <td>23315.000000</td>\n",
       "      <td>23315.000000</td>\n",
       "      <td>23315.000000</td>\n",
       "      <td>23315.000000</td>\n",
       "      <td>23315.000000</td>\n",
       "      <td>23315.000000</td>\n",
       "    </tr>\n",
       "    <tr>\n",
       "      <th>mean</th>\n",
       "      <td>11658.000000</td>\n",
       "      <td>72.079262</td>\n",
       "      <td>54297.647309</td>\n",
       "      <td>75842.182887</td>\n",
       "      <td>74.701607</td>\n",
       "      <td>1.0</td>\n",
       "      <td>0.845078</td>\n",
       "      <td>0.075531</td>\n",
       "      <td>0.141068</td>\n",
       "      <td>0.023161</td>\n",
       "      <td>0.002059</td>\n",
       "      <td>291.234956</td>\n",
       "      <td>0.100622</td>\n",
       "      <td>0.205790</td>\n",
       "      <td>0.219858</td>\n",
       "    </tr>\n",
       "    <tr>\n",
       "      <th>std</th>\n",
       "      <td>6730.605099</td>\n",
       "      <td>69.095008</td>\n",
       "      <td>13061.877434</td>\n",
       "      <td>18988.525635</td>\n",
       "      <td>11.462722</td>\n",
       "      <td>0.0</td>\n",
       "      <td>0.361838</td>\n",
       "      <td>0.264252</td>\n",
       "      <td>0.348099</td>\n",
       "      <td>0.150418</td>\n",
       "      <td>0.045328</td>\n",
       "      <td>338.490214</td>\n",
       "      <td>0.388782</td>\n",
       "      <td>0.699901</td>\n",
       "      <td>0.414159</td>\n",
       "    </tr>\n",
       "    <tr>\n",
       "      <th>min</th>\n",
       "      <td>1.000000</td>\n",
       "      <td>1.000000</td>\n",
       "      <td>13369.000000</td>\n",
       "      <td>37230.000000</td>\n",
       "      <td>17.130000</td>\n",
       "      <td>1.0</td>\n",
       "      <td>0.000000</td>\n",
       "      <td>0.000000</td>\n",
       "      <td>0.000000</td>\n",
       "      <td>0.000000</td>\n",
       "      <td>0.000000</td>\n",
       "      <td>0.000000</td>\n",
       "      <td>0.000000</td>\n",
       "      <td>0.000000</td>\n",
       "      <td>0.000000</td>\n",
       "    </tr>\n",
       "    <tr>\n",
       "      <th>25%</th>\n",
       "      <td>5829.500000</td>\n",
       "      <td>13.000000</td>\n",
       "      <td>46949.000000</td>\n",
       "      <td>65629.000000</td>\n",
       "      <td>68.830000</td>\n",
       "      <td>1.0</td>\n",
       "      <td>1.000000</td>\n",
       "      <td>0.000000</td>\n",
       "      <td>0.000000</td>\n",
       "      <td>0.000000</td>\n",
       "      <td>0.000000</td>\n",
       "      <td>0.000000</td>\n",
       "      <td>0.000000</td>\n",
       "      <td>0.000000</td>\n",
       "      <td>0.000000</td>\n",
       "    </tr>\n",
       "    <tr>\n",
       "      <th>50%</th>\n",
       "      <td>11658.000000</td>\n",
       "      <td>61.000000</td>\n",
       "      <td>53759.000000</td>\n",
       "      <td>70929.000000</td>\n",
       "      <td>76.710000</td>\n",
       "      <td>1.0</td>\n",
       "      <td>1.000000</td>\n",
       "      <td>0.000000</td>\n",
       "      <td>0.000000</td>\n",
       "      <td>0.000000</td>\n",
       "      <td>0.000000</td>\n",
       "      <td>0.000000</td>\n",
       "      <td>0.000000</td>\n",
       "      <td>0.000000</td>\n",
       "      <td>0.000000</td>\n",
       "    </tr>\n",
       "    <tr>\n",
       "      <th>75%</th>\n",
       "      <td>17486.500000</td>\n",
       "      <td>121.000000</td>\n",
       "      <td>60379.000000</td>\n",
       "      <td>79354.500000</td>\n",
       "      <td>83.630000</td>\n",
       "      <td>1.0</td>\n",
       "      <td>1.000000</td>\n",
       "      <td>0.000000</td>\n",
       "      <td>0.000000</td>\n",
       "      <td>0.000000</td>\n",
       "      <td>0.000000</td>\n",
       "      <td>679.000000</td>\n",
       "      <td>0.000000</td>\n",
       "      <td>0.000000</td>\n",
       "      <td>0.000000</td>\n",
       "    </tr>\n",
       "    <tr>\n",
       "      <th>max</th>\n",
       "      <td>23315.000000</td>\n",
       "      <td>261.000000</td>\n",
       "      <td>592460.000000</td>\n",
       "      <td>715186.000000</td>\n",
       "      <td>94.980000</td>\n",
       "      <td>1.0</td>\n",
       "      <td>1.000000</td>\n",
       "      <td>1.000000</td>\n",
       "      <td>1.000000</td>\n",
       "      <td>1.000000</td>\n",
       "      <td>1.000000</td>\n",
       "      <td>890.000000</td>\n",
       "      <td>7.000000</td>\n",
       "      <td>23.000000</td>\n",
       "      <td>1.000000</td>\n",
       "    </tr>\n",
       "  </tbody>\n",
       "</table>\n",
       "</div>"
      ],
      "text/plain": [
       "            Loan_id     branch_id  disbursed_amount     asset_cost  \\\n",
       "count  23315.000000  23315.000000      23315.000000   23315.000000   \n",
       "mean   11658.000000     72.079262      54297.647309   75842.182887   \n",
       "std     6730.605099     69.095008      13061.877434   18988.525635   \n",
       "min        1.000000      1.000000      13369.000000   37230.000000   \n",
       "25%     5829.500000     13.000000      46949.000000   65629.000000   \n",
       "50%    11658.000000     61.000000      53759.000000   70929.000000   \n",
       "75%    17486.500000    121.000000      60379.000000   79354.500000   \n",
       "max    23315.000000    261.000000     592460.000000  715186.000000   \n",
       "\n",
       "                ltv  MobileNo_Avl_Flag   Aadhar_flag      PAN_flag  \\\n",
       "count  23315.000000            23315.0  23315.000000  23315.000000   \n",
       "mean      74.701607                1.0      0.845078      0.075531   \n",
       "std       11.462722                0.0      0.361838      0.264252   \n",
       "min       17.130000                1.0      0.000000      0.000000   \n",
       "25%       68.830000                1.0      1.000000      0.000000   \n",
       "50%       76.710000                1.0      1.000000      0.000000   \n",
       "75%       83.630000                1.0      1.000000      0.000000   \n",
       "max       94.980000                1.0      1.000000      1.000000   \n",
       "\n",
       "       VoterID_flag  Driving_flag  Passport_flag  PERFORM_CNS.SCORE  \\\n",
       "count  23315.000000  23315.000000   23315.000000       23315.000000   \n",
       "mean       0.141068      0.023161       0.002059         291.234956   \n",
       "std        0.348099      0.150418       0.045328         338.490214   \n",
       "min        0.000000      0.000000       0.000000           0.000000   \n",
       "25%        0.000000      0.000000       0.000000           0.000000   \n",
       "50%        0.000000      0.000000       0.000000           0.000000   \n",
       "75%        0.000000      0.000000       0.000000         679.000000   \n",
       "max        1.000000      1.000000       1.000000         890.000000   \n",
       "\n",
       "       DELINQUENT.ACCTS.IN.LAST.SIX.MONTHS  NO.OF_INQUIRIES  loan_default  \n",
       "count                         23315.000000     23315.000000  23315.000000  \n",
       "mean                              0.100622         0.205790      0.219858  \n",
       "std                               0.388782         0.699901      0.414159  \n",
       "min                               0.000000         0.000000      0.000000  \n",
       "25%                               0.000000         0.000000      0.000000  \n",
       "50%                               0.000000         0.000000      0.000000  \n",
       "75%                               0.000000         0.000000      0.000000  \n",
       "max                               7.000000        23.000000      1.000000  "
      ]
     },
     "execution_count": 52,
     "metadata": {},
     "output_type": "execute_result"
    }
   ],
   "source": [
    "master_loan_df.toPandas().describe()"
   ]
  },
  {
   "cell_type": "markdown",
   "metadata": {},
   "source": [
    "Storing the dataframe in parquet"
   ]
  },
  {
   "cell_type": "code",
   "execution_count": 20,
   "metadata": {},
   "outputs": [],
   "source": [
    "loan_df.write.parquet(\"Loan_details_saved.parquet\")"
   ]
  },
  {
   "cell_type": "code",
   "execution_count": 21,
   "metadata": {},
   "outputs": [],
   "source": [
    "status_df.write.parquet(\"status_details_saved.parquet\")"
   ]
  },
  {
   "cell_type": "code",
   "execution_count": 22,
   "metadata": {},
   "outputs": [],
   "source": [
    "Branch_df.write.parquet(\"branch_details_saved.parquet\")"
   ]
  },
  {
   "cell_type": "markdown",
   "metadata": {},
   "source": [
    "Profiling the data"
   ]
  },
  {
   "cell_type": "code",
   "execution_count": 30,
   "metadata": {},
   "outputs": [],
   "source": [
    "def dataprofile(data_all_df,data_cols):\n",
    "    data_df = data_all_df.select(data_cols)\n",
    "    columns2Bprofiled = data_df.columns\n",
    "    global schema_name, table_name\n",
    "    if not 'schema_name' in globals():\n",
    "        schema_name = 'schema_name'\n",
    "    if not 'table_name' in globals():\n",
    "        table_name = 'table_name' \n",
    "    dprof_df = pd.DataFrame({'schema_name':[schema_name] * len(data_df.columns),\\\n",
    "                             'table_name':[table_name] * len(data_df.columns),\\\n",
    "                             'column_names':data_df.columns,\\\n",
    "                             'data_types':[x[1] for x in data_df.dtypes]}) \n",
    "    dprof_df = dprof_df[['schema_name','table_name','column_names', 'data_types']]\n",
    "    dprof_df.set_index('column_names', inplace=True, drop=False)\n",
    "    # ======================\n",
    "    num_rows = data_df.count()\n",
    "    dprof_df['num_rows'] = num_rows\n",
    "    # ======================    \n",
    "    # number of rows with nulls and nans   \n",
    "    df_nacounts = data_df.select([count(when(isnan(c) | col(c).isNull(), c)).alias(c) for c in data_df.columns \\\n",
    "                                  if data_df.select(c).dtypes[0][1]!='timestamp']).toPandas().transpose()\n",
    "    df_nacounts = df_nacounts.reset_index()  \n",
    "    df_nacounts.columns = ['column_names','num_null']\n",
    "    dprof_df = pd.merge(dprof_df, df_nacounts, on = ['column_names'], how = 'left')\n",
    "    # ========================\n",
    "    # number of rows with white spaces (one or more space) or blanks\n",
    "    num_spaces = [data_df.where(F.col(c).rlike('^\\\\s+$')).count() for c in data_df.columns]\n",
    "    dprof_df['num_spaces'] = num_spaces\n",
    "    num_blank = [data_df.where(F.col(c)=='').count() for c in data_df.columns]\n",
    "    dprof_df['num_blank'] = num_blank\n",
    "    # =========================\n",
    "    # using the in built describe() function \n",
    "    desc_df = data_df.describe().toPandas().transpose()\n",
    "    desc_df.columns = ['count', 'mean', 'stddev', 'min', 'max']\n",
    "    desc_df = desc_df.iloc[1:,:]  \n",
    "    desc_df = desc_df.reset_index()  \n",
    "    desc_df.columns.values[0] = 'column_names'  \n",
    "    desc_df = desc_df[['column_names','count', 'mean', 'stddev']] \n",
    "    dprof_df = pd.merge(dprof_df, desc_df , on = ['column_names'], how = 'left')\n",
    "    # ===========================================\n",
    "    allminvalues = [data_df.select(F.min(x)).limit(1).toPandas().iloc[0][0] for x in columns2Bprofiled]\n",
    "    allmaxvalues = [data_df.select(F.max(x)).limit(1).toPandas().iloc[0][0] for x in columns2Bprofiled]\n",
    "    allmincounts = [data_df.where(col(x) == y).count() for x,y in zip(columns2Bprofiled, allminvalues)]\n",
    "    allmaxcounts = [data_df.where(col(x) == y).count() for x,y in zip(columns2Bprofiled, allmaxvalues)]    \n",
    "    df_counts = dprof_df[['column_names']]\n",
    "    df_counts.insert(loc=0, column='min', value=allminvalues)\n",
    "    df_counts.insert(loc=0, column='counts_min', value=allmincounts)\n",
    "    df_counts.insert(loc=0, column='max', value=allmaxvalues)\n",
    "    df_counts.insert(loc=0, column='counts_max', value=allmaxcounts)\n",
    "    df_counts = df_counts[['column_names','min','counts_min','max','counts_max']]\n",
    "    dprof_df = pd.merge(dprof_df, df_counts , on = ['column_names'], how = 'left')  \n",
    "    # ==========================================\n",
    "    # number of distinct values in each column\n",
    "    dprof_df['num_distinct'] = [data_df.select(x).distinct().count() for x in columns2Bprofiled]\n",
    "    # ============================================\n",
    "    # most frequently occuring value in a column and its count\n",
    "    dprof_df['most_freq_valwcount'] = [data_df.groupBy(x).count().sort(\"count\",ascending=False).limit(1).\\\n",
    "                                       toPandas().iloc[0].values.tolist() for x in columns2Bprofiled]\n",
    "    dprof_df['most_freq_value'] = [x[0] for x in dprof_df['most_freq_valwcount']]\n",
    "    dprof_df['most_freq_value_count'] = [x[1] for x in dprof_df['most_freq_valwcount']]\n",
    "    dprof_df = dprof_df.drop(['most_freq_valwcount'],axis=1)\n",
    "    # least frequently occuring value in a column and its count\n",
    "    dprof_df['least_freq_valwcount'] = [data_df.groupBy(x).count().sort(\"count\",ascending=True).limit(1).\\\n",
    "                                        toPandas().iloc[0].values.tolist() for x in columns2Bprofiled]\n",
    "    dprof_df['least_freq_value'] = [x[0] for x in dprof_df['least_freq_valwcount']]\n",
    "    dprof_df['least_freq_value_count'] = [x[1] for x in dprof_df['least_freq_valwcount']]\n",
    "    dprof_df = dprof_df.drop(['least_freq_valwcount'],axis=1)\n",
    "\n",
    "    return dprof_df"
   ]
  },
  {
   "cell_type": "code",
   "execution_count": 31,
   "metadata": {},
   "outputs": [],
   "source": [
    "profile_cols=loan_df.columns"
   ]
  },
  {
   "cell_type": "code",
   "execution_count": 44,
   "metadata": {},
   "outputs": [
    {
     "ename": "AnalysisException",
     "evalue": "\"cannot resolve '`Date.of.Birth`' given input columns: [DELINQUENT.ACCTS.IN.LAST.SIX.MONTHS, Employment.Type, CREDIT.HISTORY.LENGTH, NO.OF_INQUIRIES, disbursed_amount, branch_id, DisbursalDate, MobileNo_Avl_Flag, PAN_flag, Passport_flag, PERFORM_CNS.SCORE, VoterID_flag, asset_cost, Driving_flag, Date.of.Birth, ltv, Aadhar_flag, Loan_id];;\\n'Project [Loan_id#246, disbursed_amount#247, asset_cost#248, ltv#249, branch_id#250, 'Date.of.Birth, 'Employment.Type, DisbursalDate#253, MobileNo_Avl_Flag#254, Aadhar_flag#255, PAN_flag#256, VoterID_flag#257, Driving_flag#258, Passport_flag#259, 'PERFORM_CNS.SCORE, 'DELINQUENT.ACCTS.IN.LAST.SIX.MONTHS, 'CREDIT.HISTORY.LENGTH, 'NO.OF_INQUIRIES]\\n+- Relation[Loan_id#246,disbursed_amount#247,asset_cost#248,ltv#249,branch_id#250,Date.of.Birth#251,Employment.Type#252,DisbursalDate#253,MobileNo_Avl_Flag#254,Aadhar_flag#255,PAN_flag#256,VoterID_flag#257,Driving_flag#258,Passport_flag#259,PERFORM_CNS.SCORE#260,DELINQUENT.ACCTS.IN.LAST.SIX.MONTHS#261,CREDIT.HISTORY.LENGTH#262,NO.OF_INQUIRIES#263] csv\\n\"",
     "output_type": "error",
     "traceback": [
      "\u001b[0;31m---------------------------------------------------------------------------\u001b[0m",
      "\u001b[0;31mPy4JJavaError\u001b[0m                             Traceback (most recent call last)",
      "\u001b[0;32m/usr/local/spark/python/pyspark/sql/utils.py\u001b[0m in \u001b[0;36mdeco\u001b[0;34m(*a, **kw)\u001b[0m\n\u001b[1;32m     62\u001b[0m         \u001b[0;32mtry\u001b[0m\u001b[0;34m:\u001b[0m\u001b[0;34m\u001b[0m\u001b[0m\n\u001b[0;32m---> 63\u001b[0;31m             \u001b[0;32mreturn\u001b[0m \u001b[0mf\u001b[0m\u001b[0;34m(\u001b[0m\u001b[0;34m*\u001b[0m\u001b[0ma\u001b[0m\u001b[0;34m,\u001b[0m \u001b[0;34m**\u001b[0m\u001b[0mkw\u001b[0m\u001b[0;34m)\u001b[0m\u001b[0;34m\u001b[0m\u001b[0m\n\u001b[0m\u001b[1;32m     64\u001b[0m         \u001b[0;32mexcept\u001b[0m \u001b[0mpy4j\u001b[0m\u001b[0;34m.\u001b[0m\u001b[0mprotocol\u001b[0m\u001b[0;34m.\u001b[0m\u001b[0mPy4JJavaError\u001b[0m \u001b[0;32mas\u001b[0m \u001b[0me\u001b[0m\u001b[0;34m:\u001b[0m\u001b[0;34m\u001b[0m\u001b[0m\n",
      "\u001b[0;32m/usr/local/spark/python/lib/py4j-0.10.7-src.zip/py4j/protocol.py\u001b[0m in \u001b[0;36mget_return_value\u001b[0;34m(answer, gateway_client, target_id, name)\u001b[0m\n\u001b[1;32m    327\u001b[0m                     \u001b[0;34m\"An error occurred while calling {0}{1}{2}.\\n\"\u001b[0m\u001b[0;34m.\u001b[0m\u001b[0;34m\u001b[0m\u001b[0m\n\u001b[0;32m--> 328\u001b[0;31m                     format(target_id, \".\", name), value)\n\u001b[0m\u001b[1;32m    329\u001b[0m             \u001b[0;32melse\u001b[0m\u001b[0;34m:\u001b[0m\u001b[0;34m\u001b[0m\u001b[0m\n",
      "\u001b[0;31mPy4JJavaError\u001b[0m: An error occurred while calling o88.select.\n: org.apache.spark.sql.AnalysisException: cannot resolve '`Date.of.Birth`' given input columns: [DELINQUENT.ACCTS.IN.LAST.SIX.MONTHS, Employment.Type, CREDIT.HISTORY.LENGTH, NO.OF_INQUIRIES, disbursed_amount, branch_id, DisbursalDate, MobileNo_Avl_Flag, PAN_flag, Passport_flag, PERFORM_CNS.SCORE, VoterID_flag, asset_cost, Driving_flag, Date.of.Birth, ltv, Aadhar_flag, Loan_id];;\n'Project [Loan_id#246, disbursed_amount#247, asset_cost#248, ltv#249, branch_id#250, 'Date.of.Birth, 'Employment.Type, DisbursalDate#253, MobileNo_Avl_Flag#254, Aadhar_flag#255, PAN_flag#256, VoterID_flag#257, Driving_flag#258, Passport_flag#259, 'PERFORM_CNS.SCORE, 'DELINQUENT.ACCTS.IN.LAST.SIX.MONTHS, 'CREDIT.HISTORY.LENGTH, 'NO.OF_INQUIRIES]\n+- Relation[Loan_id#246,disbursed_amount#247,asset_cost#248,ltv#249,branch_id#250,Date.of.Birth#251,Employment.Type#252,DisbursalDate#253,MobileNo_Avl_Flag#254,Aadhar_flag#255,PAN_flag#256,VoterID_flag#257,Driving_flag#258,Passport_flag#259,PERFORM_CNS.SCORE#260,DELINQUENT.ACCTS.IN.LAST.SIX.MONTHS#261,CREDIT.HISTORY.LENGTH#262,NO.OF_INQUIRIES#263] csv\n\n\tat org.apache.spark.sql.catalyst.analysis.package$AnalysisErrorAt.failAnalysis(package.scala:42)\n\tat org.apache.spark.sql.catalyst.analysis.CheckAnalysis$$anonfun$checkAnalysis$1$$anonfun$apply$2.applyOrElse(CheckAnalysis.scala:88)\n\tat org.apache.spark.sql.catalyst.analysis.CheckAnalysis$$anonfun$checkAnalysis$1$$anonfun$apply$2.applyOrElse(CheckAnalysis.scala:85)\n\tat org.apache.spark.sql.catalyst.trees.TreeNode$$anonfun$transformUp$1.apply(TreeNode.scala:289)\n\tat org.apache.spark.sql.catalyst.trees.TreeNode$$anonfun$transformUp$1.apply(TreeNode.scala:289)\n\tat org.apache.spark.sql.catalyst.trees.CurrentOrigin$.withOrigin(TreeNode.scala:70)\n\tat org.apache.spark.sql.catalyst.trees.TreeNode.transformUp(TreeNode.scala:288)\n\tat org.apache.spark.sql.catalyst.plans.QueryPlan$$anonfun$transformExpressionsUp$1.apply(QueryPlan.scala:268)\n\tat org.apache.spark.sql.catalyst.plans.QueryPlan$$anonfun$transformExpressionsUp$1.apply(QueryPlan.scala:268)\n\tat org.apache.spark.sql.catalyst.plans.QueryPlan.transformExpression$1(QueryPlan.scala:279)\n\tat org.apache.spark.sql.catalyst.plans.QueryPlan.org$apache$spark$sql$catalyst$plans$QueryPlan$$recursiveTransform$1(QueryPlan.scala:289)\n\tat org.apache.spark.sql.catalyst.plans.QueryPlan$$anonfun$org$apache$spark$sql$catalyst$plans$QueryPlan$$recursiveTransform$1$1.apply(QueryPlan.scala:293)\n\tat scala.collection.TraversableLike$$anonfun$map$1.apply(TraversableLike.scala:234)\n\tat scala.collection.TraversableLike$$anonfun$map$1.apply(TraversableLike.scala:234)\n\tat scala.collection.mutable.ResizableArray$class.foreach(ResizableArray.scala:59)\n\tat scala.collection.mutable.ArrayBuffer.foreach(ArrayBuffer.scala:48)\n\tat scala.collection.TraversableLike$class.map(TraversableLike.scala:234)\n\tat scala.collection.AbstractTraversable.map(Traversable.scala:104)\n\tat org.apache.spark.sql.catalyst.plans.QueryPlan.org$apache$spark$sql$catalyst$plans$QueryPlan$$recursiveTransform$1(QueryPlan.scala:293)\n\tat org.apache.spark.sql.catalyst.plans.QueryPlan$$anonfun$6.apply(QueryPlan.scala:298)\n\tat org.apache.spark.sql.catalyst.trees.TreeNode.mapProductIterator(TreeNode.scala:187)\n\tat org.apache.spark.sql.catalyst.plans.QueryPlan.mapExpressions(QueryPlan.scala:298)\n\tat org.apache.spark.sql.catalyst.plans.QueryPlan.transformExpressionsUp(QueryPlan.scala:268)\n\tat org.apache.spark.sql.catalyst.analysis.CheckAnalysis$$anonfun$checkAnalysis$1.apply(CheckAnalysis.scala:85)\n\tat org.apache.spark.sql.catalyst.analysis.CheckAnalysis$$anonfun$checkAnalysis$1.apply(CheckAnalysis.scala:78)\n\tat org.apache.spark.sql.catalyst.trees.TreeNode.foreachUp(TreeNode.scala:127)\n\tat org.apache.spark.sql.catalyst.analysis.CheckAnalysis$class.checkAnalysis(CheckAnalysis.scala:78)\n\tat org.apache.spark.sql.catalyst.analysis.Analyzer.checkAnalysis(Analyzer.scala:91)\n\tat org.apache.spark.sql.execution.QueryExecution.assertAnalyzed(QueryExecution.scala:52)\n\tat org.apache.spark.sql.Dataset$.ofRows(Dataset.scala:67)\n\tat org.apache.spark.sql.Dataset.org$apache$spark$sql$Dataset$$withPlan(Dataset.scala:2888)\n\tat org.apache.spark.sql.Dataset.select(Dataset.scala:1154)\n\tat sun.reflect.NativeMethodAccessorImpl.invoke0(Native Method)\n\tat sun.reflect.NativeMethodAccessorImpl.invoke(NativeMethodAccessorImpl.java:62)\n\tat sun.reflect.DelegatingMethodAccessorImpl.invoke(DelegatingMethodAccessorImpl.java:43)\n\tat java.lang.reflect.Method.invoke(Method.java:498)\n\tat py4j.reflection.MethodInvoker.invoke(MethodInvoker.java:244)\n\tat py4j.reflection.ReflectionEngine.invoke(ReflectionEngine.java:357)\n\tat py4j.Gateway.invoke(Gateway.java:282)\n\tat py4j.commands.AbstractCommand.invokeMethod(AbstractCommand.java:132)\n\tat py4j.commands.CallCommand.execute(CallCommand.java:79)\n\tat py4j.GatewayConnection.run(GatewayConnection.java:238)\n\tat java.lang.Thread.run(Thread.java:748)\n",
      "\nDuring handling of the above exception, another exception occurred:\n",
      "\u001b[0;31mAnalysisException\u001b[0m                         Traceback (most recent call last)",
      "\u001b[0;32m<ipython-input-44-eadedb7a0e8b>\u001b[0m in \u001b[0;36m<module>\u001b[0;34m\u001b[0m\n\u001b[0;32m----> 1\u001b[0;31m \u001b[0mdprofile\u001b[0m\u001b[0;34m=\u001b[0m\u001b[0mdataprofile\u001b[0m\u001b[0;34m(\u001b[0m\u001b[0mloan_df\u001b[0m\u001b[0;34m,\u001b[0m\u001b[0mprofile_cols\u001b[0m\u001b[0;34m)\u001b[0m\u001b[0;34m\u001b[0m\u001b[0m\n\u001b[0m",
      "\u001b[0;32m<ipython-input-30-8d0ce48fb844>\u001b[0m in \u001b[0;36mdataprofile\u001b[0;34m(data_all_df, data_cols)\u001b[0m\n\u001b[1;32m      1\u001b[0m \u001b[0;32mdef\u001b[0m \u001b[0mdataprofile\u001b[0m\u001b[0;34m(\u001b[0m\u001b[0mdata_all_df\u001b[0m\u001b[0;34m,\u001b[0m\u001b[0mdata_cols\u001b[0m\u001b[0;34m)\u001b[0m\u001b[0;34m:\u001b[0m\u001b[0;34m\u001b[0m\u001b[0m\n\u001b[0;32m----> 2\u001b[0;31m     \u001b[0mdata_df\u001b[0m \u001b[0;34m=\u001b[0m \u001b[0mdata_all_df\u001b[0m\u001b[0;34m.\u001b[0m\u001b[0mselect\u001b[0m\u001b[0;34m(\u001b[0m\u001b[0mdata_cols\u001b[0m\u001b[0;34m)\u001b[0m\u001b[0;34m\u001b[0m\u001b[0m\n\u001b[0m\u001b[1;32m      3\u001b[0m     \u001b[0mcolumns2Bprofiled\u001b[0m \u001b[0;34m=\u001b[0m \u001b[0mdata_df\u001b[0m\u001b[0;34m.\u001b[0m\u001b[0mcolumns\u001b[0m\u001b[0;34m\u001b[0m\u001b[0m\n\u001b[1;32m      4\u001b[0m     \u001b[0;32mglobal\u001b[0m \u001b[0mschema_name\u001b[0m\u001b[0;34m,\u001b[0m \u001b[0mtable_name\u001b[0m\u001b[0;34m\u001b[0m\u001b[0m\n\u001b[1;32m      5\u001b[0m     \u001b[0;32mif\u001b[0m \u001b[0;32mnot\u001b[0m \u001b[0;34m'schema_name'\u001b[0m \u001b[0;32min\u001b[0m \u001b[0mglobals\u001b[0m\u001b[0;34m(\u001b[0m\u001b[0;34m)\u001b[0m\u001b[0;34m:\u001b[0m\u001b[0;34m\u001b[0m\u001b[0m\n",
      "\u001b[0;32m/usr/local/spark/python/pyspark/sql/dataframe.py\u001b[0m in \u001b[0;36mselect\u001b[0;34m(self, *cols)\u001b[0m\n\u001b[1;32m   1038\u001b[0m         \u001b[0;34m[\u001b[0m\u001b[0mRow\u001b[0m\u001b[0;34m(\u001b[0m\u001b[0mname\u001b[0m\u001b[0;34m=\u001b[0m\u001b[0;34mu'Alice'\u001b[0m\u001b[0;34m,\u001b[0m \u001b[0mage\u001b[0m\u001b[0;34m=\u001b[0m\u001b[0;36m12\u001b[0m\u001b[0;34m)\u001b[0m\u001b[0;34m,\u001b[0m \u001b[0mRow\u001b[0m\u001b[0;34m(\u001b[0m\u001b[0mname\u001b[0m\u001b[0;34m=\u001b[0m\u001b[0;34mu'Bob'\u001b[0m\u001b[0;34m,\u001b[0m \u001b[0mage\u001b[0m\u001b[0;34m=\u001b[0m\u001b[0;36m15\u001b[0m\u001b[0;34m)\u001b[0m\u001b[0;34m]\u001b[0m\u001b[0;34m\u001b[0m\u001b[0m\n\u001b[1;32m   1039\u001b[0m         \"\"\"\n\u001b[0;32m-> 1040\u001b[0;31m         \u001b[0mjdf\u001b[0m \u001b[0;34m=\u001b[0m \u001b[0mself\u001b[0m\u001b[0;34m.\u001b[0m\u001b[0m_jdf\u001b[0m\u001b[0;34m.\u001b[0m\u001b[0mselect\u001b[0m\u001b[0;34m(\u001b[0m\u001b[0mself\u001b[0m\u001b[0;34m.\u001b[0m\u001b[0m_jcols\u001b[0m\u001b[0;34m(\u001b[0m\u001b[0;34m*\u001b[0m\u001b[0mcols\u001b[0m\u001b[0;34m)\u001b[0m\u001b[0;34m)\u001b[0m\u001b[0;34m\u001b[0m\u001b[0m\n\u001b[0m\u001b[1;32m   1041\u001b[0m         \u001b[0;32mreturn\u001b[0m \u001b[0mDataFrame\u001b[0m\u001b[0;34m(\u001b[0m\u001b[0mjdf\u001b[0m\u001b[0;34m,\u001b[0m \u001b[0mself\u001b[0m\u001b[0;34m.\u001b[0m\u001b[0msql_ctx\u001b[0m\u001b[0;34m)\u001b[0m\u001b[0;34m\u001b[0m\u001b[0m\n\u001b[1;32m   1042\u001b[0m \u001b[0;34m\u001b[0m\u001b[0m\n",
      "\u001b[0;32m/usr/local/spark/python/lib/py4j-0.10.7-src.zip/py4j/java_gateway.py\u001b[0m in \u001b[0;36m__call__\u001b[0;34m(self, *args)\u001b[0m\n\u001b[1;32m   1255\u001b[0m         \u001b[0manswer\u001b[0m \u001b[0;34m=\u001b[0m \u001b[0mself\u001b[0m\u001b[0;34m.\u001b[0m\u001b[0mgateway_client\u001b[0m\u001b[0;34m.\u001b[0m\u001b[0msend_command\u001b[0m\u001b[0;34m(\u001b[0m\u001b[0mcommand\u001b[0m\u001b[0;34m)\u001b[0m\u001b[0;34m\u001b[0m\u001b[0m\n\u001b[1;32m   1256\u001b[0m         return_value = get_return_value(\n\u001b[0;32m-> 1257\u001b[0;31m             answer, self.gateway_client, self.target_id, self.name)\n\u001b[0m\u001b[1;32m   1258\u001b[0m \u001b[0;34m\u001b[0m\u001b[0m\n\u001b[1;32m   1259\u001b[0m         \u001b[0;32mfor\u001b[0m \u001b[0mtemp_arg\u001b[0m \u001b[0;32min\u001b[0m \u001b[0mtemp_args\u001b[0m\u001b[0;34m:\u001b[0m\u001b[0;34m\u001b[0m\u001b[0m\n",
      "\u001b[0;32m/usr/local/spark/python/pyspark/sql/utils.py\u001b[0m in \u001b[0;36mdeco\u001b[0;34m(*a, **kw)\u001b[0m\n\u001b[1;32m     67\u001b[0m                                              e.java_exception.getStackTrace()))\n\u001b[1;32m     68\u001b[0m             \u001b[0;32mif\u001b[0m \u001b[0ms\u001b[0m\u001b[0;34m.\u001b[0m\u001b[0mstartswith\u001b[0m\u001b[0;34m(\u001b[0m\u001b[0;34m'org.apache.spark.sql.AnalysisException: '\u001b[0m\u001b[0;34m)\u001b[0m\u001b[0;34m:\u001b[0m\u001b[0;34m\u001b[0m\u001b[0m\n\u001b[0;32m---> 69\u001b[0;31m                 \u001b[0;32mraise\u001b[0m \u001b[0mAnalysisException\u001b[0m\u001b[0;34m(\u001b[0m\u001b[0ms\u001b[0m\u001b[0;34m.\u001b[0m\u001b[0msplit\u001b[0m\u001b[0;34m(\u001b[0m\u001b[0;34m': '\u001b[0m\u001b[0;34m,\u001b[0m \u001b[0;36m1\u001b[0m\u001b[0;34m)\u001b[0m\u001b[0;34m[\u001b[0m\u001b[0;36m1\u001b[0m\u001b[0;34m]\u001b[0m\u001b[0;34m,\u001b[0m \u001b[0mstackTrace\u001b[0m\u001b[0;34m)\u001b[0m\u001b[0;34m\u001b[0m\u001b[0m\n\u001b[0m\u001b[1;32m     70\u001b[0m             \u001b[0;32mif\u001b[0m \u001b[0ms\u001b[0m\u001b[0;34m.\u001b[0m\u001b[0mstartswith\u001b[0m\u001b[0;34m(\u001b[0m\u001b[0;34m'org.apache.spark.sql.catalyst.analysis'\u001b[0m\u001b[0;34m)\u001b[0m\u001b[0;34m:\u001b[0m\u001b[0;34m\u001b[0m\u001b[0m\n\u001b[1;32m     71\u001b[0m                 \u001b[0;32mraise\u001b[0m \u001b[0mAnalysisException\u001b[0m\u001b[0;34m(\u001b[0m\u001b[0ms\u001b[0m\u001b[0;34m.\u001b[0m\u001b[0msplit\u001b[0m\u001b[0;34m(\u001b[0m\u001b[0;34m': '\u001b[0m\u001b[0;34m,\u001b[0m \u001b[0;36m1\u001b[0m\u001b[0;34m)\u001b[0m\u001b[0;34m[\u001b[0m\u001b[0;36m1\u001b[0m\u001b[0;34m]\u001b[0m\u001b[0;34m,\u001b[0m \u001b[0mstackTrace\u001b[0m\u001b[0;34m)\u001b[0m\u001b[0;34m\u001b[0m\u001b[0m\n",
      "\u001b[0;31mAnalysisException\u001b[0m: \"cannot resolve '`Date.of.Birth`' given input columns: [DELINQUENT.ACCTS.IN.LAST.SIX.MONTHS, Employment.Type, CREDIT.HISTORY.LENGTH, NO.OF_INQUIRIES, disbursed_amount, branch_id, DisbursalDate, MobileNo_Avl_Flag, PAN_flag, Passport_flag, PERFORM_CNS.SCORE, VoterID_flag, asset_cost, Driving_flag, Date.of.Birth, ltv, Aadhar_flag, Loan_id];;\\n'Project [Loan_id#246, disbursed_amount#247, asset_cost#248, ltv#249, branch_id#250, 'Date.of.Birth, 'Employment.Type, DisbursalDate#253, MobileNo_Avl_Flag#254, Aadhar_flag#255, PAN_flag#256, VoterID_flag#257, Driving_flag#258, Passport_flag#259, 'PERFORM_CNS.SCORE, 'DELINQUENT.ACCTS.IN.LAST.SIX.MONTHS, 'CREDIT.HISTORY.LENGTH, 'NO.OF_INQUIRIES]\\n+- Relation[Loan_id#246,disbursed_amount#247,asset_cost#248,ltv#249,branch_id#250,Date.of.Birth#251,Employment.Type#252,DisbursalDate#253,MobileNo_Avl_Flag#254,Aadhar_flag#255,PAN_flag#256,VoterID_flag#257,Driving_flag#258,Passport_flag#259,PERFORM_CNS.SCORE#260,DELINQUENT.ACCTS.IN.LAST.SIX.MONTHS#261,CREDIT.HISTORY.LENGTH#262,NO.OF_INQUIRIES#263] csv\\n\""
     ]
    }
   ],
   "source": [
    "dprofile=dataprofile(loan_df,profile_cols)"
   ]
  },
  {
   "cell_type": "code",
   "execution_count": null,
   "metadata": {},
   "outputs": [],
   "source": [
    "dprofile"
   ]
  },
  {
   "cell_type": "code",
   "execution_count": null,
   "metadata": {},
   "outputs": [],
   "source": []
  },
  {
   "cell_type": "code",
   "execution_count": null,
   "metadata": {},
   "outputs": [],
   "source": []
  },
  {
   "cell_type": "code",
   "execution_count": null,
   "metadata": {},
   "outputs": [],
   "source": []
  }
 ],
 "metadata": {
  "kernelspec": {
   "display_name": "Python 3",
   "language": "python",
   "name": "python3"
  },
  "language_info": {
   "codemirror_mode": {
    "name": "ipython",
    "version": 3
   },
   "file_extension": ".py",
   "mimetype": "text/x-python",
   "name": "python",
   "nbconvert_exporter": "python",
   "pygments_lexer": "ipython3",
   "version": "3.5.2"
  }
 },
 "nbformat": 4,
 "nbformat_minor": 2
}
